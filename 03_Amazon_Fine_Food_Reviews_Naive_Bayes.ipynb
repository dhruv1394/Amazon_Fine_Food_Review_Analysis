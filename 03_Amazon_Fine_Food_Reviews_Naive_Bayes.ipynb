{
 "cells": [
  {
   "cell_type": "markdown",
   "metadata": {
    "colab_type": "text",
    "id": "UIn1GsFNJkjH"
   },
   "source": [
    "# Amazon Fine Food Reviews Analysis\n",
    "\n",
    "\n",
    "Data Source: https://www.kaggle.com/snap/amazon-fine-food-reviews <br>\n",
    "\n",
    "EDA: https://nycdatascience.com/blog/student-works/amazon-fine-foods-visualization/\n",
    "\n",
    "\n",
    "The Amazon Fine Food Reviews dataset consists of reviews of fine foods from Amazon.<br>\n",
    "\n",
    "Number of reviews: 568,454<br>\n",
    "Number of users: 256,059<br>\n",
    "Number of products: 74,258<br>\n",
    "Timespan: Oct 1999 - Oct 2012<br>\n",
    "Number of Attributes/Columns in data: 10 \n",
    "\n",
    "Attribute Information:\n",
    "\n",
    "1. Id\n",
    "2. ProductId - unique identifier for the product\n",
    "3. UserId - unqiue identifier for the user\n",
    "4. ProfileName\n",
    "5. HelpfulnessNumerator - number of users who found the review helpful\n",
    "6. HelpfulnessDenominator - number of users who indicated whether they found the review helpful or not\n",
    "7. Score - rating between 1 and 5\n",
    "8. Time - timestamp for the review\n",
    "9. Summary - brief summary of the review\n",
    "10. Text - text of the review\n",
    "\n",
    "\n",
    "#### Objective:\n",
    "Given a review, determine whether the review is positive (rating of 4 or 5) or negative (rating of 1 or 2).\n",
    "\n",
    "<br>\n",
    "[Q] How to determine if a review is positive or negative?<br>\n",
    "<br> \n",
    "[Ans] We could use Score/Rating. A rating of 4 or 5 can be cosnidered as a positive review. A rating of 1 or 2 can be considered as negative one. A review of rating 3 is considered nuetral and such reviews are ignored from our analysis. This is an approximate and proxy way of determining the polarity (positivity/negativity) of a review.\n",
    "\n",
    "\n"
   ]
  },
  {
   "cell_type": "markdown",
   "metadata": {
    "colab_type": "text",
    "id": "5Uf26aoLJkjJ"
   },
   "source": [
    "# [1]. Reading Data"
   ]
  },
  {
   "cell_type": "markdown",
   "metadata": {
    "colab_type": "text",
    "id": "yo-LaJg3JkjK"
   },
   "source": [
    "## [1.1] Loading the data\n",
    "\n",
    "The dataset is available in two forms\n",
    "1. .csv file\n",
    "2. SQLite Database\n",
    "\n",
    "In order to load the data, We have used the SQLITE dataset as it is easier to query the data and visualise the data efficiently.\n",
    "<br> \n",
    "\n",
    "Here as we only want to get the global sentiment of the recommendations (positive or negative), we will purposefully ignore all Scores equal to 3. If the score is above 3, then the recommendation wil be set to \"positive\". Otherwise, it will be set to \"negative\"."
   ]
  },
  {
   "cell_type": "code",
   "execution_count": 1,
   "metadata": {
    "colab": {},
    "colab_type": "code",
    "id": "dLYq3BkfJkjL"
   },
   "outputs": [],
   "source": [
    "%matplotlib inline\n",
    "import warnings\n",
    "warnings.filterwarnings(\"ignore\")\n",
    "\n",
    "\n",
    "import sqlite3\n",
    "import pandas as pd\n",
    "import numpy as np\n",
    "import nltk\n",
    "import string\n",
    "import matplotlib.pyplot as plt\n",
    "import seaborn as sns\n",
    "from sklearn.feature_extraction.text import TfidfTransformer\n",
    "from sklearn.feature_extraction.text import TfidfVectorizer\n",
    "\n",
    "from sklearn.feature_extraction.text import CountVectorizer\n",
    "from sklearn.metrics import confusion_matrix\n",
    "from sklearn import metrics\n",
    "from sklearn.metrics import roc_curve, auc\n",
    "from nltk.stem.porter import PorterStemmer\n",
    "\n",
    "import re\n",
    "# Tutorial about Python regular expressions: https://pymotw.com/2/re/\n",
    "import string\n",
    "from nltk.corpus import stopwords\n",
    "from nltk.stem import PorterStemmer\n",
    "from nltk.stem.wordnet import WordNetLemmatizer\n",
    "\n",
    "from gensim.models import Word2Vec\n",
    "from gensim.models import KeyedVectors\n",
    "import pickle\n",
    "\n",
    "from tqdm import tqdm\n",
    "import os"
   ]
  },
  {
   "cell_type": "code",
   "execution_count": 2,
   "metadata": {
    "colab": {},
    "colab_type": "code",
    "id": "rXVxnx_NJkjO",
    "outputId": "98628980-4d6e-4c53-913f-2d207932d2d0"
   },
   "outputs": [
    {
     "name": "stdout",
     "output_type": "stream",
     "text": [
      "Number of data points in our data (200000, 10)\n"
     ]
    },
    {
     "data": {
      "text/html": [
       "<div>\n",
       "<style scoped>\n",
       "    .dataframe tbody tr th:only-of-type {\n",
       "        vertical-align: middle;\n",
       "    }\n",
       "\n",
       "    .dataframe tbody tr th {\n",
       "        vertical-align: top;\n",
       "    }\n",
       "\n",
       "    .dataframe thead th {\n",
       "        text-align: right;\n",
       "    }\n",
       "</style>\n",
       "<table border=\"1\" class=\"dataframe\">\n",
       "  <thead>\n",
       "    <tr style=\"text-align: right;\">\n",
       "      <th></th>\n",
       "      <th>Id</th>\n",
       "      <th>ProductId</th>\n",
       "      <th>UserId</th>\n",
       "      <th>ProfileName</th>\n",
       "      <th>HelpfulnessNumerator</th>\n",
       "      <th>HelpfulnessDenominator</th>\n",
       "      <th>Score</th>\n",
       "      <th>Time</th>\n",
       "      <th>Summary</th>\n",
       "      <th>Text</th>\n",
       "    </tr>\n",
       "  </thead>\n",
       "  <tbody>\n",
       "    <tr>\n",
       "      <th>0</th>\n",
       "      <td>1</td>\n",
       "      <td>B001E4KFG0</td>\n",
       "      <td>A3SGXH7AUHU8GW</td>\n",
       "      <td>delmartian</td>\n",
       "      <td>1</td>\n",
       "      <td>1</td>\n",
       "      <td>1</td>\n",
       "      <td>1303862400</td>\n",
       "      <td>Good Quality Dog Food</td>\n",
       "      <td>I have bought several of the Vitality canned d...</td>\n",
       "    </tr>\n",
       "    <tr>\n",
       "      <th>1</th>\n",
       "      <td>2</td>\n",
       "      <td>B00813GRG4</td>\n",
       "      <td>A1D87F6ZCVE5NK</td>\n",
       "      <td>dll pa</td>\n",
       "      <td>0</td>\n",
       "      <td>0</td>\n",
       "      <td>0</td>\n",
       "      <td>1346976000</td>\n",
       "      <td>Not as Advertised</td>\n",
       "      <td>Product arrived labeled as Jumbo Salted Peanut...</td>\n",
       "    </tr>\n",
       "    <tr>\n",
       "      <th>2</th>\n",
       "      <td>3</td>\n",
       "      <td>B000LQOCH0</td>\n",
       "      <td>ABXLMWJIXXAIN</td>\n",
       "      <td>Natalia Corres \"Natalia Corres\"</td>\n",
       "      <td>1</td>\n",
       "      <td>1</td>\n",
       "      <td>1</td>\n",
       "      <td>1219017600</td>\n",
       "      <td>\"Delight\" says it all</td>\n",
       "      <td>This is a confection that has been around a fe...</td>\n",
       "    </tr>\n",
       "  </tbody>\n",
       "</table>\n",
       "</div>"
      ],
      "text/plain": [
       "   Id   ProductId          UserId                      ProfileName  \\\n",
       "0   1  B001E4KFG0  A3SGXH7AUHU8GW                       delmartian   \n",
       "1   2  B00813GRG4  A1D87F6ZCVE5NK                           dll pa   \n",
       "2   3  B000LQOCH0   ABXLMWJIXXAIN  Natalia Corres \"Natalia Corres\"   \n",
       "\n",
       "   HelpfulnessNumerator  HelpfulnessDenominator  Score        Time  \\\n",
       "0                     1                       1      1  1303862400   \n",
       "1                     0                       0      0  1346976000   \n",
       "2                     1                       1      1  1219017600   \n",
       "\n",
       "                 Summary                                               Text  \n",
       "0  Good Quality Dog Food  I have bought several of the Vitality canned d...  \n",
       "1      Not as Advertised  Product arrived labeled as Jumbo Salted Peanut...  \n",
       "2  \"Delight\" says it all  This is a confection that has been around a fe...  "
      ]
     },
     "execution_count": 2,
     "metadata": {},
     "output_type": "execute_result"
    }
   ],
   "source": [
    "# using SQLite Table to read data.\n",
    "con = sqlite3.connect('database.sqlite') \n",
    "\n",
    "# filtering only positive and negative reviews i.e. \n",
    "# not taking into consideration those reviews with Score=3\n",
    "# SELECT * FROM Reviews WHERE Score != 3 LIMIT 500000, will give top 500000 data points\n",
    "# you can change the number to any other number based on your computing power\n",
    "\n",
    "# filtered_data = pd.read_sql_query(\"\"\" SELECT * FROM Reviews WHERE Score != 3 LIMIT 500000\"\"\", con) \n",
    "# for tsne assignment you can take 5k data points\n",
    "\n",
    "filtered_data = pd.read_sql_query(\"\"\" SELECT * FROM Reviews WHERE Score != 3 LIMIT 200000\"\"\", con) \n",
    "\n",
    "# Give reviews with Score>3 a positive rating(1), and reviews with a score<3 a negative rating(0).\n",
    "def partition(x):\n",
    "    if x < 3:\n",
    "        return 0\n",
    "    return 1\n",
    "\n",
    "#changing reviews with score less than 3 to be positive and vice-versa\n",
    "actualScore = filtered_data['Score']\n",
    "positiveNegative = actualScore.map(partition) \n",
    "filtered_data['Score'] = positiveNegative\n",
    "print(\"Number of data points in our data\", filtered_data.shape)\n",
    "filtered_data.head(3)"
   ]
  },
  {
   "cell_type": "code",
   "execution_count": 3,
   "metadata": {
    "colab": {},
    "colab_type": "code",
    "id": "ZLasp3QxJkjS"
   },
   "outputs": [],
   "source": [
    "display = pd.read_sql_query(\"\"\"\n",
    "SELECT UserId, ProductId, ProfileName, Time, Score, Text, COUNT(*)\n",
    "FROM Reviews\n",
    "GROUP BY UserId\n",
    "HAVING COUNT(*)>1\n",
    "\"\"\", con)"
   ]
  },
  {
   "cell_type": "code",
   "execution_count": 4,
   "metadata": {
    "colab": {},
    "colab_type": "code",
    "id": "pHzk_lUkJkjW",
    "outputId": "3461f626-dc72-4b0d-af37-c3625e7e81b2",
    "scrolled": true
   },
   "outputs": [
    {
     "name": "stdout",
     "output_type": "stream",
     "text": [
      "(80668, 7)\n"
     ]
    },
    {
     "data": {
      "text/html": [
       "<div>\n",
       "<style scoped>\n",
       "    .dataframe tbody tr th:only-of-type {\n",
       "        vertical-align: middle;\n",
       "    }\n",
       "\n",
       "    .dataframe tbody tr th {\n",
       "        vertical-align: top;\n",
       "    }\n",
       "\n",
       "    .dataframe thead th {\n",
       "        text-align: right;\n",
       "    }\n",
       "</style>\n",
       "<table border=\"1\" class=\"dataframe\">\n",
       "  <thead>\n",
       "    <tr style=\"text-align: right;\">\n",
       "      <th></th>\n",
       "      <th>UserId</th>\n",
       "      <th>ProductId</th>\n",
       "      <th>ProfileName</th>\n",
       "      <th>Time</th>\n",
       "      <th>Score</th>\n",
       "      <th>Text</th>\n",
       "      <th>COUNT(*)</th>\n",
       "    </tr>\n",
       "  </thead>\n",
       "  <tbody>\n",
       "    <tr>\n",
       "      <th>0</th>\n",
       "      <td>#oc-R115TNMSPFT9I7</td>\n",
       "      <td>B005ZBZLT4</td>\n",
       "      <td>Breyton</td>\n",
       "      <td>1331510400</td>\n",
       "      <td>2</td>\n",
       "      <td>Overall its just OK when considering the price...</td>\n",
       "      <td>2</td>\n",
       "    </tr>\n",
       "    <tr>\n",
       "      <th>1</th>\n",
       "      <td>#oc-R11D9D7SHXIJB9</td>\n",
       "      <td>B005HG9ESG</td>\n",
       "      <td>Louis E. Emory \"hoppy\"</td>\n",
       "      <td>1342396800</td>\n",
       "      <td>5</td>\n",
       "      <td>My wife has recurring extreme muscle spasms, u...</td>\n",
       "      <td>3</td>\n",
       "    </tr>\n",
       "    <tr>\n",
       "      <th>2</th>\n",
       "      <td>#oc-R11DNU2NBKQ23Z</td>\n",
       "      <td>B005ZBZLT4</td>\n",
       "      <td>Kim Cieszykowski</td>\n",
       "      <td>1348531200</td>\n",
       "      <td>1</td>\n",
       "      <td>This coffee is horrible and unfortunately not ...</td>\n",
       "      <td>2</td>\n",
       "    </tr>\n",
       "    <tr>\n",
       "      <th>3</th>\n",
       "      <td>#oc-R11O5J5ZVQE25C</td>\n",
       "      <td>B005HG9ESG</td>\n",
       "      <td>Penguin Chick</td>\n",
       "      <td>1346889600</td>\n",
       "      <td>5</td>\n",
       "      <td>This will be the bottle that you grab from the...</td>\n",
       "      <td>3</td>\n",
       "    </tr>\n",
       "    <tr>\n",
       "      <th>4</th>\n",
       "      <td>#oc-R12KPBODL2B5ZD</td>\n",
       "      <td>B007OSBEV0</td>\n",
       "      <td>Christopher P. Presta</td>\n",
       "      <td>1348617600</td>\n",
       "      <td>1</td>\n",
       "      <td>I didnt like this coffee. Instead of telling y...</td>\n",
       "      <td>2</td>\n",
       "    </tr>\n",
       "  </tbody>\n",
       "</table>\n",
       "</div>"
      ],
      "text/plain": [
       "               UserId   ProductId             ProfileName        Time  Score  \\\n",
       "0  #oc-R115TNMSPFT9I7  B005ZBZLT4                 Breyton  1331510400      2   \n",
       "1  #oc-R11D9D7SHXIJB9  B005HG9ESG  Louis E. Emory \"hoppy\"  1342396800      5   \n",
       "2  #oc-R11DNU2NBKQ23Z  B005ZBZLT4        Kim Cieszykowski  1348531200      1   \n",
       "3  #oc-R11O5J5ZVQE25C  B005HG9ESG           Penguin Chick  1346889600      5   \n",
       "4  #oc-R12KPBODL2B5ZD  B007OSBEV0   Christopher P. Presta  1348617600      1   \n",
       "\n",
       "                                                Text  COUNT(*)  \n",
       "0  Overall its just OK when considering the price...         2  \n",
       "1  My wife has recurring extreme muscle spasms, u...         3  \n",
       "2  This coffee is horrible and unfortunately not ...         2  \n",
       "3  This will be the bottle that you grab from the...         3  \n",
       "4  I didnt like this coffee. Instead of telling y...         2  "
      ]
     },
     "execution_count": 4,
     "metadata": {},
     "output_type": "execute_result"
    }
   ],
   "source": [
    "print(display.shape)\n",
    "display.head()"
   ]
  },
  {
   "cell_type": "code",
   "execution_count": 5,
   "metadata": {
    "colab": {},
    "colab_type": "code",
    "id": "HUsn2lg8Jkjb",
    "outputId": "76e2e98e-b728-46ba-d619-c2008134a3b7"
   },
   "outputs": [
    {
     "data": {
      "text/html": [
       "<div>\n",
       "<style scoped>\n",
       "    .dataframe tbody tr th:only-of-type {\n",
       "        vertical-align: middle;\n",
       "    }\n",
       "\n",
       "    .dataframe tbody tr th {\n",
       "        vertical-align: top;\n",
       "    }\n",
       "\n",
       "    .dataframe thead th {\n",
       "        text-align: right;\n",
       "    }\n",
       "</style>\n",
       "<table border=\"1\" class=\"dataframe\">\n",
       "  <thead>\n",
       "    <tr style=\"text-align: right;\">\n",
       "      <th></th>\n",
       "      <th>UserId</th>\n",
       "      <th>ProductId</th>\n",
       "      <th>ProfileName</th>\n",
       "      <th>Time</th>\n",
       "      <th>Score</th>\n",
       "      <th>Text</th>\n",
       "      <th>COUNT(*)</th>\n",
       "    </tr>\n",
       "  </thead>\n",
       "  <tbody>\n",
       "    <tr>\n",
       "      <th>80638</th>\n",
       "      <td>AZY10LLTJ71NX</td>\n",
       "      <td>B001ATMQK2</td>\n",
       "      <td>undertheshrine \"undertheshrine\"</td>\n",
       "      <td>1296691200</td>\n",
       "      <td>5</td>\n",
       "      <td>I bought this 6 pack because for the price tha...</td>\n",
       "      <td>5</td>\n",
       "    </tr>\n",
       "  </tbody>\n",
       "</table>\n",
       "</div>"
      ],
      "text/plain": [
       "              UserId   ProductId                      ProfileName        Time  \\\n",
       "80638  AZY10LLTJ71NX  B001ATMQK2  undertheshrine \"undertheshrine\"  1296691200   \n",
       "\n",
       "       Score                                               Text  COUNT(*)  \n",
       "80638      5  I bought this 6 pack because for the price tha...         5  "
      ]
     },
     "execution_count": 5,
     "metadata": {},
     "output_type": "execute_result"
    }
   ],
   "source": [
    "display[display['UserId']=='AZY10LLTJ71NX']"
   ]
  },
  {
   "cell_type": "code",
   "execution_count": 6,
   "metadata": {
    "colab": {},
    "colab_type": "code",
    "id": "CyPhzHZKJkjf",
    "outputId": "28b60f13-e2e6-4960-e5ba-3467e16dbd03"
   },
   "outputs": [
    {
     "data": {
      "text/plain": [
       "393063"
      ]
     },
     "execution_count": 6,
     "metadata": {},
     "output_type": "execute_result"
    }
   ],
   "source": [
    "display['COUNT(*)'].sum()"
   ]
  },
  {
   "cell_type": "markdown",
   "metadata": {
    "colab_type": "text",
    "id": "y22fy_WtJkji"
   },
   "source": [
    "#  [2] Exploratory Data Analysis"
   ]
  },
  {
   "cell_type": "markdown",
   "metadata": {
    "colab_type": "text",
    "id": "ZqpW3tWPJkjl"
   },
   "source": [
    "## [2.1] Data Cleaning: Deduplication\n",
    "\n",
    "It is observed (as shown in the table below) that the reviews data had many duplicate entries. Hence it was necessary to remove duplicates in order to get unbiased results for the analysis of the data.  Following is an example:"
   ]
  },
  {
   "cell_type": "code",
   "execution_count": 7,
   "metadata": {
    "colab": {},
    "colab_type": "code",
    "id": "fmlu_oooJkjl",
    "outputId": "9ae82f65-ed65-425a-ad4d-b96091e37940",
    "scrolled": false
   },
   "outputs": [
    {
     "data": {
      "text/html": [
       "<div>\n",
       "<style scoped>\n",
       "    .dataframe tbody tr th:only-of-type {\n",
       "        vertical-align: middle;\n",
       "    }\n",
       "\n",
       "    .dataframe tbody tr th {\n",
       "        vertical-align: top;\n",
       "    }\n",
       "\n",
       "    .dataframe thead th {\n",
       "        text-align: right;\n",
       "    }\n",
       "</style>\n",
       "<table border=\"1\" class=\"dataframe\">\n",
       "  <thead>\n",
       "    <tr style=\"text-align: right;\">\n",
       "      <th></th>\n",
       "      <th>Id</th>\n",
       "      <th>ProductId</th>\n",
       "      <th>UserId</th>\n",
       "      <th>ProfileName</th>\n",
       "      <th>HelpfulnessNumerator</th>\n",
       "      <th>HelpfulnessDenominator</th>\n",
       "      <th>Score</th>\n",
       "      <th>Time</th>\n",
       "      <th>Summary</th>\n",
       "      <th>Text</th>\n",
       "    </tr>\n",
       "  </thead>\n",
       "  <tbody>\n",
       "    <tr>\n",
       "      <th>0</th>\n",
       "      <td>78445</td>\n",
       "      <td>B000HDL1RQ</td>\n",
       "      <td>AR5J8UI46CURR</td>\n",
       "      <td>Geetha Krishnan</td>\n",
       "      <td>2</td>\n",
       "      <td>2</td>\n",
       "      <td>5</td>\n",
       "      <td>1199577600</td>\n",
       "      <td>LOACKER QUADRATINI VANILLA WAFERS</td>\n",
       "      <td>DELICIOUS WAFERS. I FIND THAT EUROPEAN WAFERS ...</td>\n",
       "    </tr>\n",
       "    <tr>\n",
       "      <th>1</th>\n",
       "      <td>138317</td>\n",
       "      <td>B000HDOPYC</td>\n",
       "      <td>AR5J8UI46CURR</td>\n",
       "      <td>Geetha Krishnan</td>\n",
       "      <td>2</td>\n",
       "      <td>2</td>\n",
       "      <td>5</td>\n",
       "      <td>1199577600</td>\n",
       "      <td>LOACKER QUADRATINI VANILLA WAFERS</td>\n",
       "      <td>DELICIOUS WAFERS. I FIND THAT EUROPEAN WAFERS ...</td>\n",
       "    </tr>\n",
       "    <tr>\n",
       "      <th>2</th>\n",
       "      <td>138277</td>\n",
       "      <td>B000HDOPYM</td>\n",
       "      <td>AR5J8UI46CURR</td>\n",
       "      <td>Geetha Krishnan</td>\n",
       "      <td>2</td>\n",
       "      <td>2</td>\n",
       "      <td>5</td>\n",
       "      <td>1199577600</td>\n",
       "      <td>LOACKER QUADRATINI VANILLA WAFERS</td>\n",
       "      <td>DELICIOUS WAFERS. I FIND THAT EUROPEAN WAFERS ...</td>\n",
       "    </tr>\n",
       "    <tr>\n",
       "      <th>3</th>\n",
       "      <td>73791</td>\n",
       "      <td>B000HDOPZG</td>\n",
       "      <td>AR5J8UI46CURR</td>\n",
       "      <td>Geetha Krishnan</td>\n",
       "      <td>2</td>\n",
       "      <td>2</td>\n",
       "      <td>5</td>\n",
       "      <td>1199577600</td>\n",
       "      <td>LOACKER QUADRATINI VANILLA WAFERS</td>\n",
       "      <td>DELICIOUS WAFERS. I FIND THAT EUROPEAN WAFERS ...</td>\n",
       "    </tr>\n",
       "    <tr>\n",
       "      <th>4</th>\n",
       "      <td>155049</td>\n",
       "      <td>B000PAQ75C</td>\n",
       "      <td>AR5J8UI46CURR</td>\n",
       "      <td>Geetha Krishnan</td>\n",
       "      <td>2</td>\n",
       "      <td>2</td>\n",
       "      <td>5</td>\n",
       "      <td>1199577600</td>\n",
       "      <td>LOACKER QUADRATINI VANILLA WAFERS</td>\n",
       "      <td>DELICIOUS WAFERS. I FIND THAT EUROPEAN WAFERS ...</td>\n",
       "    </tr>\n",
       "  </tbody>\n",
       "</table>\n",
       "</div>"
      ],
      "text/plain": [
       "       Id   ProductId         UserId      ProfileName  HelpfulnessNumerator  \\\n",
       "0   78445  B000HDL1RQ  AR5J8UI46CURR  Geetha Krishnan                     2   \n",
       "1  138317  B000HDOPYC  AR5J8UI46CURR  Geetha Krishnan                     2   \n",
       "2  138277  B000HDOPYM  AR5J8UI46CURR  Geetha Krishnan                     2   \n",
       "3   73791  B000HDOPZG  AR5J8UI46CURR  Geetha Krishnan                     2   \n",
       "4  155049  B000PAQ75C  AR5J8UI46CURR  Geetha Krishnan                     2   \n",
       "\n",
       "   HelpfulnessDenominator  Score        Time  \\\n",
       "0                       2      5  1199577600   \n",
       "1                       2      5  1199577600   \n",
       "2                       2      5  1199577600   \n",
       "3                       2      5  1199577600   \n",
       "4                       2      5  1199577600   \n",
       "\n",
       "                             Summary  \\\n",
       "0  LOACKER QUADRATINI VANILLA WAFERS   \n",
       "1  LOACKER QUADRATINI VANILLA WAFERS   \n",
       "2  LOACKER QUADRATINI VANILLA WAFERS   \n",
       "3  LOACKER QUADRATINI VANILLA WAFERS   \n",
       "4  LOACKER QUADRATINI VANILLA WAFERS   \n",
       "\n",
       "                                                Text  \n",
       "0  DELICIOUS WAFERS. I FIND THAT EUROPEAN WAFERS ...  \n",
       "1  DELICIOUS WAFERS. I FIND THAT EUROPEAN WAFERS ...  \n",
       "2  DELICIOUS WAFERS. I FIND THAT EUROPEAN WAFERS ...  \n",
       "3  DELICIOUS WAFERS. I FIND THAT EUROPEAN WAFERS ...  \n",
       "4  DELICIOUS WAFERS. I FIND THAT EUROPEAN WAFERS ...  "
      ]
     },
     "execution_count": 7,
     "metadata": {},
     "output_type": "execute_result"
    }
   ],
   "source": [
    "display= pd.read_sql_query(\"\"\"\n",
    "SELECT *\n",
    "FROM Reviews\n",
    "WHERE Score != 3 AND UserId=\"AR5J8UI46CURR\"\n",
    "ORDER BY ProductID\n",
    "\"\"\", con)\n",
    "display.head()"
   ]
  },
  {
   "cell_type": "markdown",
   "metadata": {
    "colab_type": "text",
    "id": "pvogJHEyJkjq"
   },
   "source": [
    "As it can be seen above that same user has multiple reviews with same values for HelpfulnessNumerator, HelpfulnessDenominator, Score, Time, Summary and Text and on doing analysis it was found that <br>\n",
    "<br> \n",
    "ProductId=B000HDOPZG was Loacker Quadratini Vanilla Wafer Cookies, 8.82-Ounce Packages (Pack of 8)<br>\n",
    "<br> \n",
    "ProductId=B000HDL1RQ was Loacker Quadratini Lemon Wafer Cookies, 8.82-Ounce Packages (Pack of 8) and so on<br>\n",
    "\n",
    "It was inferred after analysis that reviews with same parameters other than ProductId belonged to the same product just having different flavour or quantity. Hence in order to reduce redundancy it was decided to eliminate the rows having same parameters.<br>\n",
    "\n",
    "The method used for the same was that we first sort the data according to ProductId and then just keep the first similar product review and delelte the others. for eg. in the above just the review for ProductId=B000HDL1RQ remains. This method ensures that there is only one representative for each product and deduplication without sorting would lead to possibility of different representatives still existing for the same product."
   ]
  },
  {
   "cell_type": "code",
   "execution_count": 8,
   "metadata": {
    "colab": {},
    "colab_type": "code",
    "id": "LAWOrfBaJkjr"
   },
   "outputs": [],
   "source": [
    "#Sorting data according to ProductId in ascending order\n",
    "sorted_data=filtered_data.sort_values('ProductId', axis=0, ascending=True, inplace=False, kind='quicksort', na_position='last')"
   ]
  },
  {
   "cell_type": "code",
   "execution_count": 9,
   "metadata": {
    "colab": {},
    "colab_type": "code",
    "id": "dfaQob28Jkju",
    "outputId": "21104e4f-cd18-4353-a54a-5b4638fc552b"
   },
   "outputs": [
    {
     "data": {
      "text/plain": [
       "(160178, 10)"
      ]
     },
     "execution_count": 9,
     "metadata": {},
     "output_type": "execute_result"
    }
   ],
   "source": [
    "#Deduplication of entries\n",
    "final=sorted_data.drop_duplicates(subset={\"UserId\",\"ProfileName\",\"Time\",\"Text\"}, keep='first', inplace=False)\n",
    "final.shape"
   ]
  },
  {
   "cell_type": "code",
   "execution_count": 10,
   "metadata": {
    "colab": {},
    "colab_type": "code",
    "id": "9QVxT6oxJkjx",
    "outputId": "f292b9fe-6065-4979-830d-c79bc6785a3d"
   },
   "outputs": [
    {
     "data": {
      "text/plain": [
       "80.089"
      ]
     },
     "execution_count": 10,
     "metadata": {},
     "output_type": "execute_result"
    }
   ],
   "source": [
    "#Checking to see how much % of data still remains\n",
    "(final['Id'].size*1.0)/(filtered_data['Id'].size*1.0)*100"
   ]
  },
  {
   "cell_type": "markdown",
   "metadata": {
    "colab_type": "text",
    "id": "qVaxONHLJkj1"
   },
   "source": [
    "<b>Observation:-</b> It was also seen that in two rows given below the value of HelpfulnessNumerator is greater than HelpfulnessDenominator which is not practically possible hence these two rows too are removed from calcualtions"
   ]
  },
  {
   "cell_type": "code",
   "execution_count": 11,
   "metadata": {
    "colab": {},
    "colab_type": "code",
    "id": "vLoqfOjcJkj1",
    "outputId": "db3448f8-fbda-4205-a7cc-5048e0f1fd19"
   },
   "outputs": [
    {
     "data": {
      "text/html": [
       "<div>\n",
       "<style scoped>\n",
       "    .dataframe tbody tr th:only-of-type {\n",
       "        vertical-align: middle;\n",
       "    }\n",
       "\n",
       "    .dataframe tbody tr th {\n",
       "        vertical-align: top;\n",
       "    }\n",
       "\n",
       "    .dataframe thead th {\n",
       "        text-align: right;\n",
       "    }\n",
       "</style>\n",
       "<table border=\"1\" class=\"dataframe\">\n",
       "  <thead>\n",
       "    <tr style=\"text-align: right;\">\n",
       "      <th></th>\n",
       "      <th>Id</th>\n",
       "      <th>ProductId</th>\n",
       "      <th>UserId</th>\n",
       "      <th>ProfileName</th>\n",
       "      <th>HelpfulnessNumerator</th>\n",
       "      <th>HelpfulnessDenominator</th>\n",
       "      <th>Score</th>\n",
       "      <th>Time</th>\n",
       "      <th>Summary</th>\n",
       "      <th>Text</th>\n",
       "    </tr>\n",
       "  </thead>\n",
       "  <tbody>\n",
       "    <tr>\n",
       "      <th>0</th>\n",
       "      <td>64422</td>\n",
       "      <td>B000MIDROQ</td>\n",
       "      <td>A161DK06JJMCYF</td>\n",
       "      <td>J. E. Stephens \"Jeanne\"</td>\n",
       "      <td>3</td>\n",
       "      <td>1</td>\n",
       "      <td>5</td>\n",
       "      <td>1224892800</td>\n",
       "      <td>Bought This for My Son at College</td>\n",
       "      <td>My son loves spaghetti so I didn't hesitate or...</td>\n",
       "    </tr>\n",
       "    <tr>\n",
       "      <th>1</th>\n",
       "      <td>44737</td>\n",
       "      <td>B001EQ55RW</td>\n",
       "      <td>A2V0I904FH7ABY</td>\n",
       "      <td>Ram</td>\n",
       "      <td>3</td>\n",
       "      <td>2</td>\n",
       "      <td>4</td>\n",
       "      <td>1212883200</td>\n",
       "      <td>Pure cocoa taste with crunchy almonds inside</td>\n",
       "      <td>It was almost a 'love at first bite' - the per...</td>\n",
       "    </tr>\n",
       "  </tbody>\n",
       "</table>\n",
       "</div>"
      ],
      "text/plain": [
       "      Id   ProductId          UserId              ProfileName  \\\n",
       "0  64422  B000MIDROQ  A161DK06JJMCYF  J. E. Stephens \"Jeanne\"   \n",
       "1  44737  B001EQ55RW  A2V0I904FH7ABY                      Ram   \n",
       "\n",
       "   HelpfulnessNumerator  HelpfulnessDenominator  Score        Time  \\\n",
       "0                     3                       1      5  1224892800   \n",
       "1                     3                       2      4  1212883200   \n",
       "\n",
       "                                        Summary  \\\n",
       "0             Bought This for My Son at College   \n",
       "1  Pure cocoa taste with crunchy almonds inside   \n",
       "\n",
       "                                                Text  \n",
       "0  My son loves spaghetti so I didn't hesitate or...  \n",
       "1  It was almost a 'love at first bite' - the per...  "
      ]
     },
     "execution_count": 11,
     "metadata": {},
     "output_type": "execute_result"
    }
   ],
   "source": [
    "display= pd.read_sql_query(\"\"\"\n",
    "SELECT *\n",
    "FROM Reviews\n",
    "WHERE Score != 3 AND Id=44737 OR Id=64422\n",
    "ORDER BY ProductID\n",
    "\"\"\", con)\n",
    "\n",
    "display.head()"
   ]
  },
  {
   "cell_type": "code",
   "execution_count": 12,
   "metadata": {
    "colab": {},
    "colab_type": "code",
    "id": "f_185ozFJkj9"
   },
   "outputs": [],
   "source": [
    "final=final[final.HelpfulnessNumerator<=final.HelpfulnessDenominator]"
   ]
  },
  {
   "cell_type": "code",
   "execution_count": 13,
   "metadata": {
    "colab": {},
    "colab_type": "code",
    "id": "CofRySJyJkkC",
    "outputId": "a06c52f6-66a9-429b-8a5e-e20259f0bb21"
   },
   "outputs": [
    {
     "name": "stdout",
     "output_type": "stream",
     "text": [
      "(160176, 10)\n"
     ]
    },
    {
     "data": {
      "text/plain": [
       "1    134799\n",
       "0     25377\n",
       "Name: Score, dtype: int64"
      ]
     },
     "execution_count": 13,
     "metadata": {},
     "output_type": "execute_result"
    }
   ],
   "source": [
    "#Before starting the next phase of preprocessing lets see the number of entries left\n",
    "print(final.shape)\n",
    "\n",
    "#How many positive and negative reviews are present in our dataset?\n",
    "final['Score'].value_counts()"
   ]
  },
  {
   "cell_type": "markdown",
   "metadata": {
    "colab_type": "text",
    "id": "-fEWeywxJkkI"
   },
   "source": [
    "#  [3] Preprocessing"
   ]
  },
  {
   "cell_type": "markdown",
   "metadata": {
    "colab_type": "text",
    "id": "tzpbt9aOJkkJ"
   },
   "source": [
    "## [3.1].  Preprocessing Review Text\n",
    "\n",
    "Now that we have finished deduplication our data requires some preprocessing before we go on further with analysis and making the prediction model.\n",
    "\n",
    "Hence in the Preprocessing phase we do the following in the order below:-\n",
    "\n",
    "1. Begin by removing the html tags\n",
    "2. Remove any punctuations or limited set of special characters like , or . or # etc.\n",
    "3. Check if the word is made up of english letters and is not alpha-numeric\n",
    "4. Check to see if the length of the word is greater than 2 (as it was researched that there is no adjective in 2-letters)\n",
    "5. Convert the word to lowercase\n",
    "6. Remove Stopwords\n",
    "7. Finally Snowball Stemming the word (it was obsereved to be better than Porter Stemming)<br>\n",
    "\n",
    "After which we collect the words used to describe positive and negative reviews"
   ]
  },
  {
   "cell_type": "code",
   "execution_count": 14,
   "metadata": {
    "colab": {},
    "colab_type": "code",
    "id": "YqxBeLk8JkkL",
    "outputId": "1819632d-0129-4a13-d7ff-4e7bbf129dff"
   },
   "outputs": [
    {
     "name": "stdout",
     "output_type": "stream",
     "text": [
      "I remembered this book from my childhood and got it for my kids.  It's just as good as I remembered and my kids love it too.  My older daughter now reads it to her sister.  Good rhymes and nice pictures.\n",
      "==================================================\n",
      "The qualitys not as good as the lamb and rice but it didn't seem to bother his stomach, you get 10 more pounds and it is cheaper wich is a plus for me. You can always ad your own rice and veggies. Its fresher that way and better for him in my opinion. Plus if you you can get it deliverd to your house for free its even better.  Gotta love pitbulls\n",
      "==================================================\n",
      "This is the Japanese version of breadcrumb (pan=bread, a Portuguese loan-word, and&quot;ko-&quot;  is &quot;child of&quot; or of &quot;derived from&quot;.) Panko are used for katsudon, tonkatsu or cutlets served on rice or in soups. The cutlets, pounded chicken or pork, are coated with these light and crispy crumbs and fried. They are not gritty and dense like regular crumbs. They are very nice on deep fried shrimps and decorative for a more gourmet touch.\n",
      "==================================================\n",
      "What can I say... If Douwe Egberts was good enough for my dutch grandmother, it's perfect for me.  I like this flavor best with my Senseo... It has a nice dark full body flavor without the burt bean taste I tend sense with starbucks.  It's a shame most americans haven't bought into single serve coffe makers as our Dutch counter parts have.  Every cup is fresh brewed and doesn't sit long enough on my desk to get that old taste either.\n",
      "==================================================\n"
     ]
    }
   ],
   "source": [
    "# printing some random reviews\n",
    "sent_0 = final['Text'].values[0]\n",
    "print(sent_0)\n",
    "print(\"=\"*50)\n",
    "\n",
    "sent_1000 = final['Text'].values[1000]\n",
    "print(sent_1000)\n",
    "print(\"=\"*50)\n",
    "\n",
    "sent_1500 = final['Text'].values[1500]\n",
    "print(sent_1500)\n",
    "print(\"=\"*50)\n",
    "\n",
    "sent_4900 = final['Text'].values[4900]\n",
    "print(sent_4900)\n",
    "print(\"=\"*50)"
   ]
  },
  {
   "cell_type": "code",
   "execution_count": 15,
   "metadata": {
    "colab": {},
    "colab_type": "code",
    "id": "lWiJ2_9gJkkP",
    "outputId": "08234806-3657-4d8f-c6d2-020dc9cda61c"
   },
   "outputs": [
    {
     "name": "stdout",
     "output_type": "stream",
     "text": [
      "I remembered this book from my childhood and got it for my kids.  It's just as good as I remembered and my kids love it too.  My older daughter now reads it to her sister.  Good rhymes and nice pictures.\n"
     ]
    }
   ],
   "source": [
    "# remove urls from text python: https://stackoverflow.com/a/40823105/4084039\n",
    "sent_0 = re.sub(r\"http\\S+\", \"\", sent_0)\n",
    "sent_1000 = re.sub(r\"http\\S+\", \"\", sent_1000)\n",
    "sent_150 = re.sub(r\"http\\S+\", \"\", sent_1500)\n",
    "sent_4900 = re.sub(r\"http\\S+\", \"\", sent_4900)\n",
    "\n",
    "print(sent_0)"
   ]
  },
  {
   "cell_type": "code",
   "execution_count": 16,
   "metadata": {
    "colab": {},
    "colab_type": "code",
    "id": "cpLtZ-lAJkkR",
    "outputId": "7e0bf159-4db4-4ffe-d72e-6d5952d453f1"
   },
   "outputs": [
    {
     "name": "stdout",
     "output_type": "stream",
     "text": [
      "I remembered this book from my childhood and got it for my kids.  It's just as good as I remembered and my kids love it too.  My older daughter now reads it to her sister.  Good rhymes and nice pictures.\n",
      "==================================================\n",
      "The qualitys not as good as the lamb and rice but it didn't seem to bother his stomach, you get 10 more pounds and it is cheaper wich is a plus for me. You can always ad your own rice and veggies. Its fresher that way and better for him in my opinion. Plus if you you can get it deliverd to your house for free its even better.  Gotta love pitbulls\n",
      "==================================================\n",
      "This is the Japanese version of breadcrumb (pan=bread, a Portuguese loan-word, and\"ko-\"  is \"child of\" or of \"derived from\".) Panko are used for katsudon, tonkatsu or cutlets served on rice or in soups. The cutlets, pounded chicken or pork, are coated with these light and crispy crumbs and fried. They are not gritty and dense like regular crumbs. They are very nice on deep fried shrimps and decorative for a more gourmet touch.\n",
      "==================================================\n",
      "What can I say... If Douwe Egberts was good enough for my dutch grandmother, it's perfect for me.  I like this flavor best with my Senseo... It has a nice dark full body flavor without the burt bean taste I tend sense with starbucks.  It's a shame most americans haven't bought into single serve coffe makers as our Dutch counter parts have.  Every cup is fresh brewed and doesn't sit long enough on my desk to get that old taste either.\n"
     ]
    }
   ],
   "source": [
    "# https://stackoverflow.com/questions/16206380/python-beautifulsoup-how-to-remove-all-tags-from-an-element\n",
    "from bs4 import BeautifulSoup\n",
    "\n",
    "soup = BeautifulSoup(sent_0, 'lxml')\n",
    "text = soup.get_text()\n",
    "print(text)\n",
    "print(\"=\"*50)\n",
    "\n",
    "soup = BeautifulSoup(sent_1000, 'lxml')\n",
    "text = soup.get_text()\n",
    "print(text)\n",
    "print(\"=\"*50)\n",
    "\n",
    "soup = BeautifulSoup(sent_1500, 'lxml')\n",
    "text = soup.get_text()\n",
    "print(text)\n",
    "print(\"=\"*50)\n",
    "\n",
    "soup = BeautifulSoup(sent_4900, 'lxml')\n",
    "text = soup.get_text()\n",
    "print(text)"
   ]
  },
  {
   "cell_type": "code",
   "execution_count": 17,
   "metadata": {
    "colab": {},
    "colab_type": "code",
    "id": "HYBbtiCMJkkW"
   },
   "outputs": [],
   "source": [
    "# https://stackoverflow.com/a/47091490/4084039\n",
    "import re\n",
    "\n",
    "def decontracted(phrase):\n",
    "    # specific\n",
    "    phrase = re.sub(r\"won't\", \"will not\", phrase)\n",
    "    phrase = re.sub(r\"can\\'t\", \"can not\", phrase)\n",
    "\n",
    "    # general\n",
    "    phrase = re.sub(r\"n\\'t\", \" not\", phrase)\n",
    "    phrase = re.sub(r\"\\'re\", \" are\", phrase)\n",
    "    phrase = re.sub(r\"\\'s\", \" is\", phrase)\n",
    "    phrase = re.sub(r\"\\'d\", \" would\", phrase)\n",
    "    phrase = re.sub(r\"\\'ll\", \" will\", phrase)\n",
    "    phrase = re.sub(r\"\\'t\", \" not\", phrase)\n",
    "    phrase = re.sub(r\"\\'ve\", \" have\", phrase)\n",
    "    phrase = re.sub(r\"\\'m\", \" am\", phrase)\n",
    "    return phrase"
   ]
  },
  {
   "cell_type": "code",
   "execution_count": 18,
   "metadata": {
    "colab": {},
    "colab_type": "code",
    "id": "WPQSZurTJkkY",
    "outputId": "6d91fc9f-8f77-497c-95bb-96bfc9781196"
   },
   "outputs": [
    {
     "name": "stdout",
     "output_type": "stream",
     "text": [
      "This is the Japanese version of breadcrumb (pan=bread, a Portuguese loan-word, and&quot;ko-&quot;  is &quot;child of&quot; or of &quot;derived from&quot;.) Panko are used for katsudon, tonkatsu or cutlets served on rice or in soups. The cutlets, pounded chicken or pork, are coated with these light and crispy crumbs and fried. They are not gritty and dense like regular crumbs. They are very nice on deep fried shrimps and decorative for a more gourmet touch.\n",
      "==================================================\n"
     ]
    }
   ],
   "source": [
    "sent_1500 = decontracted(sent_1500)\n",
    "print(sent_1500)\n",
    "print(\"=\"*50)"
   ]
  },
  {
   "cell_type": "code",
   "execution_count": 19,
   "metadata": {
    "colab": {},
    "colab_type": "code",
    "id": "6bakeyaQJkkb",
    "outputId": "f7cf0096-0b7b-4ec1-84df-01e838621d62"
   },
   "outputs": [
    {
     "name": "stdout",
     "output_type": "stream",
     "text": [
      "I remembered this book from my childhood and got it for my kids.  It's just as good as I remembered and my kids love it too.  My older daughter now reads it to her sister.  Good rhymes and nice pictures.\n"
     ]
    }
   ],
   "source": [
    "#remove words with numbers python: https://stackoverflow.com/a/18082370/4084039\n",
    "sent_0 = re.sub(\"\\S*\\d\\S*\", \"\", sent_0).strip()\n",
    "print(sent_0)"
   ]
  },
  {
   "cell_type": "code",
   "execution_count": 20,
   "metadata": {
    "colab": {},
    "colab_type": "code",
    "id": "dMqqVqadJkkg",
    "outputId": "e4a6bd28-9d39-4dd2-9483-0406dd3dff50"
   },
   "outputs": [
    {
     "name": "stdout",
     "output_type": "stream",
     "text": [
      "This is the Japanese version of breadcrumb pan bread a Portuguese loan word and quot ko quot is quot child of quot or of quot derived from quot Panko are used for katsudon tonkatsu or cutlets served on rice or in soups The cutlets pounded chicken or pork are coated with these light and crispy crumbs and fried They are not gritty and dense like regular crumbs They are very nice on deep fried shrimps and decorative for a more gourmet touch \n"
     ]
    }
   ],
   "source": [
    "#remove spacial character: https://stackoverflow.com/a/5843547/4084039\n",
    "sent_1500 = re.sub('[^A-Za-z0-9]+', ' ', sent_1500)\n",
    "print(sent_1500)"
   ]
  },
  {
   "cell_type": "code",
   "execution_count": 21,
   "metadata": {
    "colab": {},
    "colab_type": "code",
    "id": "bvEoXB5NJkkk"
   },
   "outputs": [],
   "source": [
    "# https://gist.github.com/sebleier/554280\n",
    "# we are removing the words from the stop words list: 'no', 'nor', 'not'\n",
    "# <br /><br /> ==> after the above steps, we are getting \"br br\"\n",
    "# we are including them into stop words list\n",
    "# instead of <br /> if we have <br/> these tags would have revmoved in the 1st step\n",
    "\n",
    "stopwords= set(['br', 'the', 'i', 'me', 'my', 'myself', 'we', 'our', 'ours', 'ourselves', 'you', \"you're\", \"you've\",\\\n",
    "            \"you'll\", \"you'd\", 'your', 'yours', 'yourself', 'yourselves', 'he', 'him', 'his', 'himself', \\\n",
    "            'she', \"she's\", 'her', 'hers', 'herself', 'it', \"it's\", 'its', 'itself', 'they', 'them', 'their',\\\n",
    "            'theirs', 'themselves', 'what', 'which', 'who', 'whom', 'this', 'that', \"that'll\", 'these', 'those', \\\n",
    "            'am', 'is', 'are', 'was', 'were', 'be', 'been', 'being', 'have', 'has', 'had', 'having', 'do', 'does', \\\n",
    "            'did', 'doing', 'a', 'an', 'the', 'and', 'but', 'if', 'or', 'because', 'as', 'until', 'while', 'of', \\\n",
    "            'at', 'by', 'for', 'with', 'about', 'against', 'between', 'into', 'through', 'during', 'before', 'after',\\\n",
    "            'above', 'below', 'to', 'from', 'up', 'down', 'in', 'out', 'on', 'off', 'over', 'under', 'again', 'further',\\\n",
    "            'then', 'once', 'here', 'there', 'when', 'where', 'why', 'how', 'all', 'any', 'both', 'each', 'few', 'more',\\\n",
    "            'most', 'other', 'some', 'such', 'only', 'own', 'same', 'so', 'than', 'too', 'very', \\\n",
    "            's', 't', 'can', 'will', 'just', 'don', \"don't\", 'should', \"should've\", 'now', 'd', 'll', 'm', 'o', 're', \\\n",
    "            've', 'y', 'ain', 'aren', \"aren't\", 'couldn', \"couldn't\", 'didn', \"didn't\", 'doesn', \"doesn't\", 'hadn',\\\n",
    "            \"hadn't\", 'hasn', \"hasn't\", 'haven', \"haven't\", 'isn', \"isn't\", 'ma', 'mightn', \"mightn't\", 'mustn',\\\n",
    "            \"mustn't\", 'needn', \"needn't\", 'shan', \"shan't\", 'shouldn', \"shouldn't\", 'wasn', \"wasn't\", 'weren', \"weren't\", \\\n",
    "            'won', \"won't\", 'wouldn', \"wouldn't\"])"
   ]
  },
  {
   "cell_type": "code",
   "execution_count": 22,
   "metadata": {
    "colab": {},
    "colab_type": "code",
    "id": "0j3jfqWCJkko",
    "outputId": "c83c59c5-fe17-4ad2-d43f-0b0947a6e6ba"
   },
   "outputs": [
    {
     "name": "stderr",
     "output_type": "stream",
     "text": [
      "100%|██████████| 160176/160176 [01:14<00:00, 2157.79it/s]\n"
     ]
    }
   ],
   "source": [
    "# Combining all the above stundents \n",
    "from tqdm import tqdm\n",
    "preprocessed_reviews = []\n",
    "# tqdm is for printing the status bar\n",
    "for sentance in tqdm(final['Text'].values):\n",
    "    sentance = re.sub(r\"http\\S+\", \"\", sentance)\n",
    "    sentance = BeautifulSoup(sentance, 'lxml').get_text()\n",
    "    sentance = decontracted(sentance)\n",
    "    sentance = re.sub(\"\\S*\\d\\S*\", \"\", sentance).strip()\n",
    "    sentance = re.sub('[^A-Za-z]+', ' ', sentance)\n",
    "    # https://gist.github.com/sebleier/554280\n",
    "    sentance = ' '.join(e.lower() for e in sentance.split() if e.lower() not in stopwords)\n",
    "    preprocessed_reviews.append(sentance.strip())"
   ]
  },
  {
   "cell_type": "code",
   "execution_count": 23,
   "metadata": {
    "colab": {},
    "colab_type": "code",
    "id": "nS_7EeV7Jkkr",
    "outputId": "4d4cd05e-0730-4e52-dc30-eb97014871dd"
   },
   "outputs": [
    {
     "data": {
      "text/plain": [
       "'japanese version breadcrumb pan bread portuguese loan word ko child derived panko used katsudon tonkatsu cutlets served rice soups cutlets pounded chicken pork coated light crispy crumbs fried not gritty dense like regular crumbs nice deep fried shrimps decorative gourmet touch'"
      ]
     },
     "execution_count": 23,
     "metadata": {},
     "output_type": "execute_result"
    }
   ],
   "source": [
    "preprocessed_reviews[1500]"
   ]
  },
  {
   "cell_type": "markdown",
   "metadata": {},
   "source": [
    "# Obtaining the Required DataFrame (W/O Feature Engineering) :"
   ]
  },
  {
   "cell_type": "code",
   "execution_count": 24,
   "metadata": {},
   "outputs": [
    {
     "data": {
      "text/plain": [
       "list"
      ]
     },
     "execution_count": 24,
     "metadata": {},
     "output_type": "execute_result"
    }
   ],
   "source": [
    "type(preprocessed_reviews)"
   ]
  },
  {
   "cell_type": "markdown",
   "metadata": {},
   "source": [
    "Basically after all the text preprocessing was carried out we obtained a list, whereas the dataset that we have is \n",
    "named 'final'. Initially I had a total of 200K datapoints to work upon which got reduced to approx. 160K datapoints\n",
    "after the entire deduplication as well as text preprocessing was carried out."
   ]
  },
  {
   "cell_type": "code",
   "execution_count": 25,
   "metadata": {},
   "outputs": [
    {
     "name": "stdout",
     "output_type": "stream",
     "text": [
      "(160176, 10)\n"
     ]
    }
   ],
   "source": [
    "print(final.shape)"
   ]
  },
  {
   "cell_type": "code",
   "execution_count": 26,
   "metadata": {},
   "outputs": [
    {
     "data": {
      "text/html": [
       "<div>\n",
       "<style scoped>\n",
       "    .dataframe tbody tr th:only-of-type {\n",
       "        vertical-align: middle;\n",
       "    }\n",
       "\n",
       "    .dataframe tbody tr th {\n",
       "        vertical-align: top;\n",
       "    }\n",
       "\n",
       "    .dataframe thead th {\n",
       "        text-align: right;\n",
       "    }\n",
       "</style>\n",
       "<table border=\"1\" class=\"dataframe\">\n",
       "  <thead>\n",
       "    <tr style=\"text-align: right;\">\n",
       "      <th></th>\n",
       "      <th>Id</th>\n",
       "      <th>ProductId</th>\n",
       "      <th>UserId</th>\n",
       "      <th>ProfileName</th>\n",
       "      <th>HelpfulnessNumerator</th>\n",
       "      <th>HelpfulnessDenominator</th>\n",
       "      <th>Score</th>\n",
       "      <th>Time</th>\n",
       "      <th>Summary</th>\n",
       "      <th>Text</th>\n",
       "    </tr>\n",
       "  </thead>\n",
       "  <tbody>\n",
       "    <tr>\n",
       "      <th>138695</th>\n",
       "      <td>150513</td>\n",
       "      <td>0006641040</td>\n",
       "      <td>ASH0DZQQF6AIZ</td>\n",
       "      <td>tessarat</td>\n",
       "      <td>0</td>\n",
       "      <td>0</td>\n",
       "      <td>1</td>\n",
       "      <td>1325721600</td>\n",
       "      <td>A classic</td>\n",
       "      <td>I remembered this book from my childhood and g...</td>\n",
       "    </tr>\n",
       "    <tr>\n",
       "      <th>138707</th>\n",
       "      <td>150525</td>\n",
       "      <td>0006641040</td>\n",
       "      <td>A2QID6VCFTY51R</td>\n",
       "      <td>Rick</td>\n",
       "      <td>1</td>\n",
       "      <td>2</td>\n",
       "      <td>1</td>\n",
       "      <td>1025481600</td>\n",
       "      <td>In December it will be, my snowman's anniversa...</td>\n",
       "      <td>My daughter loves all the \"Really Rosie\" books...</td>\n",
       "    </tr>\n",
       "    <tr>\n",
       "      <th>138708</th>\n",
       "      <td>150526</td>\n",
       "      <td>0006641040</td>\n",
       "      <td>A3E9QZFE9KXH8J</td>\n",
       "      <td>R. Mitchell</td>\n",
       "      <td>11</td>\n",
       "      <td>18</td>\n",
       "      <td>0</td>\n",
       "      <td>1129507200</td>\n",
       "      <td>awesome book poor size</td>\n",
       "      <td>This is one of the best children's books ever ...</td>\n",
       "    </tr>\n",
       "  </tbody>\n",
       "</table>\n",
       "</div>"
      ],
      "text/plain": [
       "            Id   ProductId          UserId  ProfileName  HelpfulnessNumerator  \\\n",
       "138695  150513  0006641040   ASH0DZQQF6AIZ     tessarat                     0   \n",
       "138707  150525  0006641040  A2QID6VCFTY51R         Rick                     1   \n",
       "138708  150526  0006641040  A3E9QZFE9KXH8J  R. Mitchell                    11   \n",
       "\n",
       "        HelpfulnessDenominator  Score        Time  \\\n",
       "138695                       0      1  1325721600   \n",
       "138707                       2      1  1025481600   \n",
       "138708                      18      0  1129507200   \n",
       "\n",
       "                                                  Summary  \\\n",
       "138695                                          A classic   \n",
       "138707  In December it will be, my snowman's anniversa...   \n",
       "138708                             awesome book poor size   \n",
       "\n",
       "                                                     Text  \n",
       "138695  I remembered this book from my childhood and g...  \n",
       "138707  My daughter loves all the \"Really Rosie\" books...  \n",
       "138708  This is one of the best children's books ever ...  "
      ]
     },
     "execution_count": 26,
     "metadata": {},
     "output_type": "execute_result"
    }
   ],
   "source": [
    "final.head(3)"
   ]
  },
  {
   "cell_type": "markdown",
   "metadata": {},
   "source": [
    "Basically, again, what we are concerned about is the Preprocessed text whereas in the dataframe named 'final' we only\n",
    "have the 'Text' as a feature. So first I will add the preprocessed text as a column to this dataframe before proceeding any further."
   ]
  },
  {
   "cell_type": "code",
   "execution_count": 27,
   "metadata": {},
   "outputs": [],
   "source": [
    "final['Preprocessed_Reviews'] = preprocessed_reviews"
   ]
  },
  {
   "cell_type": "code",
   "execution_count": 28,
   "metadata": {},
   "outputs": [
    {
     "data": {
      "text/html": [
       "<div>\n",
       "<style scoped>\n",
       "    .dataframe tbody tr th:only-of-type {\n",
       "        vertical-align: middle;\n",
       "    }\n",
       "\n",
       "    .dataframe tbody tr th {\n",
       "        vertical-align: top;\n",
       "    }\n",
       "\n",
       "    .dataframe thead th {\n",
       "        text-align: right;\n",
       "    }\n",
       "</style>\n",
       "<table border=\"1\" class=\"dataframe\">\n",
       "  <thead>\n",
       "    <tr style=\"text-align: right;\">\n",
       "      <th></th>\n",
       "      <th>Id</th>\n",
       "      <th>ProductId</th>\n",
       "      <th>UserId</th>\n",
       "      <th>ProfileName</th>\n",
       "      <th>HelpfulnessNumerator</th>\n",
       "      <th>HelpfulnessDenominator</th>\n",
       "      <th>Score</th>\n",
       "      <th>Time</th>\n",
       "      <th>Summary</th>\n",
       "      <th>Text</th>\n",
       "      <th>Preprocessed_Reviews</th>\n",
       "    </tr>\n",
       "  </thead>\n",
       "  <tbody>\n",
       "    <tr>\n",
       "      <th>138695</th>\n",
       "      <td>150513</td>\n",
       "      <td>0006641040</td>\n",
       "      <td>ASH0DZQQF6AIZ</td>\n",
       "      <td>tessarat</td>\n",
       "      <td>0</td>\n",
       "      <td>0</td>\n",
       "      <td>1</td>\n",
       "      <td>1325721600</td>\n",
       "      <td>A classic</td>\n",
       "      <td>I remembered this book from my childhood and g...</td>\n",
       "      <td>remembered book childhood got kids good rememb...</td>\n",
       "    </tr>\n",
       "    <tr>\n",
       "      <th>138707</th>\n",
       "      <td>150525</td>\n",
       "      <td>0006641040</td>\n",
       "      <td>A2QID6VCFTY51R</td>\n",
       "      <td>Rick</td>\n",
       "      <td>1</td>\n",
       "      <td>2</td>\n",
       "      <td>1</td>\n",
       "      <td>1025481600</td>\n",
       "      <td>In December it will be, my snowman's anniversa...</td>\n",
       "      <td>My daughter loves all the \"Really Rosie\" books...</td>\n",
       "      <td>daughter loves really rosie books introduced r...</td>\n",
       "    </tr>\n",
       "    <tr>\n",
       "      <th>138708</th>\n",
       "      <td>150526</td>\n",
       "      <td>0006641040</td>\n",
       "      <td>A3E9QZFE9KXH8J</td>\n",
       "      <td>R. Mitchell</td>\n",
       "      <td>11</td>\n",
       "      <td>18</td>\n",
       "      <td>0</td>\n",
       "      <td>1129507200</td>\n",
       "      <td>awesome book poor size</td>\n",
       "      <td>This is one of the best children's books ever ...</td>\n",
       "      <td>one best children books ever written mini vers...</td>\n",
       "    </tr>\n",
       "    <tr>\n",
       "      <th>138686</th>\n",
       "      <td>150504</td>\n",
       "      <td>0006641040</td>\n",
       "      <td>AQEYF1AXARWJZ</td>\n",
       "      <td>Les Sinclair \"book maven\"</td>\n",
       "      <td>1</td>\n",
       "      <td>1</td>\n",
       "      <td>1</td>\n",
       "      <td>1212278400</td>\n",
       "      <td>Chicken Soup with Rice</td>\n",
       "      <td>A very entertaining rhyming story--cleaver and...</td>\n",
       "      <td>entertaining rhyming story cleaver catchy illu...</td>\n",
       "    </tr>\n",
       "    <tr>\n",
       "      <th>138685</th>\n",
       "      <td>150503</td>\n",
       "      <td>0006641040</td>\n",
       "      <td>A3R5XMPFU8YZ4D</td>\n",
       "      <td>Her Royal Motherliness \"Nana\"</td>\n",
       "      <td>1</td>\n",
       "      <td>1</td>\n",
       "      <td>1</td>\n",
       "      <td>1233964800</td>\n",
       "      <td>so fun to read</td>\n",
       "      <td>This is my grand daughter's and my favorite bo...</td>\n",
       "      <td>grand daughter favorite book read loves rhythm...</td>\n",
       "    </tr>\n",
       "  </tbody>\n",
       "</table>\n",
       "</div>"
      ],
      "text/plain": [
       "            Id   ProductId          UserId                    ProfileName  \\\n",
       "138695  150513  0006641040   ASH0DZQQF6AIZ                       tessarat   \n",
       "138707  150525  0006641040  A2QID6VCFTY51R                           Rick   \n",
       "138708  150526  0006641040  A3E9QZFE9KXH8J                    R. Mitchell   \n",
       "138686  150504  0006641040   AQEYF1AXARWJZ      Les Sinclair \"book maven\"   \n",
       "138685  150503  0006641040  A3R5XMPFU8YZ4D  Her Royal Motherliness \"Nana\"   \n",
       "\n",
       "        HelpfulnessNumerator  HelpfulnessDenominator  Score        Time  \\\n",
       "138695                     0                       0      1  1325721600   \n",
       "138707                     1                       2      1  1025481600   \n",
       "138708                    11                      18      0  1129507200   \n",
       "138686                     1                       1      1  1212278400   \n",
       "138685                     1                       1      1  1233964800   \n",
       "\n",
       "                                                  Summary  \\\n",
       "138695                                          A classic   \n",
       "138707  In December it will be, my snowman's anniversa...   \n",
       "138708                             awesome book poor size   \n",
       "138686                             Chicken Soup with Rice   \n",
       "138685                                     so fun to read   \n",
       "\n",
       "                                                     Text  \\\n",
       "138695  I remembered this book from my childhood and g...   \n",
       "138707  My daughter loves all the \"Really Rosie\" books...   \n",
       "138708  This is one of the best children's books ever ...   \n",
       "138686  A very entertaining rhyming story--cleaver and...   \n",
       "138685  This is my grand daughter's and my favorite bo...   \n",
       "\n",
       "                                     Preprocessed_Reviews  \n",
       "138695  remembered book childhood got kids good rememb...  \n",
       "138707  daughter loves really rosie books introduced r...  \n",
       "138708  one best children books ever written mini vers...  \n",
       "138686  entertaining rhyming story cleaver catchy illu...  \n",
       "138685  grand daughter favorite book read loves rhythm...  "
      ]
     },
     "execution_count": 28,
     "metadata": {},
     "output_type": "execute_result"
    }
   ],
   "source": [
    "final.head()"
   ]
  },
  {
   "cell_type": "markdown",
   "metadata": {},
   "source": [
    "Now I have a total of approx. 160K rows in the dataframe called 'final', of which I will consider only 100K rows to\n",
    "be applied to the Naive Bayes Classifier. Also here you have the Unix Timestamp in the data, which is basically the\n",
    "time when the review was posted. \n",
    "\n",
    "This makes it possible to carry out Time Based Split of the data instead of random splitting of the data into Train,\n",
    "CV and Test Datasets. For Time Based Split I will take the oldest of the reviews as the Training Data, the \n",
    "intermediate reviews as the CV data and the latest reviews as the Test data. "
   ]
  },
  {
   "cell_type": "markdown",
   "metadata": {},
   "source": [
    "Now to carry out the Time Based Split on the Unix Timestamp, first the reviews need to be sorted based on the 'Time'\n",
    "feature."
   ]
  },
  {
   "cell_type": "code",
   "execution_count": 29,
   "metadata": {},
   "outputs": [],
   "source": [
    "final_TBS = final.sort_values('Time')"
   ]
  },
  {
   "cell_type": "code",
   "execution_count": 30,
   "metadata": {},
   "outputs": [
    {
     "data": {
      "text/html": [
       "<div>\n",
       "<style scoped>\n",
       "    .dataframe tbody tr th:only-of-type {\n",
       "        vertical-align: middle;\n",
       "    }\n",
       "\n",
       "    .dataframe tbody tr th {\n",
       "        vertical-align: top;\n",
       "    }\n",
       "\n",
       "    .dataframe thead th {\n",
       "        text-align: right;\n",
       "    }\n",
       "</style>\n",
       "<table border=\"1\" class=\"dataframe\">\n",
       "  <thead>\n",
       "    <tr style=\"text-align: right;\">\n",
       "      <th></th>\n",
       "      <th>Id</th>\n",
       "      <th>ProductId</th>\n",
       "      <th>UserId</th>\n",
       "      <th>ProfileName</th>\n",
       "      <th>HelpfulnessNumerator</th>\n",
       "      <th>HelpfulnessDenominator</th>\n",
       "      <th>Score</th>\n",
       "      <th>Time</th>\n",
       "      <th>Summary</th>\n",
       "      <th>Text</th>\n",
       "      <th>Preprocessed_Reviews</th>\n",
       "    </tr>\n",
       "  </thead>\n",
       "  <tbody>\n",
       "    <tr>\n",
       "      <th>138706</th>\n",
       "      <td>150524</td>\n",
       "      <td>0006641040</td>\n",
       "      <td>ACITT7DI6IDDL</td>\n",
       "      <td>shari zychinski</td>\n",
       "      <td>0</td>\n",
       "      <td>0</td>\n",
       "      <td>1</td>\n",
       "      <td>939340800</td>\n",
       "      <td>EVERY book is educational</td>\n",
       "      <td>this witty little book makes my son laugh at l...</td>\n",
       "      <td>witty little book makes son laugh loud recite ...</td>\n",
       "    </tr>\n",
       "    <tr>\n",
       "      <th>138683</th>\n",
       "      <td>150501</td>\n",
       "      <td>0006641040</td>\n",
       "      <td>AJ46FKXOVC7NR</td>\n",
       "      <td>Nicholas A Mesiano</td>\n",
       "      <td>2</td>\n",
       "      <td>2</td>\n",
       "      <td>1</td>\n",
       "      <td>940809600</td>\n",
       "      <td>This whole series is great way to spend time w...</td>\n",
       "      <td>I can remember seeing the show when it aired o...</td>\n",
       "      <td>remember seeing show aired television years ag...</td>\n",
       "    </tr>\n",
       "    <tr>\n",
       "      <th>70688</th>\n",
       "      <td>76882</td>\n",
       "      <td>B00002N8SM</td>\n",
       "      <td>A32DW342WBJ6BX</td>\n",
       "      <td>Buttersugar</td>\n",
       "      <td>0</td>\n",
       "      <td>0</td>\n",
       "      <td>1</td>\n",
       "      <td>948672000</td>\n",
       "      <td>A sure death for flies</td>\n",
       "      <td>I bought a few of these after my apartment was...</td>\n",
       "      <td>bought apartment infested fruit flies hours tr...</td>\n",
       "    </tr>\n",
       "    <tr>\n",
       "      <th>1146</th>\n",
       "      <td>1245</td>\n",
       "      <td>B00002Z754</td>\n",
       "      <td>A29Z5PI9BW2PU3</td>\n",
       "      <td>Robbie</td>\n",
       "      <td>7</td>\n",
       "      <td>7</td>\n",
       "      <td>1</td>\n",
       "      <td>961718400</td>\n",
       "      <td>Great Product</td>\n",
       "      <td>This was a really good idea and the final prod...</td>\n",
       "      <td>really good idea final product outstanding use...</td>\n",
       "    </tr>\n",
       "    <tr>\n",
       "      <th>1145</th>\n",
       "      <td>1244</td>\n",
       "      <td>B00002Z754</td>\n",
       "      <td>A3B8RCEI0FXFI6</td>\n",
       "      <td>B G Chase</td>\n",
       "      <td>10</td>\n",
       "      <td>10</td>\n",
       "      <td>1</td>\n",
       "      <td>962236800</td>\n",
       "      <td>WOW Make your own 'slickers' !</td>\n",
       "      <td>I just received my shipment and could hardly w...</td>\n",
       "      <td>received shipment could hardly wait try produc...</td>\n",
       "    </tr>\n",
       "  </tbody>\n",
       "</table>\n",
       "</div>"
      ],
      "text/plain": [
       "            Id   ProductId          UserId         ProfileName  \\\n",
       "138706  150524  0006641040   ACITT7DI6IDDL     shari zychinski   \n",
       "138683  150501  0006641040   AJ46FKXOVC7NR  Nicholas A Mesiano   \n",
       "70688    76882  B00002N8SM  A32DW342WBJ6BX         Buttersugar   \n",
       "1146      1245  B00002Z754  A29Z5PI9BW2PU3              Robbie   \n",
       "1145      1244  B00002Z754  A3B8RCEI0FXFI6           B G Chase   \n",
       "\n",
       "        HelpfulnessNumerator  HelpfulnessDenominator  Score       Time  \\\n",
       "138706                     0                       0      1  939340800   \n",
       "138683                     2                       2      1  940809600   \n",
       "70688                      0                       0      1  948672000   \n",
       "1146                       7                       7      1  961718400   \n",
       "1145                      10                      10      1  962236800   \n",
       "\n",
       "                                                  Summary  \\\n",
       "138706                          EVERY book is educational   \n",
       "138683  This whole series is great way to spend time w...   \n",
       "70688                              A sure death for flies   \n",
       "1146                                        Great Product   \n",
       "1145                       WOW Make your own 'slickers' !   \n",
       "\n",
       "                                                     Text  \\\n",
       "138706  this witty little book makes my son laugh at l...   \n",
       "138683  I can remember seeing the show when it aired o...   \n",
       "70688   I bought a few of these after my apartment was...   \n",
       "1146    This was a really good idea and the final prod...   \n",
       "1145    I just received my shipment and could hardly w...   \n",
       "\n",
       "                                     Preprocessed_Reviews  \n",
       "138706  witty little book makes son laugh loud recite ...  \n",
       "138683  remember seeing show aired television years ag...  \n",
       "70688   bought apartment infested fruit flies hours tr...  \n",
       "1146    really good idea final product outstanding use...  \n",
       "1145    received shipment could hardly wait try produc...  "
      ]
     },
     "execution_count": 30,
     "metadata": {},
     "output_type": "execute_result"
    }
   ],
   "source": [
    "final_TBS.head()"
   ]
  },
  {
   "cell_type": "markdown",
   "metadata": {},
   "source": [
    "Now the values have been sorted on the basis of Time and by default the rows (reviews) are sorted in ascending order\n",
    "of time."
   ]
  },
  {
   "cell_type": "markdown",
   "metadata": {},
   "source": [
    "# Obtaining Train, CV and Test Data (W/O FE been carried out) :-"
   ]
  },
  {
   "cell_type": "markdown",
   "metadata": {},
   "source": [
    "First I will remove all the useless columns from this dataframe of mine. The only columns that we are concerned about \n",
    "here are the 'Score' and the 'Preprocessed_reviews'. The remaining columns in the dataframe are of no use to us."
   ]
  },
  {
   "cell_type": "code",
   "execution_count": 31,
   "metadata": {},
   "outputs": [],
   "source": [
    "df = final_TBS[['Score','Preprocessed_Reviews']]"
   ]
  },
  {
   "cell_type": "code",
   "execution_count": 32,
   "metadata": {},
   "outputs": [
    {
     "data": {
      "text/html": [
       "<div>\n",
       "<style scoped>\n",
       "    .dataframe tbody tr th:only-of-type {\n",
       "        vertical-align: middle;\n",
       "    }\n",
       "\n",
       "    .dataframe tbody tr th {\n",
       "        vertical-align: top;\n",
       "    }\n",
       "\n",
       "    .dataframe thead th {\n",
       "        text-align: right;\n",
       "    }\n",
       "</style>\n",
       "<table border=\"1\" class=\"dataframe\">\n",
       "  <thead>\n",
       "    <tr style=\"text-align: right;\">\n",
       "      <th></th>\n",
       "      <th>Score</th>\n",
       "      <th>Preprocessed_Reviews</th>\n",
       "    </tr>\n",
       "  </thead>\n",
       "  <tbody>\n",
       "    <tr>\n",
       "      <th>138706</th>\n",
       "      <td>1</td>\n",
       "      <td>witty little book makes son laugh loud recite ...</td>\n",
       "    </tr>\n",
       "    <tr>\n",
       "      <th>138683</th>\n",
       "      <td>1</td>\n",
       "      <td>remember seeing show aired television years ag...</td>\n",
       "    </tr>\n",
       "    <tr>\n",
       "      <th>70688</th>\n",
       "      <td>1</td>\n",
       "      <td>bought apartment infested fruit flies hours tr...</td>\n",
       "    </tr>\n",
       "    <tr>\n",
       "      <th>1146</th>\n",
       "      <td>1</td>\n",
       "      <td>really good idea final product outstanding use...</td>\n",
       "    </tr>\n",
       "    <tr>\n",
       "      <th>1145</th>\n",
       "      <td>1</td>\n",
       "      <td>received shipment could hardly wait try produc...</td>\n",
       "    </tr>\n",
       "  </tbody>\n",
       "</table>\n",
       "</div>"
      ],
      "text/plain": [
       "        Score                               Preprocessed_Reviews\n",
       "138706      1  witty little book makes son laugh loud recite ...\n",
       "138683      1  remember seeing show aired television years ag...\n",
       "70688       1  bought apartment infested fruit flies hours tr...\n",
       "1146        1  really good idea final product outstanding use...\n",
       "1145        1  received shipment could hardly wait try produc..."
      ]
     },
     "execution_count": 32,
     "metadata": {},
     "output_type": "execute_result"
    }
   ],
   "source": [
    "df.head()"
   ]
  },
  {
   "cell_type": "code",
   "execution_count": 33,
   "metadata": {},
   "outputs": [],
   "source": [
    "cleandf = df[:100000]"
   ]
  },
  {
   "cell_type": "markdown",
   "metadata": {},
   "source": [
    "Basically we are taking a total of 100K reviews for the model. Since I am carrying out Time Based Splitting into \n",
    "Train, CV and Test datasets, I will split them in 70:10:20 ratio respectively. \n",
    "        \n",
    "        So, # of Datapoints in Train data = 70,000 \n",
    "            # of Datapoints in CV data = 10,000\n",
    "            # of Datapoints in Test data = 20,000"
   ]
  },
  {
   "cell_type": "code",
   "execution_count": 34,
   "metadata": {},
   "outputs": [],
   "source": [
    "Tr_df = cleandf[:70000]\n",
    "CV_df = cleandf[70000:80000]\n",
    "Te_df = cleandf[80000:100000]"
   ]
  },
  {
   "cell_type": "markdown",
   "metadata": {},
   "source": [
    " Validating the Shapes of the Train, CV and Test Datasets to ensure that everything is\n",
    "working as expected: "
   ]
  },
  {
   "cell_type": "code",
   "execution_count": 35,
   "metadata": {},
   "outputs": [
    {
     "data": {
      "text/plain": [
       "(70000, 2)"
      ]
     },
     "execution_count": 35,
     "metadata": {},
     "output_type": "execute_result"
    }
   ],
   "source": [
    "Tr_df.shape"
   ]
  },
  {
   "cell_type": "code",
   "execution_count": 36,
   "metadata": {},
   "outputs": [
    {
     "data": {
      "text/plain": [
       "(10000, 2)"
      ]
     },
     "execution_count": 36,
     "metadata": {},
     "output_type": "execute_result"
    }
   ],
   "source": [
    "CV_df.shape"
   ]
  },
  {
   "cell_type": "code",
   "execution_count": 37,
   "metadata": {},
   "outputs": [
    {
     "data": {
      "text/plain": [
       "(20000, 2)"
      ]
     },
     "execution_count": 37,
     "metadata": {},
     "output_type": "execute_result"
    }
   ],
   "source": [
    "Te_df.shape"
   ]
  },
  {
   "cell_type": "markdown",
   "metadata": {},
   "source": [
    "So yes, everything is fair as expected : 70K datapoints in Training data, 10K datapoints in CV data and 20K datapoints in Test data. Now we are good to proceed further. \n",
    "\n",
    "Now we can split the datasets into their X and Y parts."
   ]
  },
  {
   "cell_type": "code",
   "execution_count": 38,
   "metadata": {},
   "outputs": [],
   "source": [
    "X_Train1 = Tr_df['Preprocessed_Reviews']\n",
    "Y_Train1 = Tr_df['Score']\n",
    "\n",
    "X_CV1 = CV_df['Preprocessed_Reviews']\n",
    "Y_CV1 = CV_df['Score']\n",
    "\n",
    "X_Test1 = Te_df['Preprocessed_Reviews']\n",
    "Y_Test1 = Te_df['Score']"
   ]
  },
  {
   "cell_type": "code",
   "execution_count": 39,
   "metadata": {},
   "outputs": [
    {
     "data": {
      "text/plain": [
       "1    60269\n",
       "0     9731\n",
       "Name: Score, dtype: int64"
      ]
     },
     "execution_count": 39,
     "metadata": {},
     "output_type": "execute_result"
    }
   ],
   "source": [
    "Y_Train1.value_counts()"
   ]
  },
  {
   "cell_type": "code",
   "execution_count": 40,
   "metadata": {},
   "outputs": [
    {
     "data": {
      "text/plain": [
       "1    8266\n",
       "0    1734\n",
       "Name: Score, dtype: int64"
      ]
     },
     "execution_count": 40,
     "metadata": {},
     "output_type": "execute_result"
    }
   ],
   "source": [
    "Y_CV1.value_counts()"
   ]
  },
  {
   "cell_type": "code",
   "execution_count": 41,
   "metadata": {},
   "outputs": [
    {
     "data": {
      "text/plain": [
       "1    16635\n",
       "0     3365\n",
       "Name: Score, dtype: int64"
      ]
     },
     "execution_count": 41,
     "metadata": {},
     "output_type": "execute_result"
    }
   ],
   "source": [
    "Y_Test1.value_counts()"
   ]
  },
  {
   "cell_type": "markdown",
   "metadata": {},
   "source": [
    "Therefore, as expected this is an imbalanced real world dataset."
   ]
  },
  {
   "cell_type": "markdown",
   "metadata": {},
   "source": [
    "# Applying Multinomial Naive Bayes :-"
   ]
  },
  {
   "cell_type": "markdown",
   "metadata": {},
   "source": [
    "# [5.1] Applying Naive Bayes on BOW (W/O FE) :-"
   ]
  },
  {
   "cell_type": "markdown",
   "metadata": {},
   "source": [
    "# SET 1: Review text, preprocessed one converted into vectors using (BOW)"
   ]
  },
  {
   "cell_type": "code",
   "execution_count": 42,
   "metadata": {},
   "outputs": [
    {
     "data": {
      "text/plain": [
       "CountVectorizer(analyzer='word', binary=False, decode_error='strict',\n",
       "        dtype=<class 'numpy.int64'>, encoding='utf-8', input='content',\n",
       "        lowercase=True, max_df=1.0, max_features=None, min_df=1,\n",
       "        ngram_range=(1, 1), preprocessor=None, stop_words=None,\n",
       "        strip_accents=None, token_pattern='(?u)\\\\b\\\\w\\\\w+\\\\b',\n",
       "        tokenizer=None, vocabulary=None)"
      ]
     },
     "execution_count": 42,
     "metadata": {},
     "output_type": "execute_result"
    }
   ],
   "source": [
    "count_vect = CountVectorizer()\n",
    "count_vect.fit(X_Train1) # fit function is being applied only on the Train Data. \n",
    "\n",
    "#fit internally stores the parameters that will be used for transforming the data from the text to a numerical\n",
    "#vector."
   ]
  },
  {
   "cell_type": "code",
   "execution_count": 43,
   "metadata": {},
   "outputs": [],
   "source": [
    "X_Train_BOW = count_vect.transform(X_Train1)\n",
    "X_CV_BOW = count_vect.transform(X_CV1)\n",
    "X_Test_BOW = count_vect.transform(X_Test1)"
   ]
  },
  {
   "cell_type": "code",
   "execution_count": 44,
   "metadata": {},
   "outputs": [
    {
     "name": "stdout",
     "output_type": "stream",
     "text": [
      "Shapes before the BOW Vectorization was carried out:\n",
      "(70000,) (70000,)\n",
      "(10000,) (10000,)\n",
      "(20000,) (20000,)\n",
      "****************************************************************************************************\n",
      "Shapes after the BOW Vectorization was carried out:\n",
      "(70000, 49871) (70000,)\n",
      "(10000, 49871) (10000,)\n",
      "(20000, 49871) (20000,)\n"
     ]
    }
   ],
   "source": [
    "print(\"Shapes before the BOW Vectorization was carried out:\")\n",
    "\n",
    "print(X_Train1.shape, Y_Train1.shape)\n",
    "print(X_CV1.shape, Y_CV1.shape)\n",
    "print(X_Test1.shape, Y_Test1.shape)\n",
    "\n",
    "print(\"*\"*100)\n",
    "\n",
    "print(\"Shapes after the BOW Vectorization was carried out:\")\n",
    "\n",
    "print(X_Train_BOW.shape,Y_Train1.shape)\n",
    "print(X_CV_BOW.shape,Y_CV1.shape)\n",
    "print(X_Test_BOW.shape,Y_Test1.shape)"
   ]
  },
  {
   "cell_type": "markdown",
   "metadata": {},
   "source": [
    "# Hyperparameter Tuning on the BOW Representation (W/O FE) :- "
   ]
  },
  {
   "cell_type": "markdown",
   "metadata": {},
   "source": [
    "Here, I will take the values of alpha in the range from 10^-4 to 10^4 and apply the same on the CV dataset with AUC\n",
    "as the metric to obtain the best value of alpha. "
   ]
  },
  {
   "cell_type": "code",
   "execution_count": 45,
   "metadata": {},
   "outputs": [],
   "source": [
    "alpha_hyperparam=[]\n",
    "#initializing an empty list\n",
    "\n",
    "for a in range(-4,5):\n",
    "    alpha_hyperparam.append(10**a)\n",
    "\n",
    "#For the range() function if we need to consider the values from -4 to +4 in the exponent, the stop needs to be +5. "
   ]
  },
  {
   "cell_type": "code",
   "execution_count": 46,
   "metadata": {},
   "outputs": [
    {
     "name": "stdout",
     "output_type": "stream",
     "text": [
      "[0.0001, 0.001, 0.01, 0.1, 1, 10, 100, 1000, 10000]\n"
     ]
    }
   ],
   "source": [
    "print(alpha_hyperparam)"
   ]
  },
  {
   "cell_type": "code",
   "execution_count": 47,
   "metadata": {},
   "outputs": [],
   "source": [
    "#Importing the Required Packages \n",
    "\n",
    "from sklearn.naive_bayes import MultinomialNB\n",
    "from sklearn.metrics import roc_auc_score\n",
    "from sklearn.metrics import roc_curve\n",
    "import matplotlib.pyplot as plt\n",
    "\n",
    "from tqdm import tqdm\n",
    "#tqdm is used to print the status bar"
   ]
  },
  {
   "cell_type": "code",
   "execution_count": 48,
   "metadata": {},
   "outputs": [
    {
     "name": "stderr",
     "output_type": "stream",
     "text": [
      "100%|██████████| 9/9 [00:01<00:00,  7.86it/s]\n"
     ]
    }
   ],
   "source": [
    "Train_BOW_AUC =[]\n",
    "CV_BOW_AUC=[]\n",
    "\n",
    "for a in tqdm(alpha_hyperparam):\n",
    "    naive = MultinomialNB(alpha=a)\n",
    "    naive.fit(X_Train_BOW,Y_Train1)\n",
    "    \n",
    "    Y_Train_pred1 = naive.predict_proba(X_Train_BOW)[:,1]\n",
    "    Y_CV_pred1 = naive.predict_proba(X_CV_BOW)[:,1]\n",
    "    \n",
    "    Train_BOW_AUC.append(roc_auc_score(Y_Train1,Y_Train_pred1))\n",
    "    CV_BOW_AUC.append(roc_auc_score(Y_CV1,Y_CV_pred1))   "
   ]
  },
  {
   "cell_type": "code",
   "execution_count": 49,
   "metadata": {},
   "outputs": [
    {
     "data": {
      "image/png": "[encoded data removed]",
      "text/plain": [
       "<Figure size 432x288 with 1 Axes>"
      ]
     },
     "metadata": {
      "needs_background": "light"
     },
     "output_type": "display_data"
    }
   ],
   "source": [
    "import matplotlib.pyplot as plt\n",
    "\n",
    "plt.plot(alpha_hyperparam,Train_BOW_AUC, label = \"NB & BOW on Train Data AUC\")\n",
    "plt.plot(alpha_hyperparam,CV_BOW_AUC, label = \"NB & BOW on CV Data AUC\")\n",
    "plt.xscale('log')\n",
    "\n",
    "plt.legend()\n",
    "plt.xlabel('Hyperparameter alpha')\n",
    "plt.ylabel('AUC Value')\n",
    "plt.title('Error Plot: BOW Implementation')\n",
    "\n",
    "plt.grid(False)\n",
    "plt.show()"
   ]
  },
  {
   "cell_type": "markdown",
   "metadata": {},
   "source": [
    "From the curves plotted above we choose the Best value of alpha on the basis of AUC as a metric such that :\n",
    "* The AUC value on the CV Dataset is the maximum. \n",
    "* The gap between the Train and CV AUC Curves is low. \n",
    "\n",
    "Therefore based on these 2 conditions, with the help of the curves above, I can choose the best value of alpha to be \n",
    "equal to :"
   ]
  },
  {
   "cell_type": "code",
   "execution_count": 50,
   "metadata": {},
   "outputs": [],
   "source": [
    "#Best value of alpha = 10^0 ie 1\n",
    "best_alpha = 1\n",
    "\n",
    "#Since the AUC value in this scenario is approx. 0.90."
   ]
  },
  {
   "cell_type": "markdown",
   "metadata": {},
   "source": [
    "# Obtaining the Top 10 Important Features:- "
   ]
  },
  {
   "cell_type": "markdown",
   "metadata": {},
   "source": [
    "Now basically we can train our Naive Bayes Model on the best value of alpha that we obtained above in Cross\n",
    "Validation."
   ]
  },
  {
   "cell_type": "code",
   "execution_count": 51,
   "metadata": {},
   "outputs": [
    {
     "data": {
      "text/plain": [
       "MultinomialNB(alpha=1, class_prior=None, fit_prior=True)"
      ]
     },
     "execution_count": 51,
     "metadata": {},
     "output_type": "execute_result"
    }
   ],
   "source": [
    "naive1 = MultinomialNB(alpha=best_alpha)\n",
    "naive1.fit(X_Train_BOW,Y_Train1)"
   ]
  },
  {
   "cell_type": "code",
   "execution_count": 52,
   "metadata": {},
   "outputs": [],
   "source": [
    "Y_Train_pred1 = naive1.predict(X_Train_BOW)"
   ]
  },
  {
   "cell_type": "code",
   "execution_count": 53,
   "metadata": {},
   "outputs": [
    {
     "name": "stdout",
     "output_type": "stream",
     "text": [
      "[0 1]\n",
      "[[-11.94968681 -13.0482991  -13.0482991  ... -12.35515192 -13.0482991\n",
      "  -13.0482991 ]\n",
      " [-12.10292762 -13.05843907 -12.87611751 ... -14.66787698 -13.9747298\n",
      "  -13.9747298 ]]\n"
     ]
    }
   ],
   "source": [
    "print(naive1.classes_)\n",
    "log_probabilities1 = naive1.feature_log_prob_\n",
    "\n",
    "print(log_probabilities1)"
   ]
  },
  {
   "cell_type": "code",
   "execution_count": 54,
   "metadata": {},
   "outputs": [
    {
     "data": {
      "text/plain": [
       "49871"
      ]
     },
     "execution_count": 54,
     "metadata": {},
     "output_type": "execute_result"
    }
   ],
   "source": [
    "len(log_probabilities1[1])"
   ]
  },
  {
   "cell_type": "markdown",
   "metadata": {},
   "source": [
    "First I have used the Naive Bayes attribute called \"classes_\" which basically returns the names of distinct classes\n",
    "in the dataset. Here in this scenario this is a Binary classification problem and hence we have 2 classes returned:\n",
    "                                \n",
    "                                class 0 :- Negative class, \n",
    "                            and,class 1 :- Positive class.\n",
    "                            \n",
    "The order in which the 2 classes are returned is also important. This is because the nd array obtained by fetaure_log_prob_ (present in the log_probabilities variable) also returns the log probabilities for each word\n",
    "in this order ie. :-\n",
    "               \n",
    "               Row 1 in the matrix :- Log Probabilities of the corresponding word belonging to class \"0\" {Negative}\n",
    "               Row 2 in the matrix :- Log Probabilities of the corresponding word belonging to class \"1\" {Positive}\n",
    "               \n",
    "Also, since the model is fit on Train data, the length of each element in the array = No. of unique words in X_Train_BOW ie 49,871 in our case.             "
   ]
  },
  {
   "cell_type": "markdown",
   "metadata": {},
   "source": [
    "# [5.1.1] Top 10 Important features of Positive Class from BOW (Set 1) :"
   ]
  },
  {
   "cell_type": "code",
   "execution_count": 55,
   "metadata": {},
   "outputs": [
    {
     "name": "stdout",
     "output_type": "stream",
     "text": [
      "[-12.10292762 -13.05843907 -12.87611751 ... -14.66787698 -13.9747298\n",
      " -13.9747298 ]\n"
     ]
    }
   ],
   "source": [
    "positive_log_probabilities1 = log_probabilities1[1]\n",
    "\n",
    "print(positive_log_probabilities1)"
   ]
  },
  {
   "cell_type": "code",
   "execution_count": 56,
   "metadata": {},
   "outputs": [
    {
     "data": {
      "text/plain": [
       "list"
      ]
     },
     "execution_count": 56,
     "metadata": {},
     "output_type": "execute_result"
    }
   ],
   "source": [
    "feature_names1 = count_vect.get_feature_names()\n",
    "type(feature_names1)"
   ]
  },
  {
   "cell_type": "markdown",
   "metadata": {},
   "source": [
    "We have stored the feature names ie. basically each of the words in X_Train_BOW inside a variable called feature_names1 which is a list."
   ]
  },
  {
   "cell_type": "code",
   "execution_count": 57,
   "metadata": {},
   "outputs": [],
   "source": [
    "sorted_positiveprob1 = list(np.argsort(positive_log_probabilities1)) "
   ]
  },
  {
   "cell_type": "markdown",
   "metadata": {},
   "source": [
    "Now what I am doing is as follows:\n",
    "    * What argsort() does is it first sorts all the elements in the list and then returns the presorted indices\n",
    "      of the elements. These presorted indices are important because the feature names will correspond to the\n",
    "      presorted indices only. \n",
    "    * However, argsort() is used because at the same time we also want the features corresponding to the largest \n",
    "      10 log probabilities. These largest 10 log probabilities can be obtained by considering the last 10 elements\n",
    "      of the list (or by the first 10 elements after reversing the list)."
   ]
  },
  {
   "cell_type": "code",
   "execution_count": 58,
   "metadata": {},
   "outputs": [],
   "source": [
    "#I am reversing the list over here because I want the largest log of probability value to be printed first followed by\n",
    "#the values in descending order\n",
    "\n",
    "sorted_positiveprob1.reverse()"
   ]
  },
  {
   "cell_type": "code",
   "execution_count": 59,
   "metadata": {},
   "outputs": [
    {
     "name": "stdout",
     "output_type": "stream",
     "text": [
      "The Top 10 Most Important Positive Features with BOW Representation are as follows:\n",
      "====================================================================================================\n",
      "not \t -3.756\n",
      "like \t -4.586\n",
      "good \t -4.707\n",
      "great \t -4.764\n",
      "one \t -4.899\n",
      "tea \t -4.981\n",
      "taste \t -4.986\n",
      "coffee \t -5.085\n",
      "flavor \t -5.099\n",
      "love \t -5.13\n"
     ]
    }
   ],
   "source": [
    "print(\"The Top 10 Most Important Positive Features with BOW Representation are as follows:\")\n",
    "print(\"=\"*100)\n",
    "\n",
    "for i in sorted_positiveprob1[0:10]:\n",
    "    print(feature_names1[i], \"\\t\", round(positive_log_probabilities1[i],3))"
   ]
  },
  {
   "cell_type": "markdown",
   "metadata": {},
   "source": [
    "# [5.1.2] Top 10 Important features of Negative Class from BOW (Set 1) :"
   ]
  },
  {
   "cell_type": "code",
   "execution_count": 60,
   "metadata": {},
   "outputs": [
    {
     "name": "stdout",
     "output_type": "stream",
     "text": [
      "[-11.94968681 -13.0482991  -13.0482991  ... -12.35515192 -13.0482991\n",
      " -13.0482991 ]\n"
     ]
    }
   ],
   "source": [
    "negative_log_probabilities1 = log_probabilities1[0]\n",
    "print(negative_log_probabilities1)"
   ]
  },
  {
   "cell_type": "code",
   "execution_count": 61,
   "metadata": {},
   "outputs": [],
   "source": [
    "sorted_negativeprob1 = list(np.argsort(negative_log_probabilities1))"
   ]
  },
  {
   "cell_type": "code",
   "execution_count": 62,
   "metadata": {},
   "outputs": [],
   "source": [
    "#I am reversing the list over here because I want the largest log of probability value to be printed first followed by\n",
    "#the values in descending order\n",
    "\n",
    "sorted_negativeprob1.reverse()"
   ]
  },
  {
   "cell_type": "code",
   "execution_count": 63,
   "metadata": {},
   "outputs": [
    {
     "name": "stdout",
     "output_type": "stream",
     "text": [
      "The Top 10 Most Important Negative Features with BOW Representation are as follows: \n",
      "====================================================================================================\n",
      "not \t -3.405\n",
      "like \t -4.525\n",
      "taste \t -4.776\n",
      "would \t -4.776\n",
      "product \t -4.832\n",
      "one \t -4.97\n",
      "good \t -5.186\n",
      "coffee \t -5.242\n",
      "flavor \t -5.265\n",
      "no \t -5.299\n"
     ]
    }
   ],
   "source": [
    "print(\"The Top 10 Most Important Negative Features with BOW Representation are as follows: \")\n",
    "print(\"=\"*100)\n",
    "\n",
    "for i in sorted_negativeprob1[0:10]:\n",
    "    print(feature_names1[i],\"\\t\", round(negative_log_probabilities1[i],3))"
   ]
  },
  {
   "cell_type": "markdown",
   "metadata": {},
   "source": [
    "# Testing with the Test Data for BOW Representation (W/O FE) :-"
   ]
  },
  {
   "cell_type": "markdown",
   "metadata": {},
   "source": [
    "I will use the Training data and the best value of alpha that we obtained from CV that will be used to train the\n",
    "model before we test the same on the test data."
   ]
  },
  {
   "cell_type": "code",
   "execution_count": 64,
   "metadata": {},
   "outputs": [
    {
     "data": {
      "text/plain": [
       "MultinomialNB(alpha=1, class_prior=None, fit_prior=True)"
      ]
     },
     "execution_count": 64,
     "metadata": {},
     "output_type": "execute_result"
    }
   ],
   "source": [
    "naive1 = MultinomialNB(alpha=best_alpha)\n",
    "naive1.fit(X_Train_BOW,Y_Train1)"
   ]
  },
  {
   "cell_type": "code",
   "execution_count": 65,
   "metadata": {},
   "outputs": [
    {
     "data": {
      "text/plain": [
       "(70000, 49871)"
      ]
     },
     "execution_count": 65,
     "metadata": {},
     "output_type": "execute_result"
    }
   ],
   "source": [
    "X_Train_BOW.shape"
   ]
  },
  {
   "cell_type": "code",
   "execution_count": 66,
   "metadata": {},
   "outputs": [
    {
     "data": {
      "text/plain": [
       "(70000,)"
      ]
     },
     "execution_count": 66,
     "metadata": {},
     "output_type": "execute_result"
    }
   ],
   "source": [
    "Y_Train1.shape"
   ]
  },
  {
   "cell_type": "code",
   "execution_count": 67,
   "metadata": {},
   "outputs": [
    {
     "data": {
      "text/plain": [
       "(20000, 49871)"
      ]
     },
     "execution_count": 67,
     "metadata": {},
     "output_type": "execute_result"
    }
   ],
   "source": [
    "X_Test_BOW.shape"
   ]
  },
  {
   "cell_type": "code",
   "execution_count": 68,
   "metadata": {},
   "outputs": [
    {
     "data": {
      "text/plain": [
       "(20000,)"
      ]
     },
     "execution_count": 68,
     "metadata": {},
     "output_type": "execute_result"
    }
   ],
   "source": [
    "Y_Test1.shape"
   ]
  },
  {
   "cell_type": "code",
   "execution_count": 69,
   "metadata": {},
   "outputs": [],
   "source": [
    "from sklearn.metrics import roc_curve,auc\n",
    "\n",
    "train_fpr2,train_tpr2,thresholds = roc_curve(Y_Train1,naive1.predict_proba(X_Train_BOW)[:,1])\n",
    "test_fpr2, test_tpr2, thresholds = roc_curve(Y_Test1,naive1.predict_proba(X_Test_BOW)[:,1])"
   ]
  },
  {
   "cell_type": "code",
   "execution_count": 70,
   "metadata": {},
   "outputs": [
    {
     "data": {
      "image/png": "[encoded data removed]",
      "text/plain": [
       "<Figure size 432x288 with 1 Axes>"
      ]
     },
     "metadata": {
      "needs_background": "light"
     },
     "output_type": "display_data"
    }
   ],
   "source": [
    "import matplotlib.pyplot as plt\n",
    "\n",
    "plt.plot(train_fpr2,train_tpr2, label = \"Training Data AUC:\" + str(auc(train_fpr2,train_tpr2)))\n",
    "plt.plot(test_fpr2,test_tpr2, label = \"Test Data AUC:\" + str(auc(test_fpr2,test_tpr2)))\n",
    "plt.legend()\n",
    "\n",
    "plt.xlabel('FPR Values')\n",
    "plt.ylabel('TPR Values')\n",
    "plt.title('ROC Curve: Naive Bayes on BOW')\n",
    "\n",
    "plt.grid(False)\n",
    "plt.show()"
   ]
  },
  {
   "cell_type": "markdown",
   "metadata": {},
   "source": [
    "<b> <font color=\"black\"> User Defined Function to obtain the best value of Threshold with Best Tradeoff between TPR and FPR :- </font> </b>"
   ]
  },
  {
   "cell_type": "code",
   "execution_count": 71,
   "metadata": {},
   "outputs": [],
   "source": [
    "def matrixpredict(data,thresholds,tpr,fpr):\n",
    "    matrixpredict.best_tradeoff = tpr*(1-fpr)\n",
    "    matrixpredict.ideal_threshold = thresholds[matrixpredict.best_tradeoff.argmax()]\n",
    "    \n",
    "    predictions = []\n",
    "    \n",
    "    for i in data:\n",
    "        if i>= matrixpredict.ideal_threshold:\n",
    "            predictions.append(1)\n",
    "        else:\n",
    "            predictions.append(0)\n",
    "    return predictions"
   ]
  },
  {
   "cell_type": "markdown",
   "metadata": {},
   "source": [
    "<b> <font color=\"black\"> User Defined Function to plot the Heatmap of The Confusion Matrix for the Training Data: </font> </b>"
   ]
  },
  {
   "cell_type": "code",
   "execution_count": 72,
   "metadata": {},
   "outputs": [],
   "source": [
    "import seaborn as sns\n",
    "\n",
    "def plottrainmatrix (train_matrix):\n",
    "    sns.set_style(\"whitegrid\")\n",
    "    \n",
    "    labels = [0,1]\n",
    "    \n",
    "    print(\"-\"*20, \"Training Confusion Matrix\", \"-\"*20)\n",
    "    print(\" \")\n",
    "    print(\"The Training Data Confusion Matrix is as follows:\")\n",
    "    print(\" \")\n",
    "    print(\"The maximum value of tpr*(1-fpr) :\", max(matrixpredict.best_tradeoff))\n",
    "    print(\"Threshold for Maximum Value of tpr*(1-fpr) :\",round(matrixpredict.ideal_threshold,3))\n",
    "   \n",
    "    plt.figure(figsize=(10,7))\n",
    "    \n",
    "    \n",
    "    sns.heatmap(train_matrix,\n",
    "                annot=True, cmap=\"YlGnBu\",fmt=\".0f\", xticklabels=labels, yticklabels=labels,\n",
    "                annot_kws={\"size\": 15})\n",
    "    plt.xlabel('Predicted Class')\n",
    "    plt.ylabel('Original Class')\n",
    "    plt.show()"
   ]
  },
  {
   "cell_type": "markdown",
   "metadata": {},
   "source": [
    "<b> <font color=\"black\"> User Defined Function to plot the HeatMap of The Confusion Matrix for the Test Data: </font> </b>"
   ]
  },
  {
   "cell_type": "code",
   "execution_count": 73,
   "metadata": {},
   "outputs": [],
   "source": [
    "import seaborn as sns\n",
    "\n",
    "def plottestmatrix (test_matrix):\n",
    "    labels = [0,1]\n",
    "    \n",
    "    print(\"-\"*20, \"Test Data Confusion Matrix\", \"-\"*20)\n",
    "    print(\" \")\n",
    "    print(\"The Test Data Confusion Matrix is as follows:\")\n",
    "    print(\" \")\n",
    "    print(\"The maximum value of tpr*(1-fpr) :\", max(matrixpredict.best_tradeoff))\n",
    "    print(\"Threshold for Maximum Value of tpr*(1-fpr) :\",round(matrixpredict.ideal_threshold,3))\n",
    "   \n",
    "    plt.figure(figsize=(10,7))\n",
    "   \n",
    "    sns.heatmap(test_matrix,annot=True, cmap=\"YlGnBu\",fmt=\".0f\", xticklabels=labels, \n",
    "                yticklabels=labels,annot_kws={\"size\": 15})\n",
    "    plt.xlabel('Predicted Class')\n",
    "    plt.ylabel('Original Class')\n",
    "    plt.show()     "
   ]
  },
  {
   "cell_type": "code",
   "execution_count": 74,
   "metadata": {},
   "outputs": [],
   "source": [
    "Y_Test_pred1 = naive1.predict_proba(X_Test_BOW)[:,1]"
   ]
  },
  {
   "cell_type": "markdown",
   "metadata": {},
   "source": [
    "The Train Data Confusion Matrix looks as follows:-"
   ]
  },
  {
   "cell_type": "code",
   "execution_count": 75,
   "metadata": {},
   "outputs": [
    {
     "name": "stdout",
     "output_type": "stream",
     "text": [
      "-------------------- Training Confusion Matrix --------------------\n",
      " \n",
      "The Training Data Confusion Matrix is as follows:\n",
      " \n",
      "The maximum value of tpr*(1-fpr) : 0.7807711147875495\n",
      "Threshold for Maximum Value of tpr*(1-fpr) : 0.001\n"
     ]
    },
    {
     "data": {
      "image/png": "[encoded data removed]",
      "text/plain": [
       "<Figure size 720x504 with 2 Axes>"
      ]
     },
     "metadata": {},
     "output_type": "display_data"
    }
   ],
   "source": [
    "BOW_Train = confusion_matrix(Y_Train1,matrixpredict(Y_Train_pred1,thresholds,train_tpr2,train_fpr2))\n",
    "plottrainmatrix(BOW_Train)"
   ]
  },
  {
   "cell_type": "markdown",
   "metadata": {},
   "source": [
    "Accuracy on the Training Data = (58396+6775)/70000 =>  93.10 %.\n",
    "\n",
    "Similarly the Test Data Confusion Matrix is as follows:-"
   ]
  },
  {
   "cell_type": "code",
   "execution_count": 76,
   "metadata": {},
   "outputs": [
    {
     "name": "stdout",
     "output_type": "stream",
     "text": [
      "-------------------- Test Data Confusion Matrix --------------------\n",
      " \n",
      "The Test Data Confusion Matrix is as follows:\n",
      " \n",
      "The maximum value of tpr*(1-fpr) : 0.7191701201078483\n",
      "Threshold for Maximum Value of tpr*(1-fpr) : 0.982\n"
     ]
    },
    {
     "data": {
      "image/png": "[encoded data removed]",
      "text/plain": [
       "<Figure size 720x504 with 2 Axes>"
      ]
     },
     "metadata": {},
     "output_type": "display_data"
    }
   ],
   "source": [
    "BOW_Test = confusion_matrix(Y_Test1,matrixpredict(Y_Test_pred1,thresholds,test_tpr2,test_fpr2))\n",
    "plottestmatrix(BOW_Test)"
   ]
  },
  {
   "cell_type": "markdown",
   "metadata": {},
   "source": [
    "Accuracy on the Test data = 84.44 %"
   ]
  },
  {
   "cell_type": "markdown",
   "metadata": {},
   "source": [
    "# [5.2] Applying Naive Bayes on TFIDF (W/O FE) :-"
   ]
  },
  {
   "cell_type": "markdown",
   "metadata": {},
   "source": [
    "# SET 2: Review text, preprocessed one converted into vectors using (TFIDF)"
   ]
  },
  {
   "cell_type": "code",
   "execution_count": 77,
   "metadata": {},
   "outputs": [
    {
     "data": {
      "text/plain": [
       "TfidfVectorizer(analyzer='word', binary=False, decode_error='strict',\n",
       "        dtype=<class 'numpy.float64'>, encoding='utf-8', input='content',\n",
       "        lowercase=True, max_df=1.0, max_features=None, min_df=10,\n",
       "        ngram_range=(1, 2), norm='l2', preprocessor=None, smooth_idf=True,\n",
       "        stop_words=None, strip_accents=None, sublinear_tf=False,\n",
       "        token_pattern='(?u)\\\\b\\\\w\\\\w+\\\\b', tokenizer=None, use_idf=True,\n",
       "        vocabulary=None)"
      ]
     },
     "execution_count": 77,
     "metadata": {},
     "output_type": "execute_result"
    }
   ],
   "source": [
    "tf_idf_vect = TfidfVectorizer(ngram_range=(1,2), min_df=10)\n",
    "tf_idf_vect.fit(X_Train1)"
   ]
  },
  {
   "cell_type": "code",
   "execution_count": 78,
   "metadata": {},
   "outputs": [],
   "source": [
    "X_Train_TFIDF = tf_idf_vect.transform(X_Train1)\n",
    "X_CV_TFIDF = tf_idf_vect.transform(X_CV1)\n",
    "X_Test_TFIDF = tf_idf_vect.transform(X_Test1)"
   ]
  },
  {
   "cell_type": "code",
   "execution_count": 79,
   "metadata": {},
   "outputs": [
    {
     "name": "stdout",
     "output_type": "stream",
     "text": [
      "Shapes of the vectors before TFIDF Representation was carried out:\n",
      "(70000,) (70000,)\n",
      "(10000,) (10000,)\n",
      "(20000,) (20000,)\n",
      "====================================================================================================\n",
      "Shapes of the vectors after TFIDF Representation was carried out:\n",
      "(70000, 40652) (70000,)\n",
      "(10000, 40652) (10000,)\n",
      "(20000, 40652) (20000,)\n"
     ]
    }
   ],
   "source": [
    "print(\"Shapes of the vectors before TFIDF Representation was carried out:\")\n",
    "\n",
    "print(X_Train1.shape,Y_Train1.shape)\n",
    "print(X_CV1.shape,Y_CV1.shape)\n",
    "print(X_Test1.shape,Y_Test1.shape)\n",
    "\n",
    "print(\"=\"*100)\n",
    "\n",
    "print(\"Shapes of the vectors after TFIDF Representation was carried out:\")\n",
    "\n",
    "print(X_Train_TFIDF.shape,Y_Train1.shape)\n",
    "print(X_CV_TFIDF.shape,Y_CV1.shape)\n",
    "print(X_Test_TFIDF.shape,Y_Test1.shape)"
   ]
  },
  {
   "cell_type": "markdown",
   "metadata": {},
   "source": [
    "# Hyperparameter Tuning on the TFIDF Representation:"
   ]
  },
  {
   "cell_type": "code",
   "execution_count": 80,
   "metadata": {},
   "outputs": [
    {
     "name": "stdout",
     "output_type": "stream",
     "text": [
      "[0.0001, 0.001, 0.01, 0.1, 1, 10, 100, 1000, 10000]\n"
     ]
    }
   ],
   "source": [
    "print(alpha_hyperparam)"
   ]
  },
  {
   "cell_type": "code",
   "execution_count": 81,
   "metadata": {},
   "outputs": [],
   "source": [
    "Train_TFIDF_AUC=[]\n",
    "CV_TFIDF_AUC=[]\n",
    "\n",
    "for a in alpha_hyperparam:\n",
    "    naive = MultinomialNB(alpha=a)\n",
    "    naive.fit(X_Train_TFIDF,Y_Train1)\n",
    "    \n",
    "    Y_Train_pred2 = naive.predict_proba(X_Train_TFIDF)[:,1]\n",
    "    Y_CV_pred2 = naive.predict_proba(X_CV_TFIDF)[:,1]\n",
    "    \n",
    "    Train_TFIDF_AUC.append(roc_auc_score(Y_Train1,Y_Train_pred2))\n",
    "    CV_TFIDF_AUC.append(roc_auc_score(Y_CV1,Y_CV_pred2))    "
   ]
  },
  {
   "cell_type": "code",
   "execution_count": 82,
   "metadata": {},
   "outputs": [
    {
     "data": {
      "image/png": "[encoded data removed]",
      "text/plain": [
       "<Figure size 432x288 with 1 Axes>"
      ]
     },
     "metadata": {},
     "output_type": "display_data"
    }
   ],
   "source": [
    "import matplotlib.pyplot as plt\n",
    "\n",
    "plt.plot(alpha_hyperparam,Train_TFIDF_AUC, label = \"Train TFIDF\")\n",
    "plt.plot(alpha_hyperparam,CV_TFIDF_AUC,label=\"CV TFIDF\")\n",
    "plt.xscale('log')\n",
    "plt.legend()\n",
    "\n",
    "plt.xlabel('Hyperparameter alpha')\n",
    "plt.ylabel('AUC Value')\n",
    "plt.title('Error Plot : TFIDF Representation')\n",
    "\n",
    "plt.grid(False)\n",
    "plt.show()"
   ]
  },
  {
   "cell_type": "markdown",
   "metadata": {},
   "source": [
    "Again, based on the criteria in choosing the best value of alpha, we need to look for 2 things:\n",
    "    1. Largest value of AUC score for the CV Plot for a particular value of alpha. \n",
    "    2. Smallest gap in the 2 plots of TFIDF and AUC for the chosen value of alpha. \n",
    "    \n",
    "Based on these 2 conditions, the Best Value of alpha in this scenario would be as follows:"
   ]
  },
  {
   "cell_type": "code",
   "execution_count": 83,
   "metadata": {},
   "outputs": [],
   "source": [
    "best_alpha = 1\n",
    "#10^0 is the best value of alpha."
   ]
  },
  {
   "cell_type": "markdown",
   "metadata": {},
   "source": [
    "# Obtaining the Top 10 Important Features with TFIDF Implementation:- "
   ]
  },
  {
   "cell_type": "markdown",
   "metadata": {},
   "source": [
    "Now we can work on the Training dataset basis the best value of alpha obtained after Cross Validation."
   ]
  },
  {
   "cell_type": "code",
   "execution_count": 84,
   "metadata": {},
   "outputs": [
    {
     "data": {
      "text/plain": [
       "MultinomialNB(alpha=1, class_prior=None, fit_prior=True)"
      ]
     },
     "execution_count": 84,
     "metadata": {},
     "output_type": "execute_result"
    }
   ],
   "source": [
    "naive2 = MultinomialNB(alpha=best_alpha)\n",
    "naive2.fit(X_Train_TFIDF,Y_Train1)"
   ]
  },
  {
   "cell_type": "code",
   "execution_count": 85,
   "metadata": {},
   "outputs": [],
   "source": [
    "Y_Train_pred2 = naive2.predict(X_Train_TFIDF)"
   ]
  },
  {
   "cell_type": "code",
   "execution_count": 86,
   "metadata": {},
   "outputs": [
    {
     "name": "stdout",
     "output_type": "stream",
     "text": [
      "[0 1]\n",
      "[[-11.04935408 -11.1061419  -11.49257509 ... -10.8931964  -11.39692889\n",
      "  -11.11683862]\n",
      " [-11.69459725 -11.8854597  -11.81442195 ... -10.45415607 -11.80994774\n",
      "  -10.99385424]]\n"
     ]
    }
   ],
   "source": [
    "print(naive2.classes_)\n",
    "\n",
    "log_probabilities2 = naive2.feature_log_prob_\n",
    "print(log_probabilities2)"
   ]
  },
  {
   "cell_type": "code",
   "execution_count": 87,
   "metadata": {},
   "outputs": [
    {
     "data": {
      "text/plain": [
       "40652"
      ]
     },
     "execution_count": 87,
     "metadata": {},
     "output_type": "execute_result"
    }
   ],
   "source": [
    "len(log_probabilities2[0])\n",
    "len(log_probabilities2[1])"
   ]
  },
  {
   "cell_type": "markdown",
   "metadata": {},
   "source": [
    "First I have used the Naive Bayes attribute called \"classes_\" which basically returns the names of distinct classes\n",
    "in the dataset. Here in this scenario this is a Binary classification problem and hence we have 2 classes returned:\n",
    "                                \n",
    "                                class 0 :- Negative class, \n",
    "                            and,class 1 :- Positive class.\n",
    "                            \n",
    "The order in which the 2 classes are returned is also important. This is because the nd array obtained by fetaure_log_prob_ (present in the log_probabilities variable) also returns the log probabilities for each word\n",
    "in this order ie. :-\n",
    "               \n",
    "               Row 1 in the matrix :- Log Probabilities of the corresponding word belonging to class \"0\" {Negative}\n",
    "               Row 2 in the matrix :- Log Probabilities of the corresponding word belonging to class \"1\" {Positive}\n",
    "               \n",
    "Also, since the model is fit on Train data, the length of each element in the array = No. of unique words in X_Train_TFIDF ie 40,652 in our case. "
   ]
  },
  {
   "cell_type": "markdown",
   "metadata": {},
   "source": [
    "# Top 10 Important Features of the Positive Class for TFIDF (Set 2) :"
   ]
  },
  {
   "cell_type": "code",
   "execution_count": 88,
   "metadata": {},
   "outputs": [
    {
     "name": "stdout",
     "output_type": "stream",
     "text": [
      "[-11.69459725 -11.8854597  -11.81442195 ... -10.45415607 -11.80994774\n",
      " -10.99385424]\n"
     ]
    }
   ],
   "source": [
    "positive_log_probabilities2 = log_probabilities2[1]\n",
    "\n",
    "print(positive_log_probabilities2)"
   ]
  },
  {
   "cell_type": "code",
   "execution_count": 89,
   "metadata": {},
   "outputs": [
    {
     "data": {
      "text/plain": [
       "list"
      ]
     },
     "execution_count": 89,
     "metadata": {},
     "output_type": "execute_result"
    }
   ],
   "source": [
    "feature_names2 = count_vect.get_feature_names()\n",
    "type(feature_names2)"
   ]
  },
  {
   "cell_type": "code",
   "execution_count": 90,
   "metadata": {},
   "outputs": [],
   "source": [
    "sorted_positiveprob2 = list(np.argsort(positive_log_probabilities2)) "
   ]
  },
  {
   "cell_type": "code",
   "execution_count": 91,
   "metadata": {},
   "outputs": [],
   "source": [
    "#I am reversing the list over here because I want the largest log of probability value to be printed first followed by\n",
    "#the values in descending order\n",
    "\n",
    "sorted_positiveprob2.reverse()"
   ]
  },
  {
   "cell_type": "code",
   "execution_count": 92,
   "metadata": {},
   "outputs": [
    {
     "name": "stdout",
     "output_type": "stream",
     "text": [
      "The Top 10 Most Important Positive Features with TFIDF Representation are as follows:\n",
      "====================================================================================================\n",
      "kelly \t -5.419\n",
      "faithfulness \t -5.777\n",
      "event \t -5.843\n",
      "grooms \t -5.898\n",
      "reactive \t -5.9\n",
      "capilary \t -5.988\n",
      "highlands \t -6.03\n",
      "likelihood \t -6.123\n",
      "quanities \t -6.132\n",
      "monitored \t -6.134\n"
     ]
    }
   ],
   "source": [
    "print(\"The Top 10 Most Important Positive Features with TFIDF Representation are as follows:\")\n",
    "print(\"=\"*100)\n",
    "\n",
    "for i in sorted_positiveprob2[0:10]:\n",
    "    print(feature_names2[i], \"\\t\", round(positive_log_probabilities2[i],3))"
   ]
  },
  {
   "cell_type": "markdown",
   "metadata": {},
   "source": [
    "# Top 10 Important Features of the Negative Class for TFIDF (Set 2) :"
   ]
  },
  {
   "cell_type": "code",
   "execution_count": 93,
   "metadata": {},
   "outputs": [
    {
     "name": "stdout",
     "output_type": "stream",
     "text": [
      "[-11.04935408 -11.1061419  -11.49257509 ... -10.8931964  -11.39692889\n",
      " -11.11683862]\n"
     ]
    }
   ],
   "source": [
    "negative_log_probabilities2  = log_probabilities2[0]\n",
    "\n",
    "print(negative_log_probabilities2)"
   ]
  },
  {
   "cell_type": "code",
   "execution_count": 94,
   "metadata": {},
   "outputs": [],
   "source": [
    "sorted_negativeprob2 = list(np.argsort(negative_log_probabilities2))"
   ]
  },
  {
   "cell_type": "code",
   "execution_count": 95,
   "metadata": {},
   "outputs": [],
   "source": [
    "#I am reversing the list over here because I want the largest log of probability value to be printed first followed by\n",
    "#the values in descending order\n",
    "\n",
    "sorted_negativeprob2.reverse()"
   ]
  },
  {
   "cell_type": "code",
   "execution_count": 233,
   "metadata": {},
   "outputs": [
    {
     "name": "stdout",
     "output_type": "stream",
     "text": [
      "The Top 10 Most Important Negative Features with TFIDF Representation are as follows:\n",
      "====================================================================================================\n",
      "kelly \t -5.27\n",
      "grooms \t -6.078\n",
      "quanities \t -6.174\n",
      "monitored \t -6.195\n",
      "smacking \t -6.198\n",
      "capilary \t -6.435\n",
      "likelihood \t -6.473\n",
      "discredit \t -6.618\n",
      "jujubee \t -6.64\n",
      "event \t -6.68\n"
     ]
    }
   ],
   "source": [
    "print(\"The Top 10 Most Important Negative Features with TFIDF Representation are as follows:\")\n",
    "print(\"=\"*100)\n",
    "\n",
    "for i in sorted_negativeprob2[0:10]:\n",
    "    print(feature_names2[i], \"\\t\", round(negative_log_probabilities2[i],3))"
   ]
  },
  {
   "cell_type": "markdown",
   "metadata": {},
   "source": [
    "# Testing with the Test Data for TFIDF Representation (W/O FE) :-"
   ]
  },
  {
   "cell_type": "markdown",
   "metadata": {},
   "source": [
    "I will use the Training data and the best value of alpha that we obtained from CV that will be used to train the\n",
    "model before we test the same on the test data."
   ]
  },
  {
   "cell_type": "code",
   "execution_count": 97,
   "metadata": {},
   "outputs": [
    {
     "data": {
      "text/plain": [
       "MultinomialNB(alpha=1, class_prior=None, fit_prior=True)"
      ]
     },
     "execution_count": 97,
     "metadata": {},
     "output_type": "execute_result"
    }
   ],
   "source": [
    "naive2 = MultinomialNB(alpha=best_alpha)\n",
    "naive2.fit(X_Train_TFIDF,Y_Train1)"
   ]
  },
  {
   "cell_type": "code",
   "execution_count": 98,
   "metadata": {},
   "outputs": [
    {
     "data": {
      "text/plain": [
       "(70000, 40652)"
      ]
     },
     "execution_count": 98,
     "metadata": {},
     "output_type": "execute_result"
    }
   ],
   "source": [
    "X_Train_TFIDF.shape"
   ]
  },
  {
   "cell_type": "code",
   "execution_count": 99,
   "metadata": {},
   "outputs": [
    {
     "data": {
      "text/plain": [
       "(70000,)"
      ]
     },
     "execution_count": 99,
     "metadata": {},
     "output_type": "execute_result"
    }
   ],
   "source": [
    "Y_Train1.shape"
   ]
  },
  {
   "cell_type": "code",
   "execution_count": 100,
   "metadata": {},
   "outputs": [
    {
     "data": {
      "text/plain": [
       "(20000, 40652)"
      ]
     },
     "execution_count": 100,
     "metadata": {},
     "output_type": "execute_result"
    }
   ],
   "source": [
    "X_Test_TFIDF.shape"
   ]
  },
  {
   "cell_type": "code",
   "execution_count": 101,
   "metadata": {},
   "outputs": [
    {
     "data": {
      "text/plain": [
       "(20000,)"
      ]
     },
     "execution_count": 101,
     "metadata": {},
     "output_type": "execute_result"
    }
   ],
   "source": [
    "Y_Test1.shape"
   ]
  },
  {
   "cell_type": "code",
   "execution_count": 102,
   "metadata": {},
   "outputs": [],
   "source": [
    "from sklearn.metrics import roc_curve, auc\n",
    "\n",
    "train_fpr3,train_tpr3,thresholds = roc_curve(Y_Train1,naive2.predict_proba(X_Train_TFIDF)[:,1])\n",
    "test_fpr3,test_tpr3,thresholds = roc_curve(Y_Test1,naive2.predict_proba(X_Test_TFIDF)[:,1])"
   ]
  },
  {
   "cell_type": "code",
   "execution_count": 103,
   "metadata": {},
   "outputs": [
    {
     "data": {
      "image/png": "[encoded data removed]",
      "text/plain": [
       "<Figure size 432x288 with 1 Axes>"
      ]
     },
     "metadata": {},
     "output_type": "display_data"
    }
   ],
   "source": [
    "import matplotlib.pyplot as plt\n",
    "\n",
    "plt.plot(train_fpr3,train_tpr3, label = \"Training Data AUC on TFIDF:\" + str(auc(train_fpr3,train_tpr3)))\n",
    "plt.plot(test_fpr3,test_tpr3, label=\"Test Data AUC on TFIDF:\" + str(auc(test_fpr3,test_tpr3)))\n",
    "\n",
    "plt.legend()\n",
    "\n",
    "plt.xlabel(\"FPR Values\")\n",
    "plt.ylabel(\"TPR Values\")\n",
    "plt.title('ROC Curve: Naive Bayes on TFIDF')\n",
    "\n",
    "plt.grid(False)\n",
    "plt.show()"
   ]
  },
  {
   "cell_type": "markdown",
   "metadata": {},
   "source": [
    "<b> <font color=\"black\"> Plotting the Confusion Matrices for the TFIDF Train Data & Test Data for the Ideal Value\n",
    "of the Threshold:- </font> </b>"
   ]
  },
  {
   "cell_type": "code",
   "execution_count": 104,
   "metadata": {},
   "outputs": [],
   "source": [
    "Y_Test_pred2 = naive2.predict_proba(X_Test_TFIDF)[:,1]"
   ]
  },
  {
   "cell_type": "markdown",
   "metadata": {},
   "source": [
    "The Training Data Confusion Matrix will look as follows by calling the user defined functions matrixpredict() and \n",
    "plottrainmatrix() that were defined previously:"
   ]
  },
  {
   "cell_type": "code",
   "execution_count": 105,
   "metadata": {},
   "outputs": [
    {
     "name": "stdout",
     "output_type": "stream",
     "text": [
      "-------------------- Training Confusion Matrix --------------------\n",
      " \n",
      "The Training Data Confusion Matrix is as follows:\n",
      " \n",
      "The maximum value of tpr*(1-fpr) : 0.8364827017727098\n",
      "Threshold for Maximum Value of tpr*(1-fpr) : 0.822\n"
     ]
    },
    {
     "data": {
      "image/png": "[encoded data removed]",
      "text/plain": [
       "<Figure size 720x504 with 2 Axes>"
      ]
     },
     "metadata": {},
     "output_type": "display_data"
    }
   ],
   "source": [
    "TFIDF_Train = confusion_matrix(Y_Train1,matrixpredict(Y_Train_pred2,thresholds,train_tpr3,train_fpr3))\n",
    "plottrainmatrix(TFIDF_Train)"
   ]
  },
  {
   "cell_type": "markdown",
   "metadata": {},
   "source": [
    "Accuracy on the Train Data :- (60184+2775)/70000 => 89.94 %"
   ]
  },
  {
   "cell_type": "markdown",
   "metadata": {},
   "source": [
    "The Test Data Confusion Matrix will look as follows by calling the user defined functions matrixpredict() and \n",
    "plottrainmatrix() that were defined previously:"
   ]
  },
  {
   "cell_type": "code",
   "execution_count": 106,
   "metadata": {},
   "outputs": [
    {
     "name": "stdout",
     "output_type": "stream",
     "text": [
      "-------------------- Test Data Confusion Matrix --------------------\n",
      " \n",
      "The Test Data Confusion Matrix is as follows:\n",
      " \n",
      "The maximum value of tpr*(1-fpr) : 0.7775642666087855\n",
      "Threshold for Maximum Value of tpr*(1-fpr) : 0.906\n"
     ]
    },
    {
     "data": {
      "image/png": "[encoded data removed]",
      "text/plain": [
       "<Figure size 720x504 with 2 Axes>"
      ]
     },
     "metadata": {},
     "output_type": "display_data"
    }
   ],
   "source": [
    "TFIDF_Test = confusion_matrix(Y_Test1,matrixpredict(Y_Test_pred2,thresholds,test_tpr3,test_fpr3))\n",
    "plottestmatrix(TFIDF_Test)"
   ]
  },
  {
   "cell_type": "markdown",
   "metadata": {},
   "source": [
    "Accuracy on the Test Data = (14660+2969)/20000 => 88.14 %"
   ]
  },
  {
   "cell_type": "markdown",
   "metadata": {
    "colab_type": "text",
    "id": "zak5yP5zJkkt"
   },
   "source": [
    "<h2><font color='red'>[**] Preprocessing Review Summary</font></h2>"
   ]
  },
  {
   "cell_type": "code",
   "execution_count": 107,
   "metadata": {},
   "outputs": [
    {
     "name": "stdout",
     "output_type": "stream",
     "text": [
      "EVERY book is educational\n",
      "==================================================\n",
      "Somebody better check their specifications\n",
      "==================================================\n",
      "Treat yourself with a great breakfast.\n",
      "==================================================\n",
      "Great Gluten-Free Bread\n",
      "==================================================\n"
     ]
    }
   ],
   "source": [
    "# printing some random reviews\n",
    "summary_0 = final_TBS['Summary'].values[0]\n",
    "print(summary_0)\n",
    "print(\"=\"*50)\n",
    "\n",
    "summary_1000 = final_TBS['Summary'].values[1000]\n",
    "print(summary_1000)\n",
    "print(\"=\"*50)\n",
    "\n",
    "summary_1700 = final_TBS['Summary'].values[1700]\n",
    "print(summary_1700)\n",
    "print(\"=\"*50)\n",
    "\n",
    "summary_4900 = final_TBS['Summary'].values[4900]\n",
    "print(summary_4900)\n",
    "print(\"=\"*50)"
   ]
  },
  {
   "cell_type": "code",
   "execution_count": 108,
   "metadata": {},
   "outputs": [],
   "source": [
    "import warnings\n",
    "warnings.filterwarnings('ignore')\n",
    "\n",
    "preprocessed_summary = []\n",
    "\n",
    "for title in final_TBS['Summary'].values:\n",
    "    title = re.sub(r\"http\\S+\", \"\", title)\n",
    "    title = BeautifulSoup(title, 'lxml').get_text()\n",
    "    title = decontracted(title)\n",
    "    title = re.sub(\"\\S*\\d\\S*\", \"\", title).strip()\n",
    "    title = re.sub('[^A-Za-z]+', ' ', title)\n",
    "  \n",
    "    title = ' '.join(e.lower() for e in title.split() if e.lower() not in stopwords)\n",
    "    preprocessed_summary.append(title.strip())"
   ]
  },
  {
   "cell_type": "code",
   "execution_count": 109,
   "metadata": {},
   "outputs": [
    {
     "data": {
      "text/plain": [
       "'treat great breakfast'"
      ]
     },
     "execution_count": 109,
     "metadata": {},
     "output_type": "execute_result"
    }
   ],
   "source": [
    "preprocessed_summary[1700]"
   ]
  },
  {
   "cell_type": "markdown",
   "metadata": {},
   "source": [
    "# Feature Engineering to Increase the Model Performance:"
   ]
  },
  {
   "cell_type": "markdown",
   "metadata": {},
   "source": [
    "We obtained a dataframe called \"final\" which had all the columns, out of which we considered only a single column of\n",
    "\"Preprocessed_Reviews\" in our final DataFrame, whereas we can try with additional features as our Xis to try and \n",
    "improve the model even further."
   ]
  },
  {
   "cell_type": "code",
   "execution_count": 110,
   "metadata": {},
   "outputs": [
    {
     "data": {
      "text/html": [
       "<div>\n",
       "<style scoped>\n",
       "    .dataframe tbody tr th:only-of-type {\n",
       "        vertical-align: middle;\n",
       "    }\n",
       "\n",
       "    .dataframe tbody tr th {\n",
       "        vertical-align: top;\n",
       "    }\n",
       "\n",
       "    .dataframe thead th {\n",
       "        text-align: right;\n",
       "    }\n",
       "</style>\n",
       "<table border=\"1\" class=\"dataframe\">\n",
       "  <thead>\n",
       "    <tr style=\"text-align: right;\">\n",
       "      <th></th>\n",
       "      <th>Id</th>\n",
       "      <th>ProductId</th>\n",
       "      <th>UserId</th>\n",
       "      <th>ProfileName</th>\n",
       "      <th>HelpfulnessNumerator</th>\n",
       "      <th>HelpfulnessDenominator</th>\n",
       "      <th>Score</th>\n",
       "      <th>Time</th>\n",
       "      <th>Summary</th>\n",
       "      <th>Text</th>\n",
       "      <th>Preprocessed_Reviews</th>\n",
       "    </tr>\n",
       "  </thead>\n",
       "  <tbody>\n",
       "    <tr>\n",
       "      <th>138706</th>\n",
       "      <td>150524</td>\n",
       "      <td>0006641040</td>\n",
       "      <td>ACITT7DI6IDDL</td>\n",
       "      <td>shari zychinski</td>\n",
       "      <td>0</td>\n",
       "      <td>0</td>\n",
       "      <td>1</td>\n",
       "      <td>939340800</td>\n",
       "      <td>EVERY book is educational</td>\n",
       "      <td>this witty little book makes my son laugh at l...</td>\n",
       "      <td>witty little book makes son laugh loud recite ...</td>\n",
       "    </tr>\n",
       "    <tr>\n",
       "      <th>138683</th>\n",
       "      <td>150501</td>\n",
       "      <td>0006641040</td>\n",
       "      <td>AJ46FKXOVC7NR</td>\n",
       "      <td>Nicholas A Mesiano</td>\n",
       "      <td>2</td>\n",
       "      <td>2</td>\n",
       "      <td>1</td>\n",
       "      <td>940809600</td>\n",
       "      <td>This whole series is great way to spend time w...</td>\n",
       "      <td>I can remember seeing the show when it aired o...</td>\n",
       "      <td>remember seeing show aired television years ag...</td>\n",
       "    </tr>\n",
       "    <tr>\n",
       "      <th>70688</th>\n",
       "      <td>76882</td>\n",
       "      <td>B00002N8SM</td>\n",
       "      <td>A32DW342WBJ6BX</td>\n",
       "      <td>Buttersugar</td>\n",
       "      <td>0</td>\n",
       "      <td>0</td>\n",
       "      <td>1</td>\n",
       "      <td>948672000</td>\n",
       "      <td>A sure death for flies</td>\n",
       "      <td>I bought a few of these after my apartment was...</td>\n",
       "      <td>bought apartment infested fruit flies hours tr...</td>\n",
       "    </tr>\n",
       "  </tbody>\n",
       "</table>\n",
       "</div>"
      ],
      "text/plain": [
       "            Id   ProductId          UserId         ProfileName  \\\n",
       "138706  150524  0006641040   ACITT7DI6IDDL     shari zychinski   \n",
       "138683  150501  0006641040   AJ46FKXOVC7NR  Nicholas A Mesiano   \n",
       "70688    76882  B00002N8SM  A32DW342WBJ6BX         Buttersugar   \n",
       "\n",
       "        HelpfulnessNumerator  HelpfulnessDenominator  Score       Time  \\\n",
       "138706                     0                       0      1  939340800   \n",
       "138683                     2                       2      1  940809600   \n",
       "70688                      0                       0      1  948672000   \n",
       "\n",
       "                                                  Summary  \\\n",
       "138706                          EVERY book is educational   \n",
       "138683  This whole series is great way to spend time w...   \n",
       "70688                              A sure death for flies   \n",
       "\n",
       "                                                     Text  \\\n",
       "138706  this witty little book makes my son laugh at l...   \n",
       "138683  I can remember seeing the show when it aired o...   \n",
       "70688   I bought a few of these after my apartment was...   \n",
       "\n",
       "                                     Preprocessed_Reviews  \n",
       "138706  witty little book makes son laugh loud recite ...  \n",
       "138683  remember seeing show aired television years ag...  \n",
       "70688   bought apartment infested fruit flies hours tr...  "
      ]
     },
     "execution_count": 110,
     "metadata": {},
     "output_type": "execute_result"
    }
   ],
   "source": [
    "final_TBS.head(3)"
   ]
  },
  {
   "cell_type": "markdown",
   "metadata": {},
   "source": [
    "Adding the Preprocessed Summary as another column to this dataframe:"
   ]
  },
  {
   "cell_type": "code",
   "execution_count": 111,
   "metadata": {},
   "outputs": [],
   "source": [
    "final_TBS['Preprocessed_Summary'] = preprocessed_summary"
   ]
  },
  {
   "cell_type": "code",
   "execution_count": 112,
   "metadata": {},
   "outputs": [],
   "source": [
    "Review_Length =[]\n",
    "for i in final_TBS['Preprocessed_Reviews']:\n",
    "    Review_Length.append(len(i))"
   ]
  },
  {
   "cell_type": "markdown",
   "metadata": {},
   "source": [
    "Here, basically I am calculating the length of the 'Preprocessed_Reviews', which is : The number of characters in \n",
    "the review after the entire text preprocessing has been carried out.\n",
    "\n",
    "Now I am adding this particular calculated feature as another column :'Review_Length' in my dataset."
   ]
  },
  {
   "cell_type": "code",
   "execution_count": 113,
   "metadata": {},
   "outputs": [],
   "source": [
    "final_TBS['Review_Length'] = Review_Length"
   ]
  },
  {
   "cell_type": "code",
   "execution_count": 114,
   "metadata": {},
   "outputs": [
    {
     "data": {
      "text/html": [
       "<div>\n",
       "<style scoped>\n",
       "    .dataframe tbody tr th:only-of-type {\n",
       "        vertical-align: middle;\n",
       "    }\n",
       "\n",
       "    .dataframe tbody tr th {\n",
       "        vertical-align: top;\n",
       "    }\n",
       "\n",
       "    .dataframe thead th {\n",
       "        text-align: right;\n",
       "    }\n",
       "</style>\n",
       "<table border=\"1\" class=\"dataframe\">\n",
       "  <thead>\n",
       "    <tr style=\"text-align: right;\">\n",
       "      <th></th>\n",
       "      <th>Id</th>\n",
       "      <th>ProductId</th>\n",
       "      <th>UserId</th>\n",
       "      <th>ProfileName</th>\n",
       "      <th>HelpfulnessNumerator</th>\n",
       "      <th>HelpfulnessDenominator</th>\n",
       "      <th>Score</th>\n",
       "      <th>Time</th>\n",
       "      <th>Summary</th>\n",
       "      <th>Text</th>\n",
       "      <th>Preprocessed_Reviews</th>\n",
       "      <th>Preprocessed_Summary</th>\n",
       "      <th>Review_Length</th>\n",
       "    </tr>\n",
       "  </thead>\n",
       "  <tbody>\n",
       "    <tr>\n",
       "      <th>138706</th>\n",
       "      <td>150524</td>\n",
       "      <td>0006641040</td>\n",
       "      <td>ACITT7DI6IDDL</td>\n",
       "      <td>shari zychinski</td>\n",
       "      <td>0</td>\n",
       "      <td>0</td>\n",
       "      <td>1</td>\n",
       "      <td>939340800</td>\n",
       "      <td>EVERY book is educational</td>\n",
       "      <td>this witty little book makes my son laugh at l...</td>\n",
       "      <td>witty little book makes son laugh loud recite ...</td>\n",
       "      <td>every book educational</td>\n",
       "      <td>222</td>\n",
       "    </tr>\n",
       "    <tr>\n",
       "      <th>138683</th>\n",
       "      <td>150501</td>\n",
       "      <td>0006641040</td>\n",
       "      <td>AJ46FKXOVC7NR</td>\n",
       "      <td>Nicholas A Mesiano</td>\n",
       "      <td>2</td>\n",
       "      <td>2</td>\n",
       "      <td>1</td>\n",
       "      <td>940809600</td>\n",
       "      <td>This whole series is great way to spend time w...</td>\n",
       "      <td>I can remember seeing the show when it aired o...</td>\n",
       "      <td>remember seeing show aired television years ag...</td>\n",
       "      <td>whole series great way spend time child</td>\n",
       "      <td>222</td>\n",
       "    </tr>\n",
       "    <tr>\n",
       "      <th>70688</th>\n",
       "      <td>76882</td>\n",
       "      <td>B00002N8SM</td>\n",
       "      <td>A32DW342WBJ6BX</td>\n",
       "      <td>Buttersugar</td>\n",
       "      <td>0</td>\n",
       "      <td>0</td>\n",
       "      <td>1</td>\n",
       "      <td>948672000</td>\n",
       "      <td>A sure death for flies</td>\n",
       "      <td>I bought a few of these after my apartment was...</td>\n",
       "      <td>bought apartment infested fruit flies hours tr...</td>\n",
       "      <td>sure death flies</td>\n",
       "      <td>207</td>\n",
       "    </tr>\n",
       "  </tbody>\n",
       "</table>\n",
       "</div>"
      ],
      "text/plain": [
       "            Id   ProductId          UserId         ProfileName  \\\n",
       "138706  150524  0006641040   ACITT7DI6IDDL     shari zychinski   \n",
       "138683  150501  0006641040   AJ46FKXOVC7NR  Nicholas A Mesiano   \n",
       "70688    76882  B00002N8SM  A32DW342WBJ6BX         Buttersugar   \n",
       "\n",
       "        HelpfulnessNumerator  HelpfulnessDenominator  Score       Time  \\\n",
       "138706                     0                       0      1  939340800   \n",
       "138683                     2                       2      1  940809600   \n",
       "70688                      0                       0      1  948672000   \n",
       "\n",
       "                                                  Summary  \\\n",
       "138706                          EVERY book is educational   \n",
       "138683  This whole series is great way to spend time w...   \n",
       "70688                              A sure death for flies   \n",
       "\n",
       "                                                     Text  \\\n",
       "138706  this witty little book makes my son laugh at l...   \n",
       "138683  I can remember seeing the show when it aired o...   \n",
       "70688   I bought a few of these after my apartment was...   \n",
       "\n",
       "                                     Preprocessed_Reviews  \\\n",
       "138706  witty little book makes son laugh loud recite ...   \n",
       "138683  remember seeing show aired television years ag...   \n",
       "70688   bought apartment infested fruit flies hours tr...   \n",
       "\n",
       "                           Preprocessed_Summary  Review_Length  \n",
       "138706                   every book educational            222  \n",
       "138683  whole series great way spend time child            222  \n",
       "70688                          sure death flies            207  "
      ]
     },
     "execution_count": 114,
     "metadata": {},
     "output_type": "execute_result"
    }
   ],
   "source": [
    "final_TBS.head(3)"
   ]
  },
  {
   "cell_type": "markdown",
   "metadata": {},
   "source": [
    "# Obtaining the Required Train,CV and Test Datasets (With FE) :- "
   ]
  },
  {
   "cell_type": "markdown",
   "metadata": {},
   "source": [
    "First I will remove all the useless columns from this dataframe of mine. Now I will try Feature Engineering: The only\n",
    "columns that we are concerned about now are the 'Score','Preprocessed_Reviews','Review_Length' & 'Preprocessed_Summary'. The remaining columns in the dataframe are of no use to us."
   ]
  },
  {
   "cell_type": "code",
   "execution_count": 115,
   "metadata": {},
   "outputs": [],
   "source": [
    "df2 = final_TBS[['Preprocessed_Summary','Preprocessed_Reviews','Review_Length','Score']]"
   ]
  },
  {
   "cell_type": "code",
   "execution_count": 116,
   "metadata": {},
   "outputs": [
    {
     "data": {
      "text/html": [
       "<div>\n",
       "<style scoped>\n",
       "    .dataframe tbody tr th:only-of-type {\n",
       "        vertical-align: middle;\n",
       "    }\n",
       "\n",
       "    .dataframe tbody tr th {\n",
       "        vertical-align: top;\n",
       "    }\n",
       "\n",
       "    .dataframe thead th {\n",
       "        text-align: right;\n",
       "    }\n",
       "</style>\n",
       "<table border=\"1\" class=\"dataframe\">\n",
       "  <thead>\n",
       "    <tr style=\"text-align: right;\">\n",
       "      <th></th>\n",
       "      <th>Preprocessed_Summary</th>\n",
       "      <th>Preprocessed_Reviews</th>\n",
       "      <th>Review_Length</th>\n",
       "      <th>Score</th>\n",
       "    </tr>\n",
       "  </thead>\n",
       "  <tbody>\n",
       "    <tr>\n",
       "      <th>138706</th>\n",
       "      <td>every book educational</td>\n",
       "      <td>witty little book makes son laugh loud recite ...</td>\n",
       "      <td>222</td>\n",
       "      <td>1</td>\n",
       "    </tr>\n",
       "    <tr>\n",
       "      <th>138683</th>\n",
       "      <td>whole series great way spend time child</td>\n",
       "      <td>remember seeing show aired television years ag...</td>\n",
       "      <td>222</td>\n",
       "      <td>1</td>\n",
       "    </tr>\n",
       "    <tr>\n",
       "      <th>70688</th>\n",
       "      <td>sure death flies</td>\n",
       "      <td>bought apartment infested fruit flies hours tr...</td>\n",
       "      <td>207</td>\n",
       "      <td>1</td>\n",
       "    </tr>\n",
       "    <tr>\n",
       "      <th>1146</th>\n",
       "      <td>great product</td>\n",
       "      <td>really good idea final product outstanding use...</td>\n",
       "      <td>109</td>\n",
       "      <td>1</td>\n",
       "    </tr>\n",
       "    <tr>\n",
       "      <th>1145</th>\n",
       "      <td>wow make islickers</td>\n",
       "      <td>received shipment could hardly wait try produc...</td>\n",
       "      <td>277</td>\n",
       "      <td>1</td>\n",
       "    </tr>\n",
       "  </tbody>\n",
       "</table>\n",
       "</div>"
      ],
      "text/plain": [
       "                           Preprocessed_Summary  \\\n",
       "138706                   every book educational   \n",
       "138683  whole series great way spend time child   \n",
       "70688                          sure death flies   \n",
       "1146                              great product   \n",
       "1145                         wow make islickers   \n",
       "\n",
       "                                     Preprocessed_Reviews  Review_Length  \\\n",
       "138706  witty little book makes son laugh loud recite ...            222   \n",
       "138683  remember seeing show aired television years ag...            222   \n",
       "70688   bought apartment infested fruit flies hours tr...            207   \n",
       "1146    really good idea final product outstanding use...            109   \n",
       "1145    received shipment could hardly wait try produc...            277   \n",
       "\n",
       "        Score  \n",
       "138706      1  \n",
       "138683      1  \n",
       "70688       1  \n",
       "1146        1  \n",
       "1145        1  "
      ]
     },
     "execution_count": 116,
     "metadata": {},
     "output_type": "execute_result"
    }
   ],
   "source": [
    "df2.head()"
   ]
  },
  {
   "cell_type": "code",
   "execution_count": 117,
   "metadata": {},
   "outputs": [],
   "source": [
    "cleandf2 = df2[:100000]"
   ]
  },
  {
   "cell_type": "markdown",
   "metadata": {},
   "source": [
    "Again, just as in the previous case, I am taking a total of 100K reviews. Again the splitting of the data that I will\n",
    "carry out will be in the 70:10:20 ratio."
   ]
  },
  {
   "cell_type": "code",
   "execution_count": 118,
   "metadata": {},
   "outputs": [],
   "source": [
    "Tr_df2 = cleandf2[:70000]\n",
    "CV_df2 = cleandf2[70000:80000]\n",
    "Te_df2 = cleandf2[80000:100000]"
   ]
  },
  {
   "cell_type": "code",
   "execution_count": 119,
   "metadata": {},
   "outputs": [
    {
     "data": {
      "text/plain": [
       "(70000, 4)"
      ]
     },
     "execution_count": 119,
     "metadata": {},
     "output_type": "execute_result"
    }
   ],
   "source": [
    "Tr_df2.shape"
   ]
  },
  {
   "cell_type": "code",
   "execution_count": 120,
   "metadata": {},
   "outputs": [
    {
     "data": {
      "text/plain": [
       "(10000, 4)"
      ]
     },
     "execution_count": 120,
     "metadata": {},
     "output_type": "execute_result"
    }
   ],
   "source": [
    "CV_df2.shape"
   ]
  },
  {
   "cell_type": "code",
   "execution_count": 121,
   "metadata": {},
   "outputs": [
    {
     "data": {
      "text/plain": [
       "(20000, 4)"
      ]
     },
     "execution_count": 121,
     "metadata": {},
     "output_type": "execute_result"
    }
   ],
   "source": [
    "Te_df2.shape"
   ]
  },
  {
   "cell_type": "code",
   "execution_count": 122,
   "metadata": {},
   "outputs": [],
   "source": [
    "X_Train2 = Tr_df2[['Preprocessed_Summary','Preprocessed_Reviews','Review_Length']]\n",
    "Y_Train2 = Tr_df2['Score']\n",
    "\n",
    "X_CV2 = CV_df2[['Preprocessed_Summary','Preprocessed_Reviews','Review_Length']]\n",
    "Y_CV2 = CV_df2['Score']\n",
    "\n",
    "X_Test2 = Te_df2[['Preprocessed_Summary','Preprocessed_Reviews','Review_Length']]\n",
    "Y_Test2 = Te_df2['Score']"
   ]
  },
  {
   "cell_type": "code",
   "execution_count": 123,
   "metadata": {},
   "outputs": [
    {
     "data": {
      "text/plain": [
       "pandas.core.frame.DataFrame"
      ]
     },
     "execution_count": 123,
     "metadata": {},
     "output_type": "execute_result"
    }
   ],
   "source": [
    "type(X_Train2)\n",
    "type(X_CV2)\n",
    "type(X_Test2)"
   ]
  },
  {
   "cell_type": "markdown",
   "metadata": {},
   "source": [
    "Basically, previously when we considered only a single column in our X_Train (Preprocessed_Reviews) we obtained a \n",
    "Series whereas in this case we obtain a DataFrame because we are considering multiple columns in our X_Train,X_CV \n",
    "and X_Test."
   ]
  },
  {
   "cell_type": "markdown",
   "metadata": {},
   "source": [
    "# Applying Multinomial Naive Bayes on BOW (With FE) :-"
   ]
  },
  {
   "cell_type": "markdown",
   "metadata": {},
   "source": [
    "Previously, we had only 1 feature : Preprocessed_Reviews to be concerned about. However in this scenario we have a\n",
    "total of 3 features : Preprocessed_Reviews,Preprocessed_Summary as well as the Review_Length to be concerned about.\n",
    "\n",
    "So, what I will do is as follows:\n",
    "\n",
    "* We should only fit() on the training data {to understand the vocabulary of the Training Dataset}, however we carry\n",
    "  out the transformation on all datasets to convert the text data into numeric vectors. \n",
    "* Hence, first I will fit and transform the 'Preprocessed_Reviews' feature in my Text dataset and store the same\n",
    "  in a variable called 'X_Train_Reviews': This has 70K datapoints and 49871 features.\n",
    "* Next I will fit and transform the 'Preprocessed_Summary' feature from my Text Dataset and store the same in a   variable called 'X_Train_Summary' : This has 70k datapoints and 13358 features. "
   ]
  },
  {
   "cell_type": "code",
   "execution_count": 124,
   "metadata": {},
   "outputs": [],
   "source": [
    "count_vect2 = CountVectorizer()\n",
    "X_Train_Reviews = count_vect2.fit_transform(X_Train2['Preprocessed_Reviews'])"
   ]
  },
  {
   "cell_type": "code",
   "execution_count": 125,
   "metadata": {},
   "outputs": [
    {
     "data": {
      "text/plain": [
       "(70000, 49871)"
      ]
     },
     "execution_count": 125,
     "metadata": {},
     "output_type": "execute_result"
    }
   ],
   "source": [
    "X_Train_Reviews.shape"
   ]
  },
  {
   "cell_type": "markdown",
   "metadata": {},
   "source": [
    "Also I am performing 2 Vcetorizations separately for the 2 features : 'Preprocessed_Reviews' and 'Preprocessed_Summary', because we want the transformations for the CV and Test Datasets to be carried out separately."
   ]
  },
  {
   "cell_type": "code",
   "execution_count": 126,
   "metadata": {},
   "outputs": [],
   "source": [
    "count_vect3 = CountVectorizer()\n",
    "X_Train_Summary = count_vect3.fit_transform(X_Train2['Preprocessed_Summary'])"
   ]
  },
  {
   "cell_type": "code",
   "execution_count": 127,
   "metadata": {},
   "outputs": [
    {
     "data": {
      "text/plain": [
       "(70000, 13358)"
      ]
     },
     "execution_count": 127,
     "metadata": {},
     "output_type": "execute_result"
    }
   ],
   "source": [
    "X_Train_Summary.shape"
   ]
  },
  {
   "cell_type": "code",
   "execution_count": 128,
   "metadata": {},
   "outputs": [
    {
     "data": {
      "text/plain": [
       "scipy.sparse.csr.csr_matrix"
      ]
     },
     "execution_count": 128,
     "metadata": {},
     "output_type": "execute_result"
    }
   ],
   "source": [
    "type(X_Train_Reviews)"
   ]
  },
  {
   "cell_type": "code",
   "execution_count": 129,
   "metadata": {},
   "outputs": [
    {
     "data": {
      "text/plain": [
       "scipy.sparse.csr.csr_matrix"
      ]
     },
     "execution_count": 129,
     "metadata": {},
     "output_type": "execute_result"
    }
   ],
   "source": [
    "type(X_Train_Summary)"
   ]
  },
  {
   "cell_type": "markdown",
   "metadata": {},
   "source": [
    "I have looked at the types of both of these variables that I have obtained : Both of them are sparse matrices and\n",
    "hence they can be easily horizontally stacked using hstack in scipy.sparse, that I have imported below:"
   ]
  },
  {
   "cell_type": "code",
   "execution_count": 130,
   "metadata": {},
   "outputs": [],
   "source": [
    "from scipy.sparse import hstack\n",
    "\n",
    "temp_train = hstack([X_Train_Reviews,X_Train_Summary])"
   ]
  },
  {
   "cell_type": "code",
   "execution_count": 131,
   "metadata": {},
   "outputs": [
    {
     "data": {
      "text/plain": [
       "(70000, 63229)"
      ]
     },
     "execution_count": 131,
     "metadata": {},
     "output_type": "execute_result"
    }
   ],
   "source": [
    "temp_train.shape"
   ]
  },
  {
   "cell_type": "code",
   "execution_count": 132,
   "metadata": {},
   "outputs": [
    {
     "data": {
      "text/plain": [
       "scipy.sparse.coo.coo_matrix"
      ]
     },
     "execution_count": 132,
     "metadata": {},
     "output_type": "execute_result"
    }
   ],
   "source": [
    "type(temp_train)"
   ]
  },
  {
   "cell_type": "markdown",
   "metadata": {},
   "source": [
    "As expected, temp_train has a total of 63229 features : 49871 features from Preprocessed_Reviews as a feature and \n",
    "13358 features from Preprocessed_Summary. Now I also want to add Review_Length from X_Train2 into the BOW representation of the dataset. \n",
    "\n",
    "We know that Review_Length is a single column and hence it is a pandas series type, which first needs to be converted\n",
    "into a sparse matrix in order to be again stacked on top of temp_train."
   ]
  },
  {
   "cell_type": "code",
   "execution_count": 133,
   "metadata": {},
   "outputs": [],
   "source": [
    "import scipy as sp\n",
    "\n",
    "A = X_Train2['Review_Length'].as_matrix()\n",
    "B = sp.sparse.csr_matrix(A)\n",
    "\n",
    "#Source : https://stackoverflow.com/questions/20459536/convert-pandas-dataframe-to-sparse-numpy-matrix-directly"
   ]
  },
  {
   "cell_type": "markdown",
   "metadata": {},
   "source": [
    "Now the variable B is the Review_Length converted into a sparse matrix, which can now be horizontally stacked. B \n",
    "obtained is a row vector which needs to be transposed in order to be stacked horizontally."
   ]
  },
  {
   "cell_type": "code",
   "execution_count": 134,
   "metadata": {},
   "outputs": [],
   "source": [
    "X_Train_BOW2 = hstack([temp_train,B.T])"
   ]
  },
  {
   "cell_type": "code",
   "execution_count": 135,
   "metadata": {},
   "outputs": [
    {
     "data": {
      "text/plain": [
       "(70000, 63230)"
      ]
     },
     "execution_count": 135,
     "metadata": {},
     "output_type": "execute_result"
    }
   ],
   "source": [
    "X_Train_BOW2.shape"
   ]
  },
  {
   "cell_type": "markdown",
   "metadata": {},
   "source": [
    "Therefore, as expected, X_Train_BOW2 is a sparse matrix obtained that we needed which has 70K datapoints (as required) in the Training Data and a total of 63230 features. \n",
    "\n",
    "Now we can carry out the same approach for CV and Test datasets as well:"
   ]
  },
  {
   "cell_type": "markdown",
   "metadata": {},
   "source": [
    "<b> <font color=\"black\"> Carrying out the same approach for CV Dataset:- </font> </b>"
   ]
  },
  {
   "cell_type": "code",
   "execution_count": 136,
   "metadata": {},
   "outputs": [],
   "source": [
    "X_CV_Reviews = count_vect2.transform(X_CV2['Preprocessed_Reviews'])"
   ]
  },
  {
   "cell_type": "code",
   "execution_count": 137,
   "metadata": {},
   "outputs": [
    {
     "data": {
      "text/plain": [
       "(10000, 49871)"
      ]
     },
     "execution_count": 137,
     "metadata": {},
     "output_type": "execute_result"
    }
   ],
   "source": [
    "X_CV_Reviews.shape"
   ]
  },
  {
   "cell_type": "code",
   "execution_count": 138,
   "metadata": {},
   "outputs": [],
   "source": [
    "X_CV_Summary = count_vect3.transform(X_CV2['Preprocessed_Summary'])"
   ]
  },
  {
   "cell_type": "code",
   "execution_count": 139,
   "metadata": {},
   "outputs": [
    {
     "data": {
      "text/plain": [
       "(10000, 13358)"
      ]
     },
     "execution_count": 139,
     "metadata": {},
     "output_type": "execute_result"
    }
   ],
   "source": [
    "X_CV_Summary.shape"
   ]
  },
  {
   "cell_type": "code",
   "execution_count": 140,
   "metadata": {},
   "outputs": [
    {
     "data": {
      "text/plain": [
       "scipy.sparse.csr.csr_matrix"
      ]
     },
     "execution_count": 140,
     "metadata": {},
     "output_type": "execute_result"
    }
   ],
   "source": [
    "type(X_CV_Reviews)\n",
    "type(X_CV_Summary)"
   ]
  },
  {
   "cell_type": "code",
   "execution_count": 141,
   "metadata": {},
   "outputs": [],
   "source": [
    "cv_temp = hstack([X_CV_Reviews,X_CV_Summary])"
   ]
  },
  {
   "cell_type": "code",
   "execution_count": 142,
   "metadata": {},
   "outputs": [
    {
     "data": {
      "text/plain": [
       "(10000, 63229)"
      ]
     },
     "execution_count": 142,
     "metadata": {},
     "output_type": "execute_result"
    }
   ],
   "source": [
    "cv_temp.shape"
   ]
  },
  {
   "cell_type": "code",
   "execution_count": 143,
   "metadata": {},
   "outputs": [],
   "source": [
    "import scipy as sp\n",
    "\n",
    "C = X_CV2['Review_Length'].as_matrix()\n",
    "D = sp.sparse.csr_matrix(C)"
   ]
  },
  {
   "cell_type": "code",
   "execution_count": 144,
   "metadata": {},
   "outputs": [],
   "source": [
    "X_CV_BOW2 = hstack([cv_temp,D.T])"
   ]
  },
  {
   "cell_type": "code",
   "execution_count": 145,
   "metadata": {},
   "outputs": [
    {
     "data": {
      "text/plain": [
       "(10000, 63230)"
      ]
     },
     "execution_count": 145,
     "metadata": {},
     "output_type": "execute_result"
    }
   ],
   "source": [
    "X_CV_BOW2.shape"
   ]
  },
  {
   "cell_type": "markdown",
   "metadata": {},
   "source": [
    "<b> <font color=\"black\"> Carrying out the same approach for Test Dataset:- </font> </b>"
   ]
  },
  {
   "cell_type": "code",
   "execution_count": 146,
   "metadata": {},
   "outputs": [],
   "source": [
    "X_Test_Reviews = count_vect2.transform(X_Test2['Preprocessed_Reviews'])"
   ]
  },
  {
   "cell_type": "code",
   "execution_count": 147,
   "metadata": {},
   "outputs": [
    {
     "data": {
      "text/plain": [
       "(20000, 49871)"
      ]
     },
     "execution_count": 147,
     "metadata": {},
     "output_type": "execute_result"
    }
   ],
   "source": [
    "X_Test_Reviews.shape"
   ]
  },
  {
   "cell_type": "code",
   "execution_count": 148,
   "metadata": {},
   "outputs": [],
   "source": [
    "X_Test_Summary = count_vect3.transform(X_Test2['Preprocessed_Summary'])"
   ]
  },
  {
   "cell_type": "code",
   "execution_count": 149,
   "metadata": {},
   "outputs": [
    {
     "data": {
      "text/plain": [
       "(20000, 13358)"
      ]
     },
     "execution_count": 149,
     "metadata": {},
     "output_type": "execute_result"
    }
   ],
   "source": [
    "X_Test_Summary.shape"
   ]
  },
  {
   "cell_type": "code",
   "execution_count": 150,
   "metadata": {},
   "outputs": [
    {
     "data": {
      "text/plain": [
       "scipy.sparse.csr.csr_matrix"
      ]
     },
     "execution_count": 150,
     "metadata": {},
     "output_type": "execute_result"
    }
   ],
   "source": [
    "type(X_Test_Reviews)\n",
    "type(X_Test_Summary)"
   ]
  },
  {
   "cell_type": "code",
   "execution_count": 151,
   "metadata": {},
   "outputs": [],
   "source": [
    "test_temp = hstack([X_Test_Reviews,X_Test_Summary])"
   ]
  },
  {
   "cell_type": "code",
   "execution_count": 152,
   "metadata": {},
   "outputs": [
    {
     "data": {
      "text/plain": [
       "(20000, 63229)"
      ]
     },
     "execution_count": 152,
     "metadata": {},
     "output_type": "execute_result"
    }
   ],
   "source": [
    "test_temp.shape"
   ]
  },
  {
   "cell_type": "code",
   "execution_count": 153,
   "metadata": {},
   "outputs": [],
   "source": [
    "import scipy as sp\n",
    "\n",
    "E = X_Test2['Review_Length'].as_matrix()\n",
    "F = sp.sparse.csr_matrix(E)"
   ]
  },
  {
   "cell_type": "code",
   "execution_count": 154,
   "metadata": {},
   "outputs": [],
   "source": [
    "X_Test_BOW2 = hstack([test_temp,F.T])"
   ]
  },
  {
   "cell_type": "code",
   "execution_count": 155,
   "metadata": {},
   "outputs": [
    {
     "data": {
      "text/plain": [
       "(20000, 63230)"
      ]
     },
     "execution_count": 155,
     "metadata": {},
     "output_type": "execute_result"
    }
   ],
   "source": [
    "X_Test_BOW2.shape"
   ]
  },
  {
   "cell_type": "markdown",
   "metadata": {},
   "source": [
    "<b> <font color=\"black\"> Overall Summary:- </font> </b>"
   ]
  },
  {
   "cell_type": "code",
   "execution_count": 156,
   "metadata": {},
   "outputs": [
    {
     "name": "stdout",
     "output_type": "stream",
     "text": [
      "The final dimensionalities across all datasets after BOW Representation (With FE):\n",
      "(70000, 63230) (70000,)\n",
      "(10000, 63230) (10000,)\n",
      "(20000, 63230) (20000,)\n"
     ]
    }
   ],
   "source": [
    "print(\"The final dimensionalities across all datasets after BOW Representation (With FE):\")\n",
    "\n",
    "print(X_Train_BOW2.shape,Y_Train1.shape)\n",
    "print(X_CV_BOW2.shape,Y_CV1.shape)\n",
    "print(X_Test_BOW2.shape,Y_Test1.shape)"
   ]
  },
  {
   "cell_type": "markdown",
   "metadata": {},
   "source": [
    "# Hyperparameter Tuning on the BOW Representation (With FE) :-"
   ]
  },
  {
   "cell_type": "code",
   "execution_count": 157,
   "metadata": {},
   "outputs": [
    {
     "name": "stdout",
     "output_type": "stream",
     "text": [
      "[0.0001, 0.001, 0.01, 0.1, 1, 10, 100, 1000, 10000]\n"
     ]
    }
   ],
   "source": [
    "print(alpha_hyperparam)"
   ]
  },
  {
   "cell_type": "code",
   "execution_count": 158,
   "metadata": {},
   "outputs": [],
   "source": [
    "Train_BOW2_AUC =[]\n",
    "CV_BOW2_AUC=[]\n",
    "\n",
    "for a in alpha_hyperparam:\n",
    "    naive = MultinomialNB(alpha=a)\n",
    "    naive.fit(X_Train_BOW2,Y_Train1)\n",
    "    \n",
    "    Y_Train_pred3 = naive.predict_proba(X_Train_BOW2)[:,1]\n",
    "    Y_CV_pred3 = naive.predict_proba(X_CV_BOW2)[:,1]\n",
    "    \n",
    "    Train_BOW2_AUC.append(roc_auc_score(Y_Train1,Y_Train_pred3))\n",
    "    CV_BOW2_AUC.append(roc_auc_score(Y_CV1,Y_CV_pred3))     "
   ]
  },
  {
   "cell_type": "code",
   "execution_count": 159,
   "metadata": {},
   "outputs": [
    {
     "data": {
      "image/png": "[encoded data removed]",
      "text/plain": [
       "<Figure size 432x288 with 1 Axes>"
      ]
     },
     "metadata": {},
     "output_type": "display_data"
    }
   ],
   "source": [
    "import matplotlib.pyplot as plt\n",
    "\n",
    "plt.plot(alpha_hyperparam,Train_BOW2_AUC, label=\"Training Data AUC on BOW :With FE\")\n",
    "plt.plot(alpha_hyperparam,CV_BOW2_AUC, label=\"CV Data AUC on BOW:With FE\")\n",
    "plt.legend()\n",
    "\n",
    "plt.xscale('log')\n",
    "\n",
    "plt.xlabel('Hyperparameter alpha')\n",
    "plt.ylabel('AUC Values')\n",
    "plt.title('Error Plot: BOW Representation with Feature Engineering')\n",
    "\n",
    "plt.grid(False)\n",
    "plt.show()"
   ]
  },
  {
   "cell_type": "markdown",
   "metadata": {},
   "source": [
    "Again, on the parameter basis which we choose the best value of alpha :"
   ]
  },
  {
   "cell_type": "code",
   "execution_count": 160,
   "metadata": {},
   "outputs": [],
   "source": [
    "best_alpha= 1"
   ]
  },
  {
   "cell_type": "markdown",
   "metadata": {},
   "source": [
    "# Testing with the Test Data for BOW Implementation (With FE) :"
   ]
  },
  {
   "cell_type": "code",
   "execution_count": 161,
   "metadata": {},
   "outputs": [
    {
     "data": {
      "text/plain": [
       "MultinomialNB(alpha=1, class_prior=None, fit_prior=True)"
      ]
     },
     "execution_count": 161,
     "metadata": {},
     "output_type": "execute_result"
    }
   ],
   "source": [
    "naive3 = MultinomialNB(alpha=best_alpha)\n",
    "naive3.fit(X_Train_BOW2,Y_Train1)"
   ]
  },
  {
   "cell_type": "code",
   "execution_count": 162,
   "metadata": {},
   "outputs": [
    {
     "data": {
      "text/plain": [
       "(70000, 63230)"
      ]
     },
     "execution_count": 162,
     "metadata": {},
     "output_type": "execute_result"
    }
   ],
   "source": [
    "X_Train_BOW2.shape"
   ]
  },
  {
   "cell_type": "code",
   "execution_count": 163,
   "metadata": {},
   "outputs": [
    {
     "data": {
      "text/plain": [
       "(70000,)"
      ]
     },
     "execution_count": 163,
     "metadata": {},
     "output_type": "execute_result"
    }
   ],
   "source": [
    "Y_Train1.shape"
   ]
  },
  {
   "cell_type": "code",
   "execution_count": 164,
   "metadata": {},
   "outputs": [
    {
     "data": {
      "text/plain": [
       "(20000, 63230)"
      ]
     },
     "execution_count": 164,
     "metadata": {},
     "output_type": "execute_result"
    }
   ],
   "source": [
    "X_Test_BOW2.shape"
   ]
  },
  {
   "cell_type": "code",
   "execution_count": 165,
   "metadata": {},
   "outputs": [
    {
     "data": {
      "text/plain": [
       "(20000,)"
      ]
     },
     "execution_count": 165,
     "metadata": {},
     "output_type": "execute_result"
    }
   ],
   "source": [
    "Y_Test1.shape"
   ]
  },
  {
   "cell_type": "code",
   "execution_count": 166,
   "metadata": {},
   "outputs": [],
   "source": [
    "from sklearn.metrics import roc_curve,auc\n",
    "\n",
    "train_fpr4,train_tpr4,thresholds = roc_curve(Y_Train1,naive3.predict_proba(X_Train_BOW2)[:,1])\n",
    "test_fpr4,test_tpr4,thresholds = roc_curve(Y_Test1,naive3.predict_proba(X_Test_BOW2)[:,1])"
   ]
  },
  {
   "cell_type": "code",
   "execution_count": 167,
   "metadata": {},
   "outputs": [
    {
     "data": {
      "image/png": "[encoded data removed]",
      "text/plain": [
       "<Figure size 432x288 with 1 Axes>"
      ]
     },
     "metadata": {},
     "output_type": "display_data"
    }
   ],
   "source": [
    "import matplotlib.pyplot as plt\n",
    "\n",
    "plt.plot(train_fpr4,train_tpr4, label = \"Training Data AUC: \" + str(auc(train_fpr4,train_tpr4)))\n",
    "plt.plot(test_fpr4,test_tpr4, label = \"Test Data AUC: \" + str(auc(test_fpr4,test_tpr4)))\n",
    "plt.legend()\n",
    "\n",
    "plt.xlabel('FPR Values')\n",
    "plt.ylabel('TPR Values')\n",
    "plt.title('ROC Curve: Naive Bayes on BOW with Feature Engineering')\n",
    "\n",
    "plt.grid(False)\n",
    "plt.show()"
   ]
  },
  {
   "cell_type": "markdown",
   "metadata": {},
   "source": [
    "<b> <font color=\"black\"> Plotting the Confusion Matrices for the BOW Test Data (with FE) for the Ideal Value of the Threshold:- </font> </b>"
   ]
  },
  {
   "cell_type": "code",
   "execution_count": 168,
   "metadata": {},
   "outputs": [],
   "source": [
    "#To plot the confusion matrix\n",
    "Y_Test_pred3 = naive3.predict_proba(X_Test_BOW2)[:,1]"
   ]
  },
  {
   "cell_type": "code",
   "execution_count": 169,
   "metadata": {},
   "outputs": [
    {
     "name": "stdout",
     "output_type": "stream",
     "text": [
      "-------------------- Test Data Confusion Matrix --------------------\n",
      " \n",
      "The Test Data Confusion Matrix is as follows:\n",
      " \n",
      "The maximum value of tpr*(1-fpr) : 0.784617977723797\n",
      "Threshold for Maximum Value of tpr*(1-fpr) : 0.987\n"
     ]
    },
    {
     "data": {
      "image/png": "[encoded data removed]",
      "text/plain": [
       "<Figure size 720x504 with 2 Axes>"
      ]
     },
     "metadata": {},
     "output_type": "display_data"
    }
   ],
   "source": [
    "BOW2_Test = confusion_matrix(Y_Test1,matrixpredict(Y_Test_pred3,thresholds,test_tpr4,test_fpr4))\n",
    "plottestmatrix(BOW2_Test)"
   ]
  },
  {
   "cell_type": "markdown",
   "metadata": {},
   "source": [
    "Accuracy on the Test Data = (14848+2958)/20000 => 89.03 %"
   ]
  },
  {
   "cell_type": "markdown",
   "metadata": {},
   "source": [
    "# Applying Multinomial Naive Bayes on TFIDF (With FE) :-"
   ]
  },
  {
   "cell_type": "markdown",
   "metadata": {},
   "source": [
    "<b> <font color=\"black\"> Carrying out the same approach as the one followed above for Train Dataset with TFIDF\n",
    "Vectorization:- </font> </b>"
   ]
  },
  {
   "cell_type": "code",
   "execution_count": 170,
   "metadata": {},
   "outputs": [],
   "source": [
    "tf_idf_vect2 = TfidfVectorizer(ngram_range=(1,2), min_df=10)\n",
    "X_Train_TFIDF_Reviews = tf_idf_vect2.fit_transform(X_Train2['Preprocessed_Reviews'])"
   ]
  },
  {
   "cell_type": "code",
   "execution_count": 171,
   "metadata": {},
   "outputs": [
    {
     "data": {
      "text/plain": [
       "(70000, 40652)"
      ]
     },
     "execution_count": 171,
     "metadata": {},
     "output_type": "execute_result"
    }
   ],
   "source": [
    "X_Train_TFIDF_Reviews.shape"
   ]
  },
  {
   "cell_type": "code",
   "execution_count": 172,
   "metadata": {},
   "outputs": [],
   "source": [
    "tf_idf_vect3 = TfidfVectorizer(ngram_range=(1,2), min_df=10)\n",
    "X_Train_TFIDF_Summary = tf_idf_vect3.fit_transform(X_Train2['Preprocessed_Summary'])"
   ]
  },
  {
   "cell_type": "code",
   "execution_count": 173,
   "metadata": {},
   "outputs": [
    {
     "data": {
      "text/plain": [
       "(70000, 3541)"
      ]
     },
     "execution_count": 173,
     "metadata": {},
     "output_type": "execute_result"
    }
   ],
   "source": [
    "X_Train_TFIDF_Summary.shape"
   ]
  },
  {
   "cell_type": "code",
   "execution_count": 174,
   "metadata": {},
   "outputs": [
    {
     "data": {
      "text/plain": [
       "scipy.sparse.csr.csr_matrix"
      ]
     },
     "execution_count": 174,
     "metadata": {},
     "output_type": "execute_result"
    }
   ],
   "source": [
    "type(X_Train_TFIDF_Reviews)\n",
    "type(X_Train_TFIDF_Summary)"
   ]
  },
  {
   "cell_type": "code",
   "execution_count": 175,
   "metadata": {},
   "outputs": [],
   "source": [
    "from scipy.sparse import hstack\n",
    "\n",
    "temp_train_tfidf = hstack([X_Train_TFIDF_Reviews,X_Train_TFIDF_Summary])"
   ]
  },
  {
   "cell_type": "code",
   "execution_count": 176,
   "metadata": {},
   "outputs": [
    {
     "data": {
      "text/plain": [
       "(70000, 44193)"
      ]
     },
     "execution_count": 176,
     "metadata": {},
     "output_type": "execute_result"
    }
   ],
   "source": [
    "temp_train_tfidf.shape"
   ]
  },
  {
   "cell_type": "code",
   "execution_count": 177,
   "metadata": {},
   "outputs": [],
   "source": [
    "import scipy as sp\n",
    "\n",
    "G = X_Train2['Review_Length'].as_matrix()\n",
    "H = sp.sparse.csr_matrix(G)\n",
    "\n",
    "#Source : https://stackoverflow.com/questions/20459536/convert-pandas-dataframe-to-sparse-numpy-matrix-directly"
   ]
  },
  {
   "cell_type": "code",
   "execution_count": 178,
   "metadata": {},
   "outputs": [],
   "source": [
    "X_Train_TFIDF2 = hstack([temp_train_tfidf,H.T])"
   ]
  },
  {
   "cell_type": "code",
   "execution_count": 179,
   "metadata": {},
   "outputs": [
    {
     "data": {
      "text/plain": [
       "(70000, 44194)"
      ]
     },
     "execution_count": 179,
     "metadata": {},
     "output_type": "execute_result"
    }
   ],
   "source": [
    "X_Train_TFIDF2.shape"
   ]
  },
  {
   "cell_type": "markdown",
   "metadata": {},
   "source": [
    "<b> <font color=\"black\"> Applying the same for CV Dataset:- </font> </b>"
   ]
  },
  {
   "cell_type": "code",
   "execution_count": 180,
   "metadata": {},
   "outputs": [],
   "source": [
    "X_CV_TFIDF_Reviews = tf_idf_vect2.transform(X_CV2['Preprocessed_Reviews'])"
   ]
  },
  {
   "cell_type": "code",
   "execution_count": 181,
   "metadata": {},
   "outputs": [
    {
     "data": {
      "text/plain": [
       "(10000, 40652)"
      ]
     },
     "execution_count": 181,
     "metadata": {},
     "output_type": "execute_result"
    }
   ],
   "source": [
    "X_CV_TFIDF_Reviews.shape"
   ]
  },
  {
   "cell_type": "code",
   "execution_count": 182,
   "metadata": {},
   "outputs": [],
   "source": [
    "X_CV_TFIDF_Summary = tf_idf_vect3.transform(X_CV2['Preprocessed_Summary'])"
   ]
  },
  {
   "cell_type": "code",
   "execution_count": 183,
   "metadata": {},
   "outputs": [
    {
     "data": {
      "text/plain": [
       "(10000, 3541)"
      ]
     },
     "execution_count": 183,
     "metadata": {},
     "output_type": "execute_result"
    }
   ],
   "source": [
    "X_CV_TFIDF_Summary.shape"
   ]
  },
  {
   "cell_type": "code",
   "execution_count": 184,
   "metadata": {},
   "outputs": [
    {
     "data": {
      "text/plain": [
       "scipy.sparse.csr.csr_matrix"
      ]
     },
     "execution_count": 184,
     "metadata": {},
     "output_type": "execute_result"
    }
   ],
   "source": [
    "type(X_CV_TFIDF_Reviews)\n",
    "type(X_CV_TFIDF_Summary)"
   ]
  },
  {
   "cell_type": "code",
   "execution_count": 185,
   "metadata": {},
   "outputs": [],
   "source": [
    "CV_TFIDF_Temp = hstack([X_CV_TFIDF_Reviews,X_CV_TFIDF_Summary])"
   ]
  },
  {
   "cell_type": "code",
   "execution_count": 186,
   "metadata": {},
   "outputs": [
    {
     "data": {
      "text/plain": [
       "(10000, 44193)"
      ]
     },
     "execution_count": 186,
     "metadata": {},
     "output_type": "execute_result"
    }
   ],
   "source": [
    "CV_TFIDF_Temp.shape"
   ]
  },
  {
   "cell_type": "code",
   "execution_count": 187,
   "metadata": {},
   "outputs": [
    {
     "data": {
      "text/plain": [
       "scipy.sparse.coo.coo_matrix"
      ]
     },
     "execution_count": 187,
     "metadata": {},
     "output_type": "execute_result"
    }
   ],
   "source": [
    "type(CV_TFIDF_Temp)"
   ]
  },
  {
   "cell_type": "code",
   "execution_count": 188,
   "metadata": {},
   "outputs": [],
   "source": [
    "import scipy as sp\n",
    "I = X_CV2['Review_Length'].as_matrix()\n",
    "J = sp.sparse.csr_matrix(I)"
   ]
  },
  {
   "cell_type": "code",
   "execution_count": 189,
   "metadata": {},
   "outputs": [],
   "source": [
    "X_CV_TFIDF2 = hstack([CV_TFIDF_Temp,J.T])"
   ]
  },
  {
   "cell_type": "code",
   "execution_count": 190,
   "metadata": {},
   "outputs": [
    {
     "data": {
      "text/plain": [
       "(10000, 44194)"
      ]
     },
     "execution_count": 190,
     "metadata": {},
     "output_type": "execute_result"
    }
   ],
   "source": [
    "X_CV_TFIDF2.shape"
   ]
  },
  {
   "cell_type": "markdown",
   "metadata": {},
   "source": [
    "<b> <font color=\"black\"> Applying the same for Test Dataset:- </font> </b>"
   ]
  },
  {
   "cell_type": "code",
   "execution_count": 191,
   "metadata": {},
   "outputs": [],
   "source": [
    "X_Test_TFIDF_Reviews = tf_idf_vect2.transform(X_Test2['Preprocessed_Reviews'])"
   ]
  },
  {
   "cell_type": "code",
   "execution_count": 192,
   "metadata": {},
   "outputs": [
    {
     "data": {
      "text/plain": [
       "(20000, 40652)"
      ]
     },
     "execution_count": 192,
     "metadata": {},
     "output_type": "execute_result"
    }
   ],
   "source": [
    "X_Test_TFIDF_Reviews.shape"
   ]
  },
  {
   "cell_type": "code",
   "execution_count": 193,
   "metadata": {},
   "outputs": [],
   "source": [
    "X_Test_TFIDF_Summary = tf_idf_vect3.transform(X_Test2['Preprocessed_Summary'])"
   ]
  },
  {
   "cell_type": "code",
   "execution_count": 194,
   "metadata": {},
   "outputs": [
    {
     "data": {
      "text/plain": [
       "(20000, 3541)"
      ]
     },
     "execution_count": 194,
     "metadata": {},
     "output_type": "execute_result"
    }
   ],
   "source": [
    "X_Test_TFIDF_Summary.shape"
   ]
  },
  {
   "cell_type": "code",
   "execution_count": 195,
   "metadata": {},
   "outputs": [
    {
     "data": {
      "text/plain": [
       "scipy.sparse.csr.csr_matrix"
      ]
     },
     "execution_count": 195,
     "metadata": {},
     "output_type": "execute_result"
    }
   ],
   "source": [
    "type(X_Test_TFIDF_Reviews)\n",
    "type(X_Test_TFIDF_Summary)"
   ]
  },
  {
   "cell_type": "code",
   "execution_count": 196,
   "metadata": {},
   "outputs": [],
   "source": [
    "Test_TFIDF_Temp = hstack([X_Test_TFIDF_Reviews,X_Test_TFIDF_Summary])"
   ]
  },
  {
   "cell_type": "code",
   "execution_count": 197,
   "metadata": {},
   "outputs": [
    {
     "data": {
      "text/plain": [
       "(20000, 44193)"
      ]
     },
     "execution_count": 197,
     "metadata": {},
     "output_type": "execute_result"
    }
   ],
   "source": [
    "Test_TFIDF_Temp.shape"
   ]
  },
  {
   "cell_type": "code",
   "execution_count": 198,
   "metadata": {},
   "outputs": [
    {
     "data": {
      "text/plain": [
       "scipy.sparse.coo.coo_matrix"
      ]
     },
     "execution_count": 198,
     "metadata": {},
     "output_type": "execute_result"
    }
   ],
   "source": [
    "type(Test_TFIDF_Temp)"
   ]
  },
  {
   "cell_type": "code",
   "execution_count": 199,
   "metadata": {},
   "outputs": [],
   "source": [
    "import scipy as sp\n",
    "K = X_Test2['Review_Length'].as_matrix()\n",
    "L = sp.sparse.csr_matrix(K)"
   ]
  },
  {
   "cell_type": "code",
   "execution_count": 200,
   "metadata": {},
   "outputs": [],
   "source": [
    "X_Test_TFIDF2 = hstack([Test_TFIDF_Temp,L.T])"
   ]
  },
  {
   "cell_type": "code",
   "execution_count": 201,
   "metadata": {},
   "outputs": [
    {
     "data": {
      "text/plain": [
       "(20000, 44194)"
      ]
     },
     "execution_count": 201,
     "metadata": {},
     "output_type": "execute_result"
    }
   ],
   "source": [
    "X_Test_TFIDF2.shape"
   ]
  },
  {
   "cell_type": "markdown",
   "metadata": {},
   "source": [
    "<b> <font color=\"black\"> Overall Summary:- </font> </b>"
   ]
  },
  {
   "cell_type": "code",
   "execution_count": 202,
   "metadata": {},
   "outputs": [
    {
     "name": "stdout",
     "output_type": "stream",
     "text": [
      "The final dimensionalities across all datasets after TFIDF Representation (With FE):\n",
      "(70000, 44194) (70000,)\n",
      "(10000, 44194) (10000,)\n",
      "(20000, 44194) (20000,)\n"
     ]
    }
   ],
   "source": [
    "print(\"The final dimensionalities across all datasets after TFIDF Representation (With FE):\")\n",
    "\n",
    "print(X_Train_TFIDF2.shape,Y_Train1.shape)\n",
    "print(X_CV_TFIDF2.shape,Y_CV1.shape)\n",
    "print(X_Test_TFIDF2.shape,Y_Test1.shape)"
   ]
  },
  {
   "cell_type": "markdown",
   "metadata": {},
   "source": [
    "# Hyperparameter Tuning on the TFIDF Representation (With FE) :-"
   ]
  },
  {
   "cell_type": "code",
   "execution_count": 203,
   "metadata": {},
   "outputs": [
    {
     "name": "stdout",
     "output_type": "stream",
     "text": [
      "[0.0001, 0.001, 0.01, 0.1, 1, 10, 100, 1000, 10000]\n"
     ]
    }
   ],
   "source": [
    "print(alpha_hyperparam)"
   ]
  },
  {
   "cell_type": "code",
   "execution_count": 204,
   "metadata": {},
   "outputs": [],
   "source": [
    "Train_TFIDF2_AUC=[]\n",
    "CV_TFIDF2_AUC=[]\n",
    "\n",
    "for a in alpha_hyperparam:\n",
    "    naive = MultinomialNB(alpha=a)\n",
    "    naive.fit(X_Train_TFIDF2,Y_Train1)\n",
    "    \n",
    "    Y_Train_pred4 = naive.predict_proba(X_Train_TFIDF2)[:,1]\n",
    "    Y_CV_pred4 = naive.predict_proba(X_CV_TFIDF2)[:,1]\n",
    "    \n",
    "    Train_TFIDF2_AUC.append(roc_auc_score(Y_Train1,Y_Train_pred4))\n",
    "    CV_TFIDF2_AUC.append(roc_auc_score(Y_CV1,Y_CV_pred4))  "
   ]
  },
  {
   "cell_type": "code",
   "execution_count": 205,
   "metadata": {},
   "outputs": [
    {
     "data": {
      "image/png": "[encoded data removed]",
      "text/plain": [
       "<Figure size 432x288 with 1 Axes>"
      ]
     },
     "metadata": {},
     "output_type": "display_data"
    }
   ],
   "source": [
    "import matplotlib.pyplot as plt\n",
    "\n",
    "plt.plot(alpha_hyperparam,Train_TFIDF2_AUC, label=\"Training Data AUC on TFIDF: With FE\")\n",
    "plt.plot(alpha_hyperparam,CV_TFIDF2_AUC, label=\"CV Data AUC on TFIDF: With FE\")\n",
    "plt.legend()\n",
    "\n",
    "plt.xscale('log')\n",
    "\n",
    "plt.xlabel('Hyperparameter alpha')\n",
    "plt.ylabel('AUC Values')\n",
    "plt.title('Error Plot: TFIDF Representation with Feature Engineering')\n",
    "\n",
    "plt.grid(False)\n",
    "plt.show()"
   ]
  },
  {
   "cell_type": "markdown",
   "metadata": {},
   "source": [
    "Again, based on the criteria on choosing the Best value of alpha based on the curve above:"
   ]
  },
  {
   "cell_type": "code",
   "execution_count": 206,
   "metadata": {},
   "outputs": [],
   "source": [
    "Best_alpha = 1\n",
    "#10^0 = 1"
   ]
  },
  {
   "cell_type": "markdown",
   "metadata": {},
   "source": [
    "# Testing with the Test Data for TFIDF Implementation (With FE) :-"
   ]
  },
  {
   "cell_type": "code",
   "execution_count": 207,
   "metadata": {},
   "outputs": [
    {
     "data": {
      "text/plain": [
       "MultinomialNB(alpha=1, class_prior=None, fit_prior=True)"
      ]
     },
     "execution_count": 207,
     "metadata": {},
     "output_type": "execute_result"
    }
   ],
   "source": [
    "naive4 = MultinomialNB(alpha=best_alpha)\n",
    "naive4.fit(X_Train_TFIDF2,Y_Train1)"
   ]
  },
  {
   "cell_type": "code",
   "execution_count": 208,
   "metadata": {},
   "outputs": [
    {
     "data": {
      "text/plain": [
       "(70000, 44194)"
      ]
     },
     "execution_count": 208,
     "metadata": {},
     "output_type": "execute_result"
    }
   ],
   "source": [
    "X_Train_TFIDF2.shape"
   ]
  },
  {
   "cell_type": "code",
   "execution_count": 209,
   "metadata": {},
   "outputs": [
    {
     "data": {
      "text/plain": [
       "(70000,)"
      ]
     },
     "execution_count": 209,
     "metadata": {},
     "output_type": "execute_result"
    }
   ],
   "source": [
    "Y_Train1.shape"
   ]
  },
  {
   "cell_type": "code",
   "execution_count": 210,
   "metadata": {},
   "outputs": [
    {
     "data": {
      "text/plain": [
       "(20000, 44194)"
      ]
     },
     "execution_count": 210,
     "metadata": {},
     "output_type": "execute_result"
    }
   ],
   "source": [
    "X_Test_TFIDF2.shape"
   ]
  },
  {
   "cell_type": "code",
   "execution_count": 211,
   "metadata": {},
   "outputs": [
    {
     "data": {
      "text/plain": [
       "(20000,)"
      ]
     },
     "execution_count": 211,
     "metadata": {},
     "output_type": "execute_result"
    }
   ],
   "source": [
    "Y_Test1.shape"
   ]
  },
  {
   "cell_type": "code",
   "execution_count": 212,
   "metadata": {},
   "outputs": [],
   "source": [
    "from sklearn.metrics import roc_curve,auc\n",
    "\n",
    "train_fpr5,train_tpr5,thresholds = roc_curve(Y_Train1,naive4.predict_proba(X_Train_TFIDF2)[:,1])\n",
    "test_fpr5,test_tpr5,thresholds = roc_curve(Y_Test1,naive4.predict_proba(X_Test_TFIDF2)[:,1])"
   ]
  },
  {
   "cell_type": "code",
   "execution_count": 213,
   "metadata": {},
   "outputs": [
    {
     "data": {
      "image/png": "[encoded data removed]",
      "text/plain": [
       "<Figure size 432x288 with 1 Axes>"
      ]
     },
     "metadata": {},
     "output_type": "display_data"
    }
   ],
   "source": [
    "import matplotlib.pyplot as plt\n",
    "\n",
    "plt.plot(train_fpr5,train_tpr5, label = \"Training Data AUC: \" + str(auc(train_fpr5,train_tpr5)))\n",
    "plt.plot(test_fpr5,test_tpr5, label = \"Test Data AUC: \" + str(auc(test_fpr5,test_tpr5)))\n",
    "plt.legend()\n",
    "\n",
    "plt.xlabel('FPR Values')\n",
    "plt.ylabel('TPR Values')\n",
    "plt.title('ROC Curve: Naive Bayes on TFIDF with Feature Engineering')\n",
    "\n",
    "plt.grid(False)\n",
    "plt.show()"
   ]
  },
  {
   "cell_type": "markdown",
   "metadata": {},
   "source": [
    "<b> <font color=\"black\"> Plotting the Confusion Matrices for the TFIDF Test Data (with FE) for the Ideal Value of the Threshold:- </font> </b>"
   ]
  },
  {
   "cell_type": "code",
   "execution_count": 214,
   "metadata": {},
   "outputs": [],
   "source": [
    "#To plot the confusion matrix\n",
    "Y_Test_pred4 = naive4.predict_proba(X_Test_TFIDF2)[:,1]"
   ]
  },
  {
   "cell_type": "code",
   "execution_count": 215,
   "metadata": {},
   "outputs": [
    {
     "name": "stdout",
     "output_type": "stream",
     "text": [
      "-------------------- Test Data Confusion Matrix --------------------\n",
      " \n",
      "The Test Data Confusion Matrix is as follows:\n",
      " \n",
      "The maximum value of tpr*(1-fpr) : 0.7632204963576412\n",
      "Threshold for Maximum Value of tpr*(1-fpr) : 0.924\n"
     ]
    },
    {
     "data": {
      "image/png": "[encoded data removed]",
      "text/plain": [
       "<Figure size 720x504 with 2 Axes>"
      ]
     },
     "metadata": {},
     "output_type": "display_data"
    }
   ],
   "source": [
    "TFIDF2_Test = confusion_matrix(Y_Test1,matrixpredict(Y_Test_pred4,thresholds,test_tpr5,test_fpr5))\n",
    "plottestmatrix(TFIDF2_Test)"
   ]
  },
  {
   "cell_type": "markdown",
   "metadata": {},
   "source": [
    "Accuracy on the Test Data = (15166+2817)/20000 => 89.91 %"
   ]
  },
  {
   "cell_type": "markdown",
   "metadata": {
    "colab_type": "text",
    "id": "vst5Y7mmJklu"
   },
   "source": [
    "# [6] Conclusions"
   ]
  },
  {
   "cell_type": "code",
   "execution_count": 228,
   "metadata": {
    "colab": {},
    "colab_type": "code",
    "id": "De9HYtIGJklv"
   },
   "outputs": [],
   "source": [
    "from prettytable import PrettyTable"
   ]
  },
  {
   "cell_type": "code",
   "execution_count": 229,
   "metadata": {},
   "outputs": [],
   "source": [
    "x=PrettyTable()\n",
    "x.field_names=[\"S No.\",\"Top 10 Positive Words\",\"Log-Probability(+ve)\",\"Top 10 Negative Words\",\"Log-Probability(-ve)\"]"
   ]
  },
  {
   "cell_type": "code",
   "execution_count": 230,
   "metadata": {},
   "outputs": [
    {
     "name": "stdout",
     "output_type": "stream",
     "text": [
      "Top 10 Positive and Negative Words with BOW Representation:\n",
      "                                                                                                    \n",
      "+-------+-----------------------+----------------------+-----------------------+----------------------+\n",
      "| S No. | Top 10 Positive Words | Log-Probability(+ve) | Top 10 Negative Words | Log-Probability(-ve) |\n",
      "+-------+-----------------------+----------------------+-----------------------+----------------------+\n",
      "|   1   |          not          |        -3.756        |          not          |        -3.405        |\n",
      "|   2   |          like         |        -4.586        |          like         |        -4.525        |\n",
      "|   3   |          good         |        -4.707        |         taste         |        -4.776        |\n",
      "|   4   |         great         |        -4.764        |         would         |        -4.776        |\n",
      "|   5   |          one          |        -4.899        |        product        |        -4.832        |\n",
      "|   6   |          tea          |        -4.981        |          one          |        -4.97         |\n",
      "|   7   |         taste         |        -4.986        |          good         |        -5.186        |\n",
      "|   8   |         coffee        |        -5.085        |         coffee        |        -5.242        |\n",
      "|   9   |         flavor        |        -5.099        |         flavor        |        -5.265        |\n",
      "|   10  |          love         |        -5.13         |           no          |        -5.299        |\n",
      "+-------+-----------------------+----------------------+-----------------------+----------------------+\n"
     ]
    }
   ],
   "source": [
    "print(\"Top 10 Positive and Negative Words with BOW Representation:\")\n",
    "print(\" \"*100)\n",
    "\n",
    "x.add_row([\"1\",\"not\",\"-3.756\",\"not\",\"-3.405\"])\n",
    "x.add_row([\"2\",\"like\",\"-4.586\",\"like\",\"-4.525\"])\n",
    "x.add_row([\"3\",\"good\",\"-4.707\",\"taste\",\"-4.776\"])\n",
    "x.add_row([\"4\",\"great\",\"-4.764\",\"would\",\"-4.776\"])\n",
    "x.add_row([\"5\",\"one\",\"-4.899\",\"product\",\"-4.832\"])\n",
    "x.add_row([\"6\",\"tea\",\"-4.981\",\"one\",\"-4.97\"])\n",
    "x.add_row([\"7\",\"taste\",\"-4.986\",\"good\",\"-5.186\"])\n",
    "x.add_row([\"8\",\"coffee\",\"-5.085\",\"coffee\",\"-5.242\"])\n",
    "x.add_row([\"9\",\"flavor\",\"-5.099\",\"flavor\",\"-5.265\"])\n",
    "x.add_row([\"10\",\"love\",\"-5.13\",\"no\",\"-5.299\"])\n",
    "\n",
    "print(x)"
   ]
  },
  {
   "cell_type": "code",
   "execution_count": 231,
   "metadata": {},
   "outputs": [],
   "source": [
    "y=PrettyTable()\n",
    "y.field_names=[\"S No.\",\"Top 10 Positive Words\",\"Log-Probability(+ve)\",\"Top 10 Negative Words\",\"Log-Probability(-ve)\"]"
   ]
  },
  {
   "cell_type": "code",
   "execution_count": 234,
   "metadata": {},
   "outputs": [
    {
     "name": "stdout",
     "output_type": "stream",
     "text": [
      "Top 10 Positive and Negative Words with TFIDF Representation:\n",
      "                                                                                                    \n",
      "+-------+-----------------------+----------------------+-----------------------+----------------------+\n",
      "| S No. | Top 10 Positive Words | Log-Probability(+ve) | Top 10 Negative Words | Log-Probability(-ve) |\n",
      "+-------+-----------------------+----------------------+-----------------------+----------------------+\n",
      "|   1   |         kelly         |        -5.419        |         kelly         |        -5.27         |\n",
      "|   2   |      faithfulness     |        -5.777        |         grooms        |        -6.078        |\n",
      "|   3   |         event         |        -5.843        |       quanities       |        -6.174        |\n",
      "|   4   |         grooms        |        -5.898        |       monitored       |        -6.195        |\n",
      "|   5   |        reactive       |         -5.9         |        smacking       |        -6.198        |\n",
      "|   6   |        capilary       |        -5.988        |        capilary       |        -6.435        |\n",
      "|   7   |       highlands       |        -6.03         |       likelihood      |        -6.473        |\n",
      "|   8   |       likelihood      |        -6.123        |       discredit       |        -6.618        |\n",
      "|   9   |       quanities       |        -6.132        |        jujubee        |        -6.64         |\n",
      "|   10  |       monitored       |        -6.134        |         event         |        -6.68         |\n",
      "+-------+-----------------------+----------------------+-----------------------+----------------------+\n"
     ]
    }
   ],
   "source": [
    "print(\"Top 10 Positive and Negative Words with TFIDF Representation:\")\n",
    "print(\" \"*100)\n",
    "\n",
    "y.add_row([\"1\",\"kelly\",\"-5.419\",\"kelly\",\"-5.27\"])\n",
    "y.add_row([\"2\",\"faithfulness\",\"-5.777\",\"grooms\",\"-6.078\"])\n",
    "y.add_row([\"3\",\"event\",\"-5.843\",\"quanities\",\"-6.174\"])\n",
    "y.add_row([\"4\",\"grooms\",\"-5.898\",\"monitored\",\"-6.195\"])\n",
    "y.add_row([\"5\",\"reactive\",\"-5.9\",\"smacking\",\"-6.198\"])\n",
    "y.add_row([\"6\",\"capilary\",\"-5.988\",\"capilary\",\"-6.435\"])\n",
    "y.add_row([\"7\",\"highlands\",\"-6.03\",\"likelihood\",\"-6.473\"])\n",
    "y.add_row([\"8\",\"likelihood\",\"-6.123\",\"discredit\",\"-6.618\"])\n",
    "y.add_row([\"9\",\"quanities\",\"-6.132\",\"jujubee\",\"-6.64\"])\n",
    "y.add_row([\"10\",\"monitored\",\"-6.134\",\"event\",\"-6.68\"])\n",
    "\n",
    "print(y)"
   ]
  },
  {
   "cell_type": "code",
   "execution_count": 237,
   "metadata": {},
   "outputs": [],
   "source": [
    "z = PrettyTable()\n",
    "z.field_names=[\"S No.\",\"Model\",\"Best Value of alpha\",\"Test Accuracy on Ideal Threshold\",\"Test AUC Score\"]"
   ]
  },
  {
   "cell_type": "code",
   "execution_count": 238,
   "metadata": {},
   "outputs": [
    {
     "name": "stdout",
     "output_type": "stream",
     "text": [
      "+-------+-------------------+---------------------+----------------------------------+----------------+\n",
      "| S No. |       Model       | Best Value of alpha | Test Accuracy on Ideal Threshold | Test AUC Score |\n",
      "+-------+-------------------+---------------------+----------------------------------+----------------+\n",
      "|   1   |  BOW (Without FE) |          1          |              84.44%              |     0.907      |\n",
      "|   2   | TFIDF(Without FE) |          1          |              88.14%              |     0.948      |\n",
      "|   3   |   BOW (With FE)   |          1          |              89.03%              |     0.939      |\n",
      "|   4   |   TFIDF(With FE)  |          1          |              89.91%              |     0.925      |\n",
      "+-------+-------------------+---------------------+----------------------------------+----------------+\n"
     ]
    }
   ],
   "source": [
    "z.add_row([\"1\",\"BOW (Without FE)\",\"1\",\"84.44%\",\"0.907\"])\n",
    "z.add_row([\"2\",\"TFIDF(Without FE)\",\"1\",\"88.14%\",\"0.948\"])\n",
    "z.add_row([\"3\",\"BOW (With FE)\",\"1\",\"89.03%\",\"0.939\"])\n",
    "z.add_row([\"4\",\"TFIDF(With FE)\",\"1\",\"89.91%\",\"0.925\"])\n",
    "\n",
    "print(z)"
   ]
  },
  {
   "cell_type": "markdown",
   "metadata": {},
   "source": [
    "<b> <font color=\"black\"> Following are some Conclusions from the observations:- </font> </b>"
   ]
  },
  {
   "cell_type": "markdown",
   "metadata": {},
   "source": [
    " * With the Feature Engineering (addition of BOW and TFIDF implementation) of the Preprocessed Summary as well as the\n",
    "   Length of the Preprocessed Reviews there is a considerable increase in the accuracy for BOW and a slight increase\n",
    "   in the case of TFIDF Representation. \n",
    " * As far as AUC on the Test Dataset is considered there is an increase in AUC value after Feature Engineering with \n",
    "   BOW and a slight decrease in AUC for TFIDF AUC with Feature Engineering. \n",
    "   \n",
    "   Finally, we can conclude that the Models in general are performing better after the Feature Engineering that has\n",
    "   been carried out."
   ]
  }
 ],
 "metadata": {
  "colab": {
   "name": "04 Amazon Fine Food Reviews Analysis_NaiveBayes.ipynb",
   "provenance": [],
   "version": "0.3.2"
  },
  "kernelspec": {
   "display_name": "Python 3",
   "language": "python",
   "name": "python3"
  },
  "language_info": {
   "codemirror_mode": {
    "name": "ipython",
    "version": 3
   },
   "file_extension": ".py",
   "mimetype": "text/x-python",
   "name": "python",
   "nbconvert_exporter": "python",
   "pygments_lexer": "ipython3",
   "version": "3.7.1"
  }
 },
 "nbformat": 4,
 "nbformat_minor": 1
}
