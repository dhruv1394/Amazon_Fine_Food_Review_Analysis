{
 "cells": [
  {
   "cell_type": "markdown",
   "metadata": {
    "colab_type": "text",
    "id": "AM7jsfwALPlp"
   },
   "source": [
    "# Amazon Fine Food Reviews Analysis\n",
    "\n",
    "\n",
    "Data Source: https://www.kaggle.com/snap/amazon-fine-food-reviews <br>\n",
    "\n",
    "EDA: https://nycdatascience.com/blog/student-works/amazon-fine-foods-visualization/\n",
    "\n",
    "\n",
    "The Amazon Fine Food Reviews dataset consists of reviews of fine foods from Amazon.<br>\n",
    "\n",
    "Number of reviews: 568,454<br>\n",
    "Number of users: 256,059<br>\n",
    "Number of products: 74,258<br>\n",
    "Timespan: Oct 1999 - Oct 2012<br>\n",
    "Number of Attributes/Columns in data: 10 \n",
    "\n",
    "Attribute Information:\n",
    "\n",
    "1. Id\n",
    "2. ProductId - unique identifier for the product\n",
    "3. UserId - unqiue identifier for the user\n",
    "4. ProfileName\n",
    "5. HelpfulnessNumerator - number of users who found the review helpful\n",
    "6. HelpfulnessDenominator - number of users who indicated whether they found the review helpful or not\n",
    "7. Score - rating between 1 and 5\n",
    "8. Time - timestamp for the review\n",
    "9. Summary - brief summary of the review\n",
    "10. Text - text of the review\n",
    "\n",
    "\n",
    "#### Objective:\n",
    "Given a review, determine whether the review is positive (rating of 4 or 5) or negative (rating of 1 or 2).\n",
    "\n",
    "<br>\n",
    "[Q] How to determine if a review is positive or negative?<br>\n",
    "<br> \n",
    "[Ans] We could use Score/Rating. A rating of 4 or 5 can be cosnidered as a positive review. A rating of 1 or 2 can be considered as negative one. A review of rating 3 is considered nuetral and such reviews are ignored from our analysis. This is an approximate and proxy way of determining the polarity (positivity/negativity) of a review.\n",
    "\n",
    "\n"
   ]
  },
  {
   "cell_type": "markdown",
   "metadata": {
    "colab_type": "text",
    "id": "CaQ7XJ4OLPls"
   },
   "source": [
    "# [1]. Reading Data"
   ]
  },
  {
   "cell_type": "markdown",
   "metadata": {
    "colab_type": "text",
    "id": "5VnEBjKRLPlu"
   },
   "source": [
    "## [1.1] Loading the data\n",
    "\n",
    "The dataset is available in two forms\n",
    "1. .csv file\n",
    "2. SQLite Database\n",
    "\n",
    "In order to load the data, We have used the SQLITE dataset as it is easier to query the data and visualise the data efficiently.\n",
    "<br> \n",
    "\n",
    "Here as we only want to get the global sentiment of the recommendations (positive or negative), we will purposefully ignore all Scores equal to 3. If the score is above 3, then the recommendation wil be set to \"positive\". Otherwise, it will be set to \"negative\"."
   ]
  },
  {
   "cell_type": "code",
   "execution_count": 1,
   "metadata": {
    "colab": {},
    "colab_type": "code",
    "id": "x6YclOzXLPlv"
   },
   "outputs": [],
   "source": [
    "%matplotlib inline\n",
    "import warnings\n",
    "warnings.filterwarnings(\"ignore\")\n",
    "\n",
    "\n",
    "import sqlite3\n",
    "import pandas as pd\n",
    "import numpy as np\n",
    "import nltk\n",
    "import string\n",
    "import matplotlib.pyplot as plt\n",
    "import seaborn as sns\n",
    "from sklearn.feature_extraction.text import TfidfTransformer\n",
    "from sklearn.feature_extraction.text import TfidfVectorizer\n",
    "\n",
    "from sklearn.feature_extraction.text import CountVectorizer\n",
    "from sklearn.metrics import confusion_matrix\n",
    "from sklearn import metrics\n",
    "from sklearn.metrics import roc_curve, auc\n",
    "from nltk.stem.porter import PorterStemmer\n",
    "\n",
    "import re\n",
    "# Tutorial about Python regular expressions: https://pymotw.com/2/re/\n",
    "import string\n",
    "from nltk.corpus import stopwords\n",
    "from nltk.stem import PorterStemmer\n",
    "from nltk.stem.wordnet import WordNetLemmatizer\n",
    "\n",
    "from gensim.models import Word2Vec\n",
    "from gensim.models import KeyedVectors\n",
    "import pickle\n",
    "\n",
    "from tqdm import tqdm\n",
    "import os"
   ]
  },
  {
   "cell_type": "code",
   "execution_count": 2,
   "metadata": {
    "colab": {},
    "colab_type": "code",
    "id": "NZ4OSpSiLPl0",
    "outputId": "241c4c64-6186-4351-e38f-fcd06c6896dd"
   },
   "outputs": [
    {
     "name": "stdout",
     "output_type": "stream",
     "text": [
      "Number of data points in our data (200000, 10)\n"
     ]
    },
    {
     "data": {
      "text/html": [
       "<div>\n",
       "<style scoped>\n",
       "    .dataframe tbody tr th:only-of-type {\n",
       "        vertical-align: middle;\n",
       "    }\n",
       "\n",
       "    .dataframe tbody tr th {\n",
       "        vertical-align: top;\n",
       "    }\n",
       "\n",
       "    .dataframe thead th {\n",
       "        text-align: right;\n",
       "    }\n",
       "</style>\n",
       "<table border=\"1\" class=\"dataframe\">\n",
       "  <thead>\n",
       "    <tr style=\"text-align: right;\">\n",
       "      <th></th>\n",
       "      <th>Id</th>\n",
       "      <th>ProductId</th>\n",
       "      <th>UserId</th>\n",
       "      <th>ProfileName</th>\n",
       "      <th>HelpfulnessNumerator</th>\n",
       "      <th>HelpfulnessDenominator</th>\n",
       "      <th>Score</th>\n",
       "      <th>Time</th>\n",
       "      <th>Summary</th>\n",
       "      <th>Text</th>\n",
       "    </tr>\n",
       "  </thead>\n",
       "  <tbody>\n",
       "    <tr>\n",
       "      <th>0</th>\n",
       "      <td>1</td>\n",
       "      <td>B001E4KFG0</td>\n",
       "      <td>A3SGXH7AUHU8GW</td>\n",
       "      <td>delmartian</td>\n",
       "      <td>1</td>\n",
       "      <td>1</td>\n",
       "      <td>1</td>\n",
       "      <td>1303862400</td>\n",
       "      <td>Good Quality Dog Food</td>\n",
       "      <td>I have bought several of the Vitality canned d...</td>\n",
       "    </tr>\n",
       "    <tr>\n",
       "      <th>1</th>\n",
       "      <td>2</td>\n",
       "      <td>B00813GRG4</td>\n",
       "      <td>A1D87F6ZCVE5NK</td>\n",
       "      <td>dll pa</td>\n",
       "      <td>0</td>\n",
       "      <td>0</td>\n",
       "      <td>0</td>\n",
       "      <td>1346976000</td>\n",
       "      <td>Not as Advertised</td>\n",
       "      <td>Product arrived labeled as Jumbo Salted Peanut...</td>\n",
       "    </tr>\n",
       "    <tr>\n",
       "      <th>2</th>\n",
       "      <td>3</td>\n",
       "      <td>B000LQOCH0</td>\n",
       "      <td>ABXLMWJIXXAIN</td>\n",
       "      <td>Natalia Corres \"Natalia Corres\"</td>\n",
       "      <td>1</td>\n",
       "      <td>1</td>\n",
       "      <td>1</td>\n",
       "      <td>1219017600</td>\n",
       "      <td>\"Delight\" says it all</td>\n",
       "      <td>This is a confection that has been around a fe...</td>\n",
       "    </tr>\n",
       "  </tbody>\n",
       "</table>\n",
       "</div>"
      ],
      "text/plain": [
       "   Id   ProductId          UserId                      ProfileName  \\\n",
       "0   1  B001E4KFG0  A3SGXH7AUHU8GW                       delmartian   \n",
       "1   2  B00813GRG4  A1D87F6ZCVE5NK                           dll pa   \n",
       "2   3  B000LQOCH0   ABXLMWJIXXAIN  Natalia Corres \"Natalia Corres\"   \n",
       "\n",
       "   HelpfulnessNumerator  HelpfulnessDenominator  Score        Time  \\\n",
       "0                     1                       1      1  1303862400   \n",
       "1                     0                       0      0  1346976000   \n",
       "2                     1                       1      1  1219017600   \n",
       "\n",
       "                 Summary                                               Text  \n",
       "0  Good Quality Dog Food  I have bought several of the Vitality canned d...  \n",
       "1      Not as Advertised  Product arrived labeled as Jumbo Salted Peanut...  \n",
       "2  \"Delight\" says it all  This is a confection that has been around a fe...  "
      ]
     },
     "execution_count": 2,
     "metadata": {},
     "output_type": "execute_result"
    }
   ],
   "source": [
    "# using SQLite Table to read data.\n",
    "con = sqlite3.connect('database.sqlite') \n",
    "\n",
    "# filtering only positive and negative reviews i.e. \n",
    "# not taking into consideration those reviews with Score=3\n",
    "# SELECT * FROM Reviews WHERE Score != 3 LIMIT 500000, will give top 500000 data points\n",
    "# you can change the number to any other number based on your computing power\n",
    "\n",
    "# filtered_data = pd.read_sql_query(\"\"\" SELECT * FROM Reviews WHERE Score != 3 LIMIT 500000\"\"\", con) \n",
    "# for tsne assignment you can take 5k data points\n",
    "\n",
    "filtered_data = pd.read_sql_query(\"\"\" SELECT * FROM Reviews WHERE Score != 3 LIMIT 200000\"\"\", con) \n",
    "\n",
    "# Give reviews with Score>3 a positive rating(1), and reviews with a score<3 a negative rating(0).\n",
    "def partition(x):\n",
    "    if x < 3:\n",
    "        return 0\n",
    "    return 1\n",
    "\n",
    "#changing reviews with score less than 3 to be positive and vice-versa\n",
    "actualScore = filtered_data['Score']\n",
    "positiveNegative = actualScore.map(partition) \n",
    "filtered_data['Score'] = positiveNegative\n",
    "print(\"Number of data points in our data\", filtered_data.shape)\n",
    "filtered_data.head(3)"
   ]
  },
  {
   "cell_type": "code",
   "execution_count": 3,
   "metadata": {
    "colab": {},
    "colab_type": "code",
    "id": "r44Y4VDjLPl7"
   },
   "outputs": [],
   "source": [
    "display = pd.read_sql_query(\"\"\"\n",
    "SELECT UserId, ProductId, ProfileName, Time, Score, Text, COUNT(*)\n",
    "FROM Reviews\n",
    "GROUP BY UserId\n",
    "HAVING COUNT(*)>1\n",
    "\"\"\", con)"
   ]
  },
  {
   "cell_type": "code",
   "execution_count": 4,
   "metadata": {
    "colab": {},
    "colab_type": "code",
    "id": "tTwINQv1LPl_",
    "outputId": "0385b9ca-0a35-4c2b-b656-8e8494414e6f",
    "scrolled": true
   },
   "outputs": [
    {
     "name": "stdout",
     "output_type": "stream",
     "text": [
      "(80668, 7)\n"
     ]
    },
    {
     "data": {
      "text/html": [
       "<div>\n",
       "<style scoped>\n",
       "    .dataframe tbody tr th:only-of-type {\n",
       "        vertical-align: middle;\n",
       "    }\n",
       "\n",
       "    .dataframe tbody tr th {\n",
       "        vertical-align: top;\n",
       "    }\n",
       "\n",
       "    .dataframe thead th {\n",
       "        text-align: right;\n",
       "    }\n",
       "</style>\n",
       "<table border=\"1\" class=\"dataframe\">\n",
       "  <thead>\n",
       "    <tr style=\"text-align: right;\">\n",
       "      <th></th>\n",
       "      <th>UserId</th>\n",
       "      <th>ProductId</th>\n",
       "      <th>ProfileName</th>\n",
       "      <th>Time</th>\n",
       "      <th>Score</th>\n",
       "      <th>Text</th>\n",
       "      <th>COUNT(*)</th>\n",
       "    </tr>\n",
       "  </thead>\n",
       "  <tbody>\n",
       "    <tr>\n",
       "      <th>0</th>\n",
       "      <td>#oc-R115TNMSPFT9I7</td>\n",
       "      <td>B005ZBZLT4</td>\n",
       "      <td>Breyton</td>\n",
       "      <td>1331510400</td>\n",
       "      <td>2</td>\n",
       "      <td>Overall its just OK when considering the price...</td>\n",
       "      <td>2</td>\n",
       "    </tr>\n",
       "    <tr>\n",
       "      <th>1</th>\n",
       "      <td>#oc-R11D9D7SHXIJB9</td>\n",
       "      <td>B005HG9ESG</td>\n",
       "      <td>Louis E. Emory \"hoppy\"</td>\n",
       "      <td>1342396800</td>\n",
       "      <td>5</td>\n",
       "      <td>My wife has recurring extreme muscle spasms, u...</td>\n",
       "      <td>3</td>\n",
       "    </tr>\n",
       "    <tr>\n",
       "      <th>2</th>\n",
       "      <td>#oc-R11DNU2NBKQ23Z</td>\n",
       "      <td>B005ZBZLT4</td>\n",
       "      <td>Kim Cieszykowski</td>\n",
       "      <td>1348531200</td>\n",
       "      <td>1</td>\n",
       "      <td>This coffee is horrible and unfortunately not ...</td>\n",
       "      <td>2</td>\n",
       "    </tr>\n",
       "    <tr>\n",
       "      <th>3</th>\n",
       "      <td>#oc-R11O5J5ZVQE25C</td>\n",
       "      <td>B005HG9ESG</td>\n",
       "      <td>Penguin Chick</td>\n",
       "      <td>1346889600</td>\n",
       "      <td>5</td>\n",
       "      <td>This will be the bottle that you grab from the...</td>\n",
       "      <td>3</td>\n",
       "    </tr>\n",
       "    <tr>\n",
       "      <th>4</th>\n",
       "      <td>#oc-R12KPBODL2B5ZD</td>\n",
       "      <td>B007OSBEV0</td>\n",
       "      <td>Christopher P. Presta</td>\n",
       "      <td>1348617600</td>\n",
       "      <td>1</td>\n",
       "      <td>I didnt like this coffee. Instead of telling y...</td>\n",
       "      <td>2</td>\n",
       "    </tr>\n",
       "  </tbody>\n",
       "</table>\n",
       "</div>"
      ],
      "text/plain": [
       "               UserId   ProductId             ProfileName        Time  Score  \\\n",
       "0  #oc-R115TNMSPFT9I7  B005ZBZLT4                 Breyton  1331510400      2   \n",
       "1  #oc-R11D9D7SHXIJB9  B005HG9ESG  Louis E. Emory \"hoppy\"  1342396800      5   \n",
       "2  #oc-R11DNU2NBKQ23Z  B005ZBZLT4        Kim Cieszykowski  1348531200      1   \n",
       "3  #oc-R11O5J5ZVQE25C  B005HG9ESG           Penguin Chick  1346889600      5   \n",
       "4  #oc-R12KPBODL2B5ZD  B007OSBEV0   Christopher P. Presta  1348617600      1   \n",
       "\n",
       "                                                Text  COUNT(*)  \n",
       "0  Overall its just OK when considering the price...         2  \n",
       "1  My wife has recurring extreme muscle spasms, u...         3  \n",
       "2  This coffee is horrible and unfortunately not ...         2  \n",
       "3  This will be the bottle that you grab from the...         3  \n",
       "4  I didnt like this coffee. Instead of telling y...         2  "
      ]
     },
     "execution_count": 4,
     "metadata": {},
     "output_type": "execute_result"
    }
   ],
   "source": [
    "print(display.shape)\n",
    "display.head()"
   ]
  },
  {
   "cell_type": "code",
   "execution_count": 5,
   "metadata": {
    "colab": {},
    "colab_type": "code",
    "id": "EOslHQgnLPmF",
    "outputId": "cb28598d-470a-42bb-e742-4763f953c8cb"
   },
   "outputs": [
    {
     "data": {
      "text/html": [
       "<div>\n",
       "<style scoped>\n",
       "    .dataframe tbody tr th:only-of-type {\n",
       "        vertical-align: middle;\n",
       "    }\n",
       "\n",
       "    .dataframe tbody tr th {\n",
       "        vertical-align: top;\n",
       "    }\n",
       "\n",
       "    .dataframe thead th {\n",
       "        text-align: right;\n",
       "    }\n",
       "</style>\n",
       "<table border=\"1\" class=\"dataframe\">\n",
       "  <thead>\n",
       "    <tr style=\"text-align: right;\">\n",
       "      <th></th>\n",
       "      <th>UserId</th>\n",
       "      <th>ProductId</th>\n",
       "      <th>ProfileName</th>\n",
       "      <th>Time</th>\n",
       "      <th>Score</th>\n",
       "      <th>Text</th>\n",
       "      <th>COUNT(*)</th>\n",
       "    </tr>\n",
       "  </thead>\n",
       "  <tbody>\n",
       "    <tr>\n",
       "      <th>80638</th>\n",
       "      <td>AZY10LLTJ71NX</td>\n",
       "      <td>B001ATMQK2</td>\n",
       "      <td>undertheshrine \"undertheshrine\"</td>\n",
       "      <td>1296691200</td>\n",
       "      <td>5</td>\n",
       "      <td>I bought this 6 pack because for the price tha...</td>\n",
       "      <td>5</td>\n",
       "    </tr>\n",
       "  </tbody>\n",
       "</table>\n",
       "</div>"
      ],
      "text/plain": [
       "              UserId   ProductId                      ProfileName        Time  \\\n",
       "80638  AZY10LLTJ71NX  B001ATMQK2  undertheshrine \"undertheshrine\"  1296691200   \n",
       "\n",
       "       Score                                               Text  COUNT(*)  \n",
       "80638      5  I bought this 6 pack because for the price tha...         5  "
      ]
     },
     "execution_count": 5,
     "metadata": {},
     "output_type": "execute_result"
    }
   ],
   "source": [
    "display[display['UserId']=='AZY10LLTJ71NX']"
   ]
  },
  {
   "cell_type": "code",
   "execution_count": 6,
   "metadata": {
    "colab": {},
    "colab_type": "code",
    "id": "pSwF4sdoLPmM",
    "outputId": "2f3bd7f2-0eea-45f7-eab6-bf08c630d9a3"
   },
   "outputs": [
    {
     "data": {
      "text/plain": [
       "393063"
      ]
     },
     "execution_count": 6,
     "metadata": {},
     "output_type": "execute_result"
    }
   ],
   "source": [
    "display['COUNT(*)'].sum()"
   ]
  },
  {
   "cell_type": "markdown",
   "metadata": {
    "colab_type": "text",
    "id": "PuNkhjz0LPmQ"
   },
   "source": [
    "#  [2] Exploratory Data Analysis"
   ]
  },
  {
   "cell_type": "markdown",
   "metadata": {
    "colab_type": "text",
    "id": "oCJaTWrTLPmS"
   },
   "source": [
    "## [2.1] Data Cleaning: Deduplication\n",
    "\n",
    "It is observed (as shown in the table below) that the reviews data had many duplicate entries. Hence it was necessary to remove duplicates in order to get unbiased results for the analysis of the data.  Following is an example:"
   ]
  },
  {
   "cell_type": "code",
   "execution_count": 7,
   "metadata": {
    "colab": {},
    "colab_type": "code",
    "id": "3lvzRwWVLPmT",
    "outputId": "96ba6f90-6c40-4972-ecd2-d2d208e48877",
    "scrolled": false
   },
   "outputs": [
    {
     "data": {
      "text/html": [
       "<div>\n",
       "<style scoped>\n",
       "    .dataframe tbody tr th:only-of-type {\n",
       "        vertical-align: middle;\n",
       "    }\n",
       "\n",
       "    .dataframe tbody tr th {\n",
       "        vertical-align: top;\n",
       "    }\n",
       "\n",
       "    .dataframe thead th {\n",
       "        text-align: right;\n",
       "    }\n",
       "</style>\n",
       "<table border=\"1\" class=\"dataframe\">\n",
       "  <thead>\n",
       "    <tr style=\"text-align: right;\">\n",
       "      <th></th>\n",
       "      <th>Id</th>\n",
       "      <th>ProductId</th>\n",
       "      <th>UserId</th>\n",
       "      <th>ProfileName</th>\n",
       "      <th>HelpfulnessNumerator</th>\n",
       "      <th>HelpfulnessDenominator</th>\n",
       "      <th>Score</th>\n",
       "      <th>Time</th>\n",
       "      <th>Summary</th>\n",
       "      <th>Text</th>\n",
       "    </tr>\n",
       "  </thead>\n",
       "  <tbody>\n",
       "    <tr>\n",
       "      <th>0</th>\n",
       "      <td>78445</td>\n",
       "      <td>B000HDL1RQ</td>\n",
       "      <td>AR5J8UI46CURR</td>\n",
       "      <td>Geetha Krishnan</td>\n",
       "      <td>2</td>\n",
       "      <td>2</td>\n",
       "      <td>5</td>\n",
       "      <td>1199577600</td>\n",
       "      <td>LOACKER QUADRATINI VANILLA WAFERS</td>\n",
       "      <td>DELICIOUS WAFERS. I FIND THAT EUROPEAN WAFERS ...</td>\n",
       "    </tr>\n",
       "    <tr>\n",
       "      <th>1</th>\n",
       "      <td>138317</td>\n",
       "      <td>B000HDOPYC</td>\n",
       "      <td>AR5J8UI46CURR</td>\n",
       "      <td>Geetha Krishnan</td>\n",
       "      <td>2</td>\n",
       "      <td>2</td>\n",
       "      <td>5</td>\n",
       "      <td>1199577600</td>\n",
       "      <td>LOACKER QUADRATINI VANILLA WAFERS</td>\n",
       "      <td>DELICIOUS WAFERS. I FIND THAT EUROPEAN WAFERS ...</td>\n",
       "    </tr>\n",
       "    <tr>\n",
       "      <th>2</th>\n",
       "      <td>138277</td>\n",
       "      <td>B000HDOPYM</td>\n",
       "      <td>AR5J8UI46CURR</td>\n",
       "      <td>Geetha Krishnan</td>\n",
       "      <td>2</td>\n",
       "      <td>2</td>\n",
       "      <td>5</td>\n",
       "      <td>1199577600</td>\n",
       "      <td>LOACKER QUADRATINI VANILLA WAFERS</td>\n",
       "      <td>DELICIOUS WAFERS. I FIND THAT EUROPEAN WAFERS ...</td>\n",
       "    </tr>\n",
       "    <tr>\n",
       "      <th>3</th>\n",
       "      <td>73791</td>\n",
       "      <td>B000HDOPZG</td>\n",
       "      <td>AR5J8UI46CURR</td>\n",
       "      <td>Geetha Krishnan</td>\n",
       "      <td>2</td>\n",
       "      <td>2</td>\n",
       "      <td>5</td>\n",
       "      <td>1199577600</td>\n",
       "      <td>LOACKER QUADRATINI VANILLA WAFERS</td>\n",
       "      <td>DELICIOUS WAFERS. I FIND THAT EUROPEAN WAFERS ...</td>\n",
       "    </tr>\n",
       "    <tr>\n",
       "      <th>4</th>\n",
       "      <td>155049</td>\n",
       "      <td>B000PAQ75C</td>\n",
       "      <td>AR5J8UI46CURR</td>\n",
       "      <td>Geetha Krishnan</td>\n",
       "      <td>2</td>\n",
       "      <td>2</td>\n",
       "      <td>5</td>\n",
       "      <td>1199577600</td>\n",
       "      <td>LOACKER QUADRATINI VANILLA WAFERS</td>\n",
       "      <td>DELICIOUS WAFERS. I FIND THAT EUROPEAN WAFERS ...</td>\n",
       "    </tr>\n",
       "  </tbody>\n",
       "</table>\n",
       "</div>"
      ],
      "text/plain": [
       "       Id   ProductId         UserId      ProfileName  HelpfulnessNumerator  \\\n",
       "0   78445  B000HDL1RQ  AR5J8UI46CURR  Geetha Krishnan                     2   \n",
       "1  138317  B000HDOPYC  AR5J8UI46CURR  Geetha Krishnan                     2   \n",
       "2  138277  B000HDOPYM  AR5J8UI46CURR  Geetha Krishnan                     2   \n",
       "3   73791  B000HDOPZG  AR5J8UI46CURR  Geetha Krishnan                     2   \n",
       "4  155049  B000PAQ75C  AR5J8UI46CURR  Geetha Krishnan                     2   \n",
       "\n",
       "   HelpfulnessDenominator  Score        Time  \\\n",
       "0                       2      5  1199577600   \n",
       "1                       2      5  1199577600   \n",
       "2                       2      5  1199577600   \n",
       "3                       2      5  1199577600   \n",
       "4                       2      5  1199577600   \n",
       "\n",
       "                             Summary  \\\n",
       "0  LOACKER QUADRATINI VANILLA WAFERS   \n",
       "1  LOACKER QUADRATINI VANILLA WAFERS   \n",
       "2  LOACKER QUADRATINI VANILLA WAFERS   \n",
       "3  LOACKER QUADRATINI VANILLA WAFERS   \n",
       "4  LOACKER QUADRATINI VANILLA WAFERS   \n",
       "\n",
       "                                                Text  \n",
       "0  DELICIOUS WAFERS. I FIND THAT EUROPEAN WAFERS ...  \n",
       "1  DELICIOUS WAFERS. I FIND THAT EUROPEAN WAFERS ...  \n",
       "2  DELICIOUS WAFERS. I FIND THAT EUROPEAN WAFERS ...  \n",
       "3  DELICIOUS WAFERS. I FIND THAT EUROPEAN WAFERS ...  \n",
       "4  DELICIOUS WAFERS. I FIND THAT EUROPEAN WAFERS ...  "
      ]
     },
     "execution_count": 7,
     "metadata": {},
     "output_type": "execute_result"
    }
   ],
   "source": [
    "display= pd.read_sql_query(\"\"\"\n",
    "SELECT *\n",
    "FROM Reviews\n",
    "WHERE Score != 3 AND UserId=\"AR5J8UI46CURR\"\n",
    "ORDER BY ProductID\n",
    "\"\"\", con)\n",
    "display.head()"
   ]
  },
  {
   "cell_type": "markdown",
   "metadata": {
    "colab_type": "text",
    "id": "uT7p9_deLPmb"
   },
   "source": [
    "As it can be seen above that same user has multiple reviews with same values for HelpfulnessNumerator, HelpfulnessDenominator, Score, Time, Summary and Text and on doing analysis it was found that <br>\n",
    "<br> \n",
    "ProductId=B000HDOPZG was Loacker Quadratini Vanilla Wafer Cookies, 8.82-Ounce Packages (Pack of 8)<br>\n",
    "<br> \n",
    "ProductId=B000HDL1RQ was Loacker Quadratini Lemon Wafer Cookies, 8.82-Ounce Packages (Pack of 8) and so on<br>\n",
    "\n",
    "It was inferred after analysis that reviews with same parameters other than ProductId belonged to the same product just having different flavour or quantity. Hence in order to reduce redundancy it was decided to eliminate the rows having same parameters.<br>\n",
    "\n",
    "The method used for the same was that we first sort the data according to ProductId and then just keep the first similar product review and delelte the others. for eg. in the above just the review for ProductId=B000HDL1RQ remains. This method ensures that there is only one representative for each product and deduplication without sorting would lead to possibility of different representatives still existing for the same product."
   ]
  },
  {
   "cell_type": "code",
   "execution_count": 8,
   "metadata": {
    "colab": {},
    "colab_type": "code",
    "id": "mdsKFc50LPme"
   },
   "outputs": [],
   "source": [
    "#Sorting data according to ProductId in ascending order\n",
    "sorted_data=filtered_data.sort_values('ProductId', axis=0, ascending=True, inplace=False, kind='quicksort', na_position='last')"
   ]
  },
  {
   "cell_type": "code",
   "execution_count": 9,
   "metadata": {
    "colab": {},
    "colab_type": "code",
    "id": "2itLgX-NLPmk",
    "outputId": "ac765625-dfdc-4e4e-f886-bd3b7ca3635a"
   },
   "outputs": [
    {
     "data": {
      "text/plain": [
       "(160178, 10)"
      ]
     },
     "execution_count": 9,
     "metadata": {},
     "output_type": "execute_result"
    }
   ],
   "source": [
    "#Deduplication of entries\n",
    "final=sorted_data.drop_duplicates(subset={\"UserId\",\"ProfileName\",\"Time\",\"Text\"}, keep='first', inplace=False)\n",
    "final.shape"
   ]
  },
  {
   "cell_type": "code",
   "execution_count": 10,
   "metadata": {
    "colab": {},
    "colab_type": "code",
    "id": "IBU4iZk4LPmt",
    "outputId": "ceeba223-fe3f-407a-b4e5-0d46c08f69dd"
   },
   "outputs": [
    {
     "data": {
      "text/plain": [
       "80.089"
      ]
     },
     "execution_count": 10,
     "metadata": {},
     "output_type": "execute_result"
    }
   ],
   "source": [
    "#Checking to see how much % of data still remains\n",
    "(final['Id'].size*1.0)/(filtered_data['Id'].size*1.0)*100"
   ]
  },
  {
   "cell_type": "markdown",
   "metadata": {
    "colab_type": "text",
    "id": "gFBOfSe4LPmy"
   },
   "source": [
    "<b>Observation:-</b> It was also seen that in two rows given below the value of HelpfulnessNumerator is greater than HelpfulnessDenominator which is not practically possible hence these two rows too are removed from calcualtions"
   ]
  },
  {
   "cell_type": "code",
   "execution_count": 11,
   "metadata": {
    "colab": {},
    "colab_type": "code",
    "id": "50flE40lLPmz",
    "outputId": "b6c7e38e-25c1-4a48-be1f-70fdf31aba13"
   },
   "outputs": [
    {
     "data": {
      "text/html": [
       "<div>\n",
       "<style scoped>\n",
       "    .dataframe tbody tr th:only-of-type {\n",
       "        vertical-align: middle;\n",
       "    }\n",
       "\n",
       "    .dataframe tbody tr th {\n",
       "        vertical-align: top;\n",
       "    }\n",
       "\n",
       "    .dataframe thead th {\n",
       "        text-align: right;\n",
       "    }\n",
       "</style>\n",
       "<table border=\"1\" class=\"dataframe\">\n",
       "  <thead>\n",
       "    <tr style=\"text-align: right;\">\n",
       "      <th></th>\n",
       "      <th>Id</th>\n",
       "      <th>ProductId</th>\n",
       "      <th>UserId</th>\n",
       "      <th>ProfileName</th>\n",
       "      <th>HelpfulnessNumerator</th>\n",
       "      <th>HelpfulnessDenominator</th>\n",
       "      <th>Score</th>\n",
       "      <th>Time</th>\n",
       "      <th>Summary</th>\n",
       "      <th>Text</th>\n",
       "    </tr>\n",
       "  </thead>\n",
       "  <tbody>\n",
       "    <tr>\n",
       "      <th>0</th>\n",
       "      <td>64422</td>\n",
       "      <td>B000MIDROQ</td>\n",
       "      <td>A161DK06JJMCYF</td>\n",
       "      <td>J. E. Stephens \"Jeanne\"</td>\n",
       "      <td>3</td>\n",
       "      <td>1</td>\n",
       "      <td>5</td>\n",
       "      <td>1224892800</td>\n",
       "      <td>Bought This for My Son at College</td>\n",
       "      <td>My son loves spaghetti so I didn't hesitate or...</td>\n",
       "    </tr>\n",
       "    <tr>\n",
       "      <th>1</th>\n",
       "      <td>44737</td>\n",
       "      <td>B001EQ55RW</td>\n",
       "      <td>A2V0I904FH7ABY</td>\n",
       "      <td>Ram</td>\n",
       "      <td>3</td>\n",
       "      <td>2</td>\n",
       "      <td>4</td>\n",
       "      <td>1212883200</td>\n",
       "      <td>Pure cocoa taste with crunchy almonds inside</td>\n",
       "      <td>It was almost a 'love at first bite' - the per...</td>\n",
       "    </tr>\n",
       "  </tbody>\n",
       "</table>\n",
       "</div>"
      ],
      "text/plain": [
       "      Id   ProductId          UserId              ProfileName  \\\n",
       "0  64422  B000MIDROQ  A161DK06JJMCYF  J. E. Stephens \"Jeanne\"   \n",
       "1  44737  B001EQ55RW  A2V0I904FH7ABY                      Ram   \n",
       "\n",
       "   HelpfulnessNumerator  HelpfulnessDenominator  Score        Time  \\\n",
       "0                     3                       1      5  1224892800   \n",
       "1                     3                       2      4  1212883200   \n",
       "\n",
       "                                        Summary  \\\n",
       "0             Bought This for My Son at College   \n",
       "1  Pure cocoa taste with crunchy almonds inside   \n",
       "\n",
       "                                                Text  \n",
       "0  My son loves spaghetti so I didn't hesitate or...  \n",
       "1  It was almost a 'love at first bite' - the per...  "
      ]
     },
     "execution_count": 11,
     "metadata": {},
     "output_type": "execute_result"
    }
   ],
   "source": [
    "display= pd.read_sql_query(\"\"\"\n",
    "SELECT *\n",
    "FROM Reviews\n",
    "WHERE Score != 3 AND Id=44737 OR Id=64422\n",
    "ORDER BY ProductID\n",
    "\"\"\", con)\n",
    "\n",
    "display.head()"
   ]
  },
  {
   "cell_type": "code",
   "execution_count": 12,
   "metadata": {
    "colab": {},
    "colab_type": "code",
    "id": "0YTPJMLTLPm7"
   },
   "outputs": [],
   "source": [
    "final=final[final.HelpfulnessNumerator<=final.HelpfulnessDenominator]"
   ]
  },
  {
   "cell_type": "code",
   "execution_count": 13,
   "metadata": {
    "colab": {},
    "colab_type": "code",
    "id": "LVJ_l-x2LPnC",
    "outputId": "d4a19c7a-16fe-4b5b-c3d1-aa1ef0f948a0"
   },
   "outputs": [
    {
     "name": "stdout",
     "output_type": "stream",
     "text": [
      "(160176, 10)\n"
     ]
    },
    {
     "data": {
      "text/plain": [
       "1    134799\n",
       "0     25377\n",
       "Name: Score, dtype: int64"
      ]
     },
     "execution_count": 13,
     "metadata": {},
     "output_type": "execute_result"
    }
   ],
   "source": [
    "#Before starting the next phase of preprocessing lets see the number of entries left\n",
    "print(final.shape)\n",
    "\n",
    "#How many positive and negative reviews are present in our dataset?\n",
    "final['Score'].value_counts()"
   ]
  },
  {
   "cell_type": "markdown",
   "metadata": {
    "colab_type": "text",
    "id": "GrTYWzYrLPnH"
   },
   "source": [
    "#  [3] Preprocessing"
   ]
  },
  {
   "cell_type": "markdown",
   "metadata": {
    "colab_type": "text",
    "id": "zbvLitZeLPnI"
   },
   "source": [
    "## [3.1].  Preprocessing Review Text\n",
    "\n",
    "Now that we have finished deduplication our data requires some preprocessing before we go on further with analysis and making the prediction model.\n",
    "\n",
    "Hence in the Preprocessing phase we do the following in the order below:-\n",
    "\n",
    "1. Begin by removing the html tags\n",
    "2. Remove any punctuations or limited set of special characters like , or . or # etc.\n",
    "3. Check if the word is made up of english letters and is not alpha-numeric\n",
    "4. Check to see if the length of the word is greater than 2 (as it was researched that there is no adjective in 2-letters)\n",
    "5. Convert the word to lowercase\n",
    "6. Remove Stopwords\n",
    "7. Finally Snowball Stemming the word (it was obsereved to be better than Porter Stemming)<br>\n",
    "\n",
    "After which we collect the words used to describe positive and negative reviews"
   ]
  },
  {
   "cell_type": "code",
   "execution_count": 14,
   "metadata": {
    "colab": {},
    "colab_type": "code",
    "id": "yYDc0ZXALPnK",
    "outputId": "5403fab9-796a-493d-f9d3-2a410d004f64"
   },
   "outputs": [
    {
     "name": "stdout",
     "output_type": "stream",
     "text": [
      "I remembered this book from my childhood and got it for my kids.  It's just as good as I remembered and my kids love it too.  My older daughter now reads it to her sister.  Good rhymes and nice pictures.\n",
      "==================================================\n",
      "The qualitys not as good as the lamb and rice but it didn't seem to bother his stomach, you get 10 more pounds and it is cheaper wich is a plus for me. You can always ad your own rice and veggies. Its fresher that way and better for him in my opinion. Plus if you you can get it deliverd to your house for free its even better.  Gotta love pitbulls\n",
      "==================================================\n",
      "This is the Japanese version of breadcrumb (pan=bread, a Portuguese loan-word, and&quot;ko-&quot;  is &quot;child of&quot; or of &quot;derived from&quot;.) Panko are used for katsudon, tonkatsu or cutlets served on rice or in soups. The cutlets, pounded chicken or pork, are coated with these light and crispy crumbs and fried. They are not gritty and dense like regular crumbs. They are very nice on deep fried shrimps and decorative for a more gourmet touch.\n",
      "==================================================\n",
      "What can I say... If Douwe Egberts was good enough for my dutch grandmother, it's perfect for me.  I like this flavor best with my Senseo... It has a nice dark full body flavor without the burt bean taste I tend sense with starbucks.  It's a shame most americans haven't bought into single serve coffe makers as our Dutch counter parts have.  Every cup is fresh brewed and doesn't sit long enough on my desk to get that old taste either.\n",
      "==================================================\n"
     ]
    }
   ],
   "source": [
    "# printing some random reviews\n",
    "sent_0 = final['Text'].values[0]\n",
    "print(sent_0)\n",
    "print(\"=\"*50)\n",
    "\n",
    "sent_1000 = final['Text'].values[1000]\n",
    "print(sent_1000)\n",
    "print(\"=\"*50)\n",
    "\n",
    "sent_1500 = final['Text'].values[1500]\n",
    "print(sent_1500)\n",
    "print(\"=\"*50)\n",
    "\n",
    "sent_4900 = final['Text'].values[4900]\n",
    "print(sent_4900)\n",
    "print(\"=\"*50)"
   ]
  },
  {
   "cell_type": "code",
   "execution_count": 15,
   "metadata": {
    "colab": {},
    "colab_type": "code",
    "id": "AxYh-wPiLPnS",
    "outputId": "31bddcb2-6c52-4b16-f9fb-c03d5b3bb7c8"
   },
   "outputs": [
    {
     "name": "stdout",
     "output_type": "stream",
     "text": [
      "I remembered this book from my childhood and got it for my kids.  It's just as good as I remembered and my kids love it too.  My older daughter now reads it to her sister.  Good rhymes and nice pictures.\n"
     ]
    }
   ],
   "source": [
    "# remove urls from text python: https://stackoverflow.com/a/40823105/4084039\n",
    "sent_0 = re.sub(r\"http\\S+\", \"\", sent_0)\n",
    "sent_1000 = re.sub(r\"http\\S+\", \"\", sent_1000)\n",
    "sent_150 = re.sub(r\"http\\S+\", \"\", sent_1500)\n",
    "sent_4900 = re.sub(r\"http\\S+\", \"\", sent_4900)\n",
    "\n",
    "print(sent_0)"
   ]
  },
  {
   "cell_type": "code",
   "execution_count": 16,
   "metadata": {
    "colab": {},
    "colab_type": "code",
    "id": "JMSSWjZqLPne",
    "outputId": "eb1bae4e-6f37-45ee-84a3-ef3bebf4e30a"
   },
   "outputs": [
    {
     "name": "stdout",
     "output_type": "stream",
     "text": [
      "I remembered this book from my childhood and got it for my kids.  It's just as good as I remembered and my kids love it too.  My older daughter now reads it to her sister.  Good rhymes and nice pictures.\n",
      "==================================================\n",
      "The qualitys not as good as the lamb and rice but it didn't seem to bother his stomach, you get 10 more pounds and it is cheaper wich is a plus for me. You can always ad your own rice and veggies. Its fresher that way and better for him in my opinion. Plus if you you can get it deliverd to your house for free its even better.  Gotta love pitbulls\n",
      "==================================================\n",
      "This is the Japanese version of breadcrumb (pan=bread, a Portuguese loan-word, and\"ko-\"  is \"child of\" or of \"derived from\".) Panko are used for katsudon, tonkatsu or cutlets served on rice or in soups. The cutlets, pounded chicken or pork, are coated with these light and crispy crumbs and fried. They are not gritty and dense like regular crumbs. They are very nice on deep fried shrimps and decorative for a more gourmet touch.\n",
      "==================================================\n",
      "What can I say... If Douwe Egberts was good enough for my dutch grandmother, it's perfect for me.  I like this flavor best with my Senseo... It has a nice dark full body flavor without the burt bean taste I tend sense with starbucks.  It's a shame most americans haven't bought into single serve coffe makers as our Dutch counter parts have.  Every cup is fresh brewed and doesn't sit long enough on my desk to get that old taste either.\n"
     ]
    }
   ],
   "source": [
    "# https://stackoverflow.com/questions/16206380/python-beautifulsoup-how-to-remove-all-tags-from-an-element\n",
    "from bs4 import BeautifulSoup\n",
    "\n",
    "soup = BeautifulSoup(sent_0, 'lxml')\n",
    "text = soup.get_text()\n",
    "print(text)\n",
    "print(\"=\"*50)\n",
    "\n",
    "soup = BeautifulSoup(sent_1000, 'lxml')\n",
    "text = soup.get_text()\n",
    "print(text)\n",
    "print(\"=\"*50)\n",
    "\n",
    "soup = BeautifulSoup(sent_1500, 'lxml')\n",
    "text = soup.get_text()\n",
    "print(text)\n",
    "print(\"=\"*50)\n",
    "\n",
    "soup = BeautifulSoup(sent_4900, 'lxml')\n",
    "text = soup.get_text()\n",
    "print(text)"
   ]
  },
  {
   "cell_type": "code",
   "execution_count": 17,
   "metadata": {
    "colab": {},
    "colab_type": "code",
    "id": "BEtpMkhULPnt"
   },
   "outputs": [],
   "source": [
    "# https://stackoverflow.com/a/47091490/4084039\n",
    "import re\n",
    "\n",
    "def decontracted(phrase):\n",
    "    # specific\n",
    "    phrase = re.sub(r\"won't\", \"will not\", phrase)\n",
    "    phrase = re.sub(r\"can\\'t\", \"can not\", phrase)\n",
    "\n",
    "    # general\n",
    "    phrase = re.sub(r\"n\\'t\", \" not\", phrase)\n",
    "    phrase = re.sub(r\"\\'re\", \" are\", phrase)\n",
    "    phrase = re.sub(r\"\\'s\", \" is\", phrase)\n",
    "    phrase = re.sub(r\"\\'d\", \" would\", phrase)\n",
    "    phrase = re.sub(r\"\\'ll\", \" will\", phrase)\n",
    "    phrase = re.sub(r\"\\'t\", \" not\", phrase)\n",
    "    phrase = re.sub(r\"\\'ve\", \" have\", phrase)\n",
    "    phrase = re.sub(r\"\\'m\", \" am\", phrase)\n",
    "    return phrase"
   ]
  },
  {
   "cell_type": "code",
   "execution_count": 18,
   "metadata": {
    "colab": {},
    "colab_type": "code",
    "id": "GavAnzNjLPnx",
    "outputId": "517fca9a-b1b6-4c6c-ab33-4c5ac4a5bd62"
   },
   "outputs": [
    {
     "name": "stdout",
     "output_type": "stream",
     "text": [
      "This is the Japanese version of breadcrumb (pan=bread, a Portuguese loan-word, and&quot;ko-&quot;  is &quot;child of&quot; or of &quot;derived from&quot;.) Panko are used for katsudon, tonkatsu or cutlets served on rice or in soups. The cutlets, pounded chicken or pork, are coated with these light and crispy crumbs and fried. They are not gritty and dense like regular crumbs. They are very nice on deep fried shrimps and decorative for a more gourmet touch.\n",
      "==================================================\n"
     ]
    }
   ],
   "source": [
    "sent_1500 = decontracted(sent_1500)\n",
    "print(sent_1500)\n",
    "print(\"=\"*50)"
   ]
  },
  {
   "cell_type": "code",
   "execution_count": 19,
   "metadata": {
    "colab": {},
    "colab_type": "code",
    "id": "Kl8nOoL-LPn3",
    "outputId": "16742d57-2529-4fc0-9d28-e9332dbbca97"
   },
   "outputs": [
    {
     "name": "stdout",
     "output_type": "stream",
     "text": [
      "I remembered this book from my childhood and got it for my kids.  It's just as good as I remembered and my kids love it too.  My older daughter now reads it to her sister.  Good rhymes and nice pictures.\n"
     ]
    }
   ],
   "source": [
    "#remove words with numbers python: https://stackoverflow.com/a/18082370/4084039\n",
    "sent_0 = re.sub(\"\\S*\\d\\S*\", \"\", sent_0).strip()\n",
    "print(sent_0)"
   ]
  },
  {
   "cell_type": "code",
   "execution_count": 20,
   "metadata": {
    "colab": {},
    "colab_type": "code",
    "id": "EGB6X2uxLPn7",
    "outputId": "dbd754e5-eb73-4b3a-f3c3-7b1b40952851"
   },
   "outputs": [
    {
     "name": "stdout",
     "output_type": "stream",
     "text": [
      "This is the Japanese version of breadcrumb pan bread a Portuguese loan word and quot ko quot is quot child of quot or of quot derived from quot Panko are used for katsudon tonkatsu or cutlets served on rice or in soups The cutlets pounded chicken or pork are coated with these light and crispy crumbs and fried They are not gritty and dense like regular crumbs They are very nice on deep fried shrimps and decorative for a more gourmet touch \n"
     ]
    }
   ],
   "source": [
    "#remove spacial character: https://stackoverflow.com/a/5843547/4084039\n",
    "sent_1500 = re.sub('[^A-Za-z0-9]+', ' ', sent_1500)\n",
    "print(sent_1500)"
   ]
  },
  {
   "cell_type": "code",
   "execution_count": 21,
   "metadata": {
    "colab": {},
    "colab_type": "code",
    "id": "CCurSJJ2LPn_"
   },
   "outputs": [],
   "source": [
    "# https://gist.github.com/sebleier/554280\n",
    "# we are removing the words from the stop words list: 'no', 'nor', 'not'\n",
    "# <br /><br /> ==> after the above steps, we are getting \"br br\"\n",
    "# we are including them into stop words list\n",
    "# instead of <br /> if we have <br/> these tags would have revmoved in the 1st step\n",
    "\n",
    "stopwords= set(['br', 'the', 'i', 'me', 'my', 'myself', 'we', 'our', 'ours', 'ourselves', 'you', \"you're\", \"you've\",\\\n",
    "            \"you'll\", \"you'd\", 'your', 'yours', 'yourself', 'yourselves', 'he', 'him', 'his', 'himself', \\\n",
    "            'she', \"she's\", 'her', 'hers', 'herself', 'it', \"it's\", 'its', 'itself', 'they', 'them', 'their',\\\n",
    "            'theirs', 'themselves', 'what', 'which', 'who', 'whom', 'this', 'that', \"that'll\", 'these', 'those', \\\n",
    "            'am', 'is', 'are', 'was', 'were', 'be', 'been', 'being', 'have', 'has', 'had', 'having', 'do', 'does', \\\n",
    "            'did', 'doing', 'a', 'an', 'the', 'and', 'but', 'if', 'or', 'because', 'as', 'until', 'while', 'of', \\\n",
    "            'at', 'by', 'for', 'with', 'about', 'against', 'between', 'into', 'through', 'during', 'before', 'after',\\\n",
    "            'above', 'below', 'to', 'from', 'up', 'down', 'in', 'out', 'on', 'off', 'over', 'under', 'again', 'further',\\\n",
    "            'then', 'once', 'here', 'there', 'when', 'where', 'why', 'how', 'all', 'any', 'both', 'each', 'few', 'more',\\\n",
    "            'most', 'other', 'some', 'such', 'only', 'own', 'same', 'so', 'than', 'too', 'very', \\\n",
    "            's', 't', 'can', 'will', 'just', 'don', \"don't\", 'should', \"should've\", 'now', 'd', 'll', 'm', 'o', 're', \\\n",
    "            've', 'y', 'ain', 'aren', \"aren't\", 'couldn', \"couldn't\", 'didn', \"didn't\", 'doesn', \"doesn't\", 'hadn',\\\n",
    "            \"hadn't\", 'hasn', \"hasn't\", 'haven', \"haven't\", 'isn', \"isn't\", 'ma', 'mightn', \"mightn't\", 'mustn',\\\n",
    "            \"mustn't\", 'needn', \"needn't\", 'shan', \"shan't\", 'shouldn', \"shouldn't\", 'wasn', \"wasn't\", 'weren', \"weren't\", \\\n",
    "            'won', \"won't\", 'wouldn', \"wouldn't\"])"
   ]
  },
  {
   "cell_type": "code",
   "execution_count": 22,
   "metadata": {
    "colab": {},
    "colab_type": "code",
    "id": "mFHQEvfnLPoF",
    "outputId": "5cd6bcc3-54fe-4a8e-a39d-d6dabf3f37f9"
   },
   "outputs": [
    {
     "name": "stderr",
     "output_type": "stream",
     "text": [
      "100%|██████████| 160176/160176 [01:10<00:00, 2273.04it/s]\n"
     ]
    }
   ],
   "source": [
    "# Combining all the above stundents \n",
    "from tqdm import tqdm\n",
    "preprocessed_reviews = []\n",
    "# tqdm is for printing the status bar\n",
    "for sentance in tqdm(final['Text'].values):\n",
    "    sentance = re.sub(r\"http\\S+\", \"\", sentance)\n",
    "    sentance = BeautifulSoup(sentance, 'lxml').get_text()\n",
    "    sentance = decontracted(sentance)\n",
    "    sentance = re.sub(\"\\S*\\d\\S*\", \"\", sentance).strip()\n",
    "    sentance = re.sub('[^A-Za-z]+', ' ', sentance)\n",
    "    # https://gist.github.com/sebleier/554280\n",
    "    sentance = ' '.join(e.lower() for e in sentance.split() if e.lower() not in stopwords)\n",
    "    preprocessed_reviews.append(sentance.strip())"
   ]
  },
  {
   "cell_type": "code",
   "execution_count": 23,
   "metadata": {
    "colab": {},
    "colab_type": "code",
    "id": "Tqx8QUeRLPoH",
    "outputId": "0182081c-6282-4113-b186-5b5bac596388"
   },
   "outputs": [
    {
     "data": {
      "text/plain": [
       "'japanese version breadcrumb pan bread portuguese loan word ko child derived panko used katsudon tonkatsu cutlets served rice soups cutlets pounded chicken pork coated light crispy crumbs fried not gritty dense like regular crumbs nice deep fried shrimps decorative gourmet touch'"
      ]
     },
     "execution_count": 23,
     "metadata": {},
     "output_type": "execute_result"
    }
   ],
   "source": [
    "preprocessed_reviews[1500]"
   ]
  },
  {
   "cell_type": "markdown",
   "metadata": {},
   "source": [
    "# Obtaining the Required DataFrame:"
   ]
  },
  {
   "cell_type": "code",
   "execution_count": 24,
   "metadata": {},
   "outputs": [
    {
     "data": {
      "text/plain": [
       "list"
      ]
     },
     "execution_count": 24,
     "metadata": {},
     "output_type": "execute_result"
    }
   ],
   "source": [
    "type(preprocessed_reviews)"
   ]
  },
  {
   "cell_type": "code",
   "execution_count": 25,
   "metadata": {},
   "outputs": [
    {
     "name": "stdout",
     "output_type": "stream",
     "text": [
      "(160176, 10)\n"
     ]
    }
   ],
   "source": [
    "print(final.shape)"
   ]
  },
  {
   "cell_type": "markdown",
   "metadata": {},
   "source": [
    "We obtain a list at the end of all the Preprocessing whereas the data frame that we obtained at the end was named \n",
    "'final'. Initially I considered 200K datapoints to work upon which got reduced to approx. 160K datapoints after all \n",
    "the text processing and data deduplication."
   ]
  },
  {
   "cell_type": "code",
   "execution_count": 26,
   "metadata": {},
   "outputs": [],
   "source": [
    "final['Preprocessed_Reviews'] = preprocessed_reviews"
   ]
  },
  {
   "cell_type": "markdown",
   "metadata": {},
   "source": [
    "Basically I have taken the entire list and added the list as a column to the entire dataframe, such that each value\n",
    "corresponds to a row in the dataframe. "
   ]
  },
  {
   "cell_type": "code",
   "execution_count": 27,
   "metadata": {},
   "outputs": [
    {
     "data": {
      "text/html": [
       "<div>\n",
       "<style scoped>\n",
       "    .dataframe tbody tr th:only-of-type {\n",
       "        vertical-align: middle;\n",
       "    }\n",
       "\n",
       "    .dataframe tbody tr th {\n",
       "        vertical-align: top;\n",
       "    }\n",
       "\n",
       "    .dataframe thead th {\n",
       "        text-align: right;\n",
       "    }\n",
       "</style>\n",
       "<table border=\"1\" class=\"dataframe\">\n",
       "  <thead>\n",
       "    <tr style=\"text-align: right;\">\n",
       "      <th></th>\n",
       "      <th>Id</th>\n",
       "      <th>ProductId</th>\n",
       "      <th>UserId</th>\n",
       "      <th>ProfileName</th>\n",
       "      <th>HelpfulnessNumerator</th>\n",
       "      <th>HelpfulnessDenominator</th>\n",
       "      <th>Score</th>\n",
       "      <th>Time</th>\n",
       "      <th>Summary</th>\n",
       "      <th>Text</th>\n",
       "      <th>Preprocessed_Reviews</th>\n",
       "    </tr>\n",
       "  </thead>\n",
       "  <tbody>\n",
       "    <tr>\n",
       "      <th>138695</th>\n",
       "      <td>150513</td>\n",
       "      <td>0006641040</td>\n",
       "      <td>ASH0DZQQF6AIZ</td>\n",
       "      <td>tessarat</td>\n",
       "      <td>0</td>\n",
       "      <td>0</td>\n",
       "      <td>1</td>\n",
       "      <td>1325721600</td>\n",
       "      <td>A classic</td>\n",
       "      <td>I remembered this book from my childhood and g...</td>\n",
       "      <td>remembered book childhood got kids good rememb...</td>\n",
       "    </tr>\n",
       "    <tr>\n",
       "      <th>138707</th>\n",
       "      <td>150525</td>\n",
       "      <td>0006641040</td>\n",
       "      <td>A2QID6VCFTY51R</td>\n",
       "      <td>Rick</td>\n",
       "      <td>1</td>\n",
       "      <td>2</td>\n",
       "      <td>1</td>\n",
       "      <td>1025481600</td>\n",
       "      <td>In December it will be, my snowman's anniversa...</td>\n",
       "      <td>My daughter loves all the \"Really Rosie\" books...</td>\n",
       "      <td>daughter loves really rosie books introduced r...</td>\n",
       "    </tr>\n",
       "    <tr>\n",
       "      <th>138708</th>\n",
       "      <td>150526</td>\n",
       "      <td>0006641040</td>\n",
       "      <td>A3E9QZFE9KXH8J</td>\n",
       "      <td>R. Mitchell</td>\n",
       "      <td>11</td>\n",
       "      <td>18</td>\n",
       "      <td>0</td>\n",
       "      <td>1129507200</td>\n",
       "      <td>awesome book poor size</td>\n",
       "      <td>This is one of the best children's books ever ...</td>\n",
       "      <td>one best children books ever written mini vers...</td>\n",
       "    </tr>\n",
       "    <tr>\n",
       "      <th>138686</th>\n",
       "      <td>150504</td>\n",
       "      <td>0006641040</td>\n",
       "      <td>AQEYF1AXARWJZ</td>\n",
       "      <td>Les Sinclair \"book maven\"</td>\n",
       "      <td>1</td>\n",
       "      <td>1</td>\n",
       "      <td>1</td>\n",
       "      <td>1212278400</td>\n",
       "      <td>Chicken Soup with Rice</td>\n",
       "      <td>A very entertaining rhyming story--cleaver and...</td>\n",
       "      <td>entertaining rhyming story cleaver catchy illu...</td>\n",
       "    </tr>\n",
       "    <tr>\n",
       "      <th>138685</th>\n",
       "      <td>150503</td>\n",
       "      <td>0006641040</td>\n",
       "      <td>A3R5XMPFU8YZ4D</td>\n",
       "      <td>Her Royal Motherliness \"Nana\"</td>\n",
       "      <td>1</td>\n",
       "      <td>1</td>\n",
       "      <td>1</td>\n",
       "      <td>1233964800</td>\n",
       "      <td>so fun to read</td>\n",
       "      <td>This is my grand daughter's and my favorite bo...</td>\n",
       "      <td>grand daughter favorite book read loves rhythm...</td>\n",
       "    </tr>\n",
       "  </tbody>\n",
       "</table>\n",
       "</div>"
      ],
      "text/plain": [
       "            Id   ProductId          UserId                    ProfileName  \\\n",
       "138695  150513  0006641040   ASH0DZQQF6AIZ                       tessarat   \n",
       "138707  150525  0006641040  A2QID6VCFTY51R                           Rick   \n",
       "138708  150526  0006641040  A3E9QZFE9KXH8J                    R. Mitchell   \n",
       "138686  150504  0006641040   AQEYF1AXARWJZ      Les Sinclair \"book maven\"   \n",
       "138685  150503  0006641040  A3R5XMPFU8YZ4D  Her Royal Motherliness \"Nana\"   \n",
       "\n",
       "        HelpfulnessNumerator  HelpfulnessDenominator  Score        Time  \\\n",
       "138695                     0                       0      1  1325721600   \n",
       "138707                     1                       2      1  1025481600   \n",
       "138708                    11                      18      0  1129507200   \n",
       "138686                     1                       1      1  1212278400   \n",
       "138685                     1                       1      1  1233964800   \n",
       "\n",
       "                                                  Summary  \\\n",
       "138695                                          A classic   \n",
       "138707  In December it will be, my snowman's anniversa...   \n",
       "138708                             awesome book poor size   \n",
       "138686                             Chicken Soup with Rice   \n",
       "138685                                     so fun to read   \n",
       "\n",
       "                                                     Text  \\\n",
       "138695  I remembered this book from my childhood and g...   \n",
       "138707  My daughter loves all the \"Really Rosie\" books...   \n",
       "138708  This is one of the best children's books ever ...   \n",
       "138686  A very entertaining rhyming story--cleaver and...   \n",
       "138685  This is my grand daughter's and my favorite bo...   \n",
       "\n",
       "                                     Preprocessed_Reviews  \n",
       "138695  remembered book childhood got kids good rememb...  \n",
       "138707  daughter loves really rosie books introduced r...  \n",
       "138708  one best children books ever written mini vers...  \n",
       "138686  entertaining rhyming story cleaver catchy illu...  \n",
       "138685  grand daughter favorite book read loves rhythm...  "
      ]
     },
     "execution_count": 27,
     "metadata": {},
     "output_type": "execute_result"
    }
   ],
   "source": [
    "final.head()"
   ]
  },
  {
   "cell_type": "markdown",
   "metadata": {},
   "source": [
    "Now I have a total of approx. 160K rows in the dataframe called 'final', of which I will consider only 100K rows to\n",
    "be applied to the Logistic Regression Classifier. Also here you have the Unix Timestamp in the data, which is basically the time when the review was posted. \n",
    "\n",
    "This makes it possible to carry out Time Based Split of the data instead of random splitting of the data into Train,\n",
    "CV and Test Datasets. For Time Based Split I will take the oldest of the reviews as the Training Data, the \n",
    "intermediate reviews as the CV data and the latest reviews as the Test data. "
   ]
  },
  {
   "cell_type": "code",
   "execution_count": 28,
   "metadata": {},
   "outputs": [],
   "source": [
    "final_TBS = final.sort_values('Time')"
   ]
  },
  {
   "cell_type": "code",
   "execution_count": 29,
   "metadata": {},
   "outputs": [
    {
     "data": {
      "text/html": [
       "<div>\n",
       "<style scoped>\n",
       "    .dataframe tbody tr th:only-of-type {\n",
       "        vertical-align: middle;\n",
       "    }\n",
       "\n",
       "    .dataframe tbody tr th {\n",
       "        vertical-align: top;\n",
       "    }\n",
       "\n",
       "    .dataframe thead th {\n",
       "        text-align: right;\n",
       "    }\n",
       "</style>\n",
       "<table border=\"1\" class=\"dataframe\">\n",
       "  <thead>\n",
       "    <tr style=\"text-align: right;\">\n",
       "      <th></th>\n",
       "      <th>Id</th>\n",
       "      <th>ProductId</th>\n",
       "      <th>UserId</th>\n",
       "      <th>ProfileName</th>\n",
       "      <th>HelpfulnessNumerator</th>\n",
       "      <th>HelpfulnessDenominator</th>\n",
       "      <th>Score</th>\n",
       "      <th>Time</th>\n",
       "      <th>Summary</th>\n",
       "      <th>Text</th>\n",
       "      <th>Preprocessed_Reviews</th>\n",
       "    </tr>\n",
       "  </thead>\n",
       "  <tbody>\n",
       "    <tr>\n",
       "      <th>138706</th>\n",
       "      <td>150524</td>\n",
       "      <td>0006641040</td>\n",
       "      <td>ACITT7DI6IDDL</td>\n",
       "      <td>shari zychinski</td>\n",
       "      <td>0</td>\n",
       "      <td>0</td>\n",
       "      <td>1</td>\n",
       "      <td>939340800</td>\n",
       "      <td>EVERY book is educational</td>\n",
       "      <td>this witty little book makes my son laugh at l...</td>\n",
       "      <td>witty little book makes son laugh loud recite ...</td>\n",
       "    </tr>\n",
       "    <tr>\n",
       "      <th>138683</th>\n",
       "      <td>150501</td>\n",
       "      <td>0006641040</td>\n",
       "      <td>AJ46FKXOVC7NR</td>\n",
       "      <td>Nicholas A Mesiano</td>\n",
       "      <td>2</td>\n",
       "      <td>2</td>\n",
       "      <td>1</td>\n",
       "      <td>940809600</td>\n",
       "      <td>This whole series is great way to spend time w...</td>\n",
       "      <td>I can remember seeing the show when it aired o...</td>\n",
       "      <td>remember seeing show aired television years ag...</td>\n",
       "    </tr>\n",
       "    <tr>\n",
       "      <th>70688</th>\n",
       "      <td>76882</td>\n",
       "      <td>B00002N8SM</td>\n",
       "      <td>A32DW342WBJ6BX</td>\n",
       "      <td>Buttersugar</td>\n",
       "      <td>0</td>\n",
       "      <td>0</td>\n",
       "      <td>1</td>\n",
       "      <td>948672000</td>\n",
       "      <td>A sure death for flies</td>\n",
       "      <td>I bought a few of these after my apartment was...</td>\n",
       "      <td>bought apartment infested fruit flies hours tr...</td>\n",
       "    </tr>\n",
       "    <tr>\n",
       "      <th>1146</th>\n",
       "      <td>1245</td>\n",
       "      <td>B00002Z754</td>\n",
       "      <td>A29Z5PI9BW2PU3</td>\n",
       "      <td>Robbie</td>\n",
       "      <td>7</td>\n",
       "      <td>7</td>\n",
       "      <td>1</td>\n",
       "      <td>961718400</td>\n",
       "      <td>Great Product</td>\n",
       "      <td>This was a really good idea and the final prod...</td>\n",
       "      <td>really good idea final product outstanding use...</td>\n",
       "    </tr>\n",
       "    <tr>\n",
       "      <th>1145</th>\n",
       "      <td>1244</td>\n",
       "      <td>B00002Z754</td>\n",
       "      <td>A3B8RCEI0FXFI6</td>\n",
       "      <td>B G Chase</td>\n",
       "      <td>10</td>\n",
       "      <td>10</td>\n",
       "      <td>1</td>\n",
       "      <td>962236800</td>\n",
       "      <td>WOW Make your own 'slickers' !</td>\n",
       "      <td>I just received my shipment and could hardly w...</td>\n",
       "      <td>received shipment could hardly wait try produc...</td>\n",
       "    </tr>\n",
       "  </tbody>\n",
       "</table>\n",
       "</div>"
      ],
      "text/plain": [
       "            Id   ProductId          UserId         ProfileName  \\\n",
       "138706  150524  0006641040   ACITT7DI6IDDL     shari zychinski   \n",
       "138683  150501  0006641040   AJ46FKXOVC7NR  Nicholas A Mesiano   \n",
       "70688    76882  B00002N8SM  A32DW342WBJ6BX         Buttersugar   \n",
       "1146      1245  B00002Z754  A29Z5PI9BW2PU3              Robbie   \n",
       "1145      1244  B00002Z754  A3B8RCEI0FXFI6           B G Chase   \n",
       "\n",
       "        HelpfulnessNumerator  HelpfulnessDenominator  Score       Time  \\\n",
       "138706                     0                       0      1  939340800   \n",
       "138683                     2                       2      1  940809600   \n",
       "70688                      0                       0      1  948672000   \n",
       "1146                       7                       7      1  961718400   \n",
       "1145                      10                      10      1  962236800   \n",
       "\n",
       "                                                  Summary  \\\n",
       "138706                          EVERY book is educational   \n",
       "138683  This whole series is great way to spend time w...   \n",
       "70688                              A sure death for flies   \n",
       "1146                                        Great Product   \n",
       "1145                       WOW Make your own 'slickers' !   \n",
       "\n",
       "                                                     Text  \\\n",
       "138706  this witty little book makes my son laugh at l...   \n",
       "138683  I can remember seeing the show when it aired o...   \n",
       "70688   I bought a few of these after my apartment was...   \n",
       "1146    This was a really good idea and the final prod...   \n",
       "1145    I just received my shipment and could hardly w...   \n",
       "\n",
       "                                     Preprocessed_Reviews  \n",
       "138706  witty little book makes son laugh loud recite ...  \n",
       "138683  remember seeing show aired television years ag...  \n",
       "70688   bought apartment infested fruit flies hours tr...  \n",
       "1146    really good idea final product outstanding use...  \n",
       "1145    received shipment could hardly wait try produc...  "
      ]
     },
     "execution_count": 29,
     "metadata": {},
     "output_type": "execute_result"
    }
   ],
   "source": [
    "final_TBS.head()"
   ]
  },
  {
   "cell_type": "markdown",
   "metadata": {},
   "source": [
    "Now the values are sorted on the basis of Time. We know that by default the values are sorted in ascending order. "
   ]
  },
  {
   "cell_type": "markdown",
   "metadata": {},
   "source": [
    "# Obtaining Train, CV and Test Data:"
   ]
  },
  {
   "cell_type": "markdown",
   "metadata": {},
   "source": [
    "First I will remove all the useless columns from my dataframe. The only columns that we are concerned about here in \n",
    "this case are the 'Score' & 'Preprocessed_Reviews' (Without carrying out any Feature Engineering). Remaining columns \n",
    "in the dataframe are of no use to us. "
   ]
  },
  {
   "cell_type": "code",
   "execution_count": 30,
   "metadata": {},
   "outputs": [],
   "source": [
    "df = final_TBS[['Score','Preprocessed_Reviews']]"
   ]
  },
  {
   "cell_type": "code",
   "execution_count": 31,
   "metadata": {},
   "outputs": [
    {
     "data": {
      "text/html": [
       "<div>\n",
       "<style scoped>\n",
       "    .dataframe tbody tr th:only-of-type {\n",
       "        vertical-align: middle;\n",
       "    }\n",
       "\n",
       "    .dataframe tbody tr th {\n",
       "        vertical-align: top;\n",
       "    }\n",
       "\n",
       "    .dataframe thead th {\n",
       "        text-align: right;\n",
       "    }\n",
       "</style>\n",
       "<table border=\"1\" class=\"dataframe\">\n",
       "  <thead>\n",
       "    <tr style=\"text-align: right;\">\n",
       "      <th></th>\n",
       "      <th>Score</th>\n",
       "      <th>Preprocessed_Reviews</th>\n",
       "    </tr>\n",
       "  </thead>\n",
       "  <tbody>\n",
       "    <tr>\n",
       "      <th>138706</th>\n",
       "      <td>1</td>\n",
       "      <td>witty little book makes son laugh loud recite ...</td>\n",
       "    </tr>\n",
       "    <tr>\n",
       "      <th>138683</th>\n",
       "      <td>1</td>\n",
       "      <td>remember seeing show aired television years ag...</td>\n",
       "    </tr>\n",
       "    <tr>\n",
       "      <th>70688</th>\n",
       "      <td>1</td>\n",
       "      <td>bought apartment infested fruit flies hours tr...</td>\n",
       "    </tr>\n",
       "    <tr>\n",
       "      <th>1146</th>\n",
       "      <td>1</td>\n",
       "      <td>really good idea final product outstanding use...</td>\n",
       "    </tr>\n",
       "    <tr>\n",
       "      <th>1145</th>\n",
       "      <td>1</td>\n",
       "      <td>received shipment could hardly wait try produc...</td>\n",
       "    </tr>\n",
       "  </tbody>\n",
       "</table>\n",
       "</div>"
      ],
      "text/plain": [
       "        Score                               Preprocessed_Reviews\n",
       "138706      1  witty little book makes son laugh loud recite ...\n",
       "138683      1  remember seeing show aired television years ag...\n",
       "70688       1  bought apartment infested fruit flies hours tr...\n",
       "1146        1  really good idea final product outstanding use...\n",
       "1145        1  received shipment could hardly wait try produc..."
      ]
     },
     "execution_count": 31,
     "metadata": {},
     "output_type": "execute_result"
    }
   ],
   "source": [
    "df.head()"
   ]
  },
  {
   "cell_type": "code",
   "execution_count": 32,
   "metadata": {},
   "outputs": [],
   "source": [
    "cleandf = df[:100000]"
   ]
  },
  {
   "cell_type": "markdown",
   "metadata": {},
   "source": [
    "Basically we are taking a total of 100K reviews for the model. Since I am carrying out Time Based Splitting into \n",
    "Train, CV and Test datasets, I will split them in 70:10:20 ratio respectively. \n",
    "        \n",
    "        So, # of Datapoints in Train data = 70,000 \n",
    "            # of Datapoints in CV data = 10,000\n",
    "            # of Datapoints in Test data = 20,000"
   ]
  },
  {
   "cell_type": "code",
   "execution_count": 33,
   "metadata": {},
   "outputs": [],
   "source": [
    "Tr_df = cleandf[:70000]\n",
    "CV_df = cleandf[70000:80000]\n",
    "Te_df = cleandf[80000:100000]"
   ]
  },
  {
   "cell_type": "code",
   "execution_count": 34,
   "metadata": {},
   "outputs": [
    {
     "data": {
      "text/plain": [
       "(70000, 2)"
      ]
     },
     "execution_count": 34,
     "metadata": {},
     "output_type": "execute_result"
    }
   ],
   "source": [
    "Tr_df.shape"
   ]
  },
  {
   "cell_type": "code",
   "execution_count": 35,
   "metadata": {},
   "outputs": [
    {
     "data": {
      "text/plain": [
       "(10000, 2)"
      ]
     },
     "execution_count": 35,
     "metadata": {},
     "output_type": "execute_result"
    }
   ],
   "source": [
    "CV_df.shape"
   ]
  },
  {
   "cell_type": "code",
   "execution_count": 36,
   "metadata": {},
   "outputs": [
    {
     "data": {
      "text/plain": [
       "(20000, 2)"
      ]
     },
     "execution_count": 36,
     "metadata": {},
     "output_type": "execute_result"
    }
   ],
   "source": [
    "Te_df.shape"
   ]
  },
  {
   "cell_type": "markdown",
   "metadata": {},
   "source": [
    "Yes everything is working as expected: There are 70K points in the Training data, 10K points in the CV data and 20K\n",
    "points in the Test data.\n",
    "\n",
    "Now we can split the data as features in X and the class label in Y."
   ]
  },
  {
   "cell_type": "code",
   "execution_count": 37,
   "metadata": {},
   "outputs": [],
   "source": [
    "X_Train = Tr_df['Preprocessed_Reviews']\n",
    "Y_Train = Tr_df['Score']\n",
    "\n",
    "X_CV = CV_df['Preprocessed_Reviews']\n",
    "Y_CV = CV_df['Score']\n",
    "\n",
    "X_Test = Te_df['Preprocessed_Reviews']\n",
    "Y_Test = Te_df['Score']"
   ]
  },
  {
   "cell_type": "code",
   "execution_count": 38,
   "metadata": {},
   "outputs": [
    {
     "data": {
      "text/plain": [
       "1    60269\n",
       "0     9731\n",
       "Name: Score, dtype: int64"
      ]
     },
     "execution_count": 38,
     "metadata": {},
     "output_type": "execute_result"
    }
   ],
   "source": [
    "Y_Train.value_counts()"
   ]
  },
  {
   "cell_type": "code",
   "execution_count": 39,
   "metadata": {},
   "outputs": [
    {
     "data": {
      "text/plain": [
       "1    8266\n",
       "0    1734\n",
       "Name: Score, dtype: int64"
      ]
     },
     "execution_count": 39,
     "metadata": {},
     "output_type": "execute_result"
    }
   ],
   "source": [
    "Y_CV.value_counts()"
   ]
  },
  {
   "cell_type": "code",
   "execution_count": 40,
   "metadata": {},
   "outputs": [
    {
     "data": {
      "text/plain": [
       "1    16635\n",
       "0     3365\n",
       "Name: Score, dtype: int64"
      ]
     },
     "execution_count": 40,
     "metadata": {},
     "output_type": "execute_result"
    }
   ],
   "source": [
    "Y_Test.value_counts()"
   ]
  },
  {
   "cell_type": "markdown",
   "metadata": {},
   "source": [
    "As expected, this is an imbalanced real world dataset. "
   ]
  },
  {
   "cell_type": "markdown",
   "metadata": {},
   "source": [
    "# Applying Logistic Regression :-"
   ]
  },
  {
   "cell_type": "markdown",
   "metadata": {},
   "source": [
    "# [5.1] Applying Logistic Regression on BOW :-"
   ]
  },
  {
   "cell_type": "markdown",
   "metadata": {},
   "source": [
    "# [5.1.1] Applying Logistic Regression with L1 regularization on BOW :- "
   ]
  },
  {
   "cell_type": "code",
   "execution_count": 531,
   "metadata": {},
   "outputs": [
    {
     "data": {
      "text/plain": [
       "CountVectorizer(analyzer='word', binary=False, decode_error='strict',\n",
       "        dtype=<class 'numpy.int64'>, encoding='utf-8', input='content',\n",
       "        lowercase=True, max_df=1.0, max_features=None, min_df=1,\n",
       "        ngram_range=(1, 1), preprocessor=None, stop_words=None,\n",
       "        strip_accents=None, token_pattern='(?u)\\\\b\\\\w\\\\w+\\\\b',\n",
       "        tokenizer=None, vocabulary=None)"
      ]
     },
     "execution_count": 531,
     "metadata": {},
     "output_type": "execute_result"
    }
   ],
   "source": [
    "count_vect = CountVectorizer()\n",
    "count_vect.fit(X_Train) #Again the fit function is applied only on the Train data. \n",
    "\n",
    "#fit internally stores the parameters that will be used for transforming the data from the text to a numerical vector"
   ]
  },
  {
   "cell_type": "code",
   "execution_count": 532,
   "metadata": {},
   "outputs": [],
   "source": [
    "X_Train_BOW = count_vect.transform(X_Train)\n",
    "X_CV_BOW = count_vect.transform(X_CV)\n",
    "X_Test_BOW = count_vect.transform(X_Test)"
   ]
  },
  {
   "cell_type": "code",
   "execution_count": 533,
   "metadata": {},
   "outputs": [
    {
     "name": "stdout",
     "output_type": "stream",
     "text": [
      "Shapes before the BOW Vectorization was carried out:\n",
      "(70000,) (70000,)\n",
      "(10000,) (10000,)\n",
      "(20000,) (20000,)\n",
      "****************************************************************************************************\n",
      "Shapes after the BOW Vectorization was carried out:\n",
      "(70000, 49871) (70000,)\n",
      "(10000, 49871) (10000,)\n",
      "(20000, 49871) (20000,)\n"
     ]
    }
   ],
   "source": [
    "print(\"Shapes before the BOW Vectorization was carried out:\")\n",
    "\n",
    "print(X_Train.shape,Y_Train.shape)\n",
    "print(X_CV.shape,Y_CV.shape)\n",
    "print(X_Test.shape,Y_Test.shape)\n",
    "\n",
    "print(\"*\"*100)\n",
    "\n",
    "print(\"Shapes after the BOW Vectorization was carried out:\")\n",
    "\n",
    "print(X_Train_BOW.shape,Y_Train.shape)\n",
    "print(X_CV_BOW.shape,Y_CV.shape)\n",
    "print(X_Test_BOW.shape,Y_Test.shape)"
   ]
  },
  {
   "cell_type": "markdown",
   "metadata": {},
   "source": [
    "# Hyperparameter Tuning on the BOW Representation (For L1 Regularization):- "
   ]
  },
  {
   "cell_type": "markdown",
   "metadata": {},
   "source": [
    "Here since I am not using elastic net (which would have required 2 hyperparameters to be obtained, one for L1 \n",
    "regularization and the other for L2 Regularization), I only care about one hyperparameter ie. one value of lambda, \n",
    "which I am considering from 10^-6 to 10^6. \n",
    "\n",
    "We can easily apply GridSearchCV in this case since we are only focused on a single Hyperparameter. If we had to obtain the best values for a lot of hyperparameters, GridSearchCV won't have been the best option considering its\n",
    "time complexity."
   ]
  },
  {
   "cell_type": "code",
   "execution_count": 534,
   "metadata": {},
   "outputs": [],
   "source": [
    "lambda_hyperparam =[]\n",
    "#initializing an empty list\n",
    "\n",
    "for a in range(-6,7,2):\n",
    "    lambda_hyperparam.append(10**a)"
   ]
  },
  {
   "cell_type": "code",
   "execution_count": 535,
   "metadata": {},
   "outputs": [
    {
     "name": "stdout",
     "output_type": "stream",
     "text": [
      "[1e-06, 0.0001, 0.01, 1, 100, 10000, 1000000]\n"
     ]
    }
   ],
   "source": [
    "print(lambda_hyperparam)"
   ]
  },
  {
   "cell_type": "markdown",
   "metadata": {},
   "source": [
    "Here we have generated a list with the even powered values of the hyperparameter from 10^-6 to 10^6. The necessary \n",
    "packages are imported as follows:- "
   ]
  },
  {
   "cell_type": "code",
   "execution_count": 536,
   "metadata": {},
   "outputs": [],
   "source": [
    "from sklearn.model_selection import GridSearchCV\n",
    "from sklearn.linear_model import LogisticRegression\n",
    "from sklearn.preprocessing import StandardScaler\n",
    "import warnings"
   ]
  },
  {
   "cell_type": "markdown",
   "metadata": {},
   "source": [
    "Now to provide the necessary parameter values to be used in GridSearchCV it is to be noted that we require a \n",
    "dictionary and not a list. Therefore a dictionary named 'tuned_parameters' is hence obtained as follows:"
   ]
  },
  {
   "cell_type": "code",
   "execution_count": 537,
   "metadata": {},
   "outputs": [],
   "source": [
    "tuned_parameters = {'C':lambda_hyperparam}"
   ]
  },
  {
   "cell_type": "markdown",
   "metadata": {},
   "source": [
    "Again, column standardization is very important since we are calculating the distances of the datapoints from the \n",
    "hyperplane in consideration. Standardization is carried out as follows where X_Train_SCBOW (Scaled X_Train) is \n",
    "obtained after scaling the vectorized BOW representation. (Similarly we obtain the scaled vector for Test data as well)."
   ]
  },
  {
   "cell_type": "code",
   "execution_count": 538,
   "metadata": {},
   "outputs": [],
   "source": [
    "Scaler1 = StandardScaler(with_mean=False)\n",
    "X_Train_SCBOW = Scaler1.fit_transform(X_Train_BOW)\n",
    "X_CV_SCBOW = Scaler1.transform(X_CV_BOW)\n",
    "X_Test_SCBOW = Scaler1.transform(X_Test_BOW)"
   ]
  },
  {
   "cell_type": "code",
   "execution_count": 540,
   "metadata": {},
   "outputs": [],
   "source": [
    "warnings.filterwarnings('ignore')\n",
    "\n",
    "#Carrying out 3-fold Cross Validation. class_weight is taken as 'balanced' since the data that we originally had\n",
    "#was an Imbalanced Real World Dataset.\n",
    "\n",
    "logi1 = LogisticRegression(penalty='l1',fit_intercept=False,class_weight='balanced')\n",
    "BOW_model1 = GridSearchCV(logi1,tuned_parameters,scoring='roc_auc', cv=3,n_jobs=-1)\n",
    "\n",
    "BOW_model1.fit(X_Train_SCBOW,Y_Train)\n",
    "\n",
    "Train_BOW_AUC_L1 = BOW_model1.cv_results_['mean_train_score']\n",
    "CV_BOW_AUC_L1 = BOW_model1.cv_results_['mean_test_score'] "
   ]
  },
  {
   "cell_type": "markdown",
   "metadata": {},
   "source": [
    "Plotting the graph to obtain the best value of C:-"
   ]
  },
  {
   "cell_type": "code",
   "execution_count": 542,
   "metadata": {},
   "outputs": [
    {
     "data": {
      "image/png": "[encoded data removed]",
      "text/plain": [
       "<Figure size 432x288 with 1 Axes>"
      ]
     },
     "metadata": {},
     "output_type": "display_data"
    }
   ],
   "source": [
    "plt.plot(lambda_hyperparam,Train_BOW_AUC,label=\"BOW on Train Data AUC\")\n",
    "plt.plot(lambda_hyperparam,CV_BOW_AUC,label =\"BOW on CV Data AUC\")\n",
    "plt.xscale('log')\n",
    "\n",
    "plt.legend()\n",
    "\n",
    "plt.title(\"Error Plot: BOW Implementation\")\n",
    "plt.xlabel('Hyperparameter C')\n",
    "plt.ylabel('AUC Value')\n",
    "\n",
    "plt.grid(False)\n",
    "plt.show()"
   ]
  },
  {
   "cell_type": "markdown",
   "metadata": {},
   "source": [
    "From this graph that we obtained we can choose the best value of the hyperparameter as follows:\n",
    "    * Highest value of CV AUC Value\n",
    "    * Smallest difference between the Train and CV AUC curves. \n",
    "    \n",
    "Basis this criteria of choosing the value of C, the best value of C = 10^-2 where the CV AUC Value > 0.9. This can\n",
    "be confirmed by the following code snippet using the best_params_ attribute."
   ]
  },
  {
   "cell_type": "code",
   "execution_count": 543,
   "metadata": {},
   "outputs": [
    {
     "name": "stdout",
     "output_type": "stream",
     "text": [
      "{'C': 0.01}\n"
     ]
    }
   ],
   "source": [
    "print(BOW_model.best_params_)"
   ]
  },
  {
   "cell_type": "markdown",
   "metadata": {},
   "source": [
    "# Testing with the Test Data for BOW Representation (For L1 Regularization):-"
   ]
  },
  {
   "cell_type": "code",
   "execution_count": 544,
   "metadata": {},
   "outputs": [
    {
     "data": {
      "text/plain": [
       "LogisticRegression(C=0.01, class_weight='balanced', dual=False,\n",
       "          fit_intercept=False, intercept_scaling=1, max_iter=100,\n",
       "          multi_class='warn', n_jobs=None, penalty='l1', random_state=None,\n",
       "          solver='warn', tol=0.0001, verbose=0, warm_start=False)"
      ]
     },
     "execution_count": 544,
     "metadata": {},
     "output_type": "execute_result"
    }
   ],
   "source": [
    "logi_test1 = LogisticRegression(penalty='l1', C=0.01,fit_intercept=False,class_weight='balanced')\n",
    "logi_test1.fit(X_Train_SCBOW,Y_Train)"
   ]
  },
  {
   "cell_type": "code",
   "execution_count": 545,
   "metadata": {},
   "outputs": [
    {
     "data": {
      "text/plain": [
       "(70000, 49871)"
      ]
     },
     "execution_count": 545,
     "metadata": {},
     "output_type": "execute_result"
    }
   ],
   "source": [
    "X_Train_SCBOW.shape"
   ]
  },
  {
   "cell_type": "code",
   "execution_count": 546,
   "metadata": {},
   "outputs": [
    {
     "data": {
      "text/plain": [
       "(70000,)"
      ]
     },
     "execution_count": 546,
     "metadata": {},
     "output_type": "execute_result"
    }
   ],
   "source": [
    "Y_Train.shape"
   ]
  },
  {
   "cell_type": "code",
   "execution_count": 547,
   "metadata": {},
   "outputs": [
    {
     "data": {
      "text/plain": [
       "(20000, 49871)"
      ]
     },
     "execution_count": 547,
     "metadata": {},
     "output_type": "execute_result"
    }
   ],
   "source": [
    "X_Test_SCBOW.shape"
   ]
  },
  {
   "cell_type": "code",
   "execution_count": 548,
   "metadata": {},
   "outputs": [
    {
     "data": {
      "text/plain": [
       "(20000,)"
      ]
     },
     "execution_count": 548,
     "metadata": {},
     "output_type": "execute_result"
    }
   ],
   "source": [
    "Y_Test.shape"
   ]
  },
  {
   "cell_type": "code",
   "execution_count": 549,
   "metadata": {},
   "outputs": [],
   "source": [
    "from sklearn.metrics import roc_curve,auc\n",
    "\n",
    "train_fpr1,train_tpr1,thresholds = roc_curve(Y_Train,logi_test1.predict_proba(X_Train_SCBOW)[:,1])\n",
    "test_fpr1,test_tpr1,thresholds = roc_curve(Y_Test,logi_test1.predict_proba(X_Test_SCBOW)[:,1])"
   ]
  },
  {
   "cell_type": "code",
   "execution_count": 551,
   "metadata": {},
   "outputs": [
    {
     "data": {
      "image/png": "[encoded data removed]",
      "text/plain": [
       "<Figure size 432x288 with 1 Axes>"
      ]
     },
     "metadata": {},
     "output_type": "display_data"
    }
   ],
   "source": [
    "import matplotlib.pyplot as plt\n",
    "\n",
    "plt.plot(train_fpr1,train_tpr1,label = 'Training Data AUC:' + str(auc(train_fpr1,train_tpr1)))\n",
    "plt.plot(test_fpr1,test_tpr1, label = 'Test Data AUC:' + str(auc(test_fpr1,test_tpr1)))\n",
    "plt.legend()\n",
    "\n",
    "plt.xlabel('FPR Values')\n",
    "plt.ylabel('TPR Values')\n",
    "plt.title('ROC Curve: Logistic Regression on BOW with L1 Regularization')\n",
    "\n",
    "plt.grid(False)\n",
    "plt.show()"
   ]
  },
  {
   "cell_type": "markdown",
   "metadata": {},
   "source": [
    "<b> <font color=\"black\"> User Defined Function to obtain the best value of Threshold with Best Tradeoff between \n",
    "TPR and FPR :- </font> </b>"
   ]
  },
  {
   "cell_type": "code",
   "execution_count": 552,
   "metadata": {},
   "outputs": [],
   "source": [
    "def matrixpredict(data,thresholds,tpr,fpr):\n",
    "    matrixpredict.best_tradeoff = tpr*(1-fpr)\n",
    "    matrixpredict.ideal_threshold = thresholds[matrixpredict.best_tradeoff.argmax()]\n",
    "    \n",
    "    predictions = []\n",
    "    \n",
    "    for i in data:\n",
    "        if i>= matrixpredict.ideal_threshold:\n",
    "            predictions.append(1)\n",
    "        else:\n",
    "            predictions.append(0)\n",
    "    return predictions"
   ]
  },
  {
   "cell_type": "markdown",
   "metadata": {},
   "source": [
    "<b> <font color=\"black\"> User Defined Function to plot the Heatmap of The Confusion Matrix for the Training Data: </font> </b>"
   ]
  },
  {
   "cell_type": "code",
   "execution_count": 553,
   "metadata": {},
   "outputs": [],
   "source": [
    "import seaborn as sns\n",
    "\n",
    "def plottrainmatrix (train_matrix):\n",
    "    sns.set_style(\"whitegrid\")\n",
    "    \n",
    "    labels = [0,1]\n",
    "    \n",
    "    print(\"-\"*20, \"Training Confusion Matrix\", \"-\"*20)\n",
    "    print(\" \")\n",
    "    print(\"The Training Data Confusion Matrix is as follows:\")\n",
    "    print(\" \")\n",
    "    print(\"The maximum value of tpr*(1-fpr) :\", max(matrixpredict.best_tradeoff))\n",
    "    print(\"Threshold for Maximum Value of tpr*(1-fpr) :\",round(matrixpredict.ideal_threshold,3))\n",
    "   \n",
    "    plt.figure(figsize=(10,7))\n",
    "    \n",
    "    sns.heatmap(train_matrix,\n",
    "                annot=True, cmap=\"YlGnBu\",fmt=\".0f\", xticklabels=labels, yticklabels=labels,\n",
    "                annot_kws={\"size\": 15})\n",
    "    plt.xlabel('Predicted Class')\n",
    "    plt.ylabel('Original Class')\n",
    "    plt.show()"
   ]
  },
  {
   "cell_type": "markdown",
   "metadata": {},
   "source": [
    "<b> <font color=\"black\"> User Defined Function to plot the HeatMap of The Confusion Matrix for the Test Data: </font> </b>"
   ]
  },
  {
   "cell_type": "code",
   "execution_count": 554,
   "metadata": {},
   "outputs": [],
   "source": [
    "import seaborn as sns\n",
    "\n",
    "def plottestmatrix (test_matrix):\n",
    "    labels = [0,1]\n",
    "    \n",
    "    print(\"-\"*20, \"Test Data Confusion Matrix\", \"-\"*20)\n",
    "    print(\" \")\n",
    "    print(\"The Test Data Confusion Matrix is as follows:\")\n",
    "    print(\" \")\n",
    "    print(\"The maximum value of tpr*(1-fpr) :\", max(matrixpredict.best_tradeoff))\n",
    "    print(\"Threshold for Maximum Value of tpr*(1-fpr) :\",round(matrixpredict.ideal_threshold,3))\n",
    "   \n",
    "    plt.figure(figsize=(10,7))\n",
    "   \n",
    "    sns.heatmap(test_matrix,annot=True, cmap=\"YlGnBu\",fmt=\".0f\", xticklabels=labels, \n",
    "                yticklabels=labels,annot_kws={\"size\": 15})\n",
    "    plt.xlabel('Predicted Class')\n",
    "    plt.ylabel('Original Class')\n",
    "    plt.show()     "
   ]
  },
  {
   "cell_type": "code",
   "execution_count": 555,
   "metadata": {},
   "outputs": [],
   "source": [
    "Y_Train_pred1 = logi_test1.predict_proba(X_Train_SCBOW)[:,1]\n",
    "Y_Test_pred1 = logi_test1.predict_proba(X_Test_SCBOW)[:,1]"
   ]
  },
  {
   "cell_type": "markdown",
   "metadata": {},
   "source": [
    "The Train Data Confusion Matrix looks as follows:-"
   ]
  },
  {
   "cell_type": "code",
   "execution_count": 556,
   "metadata": {},
   "outputs": [
    {
     "name": "stdout",
     "output_type": "stream",
     "text": [
      "-------------------- Training Confusion Matrix --------------------\n",
      " \n",
      "The Training Data Confusion Matrix is as follows:\n",
      " \n",
      "The maximum value of tpr*(1-fpr) : 0.8865294862503701\n",
      "Threshold for Maximum Value of tpr*(1-fpr) : 0.463\n"
     ]
    },
    {
     "data": {
      "image/png": "[encoded data removed]",
      "text/plain": [
       "<Figure size 720x504 with 2 Axes>"
      ]
     },
     "metadata": {},
     "output_type": "display_data"
    }
   ],
   "source": [
    "BOW_Train1 = confusion_matrix(Y_Train,matrixpredict(Y_Train_pred1,thresholds,train_tpr1,train_fpr1))\n",
    "plottrainmatrix(BOW_Train1)"
   ]
  },
  {
   "cell_type": "markdown",
   "metadata": {},
   "source": [
    "Accuracy on the Train Data = (56926+9124)/70000 => 94.35%\n",
    "\n",
    "Similarly the Test Data Confusion Matrix is as follows:"
   ]
  },
  {
   "cell_type": "code",
   "execution_count": 557,
   "metadata": {},
   "outputs": [
    {
     "name": "stdout",
     "output_type": "stream",
     "text": [
      "-------------------- Test Data Confusion Matrix --------------------\n",
      " \n",
      "The Test Data Confusion Matrix is as follows:\n",
      " \n",
      "The maximum value of tpr*(1-fpr) : 0.7686386005624654\n",
      "Threshold for Maximum Value of tpr*(1-fpr) : 0.587\n"
     ]
    },
    {
     "data": {
      "image/png": "[encoded data removed]",
      "text/plain": [
       "<Figure size 720x504 with 2 Axes>"
      ]
     },
     "metadata": {},
     "output_type": "display_data"
    }
   ],
   "source": [
    "BOW_Test1 = confusion_matrix(Y_Test,matrixpredict(Y_Test_pred1,thresholds,test_tpr1,test_fpr1))\n",
    "plottestmatrix(BOW_Test1)"
   ]
  },
  {
   "cell_type": "markdown",
   "metadata": {},
   "source": [
    "Accuracy on the Test Data => (14590+2949)/20000 => 87.70 %"
   ]
  },
  {
   "cell_type": "markdown",
   "metadata": {},
   "source": [
    "# [5.1.1.1] Calculating Sparsity on Weight Vector obtained using L1 Regularization on BOW :-"
   ]
  },
  {
   "cell_type": "code",
   "execution_count": 558,
   "metadata": {},
   "outputs": [
    {
     "data": {
      "text/plain": [
       "LogisticRegression(C=0.01, class_weight='balanced', dual=False,\n",
       "          fit_intercept=True, intercept_scaling=1, max_iter=100,\n",
       "          multi_class='warn', n_jobs=None, penalty='l1', random_state=None,\n",
       "          solver='warn', tol=0.0001, verbose=0, warm_start=False)"
      ]
     },
     "execution_count": 558,
     "metadata": {},
     "output_type": "execute_result"
    }
   ],
   "source": [
    "logi_clf1 = LogisticRegression(C=0.01,penalty='l1',class_weight='balanced')\n",
    "logi_clf1.fit(X_Train_SCBOW,Y_Train)"
   ]
  },
  {
   "cell_type": "code",
   "execution_count": 559,
   "metadata": {},
   "outputs": [],
   "source": [
    "W = logi_clf1.coef_"
   ]
  },
  {
   "cell_type": "markdown",
   "metadata": {},
   "source": [
    "The coef_ attribute returns the values of the Weights that suggest the feature importance in case the features are \n",
    "not multicollinear (W is an nd-array).\n",
    "Sparsity of a vector is defined as follows :- \n",
    "        * Number of Zero elements in a vector / Total Number of elements in the vector\n",
    "        \n",
    "This value could be calculated as follows:"
   ]
  },
  {
   "cell_type": "code",
   "execution_count": 560,
   "metadata": {},
   "outputs": [
    {
     "data": {
      "text/plain": [
       "0.8855246536063043"
      ]
     },
     "execution_count": 560,
     "metadata": {},
     "output_type": "execute_result"
    }
   ],
   "source": [
    "(W.shape[0]*W.shape[1] - np.count_nonzero(W)) / (W.shape[0]*W.shape[1])"
   ]
  },
  {
   "cell_type": "markdown",
   "metadata": {},
   "source": [
    "W.shape[0] * W.shape[1] returns the number of elements present in the n-dimensional array whereas count_nonzero\n",
    "in numpy returns the number of non-zero elements. "
   ]
  },
  {
   "cell_type": "markdown",
   "metadata": {},
   "source": [
    "# [5.1.2] Applying Logistic Regression with L2 regularization on BOW :-"
   ]
  },
  {
   "cell_type": "markdown",
   "metadata": {},
   "source": [
    "# Hyperparameter Tuning on the BOW Representation (For L2 Regularization):- "
   ]
  },
  {
   "cell_type": "code",
   "execution_count": 562,
   "metadata": {},
   "outputs": [],
   "source": [
    "warnings.filterwarnings('ignore')\n",
    "\n",
    "#Carrying out 3-fold Cross Validation. class_weight is taken as 'balanced' since the data that we originally had\n",
    "#was an Imbalanced Real World Dataset.\n",
    "\n",
    "logi2 = LogisticRegression(penalty='l2',fit_intercept=False,class_weight='balanced')\n",
    "BOW_model2 = GridSearchCV(logi2,tuned_parameters,scoring='roc_auc', cv=3,n_jobs=-1)\n",
    "\n",
    "BOW_model2.fit(X_Train_SCBOW,Y_Train)\n",
    "\n",
    "Train_BOW_AUC_L2 = BOW_model2.cv_results_['mean_train_score']\n",
    "CV_BOW_AUC_L2 = BOW_model2.cv_results_['mean_test_score'] "
   ]
  },
  {
   "cell_type": "code",
   "execution_count": 564,
   "metadata": {},
   "outputs": [
    {
     "data": {
      "image/png": "[encoded data removed]",
      "text/plain": [
       "<Figure size 432x288 with 1 Axes>"
      ]
     },
     "metadata": {},
     "output_type": "display_data"
    }
   ],
   "source": [
    "plt.plot(lambda_hyperparam,Train_BOW_AUC_L2,label=\"BOW on Train Data AUC\")\n",
    "plt.plot(lambda_hyperparam,CV_BOW_AUC_L2,label =\"BOW on CV Data AUC\")\n",
    "plt.xscale('log')\n",
    "\n",
    "plt.legend()\n",
    "\n",
    "plt.title(\"Error Plot: BOW Implementation\")\n",
    "plt.xlabel('Hyperparameter C')\n",
    "plt.ylabel('AUC Value')\n",
    "\n",
    "plt.grid(False)\n",
    "plt.show()"
   ]
  },
  {
   "cell_type": "code",
   "execution_count": 565,
   "metadata": {},
   "outputs": [
    {
     "name": "stdout",
     "output_type": "stream",
     "text": [
      "{'C': 0.0001}\n"
     ]
    }
   ],
   "source": [
    "print(BOW_model2.best_params_)"
   ]
  },
  {
   "cell_type": "markdown",
   "metadata": {},
   "source": [
    "Therefore, the best Value of the Hyperparameter C in this scenario is : 0.0001, which we will apply on the Test Dataset."
   ]
  },
  {
   "cell_type": "markdown",
   "metadata": {},
   "source": [
    "# Testing with the Test Data for BOW Representation (For L2 Regularization):-"
   ]
  },
  {
   "cell_type": "markdown",
   "metadata": {},
   "source": [
    "Therefore on the Best value of C that has been obtained after carrying out the Hyperparameter Tuning, we fit the \n",
    "model on the Training Data as follows:"
   ]
  },
  {
   "cell_type": "code",
   "execution_count": 566,
   "metadata": {},
   "outputs": [
    {
     "data": {
      "text/plain": [
       "LogisticRegression(C=0.0001, class_weight='balanced', dual=False,\n",
       "          fit_intercept=False, intercept_scaling=1, max_iter=100,\n",
       "          multi_class='warn', n_jobs=None, penalty='l2', random_state=None,\n",
       "          solver='warn', tol=0.0001, verbose=0, warm_start=False)"
      ]
     },
     "execution_count": 566,
     "metadata": {},
     "output_type": "execute_result"
    }
   ],
   "source": [
    "logi_test2 = LogisticRegression(C=0.0001,penalty='l2',fit_intercept=False,class_weight='balanced')\n",
    "logi_test2.fit(X_Train_SCBOW,Y_Train)"
   ]
  },
  {
   "cell_type": "code",
   "execution_count": 567,
   "metadata": {},
   "outputs": [],
   "source": [
    "from sklearn.metrics import auc,roc_curve\n",
    "\n",
    "train_fpr2,train_tpr2,thresholds = roc_curve(Y_Train,logi_test2.predict_proba(X_Train_SCBOW)[:,1])\n",
    "test_fpr2,test_tpr2,thresholds = roc_curve(Y_Test,logi_test2.predict_proba(X_Test_SCBOW)[:,1])"
   ]
  },
  {
   "cell_type": "markdown",
   "metadata": {},
   "source": [
    "Plotting the graph between the FPR Values as well as the TPR values for the Training Data as well as the Test data\n",
    "we obtain the ROC Curve as follows:"
   ]
  },
  {
   "cell_type": "code",
   "execution_count": 568,
   "metadata": {},
   "outputs": [
    {
     "data": {
      "image/png": "[encoded data removed]",
      "text/plain": [
       "<Figure size 432x288 with 1 Axes>"
      ]
     },
     "metadata": {},
     "output_type": "display_data"
    }
   ],
   "source": [
    "import matplotlib.pyplot as plt\n",
    "\n",
    "plt.plot(train_fpr2,train_tpr2,label ='Training Data AUC:' + str(auc(train_fpr2,train_tpr2)))\n",
    "plt.plot(test_fpr2,test_tpr2,label = 'Test Data AUC:' + str(auc(test_fpr2,test_tpr2)))\n",
    "plt.legend()\n",
    "\n",
    "plt.xlabel('FPR Values')\n",
    "plt.ylabel('TPR Values')\n",
    "plt.title('ROC Curve: Logistic Regression on BOW with L2 Regularization')\n",
    "\n",
    "plt.grid(False)\n",
    "plt.show()"
   ]
  },
  {
   "cell_type": "code",
   "execution_count": 569,
   "metadata": {},
   "outputs": [],
   "source": [
    "Y_Train_pred2 = logi_test2.predict_proba(X_Train_SCBOW)[:,1]\n",
    "Y_Test_pred2 = logi_test2.predict_proba(X_Test_SCBOW)[:,1]"
   ]
  },
  {
   "cell_type": "markdown",
   "metadata": {},
   "source": [
    "The Training Data Confusion Matrix will look as follows by calling the user defined functions matrixpredict() and \n",
    "plottrainmatrix() that were defined previously:"
   ]
  },
  {
   "cell_type": "code",
   "execution_count": 570,
   "metadata": {},
   "outputs": [
    {
     "name": "stdout",
     "output_type": "stream",
     "text": [
      "-------------------- Training Confusion Matrix --------------------\n",
      " \n",
      "The Training Data Confusion Matrix is as follows:\n",
      " \n",
      "The maximum value of tpr*(1-fpr) : 0.9258764203284484\n",
      "Threshold for Maximum Value of tpr*(1-fpr) : 0.591\n"
     ]
    },
    {
     "data": {
      "image/png": "[encoded data removed]",
      "text/plain": [
       "<Figure size 720x504 with 2 Axes>"
      ]
     },
     "metadata": {},
     "output_type": "display_data"
    }
   ],
   "source": [
    "BOW_Train2 = confusion_matrix(Y_Train,matrixpredict(Y_Train_pred2,thresholds,train_tpr2,train_fpr2))\n",
    "plottrainmatrix(BOW_Train2)"
   ]
  },
  {
   "cell_type": "markdown",
   "metadata": {},
   "source": [
    "Accuracy on Train Data = (55127+9603)/70000 => 92.53 %"
   ]
  },
  {
   "cell_type": "markdown",
   "metadata": {},
   "source": [
    "The Test Data Confusion Matrix will look as follows by calling the user defined functions matrixpredict() and \n",
    "plottestmatrix() that were defined previously:"
   ]
  },
  {
   "cell_type": "code",
   "execution_count": 571,
   "metadata": {},
   "outputs": [
    {
     "name": "stdout",
     "output_type": "stream",
     "text": [
      "-------------------- Test Data Confusion Matrix --------------------\n",
      " \n",
      "The Test Data Confusion Matrix is as follows:\n",
      " \n",
      "The maximum value of tpr*(1-fpr) : 0.7497374938088163\n",
      "Threshold for Maximum Value of tpr*(1-fpr) : 0.583\n"
     ]
    },
    {
     "data": {
      "image/png": "[encoded data removed]",
      "text/plain": [
       "<Figure size 720x504 with 2 Axes>"
      ]
     },
     "metadata": {},
     "output_type": "display_data"
    }
   ],
   "source": [
    "BOW_Test2 = confusion_matrix(Y_Test,matrixpredict(Y_Test_pred2,thresholds,test_tpr2,test_fpr2))\n",
    "plottestmatrix(BOW_Test2)"
   ]
  },
  {
   "cell_type": "markdown",
   "metadata": {},
   "source": [
    "Accuracy on Test Data = (14417 + 2911)/20000 => 86.64 %"
   ]
  },
  {
   "cell_type": "markdown",
   "metadata": {},
   "source": [
    "# [5.1.2.1] Performing Pertubation Test (Multicollinearity Check) on BOW:-"
   ]
  },
  {
   "cell_type": "markdown",
   "metadata": {},
   "source": [
    "Following are the Steps that we will perform to carry out the Pertubaton Test where we add a small Noise to the \n",
    "Training Data and again train the model on the Train data to check if there is a significant change to the weights \n",
    "obtained or not.\n",
    "\n",
    "Therefore first I will generate a Random number with Gaussian Distribution : A mean of 0 and a variance equal to 0.110.\n",
    "\n",
    "We already have obtained the Weights after fitting the model with the data X and the same has been stored in a \n",
    "variable called W."
   ]
  },
  {
   "cell_type": "code",
   "execution_count": 572,
   "metadata": {},
   "outputs": [
    {
     "name": "stdout",
     "output_type": "stream",
     "text": [
      "0.005053611736121023\n"
     ]
    }
   ],
   "source": [
    "Gaussian = np.random.normal(0,0.0110)\n",
    "print(Gaussian)"
   ]
  },
  {
   "cell_type": "code",
   "execution_count": 573,
   "metadata": {},
   "outputs": [
    {
     "data": {
      "text/plain": [
       "scipy.sparse.csr.csr_matrix"
      ]
     },
     "execution_count": 573,
     "metadata": {},
     "output_type": "execute_result"
    }
   ],
   "source": [
    "type(X_Train_SCBOW)"
   ]
  },
  {
   "cell_type": "code",
   "execution_count": 574,
   "metadata": {},
   "outputs": [
    {
     "data": {
      "text/plain": [
       "(70000, 49871)"
      ]
     },
     "execution_count": 574,
     "metadata": {},
     "output_type": "execute_result"
    }
   ],
   "source": [
    "X_Train_SCBOW.shape"
   ]
  },
  {
   "cell_type": "markdown",
   "metadata": {},
   "source": [
    "As we see X_Train_SCBOW is a sparse matrix and we are basically to obtain a new Sparse matrix after adding this noise\n",
    "\"Gaussian\" that we obtained to the same. Also the shape of the Training Data Matrix :- (70000,49871) as expected. "
   ]
  },
  {
   "cell_type": "code",
   "execution_count": 575,
   "metadata": {},
   "outputs": [
    {
     "data": {
      "text/plain": [
       "LogisticRegression(C=0.01, class_weight='balanced', dual=False,\n",
       "          fit_intercept=True, intercept_scaling=1, max_iter=100,\n",
       "          multi_class='warn', n_jobs=None, penalty='l1', random_state=None,\n",
       "          solver='warn', tol=0.0001, verbose=0, warm_start=False)"
      ]
     },
     "execution_count": 575,
     "metadata": {},
     "output_type": "execute_result"
    }
   ],
   "source": [
    "X_Train_SCBOW.data = X_Train_SCBOW.data + Gaussian\n",
    "#We need to add with .data because otherwise we get an error that says : Adding a Non-Zero Scalar to a Sparse matrix\n",
    "#is not possible\n",
    "\n",
    "logi_clf1.fit(X_Train_SCBOW,Y_Train)"
   ]
  },
  {
   "cell_type": "markdown",
   "metadata": {},
   "source": [
    "We have added the variable \"Gaussian\" to X_Train_SCBOW and then fit the model now on this Training Data with the small noise added to the matrix. Now this logi_clf1's weight vector is obtained and stored in the variable 'W_dash' as follows:"
   ]
  },
  {
   "cell_type": "code",
   "execution_count": 576,
   "metadata": {},
   "outputs": [],
   "source": [
    "W_dash = logi_clf1.coef_"
   ]
  },
  {
   "cell_type": "code",
   "execution_count": 577,
   "metadata": {},
   "outputs": [
    {
     "name": "stdout",
     "output_type": "stream",
     "text": [
      "5709\n",
      "5768\n"
     ]
    }
   ],
   "source": [
    "print(np.count_nonzero(W))\n",
    "print(np.count_nonzero(W_dash))"
   ]
  },
  {
   "cell_type": "markdown",
   "metadata": {},
   "source": [
    "Now add a small value to both the vectors, such as 10^(-6) to make sure that when we are calculating the absolute\n",
    "change in the values of the weight vectors there is no problem of division by zero for these sparse vectors."
   ]
  },
  {
   "cell_type": "code",
   "execution_count": 578,
   "metadata": {},
   "outputs": [],
   "source": [
    "W = W + 10**(-6)\n",
    "W_dash = W_dash + 10**(-6)"
   ]
  },
  {
   "cell_type": "code",
   "execution_count": 579,
   "metadata": {},
   "outputs": [
    {
     "name": "stdout",
     "output_type": "stream",
     "text": [
      "5815\n"
     ]
    }
   ],
   "source": [
    "percentage_change_vector = abs((W - W_dash)/W_dash) * 100\n",
    "print(np.count_nonzero(percentage_change_vector))"
   ]
  },
  {
   "cell_type": "markdown",
   "metadata": {},
   "source": [
    "We basically have obtained 4628 non-zero elements in the \"percentage_change_vector\" where we have obtained the absolute changes in the Percentage values between the 2 vectors. Now what we have to do is as follows:\n",
    "\n",
    " *Find the percentile values for the \"percentage_change_vector\" and find the value of the percetile where this \n",
    "  value is rising sharply. \n",
    " *The value corresponding to this particular percentile becomes our threshold and we are to obtain the feature names\n",
    "  with the percentile values higher than this value of the threshold. \n",
    "  \n",
    "  First we obtain the Percentile values that are multiples of 10."
   ]
  },
  {
   "cell_type": "code",
   "execution_count": 580,
   "metadata": {},
   "outputs": [],
   "source": [
    "Percentiles1 = []\n",
    "Percentile_values1 = []\n",
    "\n",
    "for i in range(0,101,10):\n",
    "    Percentiles1.append(i)\n",
    "    Percentile_values1.append(np.percentile(percentage_change_vector,i))"
   ]
  },
  {
   "cell_type": "code",
   "execution_count": 581,
   "metadata": {},
   "outputs": [
    {
     "data": {
      "image/png": "[encoded data removed]",
      "text/plain": [
       "<Figure size 432x288 with 1 Axes>"
      ]
     },
     "metadata": {},
     "output_type": "display_data"
    }
   ],
   "source": [
    "import matplotlib.pyplot as plt\n",
    "\n",
    "plt.plot(Percentiles1,Percentile_values1)\n",
    "\n",
    "plt.xlabel('Percentiles (0-100)')\n",
    "plt.ylabel('Corresponding Percentile Values')\n",
    "plt.title('Percentiles and Corresponding Values in Range -> (0-100)')\n",
    "plt.show()"
   ]
  },
  {
   "cell_type": "markdown",
   "metadata": {},
   "source": [
    "We see that this percentile value where there is the sudden spike is greater than the 85th percentile. Therefore we \n",
    "zoom in further to the percentile values in this particular range."
   ]
  },
  {
   "cell_type": "code",
   "execution_count": 582,
   "metadata": {},
   "outputs": [],
   "source": [
    "Percentiles2 = []\n",
    "Percentile_values2 = []\n",
    "\n",
    "for i in range(85,101):\n",
    "    Percentiles2.append(i)\n",
    "    Percentile_values2.append(np.percentile(percentage_change_vector,i))"
   ]
  },
  {
   "cell_type": "code",
   "execution_count": 583,
   "metadata": {},
   "outputs": [
    {
     "data": {
      "image/png": "[encoded data removed]",
      "text/plain": [
       "<Figure size 432x288 with 1 Axes>"
      ]
     },
     "metadata": {},
     "output_type": "display_data"
    }
   ],
   "source": [
    "import matplotlib.pyplot as plt\n",
    "\n",
    "plt.plot(Percentiles2,Percentile_values2)\n",
    "\n",
    "plt.xlabel('Percentiles (85-100)')\n",
    "plt.ylabel('Corresponding Percentile Values')\n",
    "plt.title('Percentiles and Corresponding Values in Range -> (85-100)')\n",
    "plt.show()"
   ]
  },
  {
   "cell_type": "markdown",
   "metadata": {},
   "source": [
    "Again we see that the spike is after the 99th percentile. Now we increment the percentiles with a step size of 0.1 \n",
    "and obtain the percentile values for 99.1,99.2,..... and so on."
   ]
  },
  {
   "cell_type": "code",
   "execution_count": 584,
   "metadata": {},
   "outputs": [],
   "source": [
    "Percentiles3 = []\n",
    "Percentile_values3 = []\n",
    "\n",
    "for i in range(99,101):\n",
    "    while i<=100:\n",
    "        Percentiles3.append(i)\n",
    "        Percentile_values3.append(np.percentile(percentage_change_vector,i))\n",
    "        i +=0.1"
   ]
  },
  {
   "cell_type": "code",
   "execution_count": 585,
   "metadata": {},
   "outputs": [
    {
     "data": {
      "image/png": "[encoded data removed]",
      "text/plain": [
       "<Figure size 432x288 with 1 Axes>"
      ]
     },
     "metadata": {},
     "output_type": "display_data"
    }
   ],
   "source": [
    "import matplotlib.pyplot as plt\n",
    "\n",
    "plt.plot(Percentiles3,Percentile_values3)\n",
    "\n",
    "plt.xlabel('Percentiles (99-100)')\n",
    "plt.ylabel('Corresponding Percentile Values')\n",
    "plt.title('Percentiles and Corresponding Values in Range -> (99-100)')\n",
    "plt.show()"
   ]
  },
  {
   "cell_type": "markdown",
   "metadata": {},
   "source": [
    "Also we obtain a list corresponding to all the values for the percentiles in the range of (99,100), and our threshold\n",
    "is the value after which there is a sudden rise in the value. "
   ]
  },
  {
   "cell_type": "code",
   "execution_count": 586,
   "metadata": {},
   "outputs": [
    {
     "name": "stdout",
     "output_type": "stream",
     "text": [
      "[97.42461525199663, 99.93299733902609, 101.12495443608012, 124.25556748261874, 185.52165813583153, 304.1209687702895, 552.9602606134013, 1080.4219480830525, 4093.0552326301877, 71614.3683446396, 16816163.06272669]\n"
     ]
    }
   ],
   "source": [
    "ReqdPercentage_change = []\n",
    "for i in range(99,100):\n",
    "    while i<=100:\n",
    "        ReqdPercentage_change.append(np.percentile(percentage_change_vector,i))\n",
    "        i+=0.1\n",
    "print(ReqdPercentage_change)        "
   ]
  },
  {
   "cell_type": "markdown",
   "metadata": {},
   "source": [
    "Therefore the threshold in this scenario is as follows (stored in the variable \"thresh\"):-   "
   ]
  },
  {
   "cell_type": "code",
   "execution_count": 587,
   "metadata": {},
   "outputs": [],
   "source": [
    "thresh = ReqdPercentage_change[-2]"
   ]
  },
  {
   "cell_type": "code",
   "execution_count": 588,
   "metadata": {},
   "outputs": [
    {
     "data": {
      "text/plain": [
       "numpy.ndarray"
      ]
     },
     "execution_count": 588,
     "metadata": {},
     "output_type": "execute_result"
    }
   ],
   "source": [
    "type(percentage_change_vector)"
   ]
  },
  {
   "cell_type": "code",
   "execution_count": 589,
   "metadata": {},
   "outputs": [
    {
     "data": {
      "text/plain": [
       "49871"
      ]
     },
     "execution_count": 589,
     "metadata": {},
     "output_type": "execute_result"
    }
   ],
   "source": [
    "len(percentage_change_vector[0])\n",
    "#percentage_change_vector is a numpy nd-array."
   ]
  },
  {
   "cell_type": "code",
   "execution_count": 590,
   "metadata": {},
   "outputs": [
    {
     "name": "stdout",
     "output_type": "stream",
     "text": [
      "Number of datapoints above the Threshold: 50\n",
      "====================================================================================================\n",
      "Feature Names above the Threshold value are as follows :\n",
      "['advertizes', 'aguave', 'allitle', 'assn', 'barson', 'blechhh', 'chicobags', 'chipsters', 'citations', 'coatepec', 'conceptbad', 'darwish', 'dippings', 'downey', 'eesnyderif', 'fagin', 'fgound', 'glasgow', 'gobino', 'goofily', 'impractical', 'ippodo', 'italo', 'leon', 'looonnggg', 'miled', 'mothering', 'naaaaa', 'namby', 'neary', 'necking', 'nomol', 'oeste', 'ofmsg', 'perle', 'prectice', 'recomed', 'recommendedc', 'sabrina', 'signaled', 'stroopwafeln', 'sunflowery', 'takingmore', 'tk', 'torque', 'toxicant', 'trebbiano', 'uncomprehending', 'underlining', 'vez']\n"
     ]
    }
   ],
   "source": [
    "#All the features above the Threshold value are obtained as follows:\n",
    "\n",
    "feature_names = count_vect.get_feature_names()\n",
    "number_of_points_above_threshold = 0\n",
    "features_above_threshold = []\n",
    "\n",
    "for i in range(0,len(percentage_change_vector[0])):\n",
    "    if percentage_change_vector[0][i]>thresh:\n",
    "        number_of_points_above_threshold +=1\n",
    "        features_above_threshold.append(feature_names[i])\n",
    "print(\"Number of datapoints above the Threshold: \" + str(number_of_points_above_threshold))\n",
    "print(\"=\"*100)\n",
    "print(\"Feature Names above the Threshold value are as follows :\")\n",
    "print(features_above_threshold)"
   ]
  },
  {
   "cell_type": "markdown",
   "metadata": {},
   "source": [
    "# [5.1.3] Feature Importance on BOW :-"
   ]
  },
  {
   "cell_type": "code",
   "execution_count": 591,
   "metadata": {},
   "outputs": [
    {
     "data": {
      "text/plain": [
       "LogisticRegression(C=0.01, class_weight='balanced', dual=False,\n",
       "          fit_intercept=True, intercept_scaling=1, max_iter=100,\n",
       "          multi_class='warn', n_jobs=None, penalty='l1', random_state=None,\n",
       "          solver='warn', tol=0.0001, verbose=0, warm_start=False)"
      ]
     },
     "execution_count": 591,
     "metadata": {},
     "output_type": "execute_result"
    }
   ],
   "source": [
    "logi_clf1.fit(X_Train_SCBOW,Y_Train)"
   ]
  },
  {
   "cell_type": "code",
   "execution_count": 592,
   "metadata": {},
   "outputs": [
    {
     "data": {
      "text/plain": [
       "array([0, 1])"
      ]
     },
     "execution_count": 592,
     "metadata": {},
     "output_type": "execute_result"
    }
   ],
   "source": [
    "logi_clf1.classes_"
   ]
  },
  {
   "cell_type": "markdown",
   "metadata": {},
   "source": [
    "Now we obtain all the weights in a variable called W_ds and we sort the values such that the first values are the \n",
    "most important features for the negative class and the values at the end are the most important features of the\n",
    "positive class. \n",
    "\n",
    "Basically we are only getting the weight values for the features in the increasing order of importance for the positive class. We use argsort() to obtain the corresponding indices."
   ]
  },
  {
   "cell_type": "code",
   "execution_count": 593,
   "metadata": {},
   "outputs": [
    {
     "name": "stdout",
     "output_type": "stream",
     "text": [
      "The length of the ordered weights vector is as follows: 49871\n",
      "The ordered_weights variable looks like as follows:\n",
      "[29484 12421 49097 ... 11490  4004 19021]\n"
     ]
    }
   ],
   "source": [
    "W_ds = list(logi_clf1.coef_)\n",
    "sorted_weights = list(np.argsort(W_ds))\n",
    "ordered_weights = sorted_weights[0]\n",
    "\n",
    "print(\"The length of the ordered weights vector is as follows: \" + str(len(ordered_weights)))\n",
    "print(\"The ordered_weights variable looks like as follows:\")\n",
    "print(ordered_weights)"
   ]
  },
  {
   "cell_type": "markdown",
   "metadata": {},
   "source": [
    "Now we basically flip the nd-array using the numpy flip() function so that the weights are sorted in the decreasing order of their importance to the positive class."
   ]
  },
  {
   "cell_type": "code",
   "execution_count": 594,
   "metadata": {},
   "outputs": [
    {
     "data": {
      "text/plain": [
       "49871"
      ]
     },
     "execution_count": 594,
     "metadata": {},
     "output_type": "execute_result"
    }
   ],
   "source": [
    "ordered_weights_reversed = list(np.flip(ordered_weights))\n",
    "len(ordered_weights_reversed)"
   ]
  },
  {
   "cell_type": "markdown",
   "metadata": {},
   "source": [
    "# [5.1.3.1] Top 10 Important Features of Positive Class for BOW (Set 1) :-"
   ]
  },
  {
   "cell_type": "code",
   "execution_count": 595,
   "metadata": {},
   "outputs": [
    {
     "name": "stdout",
     "output_type": "stream",
     "text": [
      "The Top 10 Important Features of the Positive Class are as follows:\n",
      "====================================================================================================\n",
      "great --> 0.685\n",
      "best --> 0.536\n",
      "delicious --> 0.496\n",
      "good --> 0.403\n",
      "perfect --> 0.375\n",
      "love --> 0.368\n",
      "loves --> 0.318\n",
      "excellent --> 0.318\n",
      "highly --> 0.313\n",
      "wonderful --> 0.272\n"
     ]
    }
   ],
   "source": [
    "print(\"The Top 10 Important Features of the Positive Class are as follows:\")   \n",
    "print(\"=\"*100) \n",
    "for i in ordered_weights_reversed[0:10]:\n",
    "    print(feature_names[i], \"-->\",round(W_ds[0][i],3))"
   ]
  },
  {
   "cell_type": "markdown",
   "metadata": {},
   "source": [
    "# [5.1.3.2] Top 10 Important Features of Negative Class for BOW (Set 1) :-"
   ]
  },
  {
   "cell_type": "code",
   "execution_count": 634,
   "metadata": {},
   "outputs": [
    {
     "name": "stdout",
     "output_type": "stream",
     "text": [
      "The Top 10 Important Features of the Negative Class are as follows:\n",
      "====================================================================================================\n",
      "not --> -0.631\n",
      "disappointed --> -0.251\n",
      "worst --> -0.226\n",
      "terrible --> -0.204\n",
      "awful --> -0.185\n",
      "horrible --> -0.169\n",
      "thought --> -0.169\n",
      "disappointing --> -0.168\n",
      "unfortunately --> -0.165\n",
      "money --> -0.144\n"
     ]
    }
   ],
   "source": [
    "print(\"The Top 10 Important Features of the Negative Class are as follows:\")   \n",
    "print(\"=\"*100) \n",
    "for i in ordered_weights[0:10]:\n",
    "    print(feature_names[i], \"-->\",round(W_ds[0][i],3))"
   ]
  },
  {
   "cell_type": "markdown",
   "metadata": {},
   "source": [
    "# [5.2] Applying Logistic Regression on TFIDF :-"
   ]
  },
  {
   "cell_type": "markdown",
   "metadata": {},
   "source": [
    "# [5.2.1] Applying Logistic Regression with L1 regularization on TFIDF :- "
   ]
  },
  {
   "cell_type": "code",
   "execution_count": 597,
   "metadata": {},
   "outputs": [
    {
     "data": {
      "text/plain": [
       "TfidfVectorizer(analyzer='word', binary=False, decode_error='strict',\n",
       "        dtype=<class 'numpy.float64'>, encoding='utf-8', input='content',\n",
       "        lowercase=True, max_df=1.0, max_features=None, min_df=10,\n",
       "        ngram_range=(1, 2), norm='l2', preprocessor=None, smooth_idf=True,\n",
       "        stop_words=None, strip_accents=None, sublinear_tf=False,\n",
       "        token_pattern='(?u)\\\\b\\\\w\\\\w+\\\\b', tokenizer=None, use_idf=True,\n",
       "        vocabulary=None)"
      ]
     },
     "execution_count": 597,
     "metadata": {},
     "output_type": "execute_result"
    }
   ],
   "source": [
    "tf_idf_vect = TfidfVectorizer(ngram_range=(1,2), min_df=10)\n",
    "tf_idf_vect.fit(X_Train)\n",
    "\n",
    "# Again fit is carried out only on the Training data. fit() internally stores the parameters that will be used to \n",
    "#convert the Text to a numerical vector. "
   ]
  },
  {
   "cell_type": "code",
   "execution_count": 598,
   "metadata": {},
   "outputs": [],
   "source": [
    "X_Train_TFIDF = tf_idf_vect.transform(X_Train)\n",
    "X_CV_TFIDF = tf_idf_vect.transform(X_CV)\n",
    "X_Test_TFIDF = tf_idf_vect.transform(X_Test)"
   ]
  },
  {
   "cell_type": "code",
   "execution_count": 599,
   "metadata": {},
   "outputs": [
    {
     "name": "stdout",
     "output_type": "stream",
     "text": [
      "Shapes before the TFIDF Vectorization was carried out:\n",
      "(70000,) (70000,)\n",
      "(10000,) (10000,)\n",
      "(20000,) (20000,)\n",
      "====================================================================================================\n",
      "Shapes after the TFIDF Vectorization was carried out:\n",
      "(70000, 40652) (70000,)\n",
      "(10000, 40652) (10000,)\n",
      "(20000, 40652) (20000,)\n"
     ]
    }
   ],
   "source": [
    "print(\"Shapes before the TFIDF Vectorization was carried out:\")\n",
    "\n",
    "print(X_Train.shape,Y_Train.shape)\n",
    "print(X_CV.shape,Y_CV.shape)\n",
    "print(X_Test.shape,Y_Test.shape)\n",
    "\n",
    "print(\"=\"*100)\n",
    "\n",
    "print(\"Shapes after the TFIDF Vectorization was carried out:\")\n",
    "\n",
    "print(X_Train_TFIDF.shape,Y_Train.shape)\n",
    "print(X_CV_TFIDF.shape,Y_CV.shape)\n",
    "print(X_Test_TFIDF.shape,Y_Test.shape)"
   ]
  },
  {
   "cell_type": "markdown",
   "metadata": {},
   "source": [
    "# Hyperparameter Tuning on the TFIDF Representation (For L1 Regularization):- "
   ]
  },
  {
   "cell_type": "code",
   "execution_count": 600,
   "metadata": {},
   "outputs": [],
   "source": [
    "Scaler2 = StandardScaler(with_mean=False)\n",
    "X_Train_SCTFIDF = Scaler2.fit_transform(X_Train_TFIDF)\n",
    "X_CV_SCTFIDF = Scaler2.transform(X_CV_TFIDF)\n",
    "X_Test_SCTFIDF = Scaler2.transform(X_Test_TFIDF)"
   ]
  },
  {
   "cell_type": "code",
   "execution_count": 601,
   "metadata": {},
   "outputs": [],
   "source": [
    "logi3 = LogisticRegression(penalty='l1',fit_intercept=False,class_weight='balanced')\n",
    "TFIDF_model1 = GridSearchCV(logi3,tuned_parameters,scoring='roc_auc',cv=3,n_jobs=-1)\n",
    "\n",
    "TFIDF_model1.fit(X_Train_SCTFIDF,Y_Train)\n",
    "\n",
    "Train_TFIDF_AUC_L1 = TFIDF_model1.cv_results_['mean_train_score']\n",
    "CV_TFIDF_AUC_L1 = TFIDF_model1.cv_results_['mean_test_score'] "
   ]
  },
  {
   "cell_type": "markdown",
   "metadata": {},
   "source": [
    "Plotting the graph to obtain the Best value of C:-"
   ]
  },
  {
   "cell_type": "code",
   "execution_count": 602,
   "metadata": {},
   "outputs": [
    {
     "data": {
      "image/png": "[encoded data removed]",
      "text/plain": [
       "<Figure size 432x288 with 1 Axes>"
      ]
     },
     "metadata": {},
     "output_type": "display_data"
    }
   ],
   "source": [
    "import matplotlib.pyplot as plt\n",
    "\n",
    "plt.plot(lambda_hyperparam,Train_TFIDF_AUC_L1,label=\"TFIDF on Train Data AUC\")\n",
    "plt.plot(lambda_hyperparam,CV_TFIDF_AUC_L1,label =\"TFIDF on CV Data AUC\")\n",
    "plt.xscale('log')\n",
    "\n",
    "plt.legend()\n",
    "plt.grid(False)\n",
    "\n",
    "plt.title(\"Error Plot: TFIDF Implementation\")\n",
    "plt.xlabel('Hyperparameter C')\n",
    "plt.ylabel('AUC Value')\n",
    "\n",
    "plt.show()"
   ]
  },
  {
   "cell_type": "code",
   "execution_count": 603,
   "metadata": {},
   "outputs": [
    {
     "name": "stdout",
     "output_type": "stream",
     "text": [
      "{'C': 0.01}\n"
     ]
    }
   ],
   "source": [
    "print(TFIDF_model1.best_params_)"
   ]
  },
  {
   "cell_type": "markdown",
   "metadata": {},
   "source": [
    "Therefore the best value of the Hyperparameter hence obtained is for C=0.01 which we will use to Train on the Training Data."
   ]
  },
  {
   "cell_type": "markdown",
   "metadata": {},
   "source": [
    "# Testing with the Test Data for TFIDF Representation (For L1 Regularization):-"
   ]
  },
  {
   "cell_type": "code",
   "execution_count": 604,
   "metadata": {},
   "outputs": [
    {
     "data": {
      "text/plain": [
       "LogisticRegression(C=0.01, class_weight='balanced', dual=False,\n",
       "          fit_intercept=False, intercept_scaling=1, max_iter=100,\n",
       "          multi_class='warn', n_jobs=None, penalty='l1', random_state=None,\n",
       "          solver='warn', tol=0.0001, verbose=0, warm_start=False)"
      ]
     },
     "execution_count": 604,
     "metadata": {},
     "output_type": "execute_result"
    }
   ],
   "source": [
    "logi_test3 = LogisticRegression(penalty='l1',C=0.01,fit_intercept=False,class_weight='balanced')\n",
    "logi_test3.fit(X_Train_SCTFIDF,Y_Train)"
   ]
  },
  {
   "cell_type": "code",
   "execution_count": 605,
   "metadata": {},
   "outputs": [
    {
     "data": {
      "text/plain": [
       "(70000, 40652)"
      ]
     },
     "execution_count": 605,
     "metadata": {},
     "output_type": "execute_result"
    }
   ],
   "source": [
    "X_Train_SCTFIDF.shape"
   ]
  },
  {
   "cell_type": "code",
   "execution_count": 606,
   "metadata": {},
   "outputs": [
    {
     "data": {
      "text/plain": [
       "(70000,)"
      ]
     },
     "execution_count": 606,
     "metadata": {},
     "output_type": "execute_result"
    }
   ],
   "source": [
    "Y_Train.shape"
   ]
  },
  {
   "cell_type": "code",
   "execution_count": 607,
   "metadata": {},
   "outputs": [
    {
     "data": {
      "text/plain": [
       "(20000, 40652)"
      ]
     },
     "execution_count": 607,
     "metadata": {},
     "output_type": "execute_result"
    }
   ],
   "source": [
    "X_Test_SCTFIDF.shape"
   ]
  },
  {
   "cell_type": "code",
   "execution_count": 608,
   "metadata": {},
   "outputs": [
    {
     "data": {
      "text/plain": [
       "(20000,)"
      ]
     },
     "execution_count": 608,
     "metadata": {},
     "output_type": "execute_result"
    }
   ],
   "source": [
    "Y_Test.shape"
   ]
  },
  {
   "cell_type": "code",
   "execution_count": 609,
   "metadata": {},
   "outputs": [],
   "source": [
    "from sklearn.metrics import roc_curve,auc\n",
    "\n",
    "train_fpr3,train_tpr3,thresholds = roc_curve(Y_Train,logi_test3.predict_proba(X_Train_SCTFIDF)[:,1])\n",
    "test_fpr3,test_tpr3,thresholds = roc_curve(Y_Test,logi_test3.predict_proba(X_Test_SCTFIDF)[:,1])"
   ]
  },
  {
   "cell_type": "code",
   "execution_count": 610,
   "metadata": {},
   "outputs": [
    {
     "data": {
      "image/png": "[encoded data removed]",
      "text/plain": [
       "<Figure size 432x288 with 1 Axes>"
      ]
     },
     "metadata": {},
     "output_type": "display_data"
    }
   ],
   "source": [
    "import matplotlib.pyplot as plt\n",
    "\n",
    "plt.plot(train_fpr3,train_tpr3,label ='Training Data AUC:' + str(auc(train_fpr3,train_tpr3)))\n",
    "plt.plot(test_fpr3,test_tpr3,label = 'Test Data AUC:' + str(auc(test_fpr3,test_tpr3)))\n",
    "plt.legend()\n",
    "\n",
    "plt.xlabel('FPR Values')\n",
    "plt.ylabel('TPR Values')\n",
    "plt.title('ROC Curve: Logistic Regression on TFIDF with L1 Regularization')\n",
    "\n",
    "plt.grid(False)\n",
    "plt.show()"
   ]
  },
  {
   "cell_type": "code",
   "execution_count": 611,
   "metadata": {},
   "outputs": [],
   "source": [
    "Y_Train_pred3 = logi_test3.predict_proba(X_Train_SCTFIDF)[:,1]\n",
    "Y_Test_pred3 = logi_test3.predict_proba(X_Test_SCTFIDF)[:,1]"
   ]
  },
  {
   "cell_type": "markdown",
   "metadata": {},
   "source": [
    "The Training Data Confusion Matrix will look as follows by calling the user defined functions matrixpredict() and plottrainmatrix() that were defined previously:"
   ]
  },
  {
   "cell_type": "code",
   "execution_count": 612,
   "metadata": {},
   "outputs": [
    {
     "name": "stdout",
     "output_type": "stream",
     "text": [
      "-------------------- Training Confusion Matrix --------------------\n",
      " \n",
      "The Training Data Confusion Matrix is as follows:\n",
      " \n",
      "The maximum value of tpr*(1-fpr) : 0.9488506926689493\n",
      "Threshold for Maximum Value of tpr*(1-fpr) : 0.737\n"
     ]
    },
    {
     "data": {
      "image/png": "[encoded data removed]",
      "text/plain": [
       "<Figure size 720x504 with 2 Axes>"
      ]
     },
     "metadata": {},
     "output_type": "display_data"
    }
   ],
   "source": [
    "TFIDF_Train1 = confusion_matrix(Y_Train,matrixpredict(Y_Train_pred3,thresholds,train_tpr3,train_fpr3))\n",
    "plottrainmatrix(TFIDF_Train1)"
   ]
  },
  {
   "cell_type": "markdown",
   "metadata": {},
   "source": [
    "Accuracy on the Train Data = (52179+9728)/70000 => 88.43%"
   ]
  },
  {
   "cell_type": "markdown",
   "metadata": {},
   "source": [
    "The Test Data Confusion Matrix will look as follows by calling the user defined functions matrixpredict() and \n",
    "plottestmatrix() that were defined previously:"
   ]
  },
  {
   "cell_type": "code",
   "execution_count": 613,
   "metadata": {},
   "outputs": [
    {
     "name": "stdout",
     "output_type": "stream",
     "text": [
      "-------------------- Test Data Confusion Matrix --------------------\n",
      " \n",
      "The Test Data Confusion Matrix is as follows:\n",
      " \n",
      "The maximum value of tpr*(1-fpr) : 0.7994715665559511\n",
      "Threshold for Maximum Value of tpr*(1-fpr) : 0.638\n"
     ]
    },
    {
     "data": {
      "image/png": "[encoded data removed]",
      "text/plain": [
       "<Figure size 720x504 with 2 Axes>"
      ]
     },
     "metadata": {},
     "output_type": "display_data"
    }
   ],
   "source": [
    "TFIDF_Test1 = confusion_matrix(Y_Test,matrixpredict(Y_Test_pred3,thresholds,test_tpr3,test_fpr3))\n",
    "plottestmatrix(TFIDF_Test1)"
   ]
  },
  {
   "cell_type": "markdown",
   "metadata": {},
   "source": [
    "Accuracy on the Test Data = (14721+3040)/20000 => 88.80%"
   ]
  },
  {
   "cell_type": "markdown",
   "metadata": {},
   "source": [
    "# [5.2.2] Applying Logistic Regression with L2 regularization on TFIDF :- "
   ]
  },
  {
   "cell_type": "markdown",
   "metadata": {},
   "source": [
    "# Hyperparameter Tuning on the TFIDF Representation (For L2 Regularization):- "
   ]
  },
  {
   "cell_type": "code",
   "execution_count": 614,
   "metadata": {},
   "outputs": [],
   "source": [
    "logi4 = LogisticRegression(penalty='l2',fit_intercept=False,class_weight='balanced')\n",
    "TFIDF_model2 = GridSearchCV(logi4,tuned_parameters,scoring='roc_auc',cv=3,n_jobs=-1)\n",
    "\n",
    "TFIDF_model2.fit(X_Train_SCTFIDF,Y_Train)\n",
    "\n",
    "Train_TFIDF_AUC_L2 = TFIDF_model2.cv_results_['mean_train_score']\n",
    "CV_TFIDF_AUC_L2 = TFIDF_model2.cv_results_['mean_test_score'] "
   ]
  },
  {
   "cell_type": "markdown",
   "metadata": {},
   "source": [
    "Plotting the graph to obtain the Best Value of C:"
   ]
  },
  {
   "cell_type": "code",
   "execution_count": 615,
   "metadata": {},
   "outputs": [
    {
     "data": {
      "image/png": "[encoded data removed]",
      "text/plain": [
       "<Figure size 432x288 with 1 Axes>"
      ]
     },
     "metadata": {},
     "output_type": "display_data"
    }
   ],
   "source": [
    "import matplotlib.pyplot as plt\n",
    "\n",
    "plt.plot(lambda_hyperparam,Train_TFIDF_AUC_L2,label=\"TFIDF on Train Data AUC\")\n",
    "plt.plot(lambda_hyperparam,CV_TFIDF_AUC_L2,label =\"TFIDF on CV Data AUC\")\n",
    "plt.xscale('log')\n",
    "\n",
    "plt.legend()\n",
    "plt.grid(False)\n",
    "\n",
    "plt.title(\"Error Plot: TFIDF Implementation\")\n",
    "plt.xlabel('Hyperparameter C')\n",
    "plt.ylabel('AUC Value')\n",
    "\n",
    "plt.show()"
   ]
  },
  {
   "cell_type": "code",
   "execution_count": 616,
   "metadata": {},
   "outputs": [
    {
     "name": "stdout",
     "output_type": "stream",
     "text": [
      "{'C': 1e-06}\n"
     ]
    }
   ],
   "source": [
    "print(TFIDF_model2.best_params_)"
   ]
  },
  {
   "cell_type": "markdown",
   "metadata": {},
   "source": [
    "# Testing with the Test Data for TFIDF Representation (For L2 Regularization) :-"
   ]
  },
  {
   "cell_type": "code",
   "execution_count": 617,
   "metadata": {},
   "outputs": [
    {
     "data": {
      "text/plain": [
       "LogisticRegression(C=1e-06, class_weight='balanced', dual=False,\n",
       "          fit_intercept=False, intercept_scaling=1, max_iter=100,\n",
       "          multi_class='warn', n_jobs=None, penalty='l2', random_state=None,\n",
       "          solver='warn', tol=0.0001, verbose=0, warm_start=False)"
      ]
     },
     "execution_count": 617,
     "metadata": {},
     "output_type": "execute_result"
    }
   ],
   "source": [
    "logi_test4 = LogisticRegression(penalty='l2',C=10**(-6),fit_intercept=False,class_weight='balanced')\n",
    "logi_test4.fit(X_Train_SCTFIDF,Y_Train)"
   ]
  },
  {
   "cell_type": "code",
   "execution_count": 618,
   "metadata": {},
   "outputs": [
    {
     "data": {
      "text/plain": [
       "(70000, 40652)"
      ]
     },
     "execution_count": 618,
     "metadata": {},
     "output_type": "execute_result"
    }
   ],
   "source": [
    "X_Train_SCTFIDF.shape"
   ]
  },
  {
   "cell_type": "code",
   "execution_count": 619,
   "metadata": {},
   "outputs": [
    {
     "data": {
      "text/plain": [
       "(70000,)"
      ]
     },
     "execution_count": 619,
     "metadata": {},
     "output_type": "execute_result"
    }
   ],
   "source": [
    "Y_Train.shape"
   ]
  },
  {
   "cell_type": "code",
   "execution_count": 620,
   "metadata": {},
   "outputs": [
    {
     "data": {
      "text/plain": [
       "(20000, 40652)"
      ]
     },
     "execution_count": 620,
     "metadata": {},
     "output_type": "execute_result"
    }
   ],
   "source": [
    "X_Test_SCTFIDF.shape"
   ]
  },
  {
   "cell_type": "code",
   "execution_count": 621,
   "metadata": {},
   "outputs": [
    {
     "data": {
      "text/plain": [
       "(20000,)"
      ]
     },
     "execution_count": 621,
     "metadata": {},
     "output_type": "execute_result"
    }
   ],
   "source": [
    "Y_Test.shape"
   ]
  },
  {
   "cell_type": "code",
   "execution_count": 622,
   "metadata": {},
   "outputs": [],
   "source": [
    "from sklearn.metrics import roc_curve,auc\n",
    "\n",
    "train_fpr4,train_tpr4,threshold = roc_curve(Y_Train,logi_test4.predict_proba(X_Train_SCTFIDF)[:,1])\n",
    "test_fpr4,test_tpr4,threshold = roc_curve(Y_Test,logi_test4.predict_proba(X_Test_SCTFIDF)[:,1])"
   ]
  },
  {
   "cell_type": "code",
   "execution_count": 623,
   "metadata": {},
   "outputs": [
    {
     "data": {
      "image/png": "[encoded data removed]",
      "text/plain": [
       "<Figure size 432x288 with 1 Axes>"
      ]
     },
     "metadata": {},
     "output_type": "display_data"
    }
   ],
   "source": [
    "import matplotlib.pyplot as plt\n",
    "\n",
    "plt.plot(train_fpr4,train_tpr4,label ='Training Data AUC:' + str(auc(train_fpr4,train_tpr4)))\n",
    "plt.plot(test_fpr4,test_tpr4,label = 'Test Data AUC:' + str(auc(test_fpr4,test_tpr4)))\n",
    "plt.legend()\n",
    "\n",
    "plt.xlabel('FPR Values')\n",
    "plt.ylabel('TPR Values')\n",
    "plt.title('ROC Curve: Logistic Regression on TFIDF with L1 Regularization')\n",
    "\n",
    "plt.grid(False)\n",
    "plt.show()"
   ]
  },
  {
   "cell_type": "code",
   "execution_count": 624,
   "metadata": {},
   "outputs": [],
   "source": [
    "Y_Train_pred4 = logi_test4.predict_proba(X_Train_SCTFIDF)[:,1]\n",
    "Y_Test_pred4 = logi_test4.predict_proba(X_Test_SCTFIDF)[:,1]"
   ]
  },
  {
   "cell_type": "markdown",
   "metadata": {},
   "source": [
    "The Training Data Confusion Matrix will look as follows by calling the user defined functions matrixpredict() and plottrainmatrix() that were defined previously:"
   ]
  },
  {
   "cell_type": "code",
   "execution_count": 625,
   "metadata": {},
   "outputs": [
    {
     "name": "stdout",
     "output_type": "stream",
     "text": [
      "-------------------- Training Confusion Matrix --------------------\n",
      " \n",
      "The Training Data Confusion Matrix is as follows:\n",
      " \n",
      "The maximum value of tpr*(1-fpr) : 0.8686500799393649\n",
      "Threshold for Maximum Value of tpr*(1-fpr) : 0.378\n"
     ]
    },
    {
     "data": {
      "image/png": "[encoded data removed]",
      "text/plain": [
       "<Figure size 720x504 with 2 Axes>"
      ]
     },
     "metadata": {},
     "output_type": "display_data"
    }
   ],
   "source": [
    "TFIDF_Train2 = confusion_matrix(Y_Train,matrixpredict(Y_Train_pred4,thresholds,train_tpr4,train_fpr4))\n",
    "plottrainmatrix(TFIDF_Train2)"
   ]
  },
  {
   "cell_type": "markdown",
   "metadata": {},
   "source": [
    "Accuracy on the Training Data = (60253+1265)/70000 => 87.88 %"
   ]
  },
  {
   "cell_type": "markdown",
   "metadata": {},
   "source": [
    "The Test Data Confusion Matrix will look as follows by calling the user defined functions matrixpredict() and \n",
    "plottestmatrix() that were defined previously:"
   ]
  },
  {
   "cell_type": "code",
   "execution_count": 626,
   "metadata": {},
   "outputs": [
    {
     "name": "stdout",
     "output_type": "stream",
     "text": [
      "-------------------- Test Data Confusion Matrix --------------------\n",
      " \n",
      "The Test Data Confusion Matrix is as follows:\n",
      " \n",
      "The maximum value of tpr*(1-fpr) : 0.7837671427123124\n",
      "Threshold for Maximum Value of tpr*(1-fpr) : 0.571\n"
     ]
    },
    {
     "data": {
      "image/png": "[encoded data removed]",
      "text/plain": [
       "<Figure size 720x504 with 2 Axes>"
      ]
     },
     "metadata": {},
     "output_type": "display_data"
    }
   ],
   "source": [
    "TFIDF_Test2 = confusion_matrix(Y_Test,matrixpredict(Y_Test_pred4,thresholds,test_tpr4,test_fpr4))\n",
    "plottestmatrix(TFIDF_Test2)"
   ]
  },
  {
   "cell_type": "markdown",
   "metadata": {},
   "source": [
    "Accuracy on the Test Data = (312+3364)/20000 => 18.38 %"
   ]
  },
  {
   "cell_type": "markdown",
   "metadata": {},
   "source": [
    "# [5.2.3] Feature Importance on TFIDF :-"
   ]
  },
  {
   "cell_type": "code",
   "execution_count": 627,
   "metadata": {},
   "outputs": [
    {
     "data": {
      "text/plain": [
       "LogisticRegression(C=0.01, class_weight='balanced', dual=False,\n",
       "          fit_intercept=False, intercept_scaling=1, max_iter=100,\n",
       "          multi_class='warn', n_jobs=None, penalty='l1', random_state=None,\n",
       "          solver='warn', tol=0.0001, verbose=0, warm_start=False)"
      ]
     },
     "execution_count": 627,
     "metadata": {},
     "output_type": "execute_result"
    }
   ],
   "source": [
    "logi_test3.fit(X_Train_SCTFIDF,Y_Train)"
   ]
  },
  {
   "cell_type": "code",
   "execution_count": 628,
   "metadata": {},
   "outputs": [],
   "source": [
    "TFIDF_feature_names = tf_idf_vect.get_feature_names()\n",
    "W_TFIDF = logi_test3.coef_"
   ]
  },
  {
   "cell_type": "code",
   "execution_count": 629,
   "metadata": {},
   "outputs": [
    {
     "name": "stdout",
     "output_type": "stream",
     "text": [
      "The length of the TFIDF_sorted_weights vector is as follows: 40652\n",
      "The TFIDF_sorted_weights variable looks like as follows:\n",
      "[ 9147 24630 40083 ... 14959  2821 15624]\n"
     ]
    }
   ],
   "source": [
    "TFIDF_sorted_weights = np.argsort(W_TFIDF[0])\n",
    "print(\"The length of the TFIDF_sorted_weights vector is as follows: \" + str(len(TFIDF_sorted_weights)))\n",
    "print(\"The TFIDF_sorted_weights variable looks like as follows:\")\n",
    "print(TFIDF_sorted_weights)"
   ]
  },
  {
   "cell_type": "code",
   "execution_count": 630,
   "metadata": {},
   "outputs": [
    {
     "data": {
      "text/plain": [
       "40652"
      ]
     },
     "execution_count": 630,
     "metadata": {},
     "output_type": "execute_result"
    }
   ],
   "source": [
    "TFIDF_sorted_weights_reversed = list(np.flip(TFIDF_sorted_weights))\n",
    "len(TFIDF_sorted_weights_reversed)"
   ]
  },
  {
   "cell_type": "markdown",
   "metadata": {},
   "source": [
    "# [5.2.3.1] Top 10 Important Features of Positive Class for TFIDF (Set 2) :-"
   ]
  },
  {
   "cell_type": "code",
   "execution_count": 631,
   "metadata": {},
   "outputs": [
    {
     "name": "stdout",
     "output_type": "stream",
     "text": [
      "The Top 10 Important Features of the Positive Class are as follows:\n",
      "====================================================================================================\n",
      "great --> 0.776\n",
      "best --> 0.545\n",
      "good --> 0.509\n",
      "delicious --> 0.474\n",
      "love --> 0.473\n",
      "perfect --> 0.359\n",
      "loves --> 0.308\n",
      "excellent --> 0.3\n",
      "wonderful --> 0.271\n",
      "not disappointed --> 0.257\n"
     ]
    }
   ],
   "source": [
    "print(\"The Top 10 Important Features of the Positive Class are as follows:\")   \n",
    "print(\"=\"*100) \n",
    "for i in TFIDF_sorted_weights_reversed[0:10]:\n",
    "    print(TFIDF_feature_names[i], \"-->\",round(W_TFIDF[0][i],3))"
   ]
  },
  {
   "cell_type": "markdown",
   "metadata": {},
   "source": [
    "# [5.2.3.2] Top 10 Important Features of Negative Class for TFIDF (Set 2) :-"
   ]
  },
  {
   "cell_type": "code",
   "execution_count": 635,
   "metadata": {},
   "outputs": [
    {
     "name": "stdout",
     "output_type": "stream",
     "text": [
      "The Top 10 Important Features of the Negative Class are as follows:\n",
      "====================================================================================================\n",
      "disappointed --> -0.293\n",
      "not worth --> -0.207\n",
      "worst --> -0.196\n",
      "not good --> -0.194\n",
      "not --> -0.172\n",
      "awful --> -0.171\n",
      "terrible --> -0.17\n",
      "not recommend --> -0.166\n",
      "bad --> -0.16\n",
      "disappointing --> -0.149\n"
     ]
    }
   ],
   "source": [
    "print(\"The Top 10 Important Features of the Negative Class are as follows:\")   \n",
    "print(\"=\"*100) \n",
    "for i in TFIDF_sorted_weights[0:10]:\n",
    "    print(TFIDF_feature_names[i], \"-->\",round(W_TFIDF[0][i],3))"
   ]
  },
  {
   "cell_type": "markdown",
   "metadata": {},
   "source": [
    "# [5.3] Applying Logistic Regression on Avg W2V :-"
   ]
  },
  {
   "cell_type": "code",
   "execution_count": 447,
   "metadata": {},
   "outputs": [],
   "source": [
    "list_of_sentence_Train =[]\n",
    "\n",
    "for sentence in X_Train:\n",
    "    list_of_sentence_Train.append(sentence.split())"
   ]
  },
  {
   "cell_type": "code",
   "execution_count": 448,
   "metadata": {},
   "outputs": [
    {
     "name": "stdout",
     "output_type": "stream",
     "text": [
      "Number of words that occur a minimum 5 times : 15928\n",
      "Some of the sample words are as follows:  ['little', 'book', 'makes', 'son', 'laugh', 'loud', 'car', 'driving', 'along', 'always', 'sing', 'refrain', 'learned', 'india', 'roses', 'love', 'new', 'words', 'introduces', 'classic', 'willing', 'bet', 'still', 'able', 'memory', 'college', 'remember', 'seeing', 'show', 'television', 'years', 'ago', 'child', 'sister', 'later', 'bought', 'day', 'thirty', 'something', 'used', 'series', 'books', 'songs', 'student', 'teaching', 'turned', 'whole', 'school', 'purchasing', 'cd']\n"
     ]
    }
   ],
   "source": [
    "w2v_model=Word2Vec(list_of_sentence_Train,min_count=5,size=50, workers=4)\n",
    "\n",
    "w2v_words = list(w2v_model.wv.vocab)\n",
    "print(\"Number of words that occur a minimum 5 times :\",len(w2v_words))\n",
    "print(\"Some of the sample words are as follows: \", w2v_words[0:50])"
   ]
  },
  {
   "cell_type": "markdown",
   "metadata": {},
   "source": [
    "# Converting Reviews into Numerical Vectors using W2V vectors :-"
   ]
  },
  {
   "cell_type": "markdown",
   "metadata": {},
   "source": [
    "# Converting the Train Data Text :-"
   ]
  },
  {
   "cell_type": "code",
   "execution_count": 449,
   "metadata": {},
   "outputs": [
    {
     "name": "stderr",
     "output_type": "stream",
     "text": [
      "100%|██████████| 70000/70000 [03:30<00:00, 332.04it/s]\n"
     ]
    },
    {
     "name": "stdout",
     "output_type": "stream",
     "text": [
      "(70000, 50)\n",
      "[-0.26362235  0.36341259  0.05912716 -0.15530241 -0.21291825  0.08224224\n",
      " -0.25469363 -0.13862453  0.26894427 -0.26029831 -0.04197873  0.05070011\n",
      " -0.0908889   0.24274769 -0.02457227  0.53280742  0.07720621 -0.08869534\n",
      "  0.21933248 -0.28083922  0.28840151 -0.32265463 -0.03505384 -0.42208762\n",
      "  0.38699276 -0.08300514 -0.61234964 -0.08876074 -0.09647444  0.21374562\n",
      "  0.11816004  0.4525831   0.02205687 -0.70755206  0.21486545  0.04888541\n",
      "  0.15189676 -0.28684302  0.4380355  -0.12291572  0.05511635  0.05907963\n",
      "  0.15147521  0.17947921  0.09547235 -0.38324617  0.43814488  0.31504052\n",
      " -0.01067962 -0.49069129]\n"
     ]
    }
   ],
   "source": [
    "# average Word2Vec\n",
    "# compute average word2vec for each review.\n",
    "\n",
    "sent_vectors_train = []; # the avg-w2v for each sentence/review is stored in this list\n",
    "for sent in tqdm(list_of_sentence_Train): # for each review/sentence for Training Dataset\n",
    "    sent_vec = np.zeros(50) \n",
    "    cnt_words =0; # num of words with a valid vector in the sentence/review\n",
    "    for word in sent: # for each word in a review/sentence\n",
    "        if word in w2v_words:\n",
    "            vec = w2v_model.wv[word]\n",
    "            sent_vec += vec\n",
    "            cnt_words += 1\n",
    "    if cnt_words != 0:\n",
    "        sent_vec /= cnt_words\n",
    "    sent_vectors_train.append(sent_vec)\n",
    "sent_vectors_train = np.array(sent_vectors_train)\n",
    "print(sent_vectors_train.shape)\n",
    "print(sent_vectors_train[0])"
   ]
  },
  {
   "cell_type": "markdown",
   "metadata": {},
   "source": [
    "# Converting the CV Data Text :- "
   ]
  },
  {
   "cell_type": "code",
   "execution_count": 450,
   "metadata": {},
   "outputs": [],
   "source": [
    "list_of_sentence_CV=[]\n",
    "\n",
    "for sentence in X_CV:\n",
    "    list_of_sentence_CV.append(sentence.split())"
   ]
  },
  {
   "cell_type": "code",
   "execution_count": 451,
   "metadata": {},
   "outputs": [
    {
     "name": "stderr",
     "output_type": "stream",
     "text": [
      "100%|██████████| 10000/10000 [00:35<00:00, 279.34it/s]"
     ]
    },
    {
     "name": "stdout",
     "output_type": "stream",
     "text": [
      "(10000, 50)\n",
      "[-0.54314212  0.93229    -0.26659426 -0.32557144  0.10203325 -0.09511835\n",
      " -0.0601084   0.6061285   0.73678312 -0.5780331  -0.97167579 -0.05995509\n",
      "  0.641424    1.00823946  0.02411256 -0.59540434 -0.20607784  0.50461223\n",
      " -0.43214003 -0.16438693 -0.55799016 -1.00977479 -0.22433989 -0.80314952\n",
      "  0.67531942  0.24621882 -0.12094076 -1.21701362  0.2590868   0.06028539\n",
      "  0.24249784  0.22580237 -0.3470416  -0.54390467  0.36592818 -0.5400776\n",
      " -0.68841747 -0.44865155  0.21871802 -0.72908377  0.82552079 -0.37377145\n",
      " -0.1773099  -0.36782574  0.20512174 -0.08270357  0.39839728  0.55755891\n",
      "  0.25172036  0.01304174]\n"
     ]
    },
    {
     "name": "stderr",
     "output_type": "stream",
     "text": [
      "\n"
     ]
    }
   ],
   "source": [
    "# average Word2Vec\n",
    "# compute average word2vec for each review.\n",
    "\n",
    "sent_vectors_cv = []; # the avg-w2v for each sentence/review is stored in this list\n",
    "for sent in tqdm(list_of_sentence_CV): # for each review/sentence in the CV Dataset.\n",
    "    sent_vec = np.zeros(50) \n",
    "    cnt_words =0; # num of words with a valid vector in the sentence/review\n",
    "    for word in sent: # for each word in a review/sentence\n",
    "        if word in w2v_words:\n",
    "            vec = w2v_model.wv[word]\n",
    "            sent_vec += vec\n",
    "            cnt_words += 1\n",
    "    if cnt_words != 0:\n",
    "        sent_vec /= cnt_words\n",
    "    sent_vectors_cv.append(sent_vec)\n",
    "sent_vectors_cv = np.array(sent_vectors_cv)\n",
    "print(sent_vectors_cv.shape)\n",
    "print(sent_vectors_cv[0])"
   ]
  },
  {
   "cell_type": "markdown",
   "metadata": {},
   "source": [
    "# Converting the Test Dataset :- "
   ]
  },
  {
   "cell_type": "code",
   "execution_count": 452,
   "metadata": {},
   "outputs": [],
   "source": [
    "list_of_sentence_Test=[]\n",
    "\n",
    "for sentence in X_Test:\n",
    "    list_of_sentence_Test.append(sentence.split())"
   ]
  },
  {
   "cell_type": "code",
   "execution_count": 453,
   "metadata": {},
   "outputs": [
    {
     "name": "stderr",
     "output_type": "stream",
     "text": [
      "100%|██████████| 20000/20000 [01:08<00:00, 292.04it/s]"
     ]
    },
    {
     "name": "stdout",
     "output_type": "stream",
     "text": [
      "(20000, 50)\n",
      "[-0.07378932  0.6712336   0.03768263  0.2643882  -0.60631931  0.53480398\n",
      " -0.33460285  0.20846627  0.37334804  0.04518424 -0.89149444  0.41057425\n",
      "  0.2191432   0.30187157  1.02174405  0.95069487  0.74066361 -0.13720857\n",
      "  0.542327    0.14497826 -0.11830268 -0.07027424  0.71532956 -0.28252261\n",
      "  0.62837058  0.34923659  0.22613363 -0.31467119 -0.18399634  0.72005026\n",
      " -0.20654184  0.86442045  0.17901444 -0.74680024  0.64576795 -0.04478863\n",
      " -0.45511976 -0.90311688  0.31090903 -0.41058571  0.12561467  0.00847569\n",
      "  0.14458226  0.35787313  0.35890088  0.32884971 -0.49603471 -0.62464337\n",
      " -0.10627545  0.06020927]\n"
     ]
    },
    {
     "name": "stderr",
     "output_type": "stream",
     "text": [
      "\n"
     ]
    }
   ],
   "source": [
    "# average Word2Vec\n",
    "# compute average word2vec for each review.\n",
    "\n",
    "sent_vectors_test = []; # the avg-w2v for each sentence/review is stored in this list\n",
    "for sent in tqdm(list_of_sentence_Test): # for each review/sentence in the Test Dataset\n",
    "    sent_vec = np.zeros(50) \n",
    "    cnt_words =0; # num of words with a valid vector in the sentence/review\n",
    "    for word in sent: # for each word in a review/sentence\n",
    "        if word in w2v_words:\n",
    "            vec = w2v_model.wv[word]\n",
    "            sent_vec += vec\n",
    "            cnt_words += 1\n",
    "    if cnt_words != 0:\n",
    "        sent_vec /= cnt_words\n",
    "    sent_vectors_test.append(sent_vec)\n",
    "sent_vectors_test = np.array(sent_vectors_test)\n",
    "print(sent_vectors_test.shape)\n",
    "print(sent_vectors_test[0])"
   ]
  },
  {
   "cell_type": "markdown",
   "metadata": {},
   "source": [
    "# [5.3.1] Applying Logistic Regression with L1 regularization on AVG W2V :-"
   ]
  },
  {
   "cell_type": "markdown",
   "metadata": {},
   "source": [
    "# Hyperparameter Tuning on the Avg W2V Representation (For L1 Regularization):- "
   ]
  },
  {
   "cell_type": "code",
   "execution_count": 455,
   "metadata": {},
   "outputs": [],
   "source": [
    "Scaler3 = StandardScaler(with_mean=False)\n",
    "\n",
    "X_Train_SCAW2V = Scaler3.fit_transform(sent_vectors_train)\n",
    "X_CV_SCAW2V = Scaler3.transform(sent_vectors_cv)\n",
    "X_Test_SCAW2V = Scaler3.transform(sent_vectors_test)"
   ]
  },
  {
   "cell_type": "code",
   "execution_count": 467,
   "metadata": {},
   "outputs": [],
   "source": [
    "logi5 = LogisticRegression(penalty='l1',fit_intercept=False,class_weight='balanced')\n",
    "AW2V_model1 = GridSearchCV(logi5,tuned_parameters,scoring='roc_auc',cv=3,n_jobs=-1)\n",
    "\n",
    "AW2V_model1.fit(X_Train_SCAW2V,Y_Train)\n",
    "\n",
    "Train_AW2V_AUC_L1 = AW2V_model1.cv_results_['mean_train_score']\n",
    "CV_AW2V_AUC_L1 = AW2V_model1.cv_results_['mean_test_score'] "
   ]
  },
  {
   "cell_type": "markdown",
   "metadata": {},
   "source": [
    "Plotting the graph to obtain the Best value of the Hyperparameter C:-"
   ]
  },
  {
   "cell_type": "code",
   "execution_count": 468,
   "metadata": {},
   "outputs": [
    {
     "data": {
      "image/png": "[encoded data removed]",
      "text/plain": [
       "<Figure size 432x288 with 1 Axes>"
      ]
     },
     "metadata": {},
     "output_type": "display_data"
    }
   ],
   "source": [
    "import matplotlib.pyplot as plt\n",
    "\n",
    "plt.plot(lambda_hyperparam,Train_AW2V_AUC_L1,label=\"AW2V on Train Data AUC\")\n",
    "plt.plot(lambda_hyperparam,CV_AW2V_AUC_L1,label =\"AW2V on CV Data AUC\")\n",
    "plt.xscale('log')\n",
    "\n",
    "plt.legend()\n",
    "plt.grid(False)\n",
    "\n",
    "plt.title(\"Error Plot: AW2V Implementation\")\n",
    "plt.xlabel('Hyperparameter C')\n",
    "plt.ylabel('AUC Value')\n",
    "\n",
    "plt.show()"
   ]
  },
  {
   "cell_type": "code",
   "execution_count": 469,
   "metadata": {},
   "outputs": [
    {
     "name": "stdout",
     "output_type": "stream",
     "text": [
      "{'C': 1}\n"
     ]
    }
   ],
   "source": [
    "print(AW2V_model1.best_params_)"
   ]
  },
  {
   "cell_type": "markdown",
   "metadata": {},
   "source": [
    "# Testing with the Test Data for AW2V Representation (For L1 Regularization) :-"
   ]
  },
  {
   "cell_type": "code",
   "execution_count": 470,
   "metadata": {},
   "outputs": [
    {
     "data": {
      "text/plain": [
       "LogisticRegression(C=1, class_weight='balanced', dual=False,\n",
       "          fit_intercept=False, intercept_scaling=1, max_iter=100,\n",
       "          multi_class='warn', n_jobs=None, penalty='l1', random_state=None,\n",
       "          solver='warn', tol=0.0001, verbose=0, warm_start=False)"
      ]
     },
     "execution_count": 470,
     "metadata": {},
     "output_type": "execute_result"
    }
   ],
   "source": [
    "logi_test5 = LogisticRegression(penalty='l1',C=1,fit_intercept=False,class_weight='balanced')\n",
    "logi_test5.fit(X_Train_SCAW2V,Y_Train)"
   ]
  },
  {
   "cell_type": "code",
   "execution_count": 471,
   "metadata": {},
   "outputs": [
    {
     "data": {
      "text/plain": [
       "(70000, 50)"
      ]
     },
     "execution_count": 471,
     "metadata": {},
     "output_type": "execute_result"
    }
   ],
   "source": [
    "X_Train_SCAW2V.shape"
   ]
  },
  {
   "cell_type": "code",
   "execution_count": 462,
   "metadata": {},
   "outputs": [
    {
     "data": {
      "text/plain": [
       "(70000,)"
      ]
     },
     "execution_count": 462,
     "metadata": {},
     "output_type": "execute_result"
    }
   ],
   "source": [
    "Y_Train.shape"
   ]
  },
  {
   "cell_type": "code",
   "execution_count": 472,
   "metadata": {},
   "outputs": [
    {
     "data": {
      "text/plain": [
       "(20000, 50)"
      ]
     },
     "execution_count": 472,
     "metadata": {},
     "output_type": "execute_result"
    }
   ],
   "source": [
    "X_Test_SCAW2V.shape"
   ]
  },
  {
   "cell_type": "code",
   "execution_count": 464,
   "metadata": {},
   "outputs": [
    {
     "data": {
      "text/plain": [
       "(20000,)"
      ]
     },
     "execution_count": 464,
     "metadata": {},
     "output_type": "execute_result"
    }
   ],
   "source": [
    "Y_Test.shape"
   ]
  },
  {
   "cell_type": "code",
   "execution_count": 476,
   "metadata": {},
   "outputs": [],
   "source": [
    "from sklearn.metrics import roc_curve,auc\n",
    "\n",
    "train_fpr5,train_tpr5,threshold = roc_curve(Y_Train,logi_test5.predict_proba(X_Train_SCAW2V)[:,1])\n",
    "test_fpr5,test_tpr5,threshold = roc_curve(Y_Test,logi_test5.predict_proba(X_Test_SCAW2V)[:,1])"
   ]
  },
  {
   "cell_type": "code",
   "execution_count": 477,
   "metadata": {},
   "outputs": [
    {
     "data": {
      "image/png": "[encoded data removed]",
      "text/plain": [
       "<Figure size 432x288 with 1 Axes>"
      ]
     },
     "metadata": {},
     "output_type": "display_data"
    }
   ],
   "source": [
    "import matplotlib.pyplot as plt\n",
    "\n",
    "plt.plot(train_fpr5,train_tpr5,label ='Training Data AUC:' + str(auc(train_fpr5,train_tpr5)))\n",
    "plt.plot(test_fpr5,test_tpr5,label = 'Test Data AUC:' + str(auc(test_fpr5,test_tpr5)))\n",
    "plt.legend()\n",
    "\n",
    "plt.xlabel('FPR Values')\n",
    "plt.ylabel('TPR Values')\n",
    "plt.title('ROC Curve: Logistic Regression on AW2V with L1 Regularization')\n",
    "\n",
    "plt.grid(False)\n",
    "plt.show()"
   ]
  },
  {
   "cell_type": "code",
   "execution_count": 478,
   "metadata": {},
   "outputs": [],
   "source": [
    "Y_Train_pred5 = logi_test5.predict_proba(X_Train_SCAW2V)[:,1]\n",
    "Y_Test_pred5 = logi_test5.predict_proba(X_Test_SCAW2V)[:,1]"
   ]
  },
  {
   "cell_type": "markdown",
   "metadata": {},
   "source": [
    "The Test Data Confusion Matrix will look as follows by calling the user defined functions matrixpredict() and \n",
    "plottestmatrix() that were defined previously:"
   ]
  },
  {
   "cell_type": "code",
   "execution_count": 481,
   "metadata": {},
   "outputs": [
    {
     "name": "stdout",
     "output_type": "stream",
     "text": [
      "-------------------- Test Data Confusion Matrix --------------------\n",
      " \n",
      "The Test Data Confusion Matrix is as follows:\n",
      " \n",
      "The maximum value of tpr*(1-fpr) : 0.6871543778647484\n",
      "Threshold for Maximum Value of tpr*(1-fpr) : 0.485\n"
     ]
    },
    {
     "data": {
      "image/png": "[encoded data removed]",
      "text/plain": [
       "<Figure size 720x504 with 2 Axes>"
      ]
     },
     "metadata": {},
     "output_type": "display_data"
    }
   ],
   "source": [
    "AW2V_Test1 = confusion_matrix(Y_Test,matrixpredict(Y_Test_pred5,thresholds,test_tpr5,test_fpr5))\n",
    "plottestmatrix(AW2V_Test1)"
   ]
  },
  {
   "cell_type": "markdown",
   "metadata": {},
   "source": [
    "Accuracy on the Test Data = (13390+2863)/20000 => 81.27 %"
   ]
  },
  {
   "cell_type": "markdown",
   "metadata": {},
   "source": [
    "# [5.3.2] Applying Logistic Regression with L2 regularization on AVG W2V :-"
   ]
  },
  {
   "cell_type": "markdown",
   "metadata": {},
   "source": [
    "# Hyperparameter Tuning on the Avg W2V Representation (For L1 Regularization):- "
   ]
  },
  {
   "cell_type": "code",
   "execution_count": 482,
   "metadata": {},
   "outputs": [],
   "source": [
    "logi6 = LogisticRegression(penalty='l2',fit_intercept=False,class_weight='balanced')\n",
    "AW2V_model2 = GridSearchCV(logi6,tuned_parameters,scoring='roc_auc',cv=3,n_jobs=-1)\n",
    "\n",
    "AW2V_model2.fit(X_Train_SCAW2V,Y_Train)\n",
    "\n",
    "Train_AW2V_AUC_L2 = AW2V_model2.cv_results_['mean_train_score']\n",
    "CV_AW2V_AUC_L2 = AW2V_model2.cv_results_['mean_test_score'] "
   ]
  },
  {
   "cell_type": "markdown",
   "metadata": {},
   "source": [
    "Plotting the graph for the Best Value of the Hyperparameter C, we obtain the following:"
   ]
  },
  {
   "cell_type": "code",
   "execution_count": 483,
   "metadata": {},
   "outputs": [
    {
     "data": {
      "image/png": "[encoded data removed]",
      "text/plain": [
       "<Figure size 432x288 with 1 Axes>"
      ]
     },
     "metadata": {},
     "output_type": "display_data"
    }
   ],
   "source": [
    "import matplotlib.pyplot as plt\n",
    "\n",
    "plt.plot(lambda_hyperparam,Train_AW2V_AUC_L2,label=\"AW2V on Train Data AUC\")\n",
    "plt.plot(lambda_hyperparam,CV_AW2V_AUC_L2,label =\"AW2V on CV Data AUC\")\n",
    "plt.xscale('log')\n",
    "\n",
    "plt.legend()\n",
    "plt.grid(False)\n",
    "\n",
    "plt.title(\"Error Plot: AW2V Implementation\")\n",
    "plt.xlabel('Hyperparameter C')\n",
    "plt.ylabel('AUC Value')\n",
    "\n",
    "plt.show()"
   ]
  },
  {
   "cell_type": "code",
   "execution_count": 485,
   "metadata": {},
   "outputs": [
    {
     "name": "stdout",
     "output_type": "stream",
     "text": [
      "{'C': 1}\n"
     ]
    }
   ],
   "source": [
    "print(AW2V_model2.best_params_)"
   ]
  },
  {
   "cell_type": "markdown",
   "metadata": {},
   "source": [
    "Again we have obtained the best value of the Hyperparameter C to be equal to 1."
   ]
  },
  {
   "cell_type": "markdown",
   "metadata": {},
   "source": [
    "# Testing with the Test Data for AW2V Representation (For L2 Regularization) :-"
   ]
  },
  {
   "cell_type": "code",
   "execution_count": 491,
   "metadata": {},
   "outputs": [
    {
     "data": {
      "text/plain": [
       "LogisticRegression(C=1, class_weight='balanced', dual=False,\n",
       "          fit_intercept=False, intercept_scaling=1, max_iter=100,\n",
       "          multi_class='warn', n_jobs=None, penalty='l2', random_state=None,\n",
       "          solver='warn', tol=0.0001, verbose=0, warm_start=False)"
      ]
     },
     "execution_count": 491,
     "metadata": {},
     "output_type": "execute_result"
    }
   ],
   "source": [
    "logi_test6 = LogisticRegression(penalty='l2',C=1,fit_intercept=False,class_weight='balanced')\n",
    "logi_test6.fit(X_Train_SCAW2V,Y_Train)"
   ]
  },
  {
   "cell_type": "code",
   "execution_count": 492,
   "metadata": {},
   "outputs": [
    {
     "data": {
      "text/plain": [
       "(70000, 50)"
      ]
     },
     "execution_count": 492,
     "metadata": {},
     "output_type": "execute_result"
    }
   ],
   "source": [
    "X_Train_SCAW2V.shape"
   ]
  },
  {
   "cell_type": "code",
   "execution_count": 493,
   "metadata": {},
   "outputs": [
    {
     "data": {
      "text/plain": [
       "(70000,)"
      ]
     },
     "execution_count": 493,
     "metadata": {},
     "output_type": "execute_result"
    }
   ],
   "source": [
    "Y_Train.shape"
   ]
  },
  {
   "cell_type": "code",
   "execution_count": 494,
   "metadata": {},
   "outputs": [
    {
     "data": {
      "text/plain": [
       "(20000, 50)"
      ]
     },
     "execution_count": 494,
     "metadata": {},
     "output_type": "execute_result"
    }
   ],
   "source": [
    "X_Test_SCAW2V.shape"
   ]
  },
  {
   "cell_type": "code",
   "execution_count": 495,
   "metadata": {},
   "outputs": [
    {
     "data": {
      "text/plain": [
       "(20000,)"
      ]
     },
     "execution_count": 495,
     "metadata": {},
     "output_type": "execute_result"
    }
   ],
   "source": [
    "Y_Test.shape"
   ]
  },
  {
   "cell_type": "code",
   "execution_count": 496,
   "metadata": {},
   "outputs": [],
   "source": [
    "from sklearn.metrics import roc_curve,auc\n",
    "\n",
    "train_fpr6,train_tpr6,threshold = roc_curve(Y_Train,logi_test6.predict_proba(X_Train_SCAW2V)[:,1])\n",
    "test_fpr6,test_tpr6,threshold = roc_curve(Y_Test,logi_test6.predict_proba(X_Test_SCAW2V)[:,1])"
   ]
  },
  {
   "cell_type": "code",
   "execution_count": 497,
   "metadata": {},
   "outputs": [
    {
     "data": {
      "image/png": "[encoded data removed]",
      "text/plain": [
       "<Figure size 432x288 with 1 Axes>"
      ]
     },
     "metadata": {},
     "output_type": "display_data"
    }
   ],
   "source": [
    "import matplotlib.pyplot as plt\n",
    "\n",
    "plt.plot(train_fpr6,train_tpr6,label ='Training Data AUC:' + str(auc(train_fpr6,train_tpr6)))\n",
    "plt.plot(test_fpr6,test_tpr6,label = 'Test Data AUC:' + str(auc(test_fpr6,test_tpr6)))\n",
    "plt.legend()\n",
    "\n",
    "plt.xlabel('FPR Values')\n",
    "plt.ylabel('TPR Values')\n",
    "plt.title('ROC Curve: Logistic Regression on AW2V with L2 Regularization')\n",
    "\n",
    "plt.grid(False)\n",
    "plt.show()"
   ]
  },
  {
   "cell_type": "code",
   "execution_count": 498,
   "metadata": {},
   "outputs": [],
   "source": [
    "Y_Train_pred6 = logi_test6.predict_proba(X_Train_SCAW2V)[:,1]\n",
    "Y_Test_pred6 = logi_test6.predict_proba(X_Test_SCAW2V)[:,1]"
   ]
  },
  {
   "cell_type": "markdown",
   "metadata": {},
   "source": [
    "The Test Data Confusion Matrix will look as follows by calling the user defined functions matrixpredict() and \n",
    "plottestmatrix() that were defined previously:"
   ]
  },
  {
   "cell_type": "code",
   "execution_count": 499,
   "metadata": {},
   "outputs": [
    {
     "name": "stdout",
     "output_type": "stream",
     "text": [
      "-------------------- Test Data Confusion Matrix --------------------\n",
      " \n",
      "The Test Data Confusion Matrix is as follows:\n",
      " \n",
      "The maximum value of tpr*(1-fpr) : 0.6870121581673828\n",
      "Threshold for Maximum Value of tpr*(1-fpr) : 0.499\n"
     ]
    },
    {
     "data": {
      "image/png": "[encoded data removed]",
      "text/plain": [
       "<Figure size 720x504 with 2 Axes>"
      ]
     },
     "metadata": {},
     "output_type": "display_data"
    }
   ],
   "source": [
    "AW2V_Test2 = confusion_matrix(Y_Test,matrixpredict(Y_Test_pred6,thresholds,test_tpr6,test_fpr6))\n",
    "plottestmatrix(AW2V_Test2)"
   ]
  },
  {
   "cell_type": "markdown",
   "metadata": {},
   "source": [
    "Accuracy on the Test Data = (13242+2892)/20000 => 80.67 %"
   ]
  },
  {
   "cell_type": "markdown",
   "metadata": {},
   "source": [
    "# [5.4] Applying Logistic Regression on TFIDF W2V :-"
   ]
  },
  {
   "cell_type": "code",
   "execution_count": 500,
   "metadata": {},
   "outputs": [],
   "source": [
    "model = TfidfVectorizer()\n",
    "tf_idf_matrix = model.fit_transform(X_Train)\n",
    "# we are converting a dictionary with word as a key, and the idf as a value\n",
    "dictionary = dict(zip(model.get_feature_names(), list(model.idf_)))"
   ]
  },
  {
   "cell_type": "code",
   "execution_count": 501,
   "metadata": {},
   "outputs": [
    {
     "data": {
      "text/plain": [
       "(70000, 49871)"
      ]
     },
     "execution_count": 501,
     "metadata": {},
     "output_type": "execute_result"
    }
   ],
   "source": [
    "tf_idf_matrix.shape"
   ]
  },
  {
   "cell_type": "markdown",
   "metadata": {},
   "source": [
    "So basically tf_idf_matrix has learnt the vocabulary from X_Train and now we will apply the same on the Cross \n",
    "Validation as well as the Test Datasets."
   ]
  },
  {
   "cell_type": "markdown",
   "metadata": {},
   "source": [
    "# Converting Reviews into Numerical Vectors using W2V vectors :-"
   ]
  },
  {
   "cell_type": "markdown",
   "metadata": {},
   "source": [
    "# Converting the Train Data Text :-"
   ]
  },
  {
   "cell_type": "code",
   "execution_count": 502,
   "metadata": {},
   "outputs": [
    {
     "name": "stderr",
     "output_type": "stream",
     "text": [
      "100%|██████████| 70000/70000 [2:26:25<00:00,  7.97it/s]     \n"
     ]
    }
   ],
   "source": [
    "# TF-IDF weighted Word2Vec\n",
    "tfidf_feat = model.get_feature_names() # tfidf words/col-names\n",
    "# final_tf_idf is the sparse matrix with row= sentence, col=word and cell_val = tfidf\n",
    "\n",
    "tfidf_sent_vectors_train = []; # the tfidf-w2v for each sentence/review from Training Data is stored in this list\n",
    "row=0;\n",
    "for sent in tqdm(list_of_sentence_Train): # for each review/sentence in Training Data\n",
    "    sent_vec = np.zeros(50) # as word vectors are of zero length\n",
    "    weight_sum =0; # num of words with a valid vector in the sentence/review\n",
    "    for word in sent: # for each word in a review/sentence\n",
    "        if word in w2v_words and word in tfidf_feat:\n",
    "            vec = w2v_model.wv[word]\n",
    "#             tf_idf = tf_idf_matrix[row, tfidf_feat.index(word)]\n",
    "            # to reduce the computation we are \n",
    "            # dictionary[word] = idf value of word in whole courpus\n",
    "            # sent.count(word) = tf valeus of word in this review\n",
    "            tf_idf = dictionary[word]*(sent.count(word)/len(sent))\n",
    "            sent_vec += (vec * tf_idf)\n",
    "            weight_sum += tf_idf\n",
    "    if weight_sum != 0:\n",
    "        sent_vec /= weight_sum\n",
    "    tfidf_sent_vectors_train.append(sent_vec)\n",
    "    row += 1"
   ]
  },
  {
   "cell_type": "code",
   "execution_count": 503,
   "metadata": {},
   "outputs": [
    {
     "data": {
      "text/plain": [
       "array([-0.1377085 ,  0.57922791, -0.26778645,  0.00927131, -0.31480139,\n",
       "       -0.09514315, -0.45718019, -0.3459088 ,  0.57188027, -0.23613721,\n",
       "       -0.3367774 ,  0.33397561,  0.14271972,  0.0145354 ,  0.14699015,\n",
       "        0.25031593, -0.13074571, -0.20908718,  0.26968004,  0.02424442,\n",
       "        0.38539809, -0.39909051,  0.34158593, -0.2152388 ,  0.71684167,\n",
       "        0.08013011, -0.41634708,  0.03336402,  0.16538415,  0.08156946,\n",
       "       -0.12341729,  0.48609311,  0.07896668, -0.23647025,  0.02374171,\n",
       "       -0.20066829,  0.1111161 , -0.10216669,  0.23018917, -0.01845567,\n",
       "       -0.08628821,  0.00216192,  0.12506644,  0.09857979, -0.14456786,\n",
       "       -0.63768659,  0.63804906,  0.49433737, -0.39536   , -0.76087556])"
      ]
     },
     "execution_count": 503,
     "metadata": {},
     "output_type": "execute_result"
    }
   ],
   "source": [
    "tfidf_sent_vectors_train[1]"
   ]
  },
  {
   "cell_type": "markdown",
   "metadata": {},
   "source": [
    "# Converting the CV Data Text :-"
   ]
  },
  {
   "cell_type": "code",
   "execution_count": 504,
   "metadata": {},
   "outputs": [
    {
     "name": "stderr",
     "output_type": "stream",
     "text": [
      "100%|██████████| 10000/10000 [07:47<00:00, 21.41it/s]\n"
     ]
    }
   ],
   "source": [
    "# TF-IDF weighted Word2Vec\n",
    "tfidf_feat = model.get_feature_names() # tfidf words/col-names\n",
    "# final_tf_idf is the sparse matrix with row= sentence, col=word and cell_val = tfidf\n",
    "\n",
    "tfidf_sent_vectors_cv = []; # the tfidf-w2v for each sentence/review from the CV Dataset is stored in this list\n",
    "row=0;\n",
    "for sent in tqdm(list_of_sentence_CV): # for each review/sentence in the Cross Validation Dataset \n",
    "    sent_vec = np.zeros(50) # as word vectors are of zero length\n",
    "    weight_sum =0; # num of words with a valid vector in the sentence/review\n",
    "    for word in sent: # for each word in a review/sentence\n",
    "        if word in w2v_words and word in tfidf_feat:\n",
    "            vec = w2v_model.wv[word]\n",
    "#             tf_idf = tf_idf_matrix[row, tfidf_feat.index(word)]\n",
    "            # to reduce the computation we are \n",
    "            # dictionary[word] = idf value of word in whole courpus\n",
    "            # sent.count(word) = tf valeus of word in this review\n",
    "            tf_idf = dictionary[word]*(sent.count(word)/len(sent))\n",
    "            sent_vec += (vec * tf_idf)\n",
    "            weight_sum += tf_idf\n",
    "    if weight_sum != 0:\n",
    "        sent_vec /= weight_sum\n",
    "    tfidf_sent_vectors_cv.append(sent_vec)\n",
    "    row += 1"
   ]
  },
  {
   "cell_type": "markdown",
   "metadata": {},
   "source": [
    "# Converting the Test Data Text :-"
   ]
  },
  {
   "cell_type": "code",
   "execution_count": 505,
   "metadata": {},
   "outputs": [
    {
     "name": "stderr",
     "output_type": "stream",
     "text": [
      "100%|██████████| 20000/20000 [17:45<00:00, 18.77it/s] \n"
     ]
    }
   ],
   "source": [
    "# TF-IDF weighted Word2Vec\n",
    "tfidf_feat = model.get_feature_names() # tfidf words/col-names\n",
    "# final_tf_idf is the sparse matrix with row= sentence, col=word and cell_val = tfidf\n",
    "\n",
    "tfidf_sent_vectors_test = []; # the tfidf-w2v for each sentence/review from the Test Dataset is stored in this list\n",
    "row=0;\n",
    "for sent in tqdm(list_of_sentence_Test): # for each review/sentence in the Test Dataset \n",
    "    sent_vec = np.zeros(50) # as word vectors are of zero length\n",
    "    weight_sum =0; # num of words with a valid vector in the sentence/review\n",
    "    for word in sent: # for each word in a review/sentence\n",
    "        if word in w2v_words and word in tfidf_feat:\n",
    "            vec = w2v_model.wv[word]\n",
    "#             tf_idf = tf_idf_matrix[row, tfidf_feat.index(word)]\n",
    "            # to reduce the computation we are \n",
    "            # dictionary[word] = idf value of word in whole courpus\n",
    "            # sent.count(word) = tf valeus of word in this review\n",
    "            tf_idf = dictionary[word]*(sent.count(word)/len(sent))\n",
    "            sent_vec += (vec * tf_idf)\n",
    "            weight_sum += tf_idf\n",
    "    if weight_sum != 0:\n",
    "        sent_vec /= weight_sum\n",
    "    tfidf_sent_vectors_test.append(sent_vec)\n",
    "    row += 1"
   ]
  },
  {
   "cell_type": "markdown",
   "metadata": {},
   "source": [
    "# [5.4.1] Applying Logistic Regression with L1 regularization on TFIDF W2V :-"
   ]
  },
  {
   "cell_type": "markdown",
   "metadata": {},
   "source": [
    "# Hyperparameter Tuning on the TFIDF W2V Representation (For L1 Regularization):- "
   ]
  },
  {
   "cell_type": "code",
   "execution_count": 506,
   "metadata": {},
   "outputs": [],
   "source": [
    "Scaler4 = StandardScaler(with_mean=False)\n",
    "\n",
    "X_Train_SCTFIDFW2V = Scaler4.fit_transform(tfidf_sent_vectors_train)\n",
    "X_CV_SCTFIDFW2V = Scaler4.transform(tfidf_sent_vectors_cv)\n",
    "X_Test_SCTFIDFW2V = Scaler4.transform(tfidf_sent_vectors_test)"
   ]
  },
  {
   "cell_type": "code",
   "execution_count": 507,
   "metadata": {},
   "outputs": [],
   "source": [
    "logi7 = LogisticRegression(penalty='l1',fit_intercept=False,class_weight='balanced')\n",
    "TFIDFW2V_model1 = GridSearchCV(logi7,tuned_parameters,scoring='roc_auc',cv=3,n_jobs=-1)\n",
    "\n",
    "TFIDFW2V_model1.fit(X_Train_SCTFIDFW2V,Y_Train)\n",
    "\n",
    "Train_TFIDFW2V_AUC_L1 = TFIDFW2V_model1.cv_results_['mean_train_score']\n",
    "CV_TFIDFW2V_AUC_L1 = TFIDFW2V_model1.cv_results_['mean_test_score'] "
   ]
  },
  {
   "cell_type": "markdown",
   "metadata": {},
   "source": [
    "Plotting the graph to find the best value of the Hyperparameter C, we obtain the following:-"
   ]
  },
  {
   "cell_type": "code",
   "execution_count": 508,
   "metadata": {},
   "outputs": [
    {
     "data": {
      "image/png": "[encoded data removed]",
      "text/plain": [
       "<Figure size 432x288 with 1 Axes>"
      ]
     },
     "metadata": {},
     "output_type": "display_data"
    }
   ],
   "source": [
    "import matplotlib.pyplot as plt\n",
    "\n",
    "plt.plot(lambda_hyperparam,Train_TFIDFW2V_AUC_L1,label=\"TFIDF W2V on Train Data AUC\")\n",
    "plt.plot(lambda_hyperparam,CV_TFIDFW2V_AUC_L1,label =\"TFIDF W2V on CV Data AUC\")\n",
    "plt.xscale('log')\n",
    "\n",
    "plt.legend()\n",
    "plt.grid(False)\n",
    "\n",
    "plt.title(\"Error Plot: TFIDF W2V Implementation\")\n",
    "plt.xlabel('Hyperparameter C')\n",
    "plt.ylabel('AUC Value')\n",
    "\n",
    "plt.show()"
   ]
  },
  {
   "cell_type": "code",
   "execution_count": 509,
   "metadata": {},
   "outputs": [
    {
     "name": "stdout",
     "output_type": "stream",
     "text": [
      "{'C': 1}\n"
     ]
    }
   ],
   "source": [
    "print(TFIDFW2V_model1.best_params_)"
   ]
  },
  {
   "cell_type": "markdown",
   "metadata": {},
   "source": [
    "Again we obtain the Best value of the hyperparameter to be equal to 1."
   ]
  },
  {
   "cell_type": "markdown",
   "metadata": {},
   "source": [
    "# Testing with the Test Data for TFIDF W2V Representation (For L1 Regularization) :-"
   ]
  },
  {
   "cell_type": "code",
   "execution_count": 510,
   "metadata": {},
   "outputs": [
    {
     "data": {
      "text/plain": [
       "LogisticRegression(C=1, class_weight='balanced', dual=False,\n",
       "          fit_intercept=False, intercept_scaling=1, max_iter=100,\n",
       "          multi_class='warn', n_jobs=None, penalty='l1', random_state=None,\n",
       "          solver='warn', tol=0.0001, verbose=0, warm_start=False)"
      ]
     },
     "execution_count": 510,
     "metadata": {},
     "output_type": "execute_result"
    }
   ],
   "source": [
    "logi_test7 = LogisticRegression(penalty='l1',C=1,fit_intercept=False,class_weight='balanced')\n",
    "logi_test7.fit(X_Train_SCTFIDFW2V,Y_Train)"
   ]
  },
  {
   "cell_type": "code",
   "execution_count": 511,
   "metadata": {},
   "outputs": [
    {
     "data": {
      "text/plain": [
       "(70000, 50)"
      ]
     },
     "execution_count": 511,
     "metadata": {},
     "output_type": "execute_result"
    }
   ],
   "source": [
    "X_Train_SCTFIDFW2V.shape"
   ]
  },
  {
   "cell_type": "code",
   "execution_count": 512,
   "metadata": {},
   "outputs": [
    {
     "data": {
      "text/plain": [
       "(70000,)"
      ]
     },
     "execution_count": 512,
     "metadata": {},
     "output_type": "execute_result"
    }
   ],
   "source": [
    "Y_Train.shape"
   ]
  },
  {
   "cell_type": "code",
   "execution_count": 513,
   "metadata": {},
   "outputs": [
    {
     "data": {
      "text/plain": [
       "(20000, 50)"
      ]
     },
     "execution_count": 513,
     "metadata": {},
     "output_type": "execute_result"
    }
   ],
   "source": [
    "X_Test_SCTFIDFW2V.shape"
   ]
  },
  {
   "cell_type": "code",
   "execution_count": 514,
   "metadata": {},
   "outputs": [
    {
     "data": {
      "text/plain": [
       "(20000,)"
      ]
     },
     "execution_count": 514,
     "metadata": {},
     "output_type": "execute_result"
    }
   ],
   "source": [
    "Y_Test.shape"
   ]
  },
  {
   "cell_type": "code",
   "execution_count": 515,
   "metadata": {},
   "outputs": [],
   "source": [
    "from sklearn.metrics import roc_curve,auc\n",
    "\n",
    "train_fpr7,train_tpr7,threshold = roc_curve(Y_Train,logi_test7.predict_proba(X_Train_SCTFIDFW2V)[:,1])\n",
    "test_fpr7,test_tpr7,threshold = roc_curve(Y_Test,logi_test7.predict_proba(X_Test_SCTFIDFW2V)[:,1])"
   ]
  },
  {
   "cell_type": "code",
   "execution_count": 516,
   "metadata": {},
   "outputs": [
    {
     "data": {
      "image/png": "[encoded data removed]",
      "text/plain": [
       "<Figure size 432x288 with 1 Axes>"
      ]
     },
     "metadata": {},
     "output_type": "display_data"
    }
   ],
   "source": [
    "import matplotlib.pyplot as plt\n",
    "\n",
    "plt.plot(train_fpr7,train_tpr7,label ='Training Data AUC:' + str(auc(train_fpr7,train_tpr7)))\n",
    "plt.plot(test_fpr7,test_tpr7,label = 'Test Data AUC:' + str(auc(test_fpr7,test_tpr7)))\n",
    "plt.legend()\n",
    "\n",
    "plt.xlabel('FPR Values')\n",
    "plt.ylabel('TPR Values')\n",
    "plt.title('ROC Curve: Logistic Regression on TFIDF W2V with L1 Regularization')\n",
    "\n",
    "plt.grid(False)\n",
    "plt.show()"
   ]
  },
  {
   "cell_type": "code",
   "execution_count": 517,
   "metadata": {},
   "outputs": [],
   "source": [
    "Y_Train_pred7 = logi_test7.predict_proba(X_Train_SCTFIDFW2V)[:,1]\n",
    "Y_Test_pred7 = logi_test7.predict_proba(X_Test_SCTFIDFW2V)[:,1]"
   ]
  },
  {
   "cell_type": "markdown",
   "metadata": {},
   "source": [
    "The Test Data Confusion Matrix will look as follows by calling the user defined functions matrixpredict() and \n",
    "plottestmatrix() that were defined previously:"
   ]
  },
  {
   "cell_type": "code",
   "execution_count": 518,
   "metadata": {},
   "outputs": [
    {
     "name": "stdout",
     "output_type": "stream",
     "text": [
      "-------------------- Test Data Confusion Matrix --------------------\n",
      " \n",
      "The Test Data Confusion Matrix is as follows:\n",
      " \n",
      "The maximum value of tpr*(1-fpr) : 0.6372540040043393\n",
      "Threshold for Maximum Value of tpr*(1-fpr) : 0.433\n"
     ]
    },
    {
     "data": {
      "image/png": "[encoded data removed]",
      "text/plain": [
       "<Figure size 720x504 with 2 Axes>"
      ]
     },
     "metadata": {},
     "output_type": "display_data"
    }
   ],
   "source": [
    "TFIDFW2V_Test1 = confusion_matrix(Y_Test,matrixpredict(Y_Test_pred7,thresholds,test_tpr7,test_fpr7))\n",
    "plottestmatrix(TFIDFW2V_Test1)"
   ]
  },
  {
   "cell_type": "markdown",
   "metadata": {},
   "source": [
    "Accuracy on the Test Data = (13710+2554)/20000 => 81.32%"
   ]
  },
  {
   "cell_type": "markdown",
   "metadata": {},
   "source": [
    "# [5.4.2] Applying Logistic Regression with L2 regularization on TFIDF W2V :-"
   ]
  },
  {
   "cell_type": "markdown",
   "metadata": {},
   "source": [
    "# Hyperparameter Tuning on the TFIDF W2V Representation (For L2 Regularization):- "
   ]
  },
  {
   "cell_type": "code",
   "execution_count": 519,
   "metadata": {},
   "outputs": [],
   "source": [
    "logi8 = LogisticRegression(penalty='l2',fit_intercept=False,class_weight='balanced')\n",
    "TFIDFW2V_model2 = GridSearchCV(logi8,tuned_parameters,scoring='roc_auc',cv=3,n_jobs=-1)\n",
    "\n",
    "TFIDFW2V_model2.fit(X_Train_SCTFIDFW2V,Y_Train)\n",
    "\n",
    "Train_TFIDFW2V_AUC_L2 = TFIDFW2V_model2.cv_results_['mean_train_score']\n",
    "CV_TFIDFW2V_AUC_L2 = TFIDFW2V_model2.cv_results_['mean_test_score'] "
   ]
  },
  {
   "cell_type": "markdown",
   "metadata": {},
   "source": [
    "Plotting the graph to find the best value of the Hyperparameter C, we obtain the following:-"
   ]
  },
  {
   "cell_type": "code",
   "execution_count": 520,
   "metadata": {},
   "outputs": [
    {
     "data": {
      "image/png": "[encoded data removed]",
      "text/plain": [
       "<Figure size 432x288 with 1 Axes>"
      ]
     },
     "metadata": {},
     "output_type": "display_data"
    }
   ],
   "source": [
    "import matplotlib.pyplot as plt\n",
    "\n",
    "plt.plot(lambda_hyperparam,Train_TFIDFW2V_AUC_L2,label=\"TFIDF W2V on Train Data AUC\")\n",
    "plt.plot(lambda_hyperparam,CV_TFIDFW2V_AUC_L2,label =\"TFIDF W2V on CV Data AUC\")\n",
    "plt.xscale('log')\n",
    "\n",
    "plt.legend()\n",
    "plt.grid(False)\n",
    "\n",
    "plt.title(\"Error Plot: TFIDF W2V Implementation\")\n",
    "plt.xlabel('Hyperparameter C')\n",
    "plt.ylabel('AUC Value')\n",
    "\n",
    "plt.show()"
   ]
  },
  {
   "cell_type": "code",
   "execution_count": 521,
   "metadata": {},
   "outputs": [
    {
     "name": "stdout",
     "output_type": "stream",
     "text": [
      "{'C': 1}\n"
     ]
    }
   ],
   "source": [
    "print(TFIDFW2V_model2.best_params_)"
   ]
  },
  {
   "cell_type": "markdown",
   "metadata": {},
   "source": [
    "# Testing with the Test Data for TFIDF W2V Representation (For L2 Regularization) :-"
   ]
  },
  {
   "cell_type": "code",
   "execution_count": 522,
   "metadata": {},
   "outputs": [
    {
     "data": {
      "text/plain": [
       "LogisticRegression(C=1, class_weight='balanced', dual=False,\n",
       "          fit_intercept=False, intercept_scaling=1, max_iter=100,\n",
       "          multi_class='warn', n_jobs=None, penalty='l2', random_state=None,\n",
       "          solver='warn', tol=0.0001, verbose=0, warm_start=False)"
      ]
     },
     "execution_count": 522,
     "metadata": {},
     "output_type": "execute_result"
    }
   ],
   "source": [
    "logi_test8 = LogisticRegression(penalty='l2',C=1,fit_intercept=False,class_weight='balanced')\n",
    "logi_test8.fit(X_Train_SCTFIDFW2V,Y_Train)"
   ]
  },
  {
   "cell_type": "code",
   "execution_count": 523,
   "metadata": {},
   "outputs": [
    {
     "data": {
      "text/plain": [
       "(70000, 50)"
      ]
     },
     "execution_count": 523,
     "metadata": {},
     "output_type": "execute_result"
    }
   ],
   "source": [
    "X_Train_SCTFIDFW2V.shape"
   ]
  },
  {
   "cell_type": "code",
   "execution_count": 524,
   "metadata": {},
   "outputs": [
    {
     "data": {
      "text/plain": [
       "(70000,)"
      ]
     },
     "execution_count": 524,
     "metadata": {},
     "output_type": "execute_result"
    }
   ],
   "source": [
    "Y_Train.shape"
   ]
  },
  {
   "cell_type": "code",
   "execution_count": 525,
   "metadata": {},
   "outputs": [
    {
     "data": {
      "text/plain": [
       "(20000, 50)"
      ]
     },
     "execution_count": 525,
     "metadata": {},
     "output_type": "execute_result"
    }
   ],
   "source": [
    "X_Test_SCTFIDFW2V.shape"
   ]
  },
  {
   "cell_type": "code",
   "execution_count": 526,
   "metadata": {},
   "outputs": [
    {
     "data": {
      "text/plain": [
       "(20000,)"
      ]
     },
     "execution_count": 526,
     "metadata": {},
     "output_type": "execute_result"
    }
   ],
   "source": [
    "Y_Test.shape"
   ]
  },
  {
   "cell_type": "code",
   "execution_count": 527,
   "metadata": {},
   "outputs": [],
   "source": [
    "from sklearn.metrics import roc_curve,auc\n",
    "\n",
    "train_fpr8,train_tpr8,threshold = roc_curve(Y_Train,logi_test8.predict_proba(X_Train_SCTFIDFW2V)[:,1])\n",
    "test_fpr8,test_tpr8,threshold = roc_curve(Y_Test,logi_test8.predict_proba(X_Test_SCTFIDFW2V)[:,1])"
   ]
  },
  {
   "cell_type": "code",
   "execution_count": 528,
   "metadata": {},
   "outputs": [
    {
     "data": {
      "image/png": "[encoded data removed]",
      "text/plain": [
       "<Figure size 432x288 with 1 Axes>"
      ]
     },
     "metadata": {},
     "output_type": "display_data"
    }
   ],
   "source": [
    "import matplotlib.pyplot as plt\n",
    "\n",
    "plt.plot(train_fpr8,train_tpr8,label ='Training Data AUC:' + str(auc(train_fpr8,train_tpr8)))\n",
    "plt.plot(test_fpr8,test_tpr8,label = 'Test Data AUC:' + str(auc(test_fpr8,test_tpr8)))\n",
    "plt.legend()\n",
    "\n",
    "plt.xlabel('FPR Values')\n",
    "plt.ylabel('TPR Values')\n",
    "plt.title('ROC Curve: Logistic Regression on TFIDF W2V with L2 Regularization')\n",
    "\n",
    "plt.grid(False)\n",
    "plt.show()"
   ]
  },
  {
   "cell_type": "code",
   "execution_count": 529,
   "metadata": {},
   "outputs": [],
   "source": [
    "Y_Train_pred8 = logi_test8.predict_proba(X_Train_SCTFIDFW2V)[:,1]\n",
    "Y_Test_pred8 = logi_test8.predict_proba(X_Test_SCTFIDFW2V)[:,1]"
   ]
  },
  {
   "cell_type": "markdown",
   "metadata": {},
   "source": [
    "The Test Data Confusion Matrix will look as follows by calling the user defined functions matrixpredict() and \n",
    "plottestmatrix() that were defined previously:"
   ]
  },
  {
   "cell_type": "code",
   "execution_count": 530,
   "metadata": {},
   "outputs": [
    {
     "name": "stdout",
     "output_type": "stream",
     "text": [
      "-------------------- Test Data Confusion Matrix --------------------\n",
      " \n",
      "The Test Data Confusion Matrix is as follows:\n",
      " \n",
      "The maximum value of tpr*(1-fpr) : 0.6373380209917416\n",
      "Threshold for Maximum Value of tpr*(1-fpr) : 0.425\n"
     ]
    },
    {
     "data": {
      "image/png": "[encoded data removed]",
      "text/plain": [
       "<Figure size 720x504 with 2 Axes>"
      ]
     },
     "metadata": {},
     "output_type": "display_data"
    }
   ],
   "source": [
    "TFIDFW2V_Test2 = confusion_matrix(Y_Test,matrixpredict(Y_Test_pred8,thresholds,test_tpr8,test_fpr8))\n",
    "plottestmatrix(TFIDFW2V_Test2)"
   ]
  },
  {
   "cell_type": "markdown",
   "metadata": {},
   "source": [
    "Accuracy on Test Data = (13792+2526)/20000 => 81.59%"
   ]
  },
  {
   "cell_type": "markdown",
   "metadata": {},
   "source": [
    "# [6] Conclusions :-"
   ]
  },
  {
   "cell_type": "code",
   "execution_count": 636,
   "metadata": {},
   "outputs": [],
   "source": [
    "from prettytable import PrettyTable"
   ]
  },
  {
   "cell_type": "code",
   "execution_count": 637,
   "metadata": {},
   "outputs": [],
   "source": [
    "x=PrettyTable()\n",
    "x.field_names=[\"S No.\",\"Top 10 Positive Words\",\"Weight(+ve)\",\"Top 10 Negative Words\",\"Weight(-ve)\"]"
   ]
  },
  {
   "cell_type": "code",
   "execution_count": 638,
   "metadata": {},
   "outputs": [
    {
     "name": "stdout",
     "output_type": "stream",
     "text": [
      "Top 10 Positive and Negative Words with BOW Representation:\n",
      "                                                                                                    \n",
      "+-------+-----------------------+-------------+-----------------------+-------------+\n",
      "| S No. | Top 10 Positive Words | Weight(+ve) | Top 10 Negative Words | Weight(-ve) |\n",
      "+-------+-----------------------+-------------+-----------------------+-------------+\n",
      "|   1   |         great         |    0.685    |          not          |    -0.631   |\n",
      "|   2   |          best         |    0.536    |      disappointed     |    -0.251   |\n",
      "|   3   |       delicious       |    0.496    |         worst         |    -0.226   |\n",
      "|   4   |          good         |    0.403    |        terrible       |    -0.204   |\n",
      "|   5   |        perfect        |    0.375    |         awful         |    -0.185   |\n",
      "|   6   |          love         |    0.368    |        horrible       |    -0.169   |\n",
      "|   7   |         loves         |    0.318    |        thought        |    -0.169   |\n",
      "|   8   |       excellent       |    0.318    |     disappointing     |    -0.168   |\n",
      "|   9   |         highly        |    0.313    |     unfortunately     |    -0.165   |\n",
      "|   10  |       wonderful       |    0.272    |         money         |    -0.144   |\n",
      "+-------+-----------------------+-------------+-----------------------+-------------+\n"
     ]
    }
   ],
   "source": [
    "print(\"Top 10 Positive and Negative Words with BOW Representation:\")\n",
    "print(\" \"*100)\n",
    "\n",
    "x.add_row([\"1\",\"great\",\"0.685\",\"not\",\"-0.631\"])\n",
    "x.add_row([\"2\",\"best\",\"0.536\",\"disappointed\",\"-0.251\"])\n",
    "x.add_row([\"3\",\"delicious\",\"0.496\",\"worst\",\"-0.226\"])\n",
    "x.add_row([\"4\",\"good\",\"0.403\",\"terrible\",\"-0.204\"])\n",
    "x.add_row([\"5\",\"perfect\",\"0.375\",\"awful\",\"-0.185\"])\n",
    "x.add_row([\"6\",\"love\",\"0.368\",\"horrible\",\"-0.169\"])\n",
    "x.add_row([\"7\",\"loves\",\"0.318\",\"thought\",\"-0.169\"])\n",
    "x.add_row([\"8\",\"excellent\",\"0.318\",\"disappointing\",\"-0.168\"])\n",
    "x.add_row([\"9\",\"highly\",\"0.313\",\"unfortunately\",\"-0.165\"])\n",
    "x.add_row([\"10\",\"wonderful\",\"0.272\",\"money\",\"-0.144\"])\n",
    "\n",
    "print(x)"
   ]
  },
  {
   "cell_type": "code",
   "execution_count": 639,
   "metadata": {},
   "outputs": [],
   "source": [
    "y=PrettyTable()\n",
    "y.field_names=[\"S No.\",\"Top 10 Positive Words\",\"Weight(+ve)\",\"Top 10 Negative Words\",\"Weight(-ve)\"]"
   ]
  },
  {
   "cell_type": "code",
   "execution_count": 640,
   "metadata": {},
   "outputs": [
    {
     "name": "stdout",
     "output_type": "stream",
     "text": [
      "Top 10 Positive and Negative Words with TFIDF Representation:\n",
      "                                                                                                    \n",
      "+-------+-----------------------+-------------+-----------------------+-------------+\n",
      "| S No. | Top 10 Positive Words | Weight(+ve) | Top 10 Negative Words | Weight(-ve) |\n",
      "+-------+-----------------------+-------------+-----------------------+-------------+\n",
      "|   1   |         great         |    0.776    |      disappointed     |    -0.293   |\n",
      "|   2   |          best         |    0.545    |       not worth       |    -0.207   |\n",
      "|   3   |          good         |    0.509    |         worst         |    -0.196   |\n",
      "|   4   |       delicious       |    0.474    |        not good       |    -0.194   |\n",
      "|   5   |          love         |    0.473    |          not          |    -0.172   |\n",
      "|   6   |        perfect        |    0.359    |         awful         |    -0.171   |\n",
      "|   7   |         loves         |    0.308    |        terrible       |    -0.170   |\n",
      "|   8   |       excellent       |    0.300    |     not recommend     |    -0.166   |\n",
      "|   9   |       wonderful       |    0.271    |          bad          |    -0.160   |\n",
      "|   10  |    not disappointed   |    0.257    |     disappointing     |    -0.149   |\n",
      "+-------+-----------------------+-------------+-----------------------+-------------+\n"
     ]
    }
   ],
   "source": [
    "print(\"Top 10 Positive and Negative Words with TFIDF Representation:\")\n",
    "print(\" \"*100)\n",
    "\n",
    "y.add_row([\"1\",\"great\",\"0.776\",\"disappointed\",\"-0.293\"])\n",
    "y.add_row([\"2\",\"best\",\"0.545\",\"not worth\",\"-0.207\"])\n",
    "y.add_row([\"3\",\"good\",\"0.509\",\"worst\",\"-0.196\"])\n",
    "y.add_row([\"4\",\"delicious\",\"0.474\",\"not good\",\"-0.194\"])\n",
    "y.add_row([\"5\",\"love\",\"0.473\",\"not\",\"-0.172\"])\n",
    "y.add_row([\"6\",\"perfect\",\"0.359\",\"awful\",\"-0.171\"])\n",
    "y.add_row([\"7\",\"loves\",\"0.308\",\"terrible\",\"-0.170\"])\n",
    "y.add_row([\"8\",\"excellent\",\"0.300\",\"not recommend\",\"-0.166\"])\n",
    "y.add_row([\"9\",\"wonderful\",\"0.271\",\"bad\",\"-0.160\"])\n",
    "y.add_row([\"10\",\"not disappointed\",\"0.257\",\"disappointing\",\"-0.149\"])\n",
    "\n",
    "print(y)"
   ]
  },
  {
   "cell_type": "code",
   "execution_count": 642,
   "metadata": {},
   "outputs": [],
   "source": [
    "z = PrettyTable()\n",
    "z.field_names=[\"S No.\",\"Model\",\"Best Value of C\",\"Test Accuracy on Ideal Threshold\",\"Test AUC Score\"]"
   ]
  },
  {
   "cell_type": "code",
   "execution_count": 643,
   "metadata": {},
   "outputs": [
    {
     "name": "stdout",
     "output_type": "stream",
     "text": [
      "+-------+-------------------------------+-----------------+----------------------------------+----------------+\n",
      "| S No. |             Model             | Best Value of C | Test Accuracy on Ideal Threshold | Test AUC Score |\n",
      "+-------+-------------------------------+-----------------+----------------------------------+----------------+\n",
      "|   1   |    BOW (L1 Regularization)    |      0.001      |              87.70%              |     0.940      |\n",
      "|   2   |    BOW (L2 Regularization)    |      0.0001     |              86.64%              |     0.925      |\n",
      "|   3   |   TFIDF (L1 Regularization)   |       0.01      |              88.80%              |     0.960      |\n",
      "|   4   |   TFIDF (L2 Regularization)   |     10^(-6)     |              18.38%              |     0.954      |\n",
      "|   5   |    AW2V (L1 Regularization)   |        1        |              81.27%              |     0.904      |\n",
      "|   6   |    AW2V (L2 Regularization)   |        1        |              80.67%              |     0.904      |\n",
      "|   7   | TFIDF W2V (L1 Regularization) |        1        |              81.32%              |     0.876      |\n",
      "|   8   | TFIDF W2V (L2 Regularization) |        1        |              81.59%              |     0.876      |\n",
      "+-------+-------------------------------+-----------------+----------------------------------+----------------+\n"
     ]
    }
   ],
   "source": [
    "z.add_row([\"1\",\"BOW (L1 Regularization)\",\"0.001\",\"87.70%\",\"0.940\"])\n",
    "z.add_row([\"2\",\"BOW (L2 Regularization)\",\"0.0001\",\"86.64%\",\"0.925\"])\n",
    "z.add_row([\"3\",\"TFIDF (L1 Regularization)\",\"0.01\",\"88.80%\",\"0.960\"])\n",
    "z.add_row([\"4\",\"TFIDF (L2 Regularization)\",\"10^(-6)\",\"18.38%\",\"0.954\"])\n",
    "z.add_row([\"5\",\"AW2V (L1 Regularization)\",\"1\",\"81.27%\",\"0.904\"])\n",
    "z.add_row([\"6\",\"AW2V (L2 Regularization)\",\"1\",\"80.67%\",\"0.904\"])\n",
    "z.add_row([\"7\",\"TFIDF W2V (L1 Regularization)\",\"1\",\"81.32%\",\"0.876\"])\n",
    "z.add_row([\"8\",\"TFIDF W2V (L2 Regularization)\",\"1\",\"81.59%\",\"0.876\"])\n",
    "\n",
    "print(z)"
   ]
  },
  {
   "cell_type": "markdown",
   "metadata": {},
   "source": [
    "<b> <font color=\"black\"> Following are some Conclusions from the observations:- </font> </b>"
   ]
  },
  {
   "cell_type": "markdown",
   "metadata": {},
   "source": [
    "* The Sparsity obtained on the BOW Weight Vector obtained after L1 Regularization is equal to 0.88.\n",
    "* The Best Model in this scenario (as can be seen from the table above) is the TFIDF Model when L1 Regularization \n",
    "  is carried out, which has a high value of Test Accuracy (88.80%) as well as the Highest Test AUC Score = 0.960.\n",
    "* The Next Best Model would be BOW with L1 Regularization, considering both Test Accuracy as well as the Test AUC       Scores. Even though TFIDF with L2 Regularization has a better AUC Score of 0.954, but its Test Accuracy is       really terrible (only equal to 18.38%)."
   ]
  }
 ],
 "metadata": {
  "colab": {
   "name": "05 Amazon Fine Food Reviews Analysis_Logistic Regression.ipynb",
   "provenance": [],
   "version": "0.3.2"
  },
  "kernelspec": {
   "display_name": "Python 3",
   "language": "python",
   "name": "python3"
  },
  "language_info": {
   "codemirror_mode": {
    "name": "ipython",
    "version": 3
   },
   "file_extension": ".py",
   "mimetype": "text/x-python",
   "name": "python",
   "nbconvert_exporter": "python",
   "pygments_lexer": "ipython3",
   "version": "3.7.1"
  }
 },
 "nbformat": 4,
 "nbformat_minor": 1
}
